{
 "cells": [
  {
   "cell_type": "code",
   "execution_count": 1,
   "metadata": {},
   "outputs": [],
   "source": [
    "import numpy as np\n",
    "import matplotlib.pyplot as plt \n",
    "import matplotlib.animation as animation\n"
   ]
  },
  {
   "cell_type": "markdown",
   "metadata": {
    "heading_collapsed": true
   },
   "source": [
    "# 1D Random Walk"
   ]
  },
  {
   "cell_type": "code",
   "execution_count": null,
   "metadata": {
    "hidden": true
   },
   "outputs": [],
   "source": [
    "N = 10**4\n",
    "steps = 2*np.random.randint(0,high = 2,size = N) -1"
   ]
  },
  {
   "cell_type": "code",
   "execution_count": null,
   "metadata": {
    "hidden": true
   },
   "outputs": [],
   "source": [
    "position=np.cumsum(steps)\n",
    "position"
   ]
  },
  {
   "cell_type": "code",
   "execution_count": null,
   "metadata": {
    "hidden": true
   },
   "outputs": [],
   "source": [
    "print(f'Maximum distance = {position.max()} at {position.argmax()}th step')\n",
    "print(f'Minimum distance = {position.min()} at {position.argmin()}th step')"
   ]
  },
  {
   "cell_type": "code",
   "execution_count": null,
   "metadata": {
    "hidden": true
   },
   "outputs": [],
   "source": [
    "print(f' x = 20 reached at steps {np.where(position == 20)}')"
   ]
  },
  {
   "cell_type": "code",
   "execution_count": null,
   "metadata": {
    "hidden": true
   },
   "outputs": [],
   "source": [
    "index=np.asarray(np.linspace(0,N,N))"
   ]
  },
  {
   "cell_type": "code",
   "execution_count": null,
   "metadata": {
    "hidden": true
   },
   "outputs": [],
   "source": [
    "plt.title('A random walk')\n",
    "plt.ylabel('Position')\n",
    "plt.xlabel('Steps')\n",
    "plt.plot(position)\n",
    "plt.show()"
   ]
  },
  {
   "cell_type": "code",
   "execution_count": null,
   "metadata": {
    "hidden": true
   },
   "outputs": [],
   "source": [
    "%matplotlib notebook\n",
    "fig = plt.figure()\n",
    "\n",
    "ax = fig.add_subplot(111, autoscale_on=False, xlim=(0, N), ylim=(1.1*position.min(),1.1*position.max()))\n",
    "ax.grid()\n",
    "ax.set_xlabel('Steps')\n",
    "ax.set_ylabel(\"Position\")\n",
    "ax.set_ylim(bottom=position.min(), top = position.max())\n",
    "plt.title('Animated Random Walk')\n",
    "\n",
    "line = ax.plot(index[0], position[0], '-', lw=0.5)\n",
    "def update_plots(i):\n",
    "    # Draw the i-th position\n",
    "    line[0].set_data(index[:i], position[:i])\n",
    "    ax.set_xlim(left=0, right=index[i])\n",
    "    \n",
    "    # Return a tuple\n",
    "    return line[0],\n",
    "\n",
    "anim = animation.FuncAnimation(fig, update_plots, np.arange(1, len(position)), interval=1, blit=True, repeat=True)\n",
    "plt.show()"
   ]
  },
  {
   "cell_type": "markdown",
   "metadata": {
    "heading_collapsed": true
   },
   "source": [
    "# Statistics on 1D Random Walk"
   ]
  },
  {
   "cell_type": "code",
   "execution_count": null,
   "metadata": {
    "hidden": true
   },
   "outputs": [],
   "source": [
    "N = 10**3\n",
    "steps = 2*np.random.randint(0,high = 2,size = (N,N)) -1\n",
    "steps.shape"
   ]
  },
  {
   "cell_type": "code",
   "execution_count": null,
   "metadata": {
    "hidden": true
   },
   "outputs": [],
   "source": [
    "positions=np.cumsum(steps,axis=1)\n",
    "positions.shape"
   ]
  },
  {
   "cell_type": "code",
   "execution_count": null,
   "metadata": {
    "hidden": true
   },
   "outputs": [],
   "source": [
    "max=(positions.max(axis=1)).max()\n",
    "print(f'The final position of the {(positions.max(axis=1)).argmax()}-th walker is {max}')"
   ]
  },
  {
   "cell_type": "code",
   "execution_count": null,
   "metadata": {
    "hidden": true
   },
   "outputs": [],
   "source": [
    "%matplotlib inline\n",
    "\n",
    "n, bins, patches = plt.hist(positions.max(axis=1),bins=max,histtype = 'step', density = True, label = 'Maximum distances reached' )\n",
    "\n",
    "n, bins, patches = plt.hist(abs(positions.flatten()),bins=max,histtype = 'step', density = True, label = 'Reached distances')\n",
    "\n",
    "plt.xlabel('Distance')\n",
    "plt.ylabel('Number of walkers')\n",
    "plt.title('Histogram of distances (Normalized to N)')\n",
    "plt.legend()\n",
    "plt.show()"
   ]
  },
  {
   "cell_type": "code",
   "execution_count": null,
   "metadata": {
    "hidden": true
   },
   "outputs": [],
   "source": [
    "plt.title('A random walk')\n",
    "plt.ylabel('Position')\n",
    "plt.xlabel('Steps')\n",
    "plt.plot(positions, lw = 0.012,alpha = 0.08, color = 'blue')\n",
    "plt.show()"
   ]
  },
  {
   "cell_type": "code",
   "execution_count": null,
   "metadata": {
    "hidden": true
   },
   "outputs": [],
   "source": [
    "%matplotlib notebook\n",
    "fig = plt.figure()\n",
    "\n",
    "ax = fig.add_subplot(111, autoscale_on=False, xlim=(0, N), ylim=(1.1*positions.min(),1.1*positions.max()))\n",
    "ax.grid()\n",
    "ax.set_xlabel('Steps')\n",
    "ax.set_ylabel(\"Position\")\n",
    "plt.title('Animated Random Walk')\n",
    "\n",
    "\n",
    "lines = [ax.plot(index[0], positions[j,0], '-', lw=0.5)[0] for j in range(N)]\n",
    "def update_plots(i):\n",
    "    # Draw the i-th position\n",
    "    for j in range(N):\n",
    "        lines[j].set_data(index[:i], positions[j,:i])\n",
    "        ax.set_xlim(left=0, right=index[i])\n",
    "        # Return a tuple\n",
    "    return lines,\n",
    "\n",
    "anim = animation.FuncAnimation(fig, update_plots, np.arange(1, N), interval=0.1, blit=True, repeat=True)\n",
    "plt.show()"
   ]
  },
  {
   "cell_type": "markdown",
   "metadata": {
    "heading_collapsed": true,
    "hidden": true
   },
   "source": [
    "## Experiment with gaussian noise"
   ]
  },
  {
   "cell_type": "markdown",
   "metadata": {
    "hidden": true
   },
   "source": [
    "Random numbers are drawn from a constant distribution. Therefore the probability of going left or right is **equal**.\n",
    "\n",
    "Now we try to dirten up these numbers by adding numbers from a **normal** distribution. This should unbalance the probability of going left or right."
   ]
  },
  {
   "cell_type": "code",
   "execution_count": 118,
   "metadata": {
    "hidden": true
   },
   "outputs": [],
   "source": [
    "N = 1000\n",
    "steps_new = 2*np.random.randint(0,high = 2,size = N) -1\n",
    "position=np.cumsum(steps_new)\n",
    "\n",
    "mu = 0\n",
    "sigma = 0.1\n",
    "noise = np.random.normal(loc = mu, scale = sigma, size = N)\n",
    "\n",
    "steps_noise = steps_new + noise\n",
    "position_noise = np.cumsum(steps_noise)"
   ]
  },
  {
   "cell_type": "code",
   "execution_count": 122,
   "metadata": {
    "hidden": true
   },
   "outputs": [
    {
     "data": {
      "image/png": "[encoded data removed]",
      "text/plain": [
       "<Figure size 1080x360 with 2 Axes>"
      ]
     },
     "metadata": {
      "needs_background": "light"
     },
     "output_type": "display_data"
    }
   ],
   "source": [
    "plt.figure(figsize = (15,5))\n",
    "plt.subplot(121)\n",
    "plt.title('Steps distribution')\n",
    "plt.ylabel('Probability')\n",
    "plt.xlabel('Value')\n",
    "_ = plt.hist(steps_new, bins = 2, density = True)\n",
    "_ = plt.hist(steps_noise, bins = 30, density = True)\n",
    "\n",
    "plt.subplot(122)\n",
    "plt.title('A random walk')\n",
    "plt.ylabel('Position')\n",
    "plt.xlabel('Steps')\n",
    "plt.plot(position_noise, label = 'with gaussian noise mu = {0}, sigma = {1}'.format(mu, sigma))\n",
    "plt.plot(position, label = 'no gaussian noise')\n",
    "plt.legend()\n",
    "plt.tight_layout()\n",
    "plt.show()"
   ]
  }
 ],
 "metadata": {
  "kernelspec": {
   "display_name": "Python 3 (ipykernel)",
   "language": "python",
   "name": "python3"
  },
  "language_info": {
   "codemirror_mode": {
    "name": "ipython",
    "version": 3
   },
   "file_extension": ".py",
   "mimetype": "text/x-python",
   "name": "python",
   "nbconvert_exporter": "python",
   "pygments_lexer": "ipython3",
   "version": "3.8.8"
  }
 },
 "nbformat": 4,
 "nbformat_minor": 4
}
