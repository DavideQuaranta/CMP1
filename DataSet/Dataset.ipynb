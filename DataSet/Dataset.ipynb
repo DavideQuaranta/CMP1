{
 "cells": [
  {
   "cell_type": "code",
   "execution_count": 9,
   "id": "c2aa942d",
   "metadata": {},
   "outputs": [],
   "source": [
    "import numpy as np\n",
    "import matplotlib.pyplot as plt"
   ]
  },
  {
   "cell_type": "code",
   "execution_count": 720,
   "id": "52b2a25c",
   "metadata": {},
   "outputs": [],
   "source": [
    "N = 10**4\n",
    "mu = 10\n",
    "sigma = 2\n",
    "RandomNum = np.random.normal(loc = mu, scale = sigma, size = N)"
   ]
  },
  {
   "cell_type": "code",
   "execution_count": 721,
   "id": "af4e5868",
   "metadata": {},
   "outputs": [
    {
     "data": {
      "image/png": "[encoded data removed]",
      "text/plain": [
       "<Figure size 432x288 with 1 Axes>"
      ]
     },
     "metadata": {
      "needs_background": "light"
     },
     "output_type": "display_data"
    }
   ],
   "source": [
    "plt.hist(RandomNum, density = True)\n",
    "plt.show()"
   ]
  },
  {
   "cell_type": "code",
   "execution_count": 1017,
   "id": "dc49cfb2",
   "metadata": {},
   "outputs": [],
   "source": [
    "class FindPairs:\n",
    "    def __init__(self, numbers, number):\n",
    "        self.array = numbers\n",
    "        self.s = number\n",
    "    def find(self):\n",
    "        alist = []\n",
    "        for i in range(s):\n",
    "            a = (np.argwhere(self.array == i)).flatten().tolist()\n",
    "            b = (np.argwhere(self.array == self.s - i)).flatten().tolist()\n",
    "            if(len(a) != 0 and len(b) != 0 and a!=b):\n",
    "                for j in range(len(a)):\n",
    "                    for k in range(len(b)):\n",
    "                        alist.append([a[j],b[k]])\n",
    "        list1 = {frozenset(x) for x in alist}\n",
    "        final = [list(x) for x in list1]\n",
    "        return final"
   ]
  },
  {
   "cell_type": "code",
   "execution_count": 1023,
   "id": "c5a50b9c",
   "metadata": {},
   "outputs": [
    {
     "name": "stdout",
     "output_type": "stream",
     "text": [
      "[-10   4  -9   5  -6  -9   4   7   0  -6]\n",
      "Couple of number that sum to 5 :\n",
      "1. (8,3)   sum = 5\n"
     ]
    }
   ],
   "source": [
    "N = 10\n",
    "s = 5\n",
    "RandomNum = np.random.randint(-10, 10, N)\n",
    "print(RandomNum)\n",
    "x = FindPairs(RandomNum, s)\n",
    "a = x.find()\n",
    "print('Couple of number that sum to %d :' % (s))\n",
    "for i in range(len(a)):\n",
    "    sum = RandomNum[a[i][0]] + RandomNum[a[i][1]]\n",
    "    print(f'{i+1}. ({a[i][0]},{a[i][1]})   sum = {sum}')"
   ]
  },
  {
   "cell_type": "code",
   "execution_count": 1025,
   "id": "cca1c379",
   "metadata": {},
   "outputs": [],
   "source": [
    "class FindTriplets:\n",
    "    def __init__(self, numbers, number):\n",
    "        self.array = numbers\n",
    "        self.s = number\n",
    "    def find(self):\n",
    "        alist = []\n",
    "        for i in range(self.s):\n",
    "            for j in range(self.s):\n",
    "                a = (np.argwhere(self.array == j)).flatten().tolist()\n",
    "                b = (np.argwhere(self.array == self.s - i - j)).flatten().tolist()\n",
    "                c = (np.argwhere(self.array == i)).flatten().tolist()\n",
    "                if(len(a) != 0 and len(b) != 0 and len(c) != 0):\n",
    "                    for l in range(len(a)):\n",
    "                        for m in range(len(b)):\n",
    "                            for n in range(len(c)):\n",
    "                                if(a[l] != b[m] and b[m] != c[n] and a[l] != c[n]):\n",
    "                                    alist.append([a[l], b[m], c[n]])\n",
    "        list1 = {frozenset(x) for x in alist}\n",
    "        final = [list(x) for x in list1] \n",
    "        return final"
   ]
  },
  {
   "cell_type": "code",
   "execution_count": 1028,
   "id": "dc699f56",
   "metadata": {},
   "outputs": [
    {
     "name": "stdout",
     "output_type": "stream",
     "text": [
      "[ 1  4 -9 -3  5 -1  9  8  5  0]\n",
      "Triples of numbers that sum to 10 :\n",
      "1. (0,9,6)   sum = 10\n",
      "2. (0,1,4)   sum = 10\n",
      "3. (3,4,7)   sum = 10\n",
      "4. (1,3,6)   sum = 10\n",
      "5. (8,9,4)   sum = 10\n",
      "6. (8,1,0)   sum = 10\n",
      "7. (8,3,7)   sum = 10\n"
     ]
    }
   ],
   "source": [
    "N = 10\n",
    "RandomNum = np.random.randint(-10, 10, N)\n",
    "print(RandomNum)\n",
    "s = 10\n",
    "x = FindTriplets(RandomNum, s)\n",
    "a = x.find()\n",
    "print('Triples of numbers that sum to %d :' % (s))\n",
    "for i in range(len(a)):\n",
    "    sum = RandomNum[a[i][0]] + RandomNum[a[i][1]] + RandomNum[a[i][2]]\n",
    "    print(f'{i+1}. ({a[i][0]},{a[i][1]},{a[i][2]})   sum = {sum}')"
   ]
  }
 ],
 "metadata": {
  "kernelspec": {
   "display_name": "Python 3 (ipykernel)",
   "language": "python",
   "name": "python3"
  },
  "language_info": {
   "codemirror_mode": {
    "name": "ipython",
    "version": 3
   },
   "file_extension": ".py",
   "mimetype": "text/x-python",
   "name": "python",
   "nbconvert_exporter": "python",
   "pygments_lexer": "ipython3",
   "version": "3.8.8"
  }
 },
 "nbformat": 4,
 "nbformat_minor": 5
}
