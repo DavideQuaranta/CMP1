{
 "cells": [
  {
   "cell_type": "code",
   "execution_count": 40,
   "id": "79610351",
   "metadata": {},
   "outputs": [],
   "source": [
    "import numpy as np\n",
    "import matplotlib.pyplot as plt"
   ]
  },
  {
   "cell_type": "code",
   "execution_count": 41,
   "id": "b245101d",
   "metadata": {},
   "outputs": [],
   "source": [
    "file = np.loadtxt(\"true.dat\", usecols=(0,1))"
   ]
  },
  {
   "cell_type": "code",
   "execution_count": 42,
   "id": "f317d2e8",
   "metadata": {},
   "outputs": [],
   "source": [
    "C1 = file[:,0]\n",
    "Ceq = file[:,1]"
   ]
  },
  {
   "cell_type": "code",
   "execution_count": 124,
   "id": "dd97d8a3",
   "metadata": {},
   "outputs": [],
   "source": [
    "N = 1000\n",
    "C1dis = C1 + np.random.normal(loc = 0, scale = 0.5e-12, size = N)\n",
    "Ceqdis = Ceq + np.random.normal(loc = 0, scale = 0.5e-12, size = N)"
   ]
  },
  {
   "cell_type": "code",
   "execution_count": 125,
   "id": "06da4997",
   "metadata": {},
   "outputs": [],
   "source": [
    "np.savetxt('offset.dat', np.stack([C1dis, Ceqdis], axis=1), delimiter = '\\t')"
   ]
  },
  {
   "cell_type": "code",
   "execution_count": 126,
   "id": "ad81deb4",
   "metadata": {},
   "outputs": [],
   "source": [
    "from scipy.optimize import curve_fit\n",
    "def func(x, a, b):\n",
    "    return 1/((1/(x+a)) + b)"
   ]
  },
  {
   "cell_type": "code",
   "execution_count": 134,
   "id": "e9b4af7f",
   "metadata": {},
   "outputs": [
    {
     "name": "stderr",
     "output_type": "stream",
     "text": [
      "C:\\Users\\Admin\\anaconda3\\lib\\site-packages\\scipy\\optimize\\minpack.py:833: OptimizeWarning: Covariance of the parameters could not be estimated\n",
      "  warnings.warn('Covariance of the parameters could not be estimated',\n"
     ]
    },
    {
     "data": {
      "image/png": "[encoded data removed]",
      "text/plain": [
       "<Figure size 432x288 with 1 Axes>"
      ]
     },
     "metadata": {
      "needs_background": "light"
     },
     "output_type": "display_data"
    }
   ],
   "source": [
    "n, bins, patches = plt.hist(C1dis, bins = 10, align = 'left', density = True)\n",
    "popt, pcov = curve_fit(func, bins[0:-1], n)\n",
    "plt.scatter(bins[0:-1], n, color = 'red')\n",
    "x = np.linspace(bins.min(), bins.max(),300)\n",
    "plt.plot(x, func(x, *popt), color = 'red',\n",
    "         label= 'Best Fit:\\na = %5.3f \\nb = %5.3f' % tuple(popt))\n",
    "plt.legend()\n",
    "plt.show()"
   ]
  },
  {
   "cell_type": "code",
   "execution_count": 135,
   "id": "c108d6bd",
   "metadata": {},
   "outputs": [
    {
     "name": "stderr",
     "output_type": "stream",
     "text": [
      "C:\\Users\\Admin\\anaconda3\\lib\\site-packages\\scipy\\optimize\\minpack.py:833: OptimizeWarning: Covariance of the parameters could not be estimated\n",
      "  warnings.warn('Covariance of the parameters could not be estimated',\n"
     ]
    },
    {
     "data": {
      "image/png": "[encoded data removed]",
      "text/plain": [
       "<Figure size 432x288 with 1 Axes>"
      ]
     },
     "metadata": {
      "needs_background": "light"
     },
     "output_type": "display_data"
    }
   ],
   "source": [
    "n, bins, patches = plt.hist(Ceqdis, bins = 10, density = True, align = 'left')\n",
    "popt, pcov = curve_fit(func, bins[0:-1], n)\n",
    "plt.scatter(bins[0:-1], n, color = 'red')\n",
    "x = np.linspace(bins.min(), bins.max(),300)\n",
    "plt.plot(x, func(x, *popt), color = 'red',\n",
    "         label= 'Best Fit:\\na = %5.3f \\nb = %5.3f' % tuple(popt))\n",
    "plt.legend()\n",
    "plt.show()"
   ]
  },
  {
   "cell_type": "code",
   "execution_count": null,
   "id": "1bb8ea34",
   "metadata": {},
   "outputs": [],
   "source": []
  }
 ],
 "metadata": {
  "kernelspec": {
   "display_name": "Python 3 (ipykernel)",
   "language": "python",
   "name": "python3"
  },
  "language_info": {
   "codemirror_mode": {
    "name": "ipython",
    "version": 3
   },
   "file_extension": ".py",
   "mimetype": "text/x-python",
   "name": "python",
   "nbconvert_exporter": "python",
   "pygments_lexer": "ipython3",
   "version": "3.8.8"
  }
 },
 "nbformat": 4,
 "nbformat_minor": 5
}
