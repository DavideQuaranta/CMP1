{
 "cells": [
  {
   "cell_type": "markdown",
   "metadata": {
    "id": "Db8e13vz4nPt"
   },
   "source": [
    "# NumPy: Numerical Python package \n",
    "\n",
    "- [NumPy](https://www.numpy.org) is perhaps the most important  package for numerical computing in Python\n",
    "- The n-dimentional array in NumPy is used as a a basic object in most Python packages for data exchange\n",
    "  - We will look at its methods and semantics through examples\n",
    "- Some of the most important features of NumPy are \n",
    "  - `ndarray`: multidimensional array for **fast and efficient array-oriented operations** and arithmetics\n",
    "  - Mathematical functions for **fast operation on arrays without using loops and iterations**\n",
    "  - Tools for I/O to and from disk\n",
    "  - Linear algebra\n",
    "  - Random generation \n",
    "  - API (application programming interface) to connect NumPy with C and C++ libraries"
   ]
  },
  {
   "cell_type": "markdown",
   "metadata": {
    "id": "h6HzEQDW4nPw"
   },
   "source": [
    "## 1. NumPy `ndarray`: a multidimensional array object\n",
    "`ndarray` is an array that can have an arbirary number of dimensions. We will see examples in 2D and 3D for calculations.\n",
    "\n",
    "**Its main feature: vector calculations are extremely fast!**\n",
    "\n",
    "Let's see how much faster an `ndarray` object is compared to a loop (with comprehension)."
   ]
  },
  {
   "cell_type": "code",
   "execution_count": 3,
   "metadata": {
    "colab": {
     "base_uri": "https://localhost:8080/"
    },
    "executionInfo": {
     "elapsed": 1576,
     "status": "ok",
     "timestamp": 1637656076146,
     "user": {
      "displayName": "Francesco Pannarale",
      "photoUrl": "https://lh3.googleusercontent.com/a/default-user=s64",
      "userId": "04296007763837408065"
     },
     "user_tz": -60
    },
    "id": "uSNIe4yd4nPx",
    "outputId": "d7de779e-e5d2-4185-9015-1c66623505c2",
    "scrolled": true
   },
   "outputs": [
    {
     "name": "stdout",
     "output_type": "stream",
     "text": [
      "<class 'list'>\n",
      "<class 'numpy.ndarray'>\n",
      "CPU times: user 247 ms, sys: 2.21 ms, total: 250 ms\n",
      "Wall time: 249 ms\n",
      "CPU times: user 2.81 ms, sys: 13 µs, total: 2.83 ms\n",
      "Wall time: 2.83 ms\n",
      "<class 'list'>\n",
      "<class 'numpy.ndarray'>\n"
     ]
    }
   ],
   "source": [
    "import numpy as np\n",
    "import math as m\n",
    "\n",
    "nmax = 100000\n",
    "\n",
    "my_list = list(range(1,nmax))\n",
    "print(type(my_list))\n",
    "\n",
    "my_arr = np.arange(1,nmax)\n",
    "print(type(my_arr))\n",
    "\n",
    "n_test = 100\n",
    "\n",
    "%time for _ in range(n_test): my_list2 = [x*2 for x in my_list]\n",
    "\n",
    "%time for _ in range(n_test): my_arr2 = my_arr * 2\n",
    "\n",
    "print(type(my_list2))\n",
    "print(type(my_arr2))"
   ]
  },
  {
   "cell_type": "markdown",
   "metadata": {
    "id": "HkCqMp1q4nPy"
   },
   "source": [
    "__NumPy based algorithms are generally 10 to 100 times faster than pure Python counterparts!__\n",
    "\n",
    "In the examples below you should also notice how much `**` costs in terms of runtime.  **Never forget to try to optimize small things like these: they can make a big difference.**"
   ]
  },
  {
   "cell_type": "code",
   "execution_count": 3,
   "metadata": {
    "colab": {
     "base_uri": "https://localhost:8080/"
    },
    "executionInfo": {
     "elapsed": 4788,
     "status": "ok",
     "timestamp": 1637656191643,
     "user": {
      "displayName": "Francesco Pannarale",
      "photoUrl": "https://lh3.googleusercontent.com/a/default-user=s64",
      "userId": "04296007763837408065"
     },
     "user_tz": -60
    },
    "id": "OE2wk0KX4nPz",
    "outputId": "899c8eb8-e07f-4bf0-83e8-f24af2497aea"
   },
   "outputs": [
    {
     "name": "stdout",
     "output_type": "stream",
     "text": [
      "CPU times: user 30.8 ms, sys: 2.25 ms, total: 33 ms\n",
      "Wall time: 31.8 ms\n",
      "CPU times: user 11.3 ms, sys: 1.01 ms, total: 12.3 ms\n",
      "Wall time: 14.3 ms\n",
      "CPU times: user 2.11 s, sys: 11 ms, total: 2.13 s\n",
      "Wall time: 2.13 s\n",
      "CPU times: user 449 ms, sys: 1.45 ms, total: 451 ms\n",
      "Wall time: 451 ms\n"
     ]
    }
   ],
   "source": [
    "%time for _ in range(n_test): my_arr3 = my_arr **3\n",
    "%time for _ in range(n_test): my_arr3 = my_arr * my_arr * my_arr\n",
    "\n",
    "%time for _ in range(n_test): my_list3 = [x**3 for x in my_list]\n",
    "%time for _ in range(n_test): my_list3 = [x*x*x for x in my_list] "
   ]
  },
  {
   "cell_type": "code",
   "execution_count": 4,
   "metadata": {
    "colab": {
     "base_uri": "https://localhost:8080/"
    },
    "executionInfo": {
     "elapsed": 8224,
     "status": "ok",
     "timestamp": 1637656279204,
     "user": {
      "displayName": "Francesco Pannarale",
      "photoUrl": "https://lh3.googleusercontent.com/a/default-user=s64",
      "userId": "04296007763837408065"
     },
     "user_tz": -60
    },
    "id": "xI_1_SAo4nPz",
    "outputId": "1edcccd5-2889-4c66-bd2a-2766387b7195"
   },
   "outputs": [
    {
     "name": "stdout",
     "output_type": "stream",
     "text": [
      "CPU times: user 58.6 ms, sys: 2.57 ms, total: 61.2 ms\n",
      "Wall time: 60.3 ms\n",
      "CPU times: user 36.4 ms, sys: 995 µs, total: 37.4 ms\n",
      "Wall time: 37.4 ms\n",
      "CPU times: user 2.65 s, sys: 6.03 ms, total: 2.65 s\n",
      "Wall time: 2.65 s\n",
      "CPU times: user 974 ms, sys: 5.86 ms, total: 980 ms\n",
      "Wall time: 980 ms\n"
     ]
    }
   ],
   "source": [
    "%time for _ in range(n_test): my_arr3 = np.log(my_arr**2)\n",
    "%time for _ in range(n_test): my_arr3 = np.log(my_arr*my_arr)\n",
    "\n",
    "%time for _ in range(n_test): my_list3 = [m.log(x**2) for x in my_list]\n",
    "%time for _ in range(n_test): my_list3 = [m.log(x*x) for x in my_list]"
   ]
  },
  {
   "cell_type": "markdown",
   "metadata": {
    "id": "mhopcEmh4nP0"
   },
   "source": [
    "## 2. Creating `ndarray`s\n",
    "Just like the example below, all NumPy functions and classes use `ndarray` as return type. All the user needs to do is to specify the dimensions and the size of the array to be created."
   ]
  },
  {
   "cell_type": "code",
   "execution_count": 5,
   "metadata": {
    "id": "pQmJ1WOH4nP0",
    "outputId": "cfa676e4-4c3e-4dd2-d5c8-d117fd99a0e8"
   },
   "outputs": [
    {
     "name": "stdout",
     "output_type": "stream",
     "text": [
      "<class 'numpy.ndarray'>\n",
      "[    1     2     3 ... 99997 99998 99999]\n"
     ]
    }
   ],
   "source": [
    "my_arr = np.arange(1,nmax)\n",
    "print(type(my_arr))\n",
    "print(my_arr)"
   ]
  },
  {
   "cell_type": "markdown",
   "metadata": {
    "id": "RooD-DWX4nP0"
   },
   "source": [
    "### Array of uniformly sampled random numbers (between 0 and 1)"
   ]
  },
  {
   "cell_type": "code",
   "execution_count": 8,
   "metadata": {},
   "outputs": [
    {
     "data": {
      "text/plain": [
       "0.7062952827389909"
      ]
     },
     "execution_count": 8,
     "metadata": {},
     "output_type": "execute_result"
    }
   ],
   "source": [
    "np.random.rand()"
   ]
  },
  {
   "cell_type": "code",
   "execution_count": 9,
   "metadata": {
    "id": "wPJ6hEnT4nP0",
    "outputId": "453f4e72-7814-4f99-d3fc-3097a8628f64",
    "scrolled": false
   },
   "outputs": [
    {
     "data": {
      "text/plain": [
       "array([[0.10373004, 0.99660522, 0.95080252],\n",
       "       [0.6954976 , 0.36027523, 0.81883146],\n",
       "       [0.78439962, 0.67988077, 0.70008584],\n",
       "       [0.33588807, 0.56303787, 0.85335045],\n",
       "       [0.04050994, 0.78417346, 0.51908553],\n",
       "       [0.75764484, 0.19156821, 0.75785868],\n",
       "       [0.97313302, 0.9829713 , 0.52460416],\n",
       "       [0.16162624, 0.82291711, 0.48668945],\n",
       "       [0.69017457, 0.22734732, 0.25810619],\n",
       "       [0.57421345, 0.6875579 , 0.43563097]])"
      ]
     },
     "execution_count": 9,
     "metadata": {},
     "output_type": "execute_result"
    }
   ],
   "source": [
    "np.random.rand(10,3)"
   ]
  },
  {
   "cell_type": "code",
   "execution_count": 10,
   "metadata": {
    "id": "cWSP8_Wx4nP1",
    "outputId": "f4eae9ab-0d31-4508-f46a-b7a88ce17f7b"
   },
   "outputs": [
    {
     "data": {
      "text/plain": [
       "array([[[0.36251322, 0.61404442, 0.90339417, 0.28345086],\n",
       "        [0.46727641, 0.33817476, 0.74351164, 0.63920107],\n",
       "        [0.68312261, 0.24400692, 0.7449298 , 0.78757231]],\n",
       "\n",
       "       [[0.27673598, 0.56414945, 0.79538654, 0.57518413],\n",
       "        [0.94761768, 0.1763016 , 0.835361  , 0.32483227],\n",
       "        [0.59709263, 0.89523009, 0.21173955, 0.36730207]]])"
      ]
     },
     "execution_count": 10,
     "metadata": {},
     "output_type": "execute_result"
    }
   ],
   "source": [
    "np.random.rand(2,3,4)"
   ]
  },
  {
   "cell_type": "markdown",
   "metadata": {},
   "source": [
    "### Array of uniformly sampled random numbers\n",
    "\n",
    "If you need a different interval, use `np.random.uniform`.\n",
    "\n",
    "You can specify the shape of the array with a tuple."
   ]
  },
  {
   "cell_type": "code",
   "execution_count": 11,
   "metadata": {},
   "outputs": [
    {
     "data": {
      "text/plain": [
       "array([[3.4172698 , 3.0676478 , 2.44408573],\n",
       "       [4.48173049, 4.08278266, 3.24802372],\n",
       "       [2.04359078, 2.77732676, 4.99723167],\n",
       "       [2.21298833, 3.27620465, 3.93300635],\n",
       "       [3.02571911, 2.50559967, 3.76450918],\n",
       "       [3.49808802, 2.99435489, 4.53048794],\n",
       "       [4.64394082, 2.89690092, 2.99521249],\n",
       "       [3.65205083, 4.61339155, 4.69840988],\n",
       "       [2.48193777, 4.31643759, 2.79217027],\n",
       "       [4.63125164, 3.37017248, 2.32932584]])"
      ]
     },
     "execution_count": 11,
     "metadata": {},
     "output_type": "execute_result"
    }
   ],
   "source": [
    "np.random.uniform(2,5,(10,3))"
   ]
  },
  {
   "cell_type": "code",
   "execution_count": 12,
   "metadata": {},
   "outputs": [
    {
     "data": {
      "text/plain": [
       "array([[[3.82078744, 4.7091064 , 2.44691879, 3.48223672],\n",
       "        [3.08313369, 4.22424268, 2.7487794 , 4.92410327],\n",
       "        [2.33024445, 3.17526797, 2.12688954, 3.9944243 ]],\n",
       "\n",
       "       [[4.88658874, 3.68718288, 3.10045049, 2.12328892],\n",
       "        [4.13213096, 4.1060404 , 2.90406251, 4.71446802],\n",
       "        [2.45342988, 3.63468652, 4.68588166, 4.63988443]]])"
      ]
     },
     "execution_count": 12,
     "metadata": {},
     "output_type": "execute_result"
    }
   ],
   "source": [
    "np.random.uniform(2,5,(2,3,4))"
   ]
  },
  {
   "cell_type": "markdown",
   "metadata": {
    "id": "xO2xYfbi4nP1"
   },
   "source": [
    "### Array of zeros"
   ]
  },
  {
   "cell_type": "code",
   "execution_count": 13,
   "metadata": {
    "id": "ZfPT4ovn4nP2",
    "outputId": "30306ed0-de85-477b-bb9c-a612f14688e8"
   },
   "outputs": [
    {
     "name": "stdout",
     "output_type": "stream",
     "text": [
      "[0. 0. 0.]\n"
     ]
    }
   ],
   "source": [
    "v = np.zeros(3)\n",
    "print(v)"
   ]
  },
  {
   "cell_type": "code",
   "execution_count": 15,
   "metadata": {
    "id": "_T5dKuQk4nP2",
    "outputId": "cb57790e-f078-4e71-c6c1-574093a7723b",
    "scrolled": true
   },
   "outputs": [
    {
     "name": "stdout",
     "output_type": "stream",
     "text": [
      "[[[[0. 0. 0. 0. 0. 0.]\n",
      "   [0. 0. 0. 0. 0. 0.]\n",
      "   [0. 0. 0. 0. 0. 0.]\n",
      "   [0. 0. 0. 0. 0. 0.]\n",
      "   [0. 0. 0. 0. 0. 0.]]\n",
      "\n",
      "  [[0. 0. 0. 0. 0. 0.]\n",
      "   [0. 0. 0. 0. 0. 0.]\n",
      "   [0. 0. 0. 0. 0. 0.]\n",
      "   [0. 0. 0. 0. 0. 0.]\n",
      "   [0. 0. 0. 0. 0. 0.]]\n",
      "\n",
      "  [[0. 0. 0. 0. 0. 0.]\n",
      "   [0. 0. 0. 0. 0. 0.]\n",
      "   [0. 0. 0. 0. 0. 0.]\n",
      "   [0. 0. 0. 0. 0. 0.]\n",
      "   [0. 0. 0. 0. 0. 0.]]\n",
      "\n",
      "  [[0. 0. 0. 0. 0. 0.]\n",
      "   [0. 0. 0. 0. 0. 0.]\n",
      "   [0. 0. 0. 0. 0. 0.]\n",
      "   [0. 0. 0. 0. 0. 0.]\n",
      "   [0. 0. 0. 0. 0. 0.]]]\n",
      "\n",
      "\n",
      " [[[0. 0. 0. 0. 0. 0.]\n",
      "   [0. 0. 0. 0. 0. 0.]\n",
      "   [0. 0. 0. 0. 0. 0.]\n",
      "   [0. 0. 0. 0. 0. 0.]\n",
      "   [0. 0. 0. 0. 0. 0.]]\n",
      "\n",
      "  [[0. 0. 0. 0. 0. 0.]\n",
      "   [0. 0. 0. 0. 0. 0.]\n",
      "   [0. 0. 0. 0. 0. 0.]\n",
      "   [0. 0. 0. 0. 0. 0.]\n",
      "   [0. 0. 0. 0. 0. 0.]]\n",
      "\n",
      "  [[0. 0. 0. 0. 0. 0.]\n",
      "   [0. 0. 0. 0. 0. 0.]\n",
      "   [0. 0. 0. 0. 0. 0.]\n",
      "   [0. 0. 0. 0. 0. 0.]\n",
      "   [0. 0. 0. 0. 0. 0.]]\n",
      "\n",
      "  [[0. 0. 0. 0. 0. 0.]\n",
      "   [0. 0. 0. 0. 0. 0.]\n",
      "   [0. 0. 0. 0. 0. 0.]\n",
      "   [0. 0. 0. 0. 0. 0.]\n",
      "   [0. 0. 0. 0. 0. 0.]]]\n",
      "\n",
      "\n",
      " [[[0. 0. 0. 0. 0. 0.]\n",
      "   [0. 0. 0. 0. 0. 0.]\n",
      "   [0. 0. 0. 0. 0. 0.]\n",
      "   [0. 0. 0. 0. 0. 0.]\n",
      "   [0. 0. 0. 0. 0. 0.]]\n",
      "\n",
      "  [[0. 0. 0. 0. 0. 0.]\n",
      "   [0. 0. 0. 0. 0. 0.]\n",
      "   [0. 0. 0. 0. 0. 0.]\n",
      "   [0. 0. 0. 0. 0. 0.]\n",
      "   [0. 0. 0. 0. 0. 0.]]\n",
      "\n",
      "  [[0. 0. 0. 0. 0. 0.]\n",
      "   [0. 0. 0. 0. 0. 0.]\n",
      "   [0. 0. 0. 0. 0. 0.]\n",
      "   [0. 0. 0. 0. 0. 0.]\n",
      "   [0. 0. 0. 0. 0. 0.]]\n",
      "\n",
      "  [[0. 0. 0. 0. 0. 0.]\n",
      "   [0. 0. 0. 0. 0. 0.]\n",
      "   [0. 0. 0. 0. 0. 0.]\n",
      "   [0. 0. 0. 0. 0. 0.]\n",
      "   [0. 0. 0. 0. 0. 0.]]]]\n"
     ]
    }
   ],
   "source": [
    "A = np.zeros((3,4,5,6))\n",
    "print(A)"
   ]
  },
  {
   "cell_type": "markdown",
   "metadata": {
    "id": "JrA2jJiP4nP3"
   },
   "source": [
    "### Array of ones"
   ]
  },
  {
   "cell_type": "code",
   "execution_count": 18,
   "metadata": {
    "id": "EsQwmS4Q4nP3",
    "outputId": "b103025d-3577-46f4-ff55-53f107ee4b82",
    "scrolled": true
   },
   "outputs": [
    {
     "name": "stdout",
     "output_type": "stream",
     "text": [
      "[1. 1. 1. 1.]\n"
     ]
    }
   ],
   "source": [
    "w = np.ones(4)\n",
    "print(w)"
   ]
  },
  {
   "cell_type": "code",
   "execution_count": 19,
   "metadata": {
    "colab": {
     "base_uri": "https://localhost:8080/"
    },
    "executionInfo": {
     "elapsed": 338,
     "status": "ok",
     "timestamp": 1637656461188,
     "user": {
      "displayName": "Francesco Pannarale",
      "photoUrl": "https://lh3.googleusercontent.com/a/default-user=s64",
      "userId": "04296007763837408065"
     },
     "user_tz": -60
    },
    "id": "LfKdifR24nP3",
    "outputId": "5a99ea7b-5774-4060-a9dc-6a3efa5ad5a2",
    "scrolled": true
   },
   "outputs": [
    {
     "name": "stdout",
     "output_type": "stream",
     "text": [
      "[[1. 1. 1. 1.]\n",
      " [1. 1. 1. 1.]\n",
      " [1. 1. 1. 1.]]\n"
     ]
    }
   ],
   "source": [
    "B = np.ones((3,4))\n",
    "print(B)"
   ]
  },
  {
   "cell_type": "markdown",
   "metadata": {
    "id": "o2bggdhY4nP4"
   },
   "source": [
    "You can multiply these by a constant"
   ]
  },
  {
   "cell_type": "code",
   "execution_count": 20,
   "metadata": {
    "colab": {
     "base_uri": "https://localhost:8080/"
    },
    "executionInfo": {
     "elapsed": 317,
     "status": "ok",
     "timestamp": 1637656472374,
     "user": {
      "displayName": "Francesco Pannarale",
      "photoUrl": "https://lh3.googleusercontent.com/a/default-user=s64",
      "userId": "04296007763837408065"
     },
     "user_tz": -60
    },
    "id": "VBDqPsnZ4nP4",
    "outputId": "c141e305-783e-489a-a93a-bbc6cc275e9f"
   },
   "outputs": [
    {
     "name": "stdout",
     "output_type": "stream",
     "text": [
      "[[3.6 3.6 3.6 3.6]\n",
      " [3.6 3.6 3.6 3.6]\n",
      " [3.6 3.6 3.6 3.6]]\n",
      "[[8.28 8.28 8.28 8.28]\n",
      " [8.28 8.28 8.28 8.28]\n",
      " [8.28 8.28 8.28 8.28]]\n"
     ]
    }
   ],
   "source": [
    "val = 3.6*B\n",
    "print(val)\n",
    "\n",
    "print(val*2.3)"
   ]
  },
  {
   "cell_type": "markdown",
   "metadata": {
    "id": "3FVZ7SwA4nP4"
   },
   "source": [
    "But rather than multuplying ones by a scalar, you can directly create an array filled with a given value, **a method that is 2-3 times faster**."
   ]
  },
  {
   "cell_type": "code",
   "execution_count": 21,
   "metadata": {
    "colab": {
     "base_uri": "https://localhost:8080/"
    },
    "executionInfo": {
     "elapsed": 300,
     "status": "ok",
     "timestamp": 1637656517015,
     "user": {
      "displayName": "Francesco Pannarale",
      "photoUrl": "https://lh3.googleusercontent.com/a/default-user=s64",
      "userId": "04296007763837408065"
     },
     "user_tz": -60
    },
    "id": "llDzlEsZ4nP4",
    "outputId": "4b1d1aae-b174-4c52-8d4a-f39594cc00dd",
    "scrolled": true
   },
   "outputs": [
    {
     "name": "stdout",
     "output_type": "stream",
     "text": [
      "[3.12 3.12 3.12]\n"
     ]
    }
   ],
   "source": [
    "z = np.full(3, fill_value=3.12)\n",
    "print(z)"
   ]
  },
  {
   "cell_type": "code",
   "execution_count": 23,
   "metadata": {
    "colab": {
     "base_uri": "https://localhost:8080/"
    },
    "executionInfo": {
     "elapsed": 362,
     "status": "ok",
     "timestamp": 1637656536328,
     "user": {
      "displayName": "Francesco Pannarale",
      "photoUrl": "https://lh3.googleusercontent.com/a/default-user=s64",
      "userId": "04296007763837408065"
     },
     "user_tz": -60
    },
    "id": "9R27MOyJ4nP5",
    "outputId": "911f7ae0-0220-498e-c8f6-ac229572dc20"
   },
   "outputs": [
    {
     "name": "stdout",
     "output_type": "stream",
     "text": [
      "CPU times: user 2.45 ms, sys: 2.85 ms, total: 5.3 ms\n",
      "Wall time: 2.82 ms\n",
      "CPU times: user 1.25 ms, sys: 620 µs, total: 1.87 ms\n",
      "Wall time: 1.47 ms\n"
     ]
    },
    {
     "data": {
      "text/plain": [
       "array([3.6, 3.6, 3.6, ..., 3.6, 3.6, 3.6])"
      ]
     },
     "execution_count": 23,
     "metadata": {},
     "output_type": "execute_result"
    }
   ],
   "source": [
    "N = 1000000\n",
    "\n",
    "%time 3.6*np.ones(N)\n",
    "\n",
    "%time np.full(N, fill_value=3.6)"
   ]
  },
  {
   "cell_type": "markdown",
   "metadata": {
    "id": "_ZYncSGo4nP5"
   },
   "source": [
    "Again, use a tuple to specify the shape of the array to be filled."
   ]
  },
  {
   "cell_type": "code",
   "execution_count": 24,
   "metadata": {
    "colab": {
     "base_uri": "https://localhost:8080/"
    },
    "executionInfo": {
     "elapsed": 316,
     "status": "ok",
     "timestamp": 1637656570378,
     "user": {
      "displayName": "Francesco Pannarale",
      "photoUrl": "https://lh3.googleusercontent.com/a/default-user=s64",
      "userId": "04296007763837408065"
     },
     "user_tz": -60
    },
    "id": "WYKehR0Y4nP5",
    "outputId": "b1abfcba-aaab-497f-c0ea-a8bce80fd0e1",
    "scrolled": false
   },
   "outputs": [
    {
     "name": "stdout",
     "output_type": "stream",
     "text": [
      "[[-4.3 -4.3 -4.3 -4.3 -4.3 -4.3 -4.3]\n",
      " [-4.3 -4.3 -4.3 -4.3 -4.3 -4.3 -4.3]\n",
      " [-4.3 -4.3 -4.3 -4.3 -4.3 -4.3 -4.3]\n",
      " [-4.3 -4.3 -4.3 -4.3 -4.3 -4.3 -4.3]\n",
      " [-4.3 -4.3 -4.3 -4.3 -4.3 -4.3 -4.3]\n",
      " [-4.3 -4.3 -4.3 -4.3 -4.3 -4.3 -4.3]\n",
      " [-4.3 -4.3 -4.3 -4.3 -4.3 -4.3 -4.3]]\n"
     ]
    }
   ],
   "source": [
    "C = np.full((7,7), fill_value=-4.3)\n",
    "print(C)"
   ]
  },
  {
   "cell_type": "markdown",
   "metadata": {
    "id": "M8HIa0-G4nP5"
   },
   "source": [
    "### Identity array"
   ]
  },
  {
   "cell_type": "code",
   "execution_count": 25,
   "metadata": {
    "colab": {
     "base_uri": "https://localhost:8080/"
    },
    "executionInfo": {
     "elapsed": 308,
     "status": "ok",
     "timestamp": 1637656584915,
     "user": {
      "displayName": "Francesco Pannarale",
      "photoUrl": "https://lh3.googleusercontent.com/a/default-user=s64",
      "userId": "04296007763837408065"
     },
     "user_tz": -60
    },
    "id": "vkToz1tc4nP6",
    "outputId": "06240e2b-058f-4299-d684-07f14ea1effd",
    "scrolled": false
   },
   "outputs": [
    {
     "name": "stdout",
     "output_type": "stream",
     "text": [
      "[[1. 0. 0. 0. 0. 0. 0.]\n",
      " [0. 1. 0. 0. 0. 0. 0.]\n",
      " [0. 0. 1. 0. 0. 0. 0.]\n",
      " [0. 0. 0. 1. 0. 0. 0.]\n",
      " [0. 0. 0. 0. 1. 0. 0.]\n",
      " [0. 0. 0. 0. 0. 1. 0.]\n",
      " [0. 0. 0. 0. 0. 0. 1.]]\n"
     ]
    }
   ],
   "source": [
    "data = np.identity(7)\n",
    "print(data)"
   ]
  },
  {
   "cell_type": "markdown",
   "metadata": {
    "id": "Hl_ykUSK4nP6"
   },
   "source": [
    "### Custom array\n",
    "- You can use lists and tuples"
   ]
  },
  {
   "cell_type": "code",
   "execution_count": 39,
   "metadata": {
    "colab": {
     "base_uri": "https://localhost:8080/"
    },
    "executionInfo": {
     "elapsed": 309,
     "status": "ok",
     "timestamp": 1637656616527,
     "user": {
      "displayName": "Francesco Pannarale",
      "photoUrl": "https://lh3.googleusercontent.com/a/default-user=s64",
      "userId": "04296007763837408065"
     },
     "user_tz": -60
    },
    "id": "DJYJmowT4nP6",
    "outputId": "8c811ecb-4bff-44fb-800d-8a3abd29e59c"
   },
   "outputs": [
    {
     "name": "stdout",
     "output_type": "stream",
     "text": [
      "[[1 2]\n",
      " [1 2]\n",
      " [1 2]\n",
      " [1 2]]\n"
     ]
    }
   ],
   "source": [
    "D = np.array([[1,2],[1,2],[1,2],[1,2]])\n",
    "print(D)"
   ]
  },
  {
   "cell_type": "code",
   "execution_count": 40,
   "metadata": {
    "colab": {
     "base_uri": "https://localhost:8080/"
    },
    "executionInfo": {
     "elapsed": 333,
     "status": "ok",
     "timestamp": 1637656628701,
     "user": {
      "displayName": "Francesco Pannarale",
      "photoUrl": "https://lh3.googleusercontent.com/a/default-user=s64",
      "userId": "04296007763837408065"
     },
     "user_tz": -60
    },
    "id": "oe4Eq9Bn4nP6",
    "outputId": "9a980a67-a99f-46da-d42b-a7b779acc200"
   },
   "outputs": [
    {
     "name": "stdout",
     "output_type": "stream",
     "text": [
      "[[1 2]\n",
      " [1 2]\n",
      " [1 2]\n",
      " [1 2]]\n"
     ]
    }
   ],
   "source": [
    "D = np.array([(1,2),(1,2),(1,2),(1,2)])\n",
    "print(D)"
   ]
  },
  {
   "cell_type": "code",
   "execution_count": 28,
   "metadata": {
    "colab": {
     "base_uri": "https://localhost:8080/"
    },
    "executionInfo": {
     "elapsed": 402,
     "status": "ok",
     "timestamp": 1637656635171,
     "user": {
      "displayName": "Francesco Pannarale",
      "photoUrl": "https://lh3.googleusercontent.com/a/default-user=s64",
      "userId": "04296007763837408065"
     },
     "user_tz": -60
    },
    "id": "zclEWrR44nP7",
    "outputId": "36ee8aac-4b61-4f56-8dd5-07f71e0032ce"
   },
   "outputs": [
    {
     "name": "stdout",
     "output_type": "stream",
     "text": [
      "[[1 2]\n",
      " [1 2]\n",
      " [1 2]\n",
      " [1 2]]\n"
     ]
    }
   ],
   "source": [
    "D = np.array(([1,2],[1,2],[1,2],[1,2]))\n",
    "print(D)\n",
    "\n"
   ]
  },
  {
   "cell_type": "code",
   "execution_count": 26,
   "metadata": {
    "colab": {
     "base_uri": "https://localhost:8080/"
    },
    "executionInfo": {
     "elapsed": 8,
     "status": "ok",
     "timestamp": 1637656638071,
     "user": {
      "displayName": "Francesco Pannarale",
      "photoUrl": "https://lh3.googleusercontent.com/a/default-user=s64",
      "userId": "04296007763837408065"
     },
     "user_tz": -60
    },
    "id": "3NccP4yv4nP8",
    "outputId": "65697329-e21c-42f2-b40f-25cc98f78fa3"
   },
   "outputs": [
    {
     "name": "stdout",
     "output_type": "stream",
     "text": [
      "[[1 2]\n",
      " [1 2]\n",
      " [1 2]\n",
      " [1 2]]\n"
     ]
    }
   ],
   "source": [
    "D = np.array(((1,2),(1,2),(1,2),(1,2)))\n",
    "print(D)"
   ]
  },
  {
   "cell_type": "markdown",
   "metadata": {
    "id": "OJDuaQan4nP8"
   },
   "source": [
    "Watch out for the effect of using sets"
   ]
  },
  {
   "cell_type": "code",
   "execution_count": 32,
   "metadata": {
    "colab": {
     "base_uri": "https://localhost:8080/"
    },
    "executionInfo": {
     "elapsed": 303,
     "status": "ok",
     "timestamp": 1637656681332,
     "user": {
      "displayName": "Francesco Pannarale",
      "photoUrl": "https://lh3.googleusercontent.com/a/default-user=s64",
      "userId": "04296007763837408065"
     },
     "user_tz": -60
    },
    "id": "7NvmPBwi4nP_",
    "outputId": "27ba4103-8bed-42cc-8cfb-699235188369"
   },
   "outputs": [
    {
     "name": "stdout",
     "output_type": "stream",
     "text": [
      "{(1, 2), (3, 4)}\n",
      "<class 'numpy.ndarray'>\n"
     ]
    }
   ],
   "source": [
    "D = np.array({(1,2),(3,4),(1,2),(1,2)})\n",
    "print(D)\n",
    "\n",
    "print(type(D))"
   ]
  },
  {
   "cell_type": "markdown",
   "metadata": {
    "id": "f_TOBjOx4nQA"
   },
   "source": [
    "## 3. Operations with arrays"
   ]
  },
  {
   "cell_type": "code",
   "execution_count": 33,
   "metadata": {
    "colab": {
     "base_uri": "https://localhost:8080/"
    },
    "executionInfo": {
     "elapsed": 307,
     "status": "ok",
     "timestamp": 1637656709123,
     "user": {
      "displayName": "Francesco Pannarale",
      "photoUrl": "https://lh3.googleusercontent.com/a/default-user=s64",
      "userId": "04296007763837408065"
     },
     "user_tz": -60
    },
    "id": "gBL0expD8h_I",
    "outputId": "9772c18e-2aef-4649-d3bd-3ca4b5eff423"
   },
   "outputs": [
    {
     "name": "stdout",
     "output_type": "stream",
     "text": [
      "[[-4.3 -4.3 -4.3 -4.3 -4.3 -4.3 -4.3]\n",
      " [-4.3 -4.3 -4.3 -4.3 -4.3 -4.3 -4.3]\n",
      " [-4.3 -4.3 -4.3 -4.3 -4.3 -4.3 -4.3]\n",
      " [-4.3 -4.3 -4.3 -4.3 -4.3 -4.3 -4.3]\n",
      " [-4.3 -4.3 -4.3 -4.3 -4.3 -4.3 -4.3]\n",
      " [-4.3 -4.3 -4.3 -4.3 -4.3 -4.3 -4.3]\n",
      " [-4.3 -4.3 -4.3 -4.3 -4.3 -4.3 -4.3]]\n",
      "[[1. 0. 0. 0. 0. 0. 0.]\n",
      " [0. 1. 0. 0. 0. 0. 0.]\n",
      " [0. 0. 1. 0. 0. 0. 0.]\n",
      " [0. 0. 0. 1. 0. 0. 0.]\n",
      " [0. 0. 0. 0. 1. 0. 0.]\n",
      " [0. 0. 0. 0. 0. 1. 0.]\n",
      " [0. 0. 0. 0. 0. 0. 1.]]\n"
     ]
    }
   ],
   "source": [
    "print(C)\n",
    "print(data)"
   ]
  },
  {
   "cell_type": "code",
   "execution_count": 34,
   "metadata": {
    "id": "ovFll_7L4nQC",
    "outputId": "70c2ff4e-b8d5-40ae-ef98-954fcc6b5f5e"
   },
   "outputs": [
    {
     "name": "stdout",
     "output_type": "stream",
     "text": [
      "[[-3.3 -4.3 -4.3 -4.3 -4.3 -4.3 -4.3]\n",
      " [-4.3 -3.3 -4.3 -4.3 -4.3 -4.3 -4.3]\n",
      " [-4.3 -4.3 -3.3 -4.3 -4.3 -4.3 -4.3]\n",
      " [-4.3 -4.3 -4.3 -3.3 -4.3 -4.3 -4.3]\n",
      " [-4.3 -4.3 -4.3 -4.3 -3.3 -4.3 -4.3]\n",
      " [-4.3 -4.3 -4.3 -4.3 -4.3 -3.3 -4.3]\n",
      " [-4.3 -4.3 -4.3 -4.3 -4.3 -4.3 -3.3]]\n"
     ]
    }
   ],
   "source": [
    "print(data + C)"
   ]
  },
  {
   "cell_type": "code",
   "execution_count": 35,
   "metadata": {
    "colab": {
     "base_uri": "https://localhost:8080/"
    },
    "executionInfo": {
     "elapsed": 309,
     "status": "ok",
     "timestamp": 1637656728575,
     "user": {
      "displayName": "Francesco Pannarale",
      "photoUrl": "https://lh3.googleusercontent.com/a/default-user=s64",
      "userId": "04296007763837408065"
     },
     "user_tz": -60
    },
    "id": "cxKDbxpA4nQD",
    "outputId": "48fbe404-c562-4dba-ffde-b318a53551ad"
   },
   "outputs": [
    {
     "name": "stdout",
     "output_type": "stream",
     "text": [
      "[[5.3 4.3 4.3 4.3 4.3 4.3 4.3]\n",
      " [4.3 5.3 4.3 4.3 4.3 4.3 4.3]\n",
      " [4.3 4.3 5.3 4.3 4.3 4.3 4.3]\n",
      " [4.3 4.3 4.3 5.3 4.3 4.3 4.3]\n",
      " [4.3 4.3 4.3 4.3 5.3 4.3 4.3]\n",
      " [4.3 4.3 4.3 4.3 4.3 5.3 4.3]\n",
      " [4.3 4.3 4.3 4.3 4.3 4.3 5.3]]\n"
     ]
    }
   ],
   "source": [
    "print(data - C)"
   ]
  },
  {
   "cell_type": "markdown",
   "metadata": {
    "id": "9L3TunS14nQE"
   },
   "source": [
    "The following also happen **element-wise**!"
   ]
  },
  {
   "cell_type": "code",
   "execution_count": 50,
   "metadata": {
    "colab": {
     "base_uri": "https://localhost:8080/"
    },
    "executionInfo": {
     "elapsed": 310,
     "status": "ok",
     "timestamp": 1637656747710,
     "user": {
      "displayName": "Francesco Pannarale",
      "photoUrl": "https://lh3.googleusercontent.com/a/default-user=s64",
      "userId": "04296007763837408065"
     },
     "user_tz": -60
    },
    "id": "p-a_7kcL4nQE",
    "outputId": "63869dca-49a8-4e0d-e7af-75bda8c61321",
    "scrolled": true
   },
   "outputs": [
    {
     "name": "stdout",
     "output_type": "stream",
     "text": [
      "[[-9.89 -9.89 -9.89 -9.89 -9.89 -9.89 -9.89]\n",
      " [-9.89 -9.89 -9.89 -9.89 -9.89 -9.89 -9.89]\n",
      " [-9.89 -9.89 -9.89 -9.89 -9.89 -9.89 -9.89]\n",
      " [-9.89 -9.89 -9.89 -9.89 -9.89 -9.89 -9.89]\n",
      " [-9.89 -9.89 -9.89 -9.89 -9.89 -9.89 -9.89]\n",
      " [-9.89 -9.89 -9.89 -9.89 -9.89 -9.89 -9.89]\n",
      " [-9.89 -9.89 -9.89 -9.89 -9.89 -9.89 -9.89]]\n"
     ]
    }
   ],
   "source": [
    "print(2.3*C)"
   ]
  },
  {
   "cell_type": "code",
   "execution_count": 37,
   "metadata": {},
   "outputs": [
    {
     "name": "stdout",
     "output_type": "stream",
     "text": [
      "[[-9.89 -9.89 -9.89 -9.89 -9.89 -9.89 -9.89]\n",
      " [-9.89 -9.89 -9.89 -9.89 -9.89 -9.89 -9.89]\n",
      " [-9.89 -9.89 -9.89 -9.89 -9.89 -9.89 -9.89]\n",
      " [-9.89 -9.89 -9.89 -9.89 -9.89 -9.89 -9.89]\n",
      " [-9.89 -9.89 -9.89 -9.89 -9.89 -9.89 -9.89]\n",
      " [-9.89 -9.89 -9.89 -9.89 -9.89 -9.89 -9.89]\n",
      " [-9.89 -9.89 -9.89 -9.89 -9.89 -9.89 -9.89]]\n"
     ]
    }
   ],
   "source": [
    "print(C*2.3)"
   ]
  },
  {
   "cell_type": "code",
   "execution_count": 36,
   "metadata": {
    "colab": {
     "base_uri": "https://localhost:8080/"
    },
    "executionInfo": {
     "elapsed": 310,
     "status": "ok",
     "timestamp": 1637656753331,
     "user": {
      "displayName": "Francesco Pannarale",
      "photoUrl": "https://lh3.googleusercontent.com/a/default-user=s64",
      "userId": "04296007763837408065"
     },
     "user_tz": -60
    },
    "id": "gTK4uK4f4nQE",
    "outputId": "9ebd4a7d-8f23-4a1d-d953-84034978ee96",
    "scrolled": true
   },
   "outputs": [
    {
     "name": "stdout",
     "output_type": "stream",
     "text": [
      "[[-1.86956522 -1.86956522 -1.86956522 -1.86956522 -1.86956522 -1.86956522\n",
      "  -1.86956522]\n",
      " [-1.86956522 -1.86956522 -1.86956522 -1.86956522 -1.86956522 -1.86956522\n",
      "  -1.86956522]\n",
      " [-1.86956522 -1.86956522 -1.86956522 -1.86956522 -1.86956522 -1.86956522\n",
      "  -1.86956522]\n",
      " [-1.86956522 -1.86956522 -1.86956522 -1.86956522 -1.86956522 -1.86956522\n",
      "  -1.86956522]\n",
      " [-1.86956522 -1.86956522 -1.86956522 -1.86956522 -1.86956522 -1.86956522\n",
      "  -1.86956522]\n",
      " [-1.86956522 -1.86956522 -1.86956522 -1.86956522 -1.86956522 -1.86956522\n",
      "  -1.86956522]\n",
      " [-1.86956522 -1.86956522 -1.86956522 -1.86956522 -1.86956522 -1.86956522\n",
      "  -1.86956522]]\n"
     ]
    }
   ],
   "source": [
    "print(C/2.3)"
   ]
  },
  {
   "cell_type": "markdown",
   "metadata": {
    "id": "cn4XR1gW4nQE"
   },
   "source": [
    "Notice that below 0.5 is promoted to an array that has the shape of the denominator (D) and 0.5 in all its entries.  The division then happens entry by entry"
   ]
  },
  {
   "cell_type": "code",
   "execution_count": 38,
   "metadata": {
    "colab": {
     "base_uri": "https://localhost:8080/"
    },
    "executionInfo": {
     "elapsed": 304,
     "status": "ok",
     "timestamp": 1637656857274,
     "user": {
      "displayName": "Francesco Pannarale",
      "photoUrl": "https://lh3.googleusercontent.com/a/default-user=s64",
      "userId": "04296007763837408065"
     },
     "user_tz": -60
    },
    "id": "7wN5yKiI4nQF",
    "outputId": "44f2fcf1-52e0-4cda-cf77-4b176ccb6c6a"
   },
   "outputs": [
    {
     "name": "stdout",
     "output_type": "stream",
     "text": [
      "[[1 2]\n",
      " [1 2]\n",
      " [1 2]\n",
      " [1 2]]\n",
      "[[0.5  0.25]\n",
      " [0.5  0.25]\n",
      " [0.5  0.25]\n",
      " [0.5  0.25]]\n"
     ]
    }
   ],
   "source": [
    "D = np.array(((1,2),(1,2),(1,2),(1,2)))\n",
    "print(D)\n",
    "print(0.5/D)"
   ]
  },
  {
   "cell_type": "markdown",
   "metadata": {
    "id": "Y5l22Qxy4nQF"
   },
   "source": [
    "### Looking for matrix multiplication?  `numpy.matmul` is your answer."
   ]
  },
  {
   "cell_type": "code",
   "execution_count": 39,
   "metadata": {
    "colab": {
     "base_uri": "https://localhost:8080/"
    },
    "executionInfo": {
     "elapsed": 341,
     "status": "ok",
     "timestamp": 1637656892937,
     "user": {
      "displayName": "Francesco Pannarale",
      "photoUrl": "https://lh3.googleusercontent.com/a/default-user=s64",
      "userId": "04296007763837408065"
     },
     "user_tz": -60
    },
    "id": "MTv9FwEu4nQG",
    "outputId": "fe50fc02-8ddd-4d0e-91c6-7114009253c7"
   },
   "outputs": [
    {
     "name": "stdout",
     "output_type": "stream",
     "text": [
      "[[2 3 4]\n",
      " [2 1 0]]\n",
      "[[1 1]\n",
      " [1 3]\n",
      " [5 2]]\n"
     ]
    },
    {
     "data": {
      "text/plain": [
       "array([[25, 19],\n",
       "       [ 3,  5]])"
      ]
     },
     "execution_count": 39,
     "metadata": {},
     "output_type": "execute_result"
    }
   ],
   "source": [
    "E = np.array([[2,3,4], [2,1,0]])\n",
    "F = np.array([[1,1], [1,3], [5,2]])\n",
    "\n",
    "print(E)\n",
    "print(F)\n",
    "\n",
    "np.matmul(E,F)"
   ]
  },
  {
   "cell_type": "markdown",
   "metadata": {
    "id": "bBG5Z5H84nQG"
   },
   "source": [
    "### Applying functions\n",
    "\n",
    "This require using functions that accept NumPy `ndarray`s as arguments.  E.g., `np.sin` and not `math.sin`"
   ]
  },
  {
   "cell_type": "code",
   "execution_count": 41,
   "metadata": {
    "id": "JXxVYWTg4nQH",
    "scrolled": false
   },
   "outputs": [],
   "source": [
    "data = np.arange(1,101)\n",
    "\n",
    "datasq = data**2 # This is the power operator for NumPy `ndarray`s"
   ]
  },
  {
   "cell_type": "code",
   "execution_count": 55,
   "metadata": {
    "colab": {
     "base_uri": "https://localhost:8080/"
    },
    "executionInfo": {
     "elapsed": 5,
     "status": "ok",
     "timestamp": 1637657000556,
     "user": {
      "displayName": "Francesco Pannarale",
      "photoUrl": "https://lh3.googleusercontent.com/a/default-user=s64",
      "userId": "04296007763837408065"
     },
     "user_tz": -60
    },
    "id": "vdBuAUIw4nQH",
    "outputId": "2c611912-e231-4b94-aca4-59dc41a2c090",
    "scrolled": true
   },
   "outputs": [
    {
     "name": "stdout",
     "output_type": "stream",
     "text": [
      "[  1   2   3   4   5   6   7   8   9  10  11  12  13  14  15  16  17  18\n",
      "  19  20  21  22  23  24  25  26  27  28  29  30  31  32  33  34  35  36\n",
      "  37  38  39  40  41  42  43  44  45  46  47  48  49  50  51  52  53  54\n",
      "  55  56  57  58  59  60  61  62  63  64  65  66  67  68  69  70  71  72\n",
      "  73  74  75  76  77  78  79  80  81  82  83  84  85  86  87  88  89  90\n",
      "  91  92  93  94  95  96  97  98  99 100]\n",
      "[    1     4     9    16    25    36    49    64    81   100   121   144\n",
      "   169   196   225   256   289   324   361   400   441   484   529   576\n",
      "   625   676   729   784   841   900   961  1024  1089  1156  1225  1296\n",
      "  1369  1444  1521  1600  1681  1764  1849  1936  2025  2116  2209  2304\n",
      "  2401  2500  2601  2704  2809  2916  3025  3136  3249  3364  3481  3600\n",
      "  3721  3844  3969  4096  4225  4356  4489  4624  4761  4900  5041  5184\n",
      "  5329  5476  5625  5776  5929  6084  6241  6400  6561  6724  6889  7056\n",
      "  7225  7396  7569  7744  7921  8100  8281  8464  8649  8836  9025  9216\n",
      "  9409  9604  9801 10000]\n"
     ]
    }
   ],
   "source": [
    "print(data)\n",
    "print(datasq)"
   ]
  },
  {
   "cell_type": "code",
   "execution_count": 42,
   "metadata": {
    "colab": {
     "base_uri": "https://localhost:8080/"
    },
    "executionInfo": {
     "elapsed": 303,
     "status": "ok",
     "timestamp": 1637657015401,
     "user": {
      "displayName": "Francesco Pannarale",
      "photoUrl": "https://lh3.googleusercontent.com/a/default-user=s64",
      "userId": "04296007763837408065"
     },
     "user_tz": -60
    },
    "id": "yIdc4piS4nQH",
    "outputId": "14b4d4b4-a62c-4bc2-c869-9dece6b43f6b",
    "scrolled": true
   },
   "outputs": [
    {
     "name": "stdout",
     "output_type": "stream",
     "text": [
      "[1.22464680e-16 1.38629436e+00 2.19722458e+00 2.77258872e+00\n",
      " 3.21887582e+00 3.58351894e+00 3.89182030e+00 4.15888308e+00\n",
      " 4.39444915e+00 4.60517019e+00 4.79579055e+00 4.96981330e+00\n",
      " 5.12989871e+00 5.27811466e+00 5.41610040e+00 5.54517744e+00\n",
      " 5.66642669e+00 5.78074352e+00 5.88887796e+00 5.99146455e+00\n",
      " 6.08904488e+00 6.18208491e+00 6.27098843e+00 6.35610766e+00\n",
      " 6.43775165e+00 6.51619308e+00 6.59167373e+00 6.66440902e+00\n",
      " 6.73459166e+00 6.80239476e+00 6.86797441e+00 6.93147181e+00\n",
      " 6.99301512e+00 7.05272105e+00 7.11069612e+00 7.16703788e+00\n",
      " 7.22183583e+00 7.27517232e+00 7.32712329e+00 7.37775891e+00\n",
      " 7.42714413e+00 7.47533924e+00 7.52240023e+00 7.56837927e+00\n",
      " 7.61332498e+00 7.65728279e+00 7.70029520e+00 7.74240202e+00\n",
      " 7.78364060e+00 7.82404601e+00 7.86365127e+00 7.90248744e+00\n",
      " 7.94058383e+00 7.97796809e+00 8.01466637e+00 8.05070338e+00\n",
      " 8.08610254e+00 8.12088602e+00 8.15507489e+00 8.18868912e+00\n",
      " 8.22174773e+00 8.25426877e+00 8.28626945e+00 8.31776617e+00\n",
      " 8.34877454e+00 8.37930948e+00 8.40938524e+00 8.43901541e+00\n",
      " 8.46821301e+00 8.49699048e+00 8.52535975e+00 8.55333224e+00\n",
      " 8.58091888e+00 8.60813019e+00 8.63497623e+00 8.66146668e+00\n",
      " 8.68761084e+00 8.71341765e+00 8.73889570e+00 8.76405327e+00\n",
      " 8.78889831e+00 8.81343849e+00 8.83768122e+00 8.86163360e+00\n",
      " 8.88530251e+00 8.90869459e+00 8.93181624e+00 8.95467363e+00\n",
      " 8.97727274e+00 8.99961934e+00 9.02171901e+00 9.04357715e+00\n",
      " 9.06519899e+00 9.08658956e+00 9.10775378e+00 9.12869638e+00\n",
      " 9.14942196e+00 9.16993496e+00 9.19023970e+00 9.21034037e+00]\n"
     ]
    }
   ],
   "source": [
    "data_2 = np.log(datasq) + np.sin(data*np.pi)\n",
    "print(data_2)"
   ]
  },
  {
   "cell_type": "code",
   "execution_count": 43,
   "metadata": {
    "colab": {
     "base_uri": "https://localhost:8080/"
    },
    "executionInfo": {
     "elapsed": 308,
     "status": "ok",
     "timestamp": 1637657029321,
     "user": {
      "displayName": "Francesco Pannarale",
      "photoUrl": "https://lh3.googleusercontent.com/a/default-user=s64",
      "userId": "04296007763837408065"
     },
     "user_tz": -60
    },
    "id": "WA4Flsie4nQH",
    "outputId": "c87e0d06-dbc9-49e0-a0d3-f80c9f766087",
    "scrolled": true
   },
   "outputs": [
    {
     "name": "stdout",
     "output_type": "stream",
     "text": [
      "[  1.   2.   3.   4.   5.   6.   7.   8.   9.  10.  11.  12.  13.  14.\n",
      "  15.  16.  17.  18.  19.  20.  21.  22.  23.  24.  25.  26.  27.  28.\n",
      "  29.  30.  31.  32.  33.  34.  35.  36.  37.  38.  39.  40.  41.  42.\n",
      "  43.  44.  45.  46.  47.  48.  49.  50.  51.  52.  53.  54.  55.  56.\n",
      "  57.  58.  59.  60.  61.  62.  63.  64.  65.  66.  67.  68.  69.  70.\n",
      "  71.  72.  73.  74.  75.  76.  77.  78.  79.  80.  81.  82.  83.  84.\n",
      "  85.  86.  87.  88.  89.  90.  91.  92.  93.  94.  95.  96.  97.  98.\n",
      "  99. 100.]\n"
     ]
    }
   ],
   "source": [
    "data_3 = np.sqrt(datasq)\n",
    "print(data_3)"
   ]
  },
  {
   "cell_type": "markdown",
   "metadata": {
    "id": "pT6ldS514nQH"
   },
   "source": [
    "The following fails because the `math` module does not know what to do with the `ndarray` passed as argument of `sqrt`."
   ]
  },
  {
   "cell_type": "code",
   "execution_count": 47,
   "metadata": {
    "colab": {
     "base_uri": "https://localhost:8080/",
     "height": 187
    },
    "executionInfo": {
     "elapsed": 320,
     "status": "error",
     "timestamp": 1637657047388,
     "user": {
      "displayName": "Francesco Pannarale",
      "photoUrl": "https://lh3.googleusercontent.com/a/default-user=s64",
      "userId": "04296007763837408065"
     },
     "user_tz": -60
    },
    "id": "lyMmcUfO4nQH",
    "outputId": "b3c0ef6a-99f3-402d-8822-6f3cc3779c2a"
   },
   "outputs": [
    {
     "ename": "TypeError",
     "evalue": "only size-1 arrays can be converted to Python scalars",
     "output_type": "error",
     "traceback": [
      "\u001b[0;31m---------------------------------------------------------------------------\u001b[0m",
      "\u001b[0;31mTypeError\u001b[0m                                 Traceback (most recent call last)",
      "Cell \u001b[0;32mIn [47], line 1\u001b[0m\n\u001b[0;32m----> 1\u001b[0m \u001b[43mm\u001b[49m\u001b[38;5;241;43m.\u001b[39;49m\u001b[43msqrt\u001b[49m\u001b[43m(\u001b[49m\u001b[43mdatasq\u001b[49m\u001b[43m)\u001b[49m\n",
      "\u001b[0;31mTypeError\u001b[0m: only size-1 arrays can be converted to Python scalars"
     ]
    }
   ],
   "source": [
    "m.sqrt(datasq)"
   ]
  },
  {
   "cell_type": "markdown",
   "metadata": {
    "id": "tV0RNVEP4nQI"
   },
   "source": [
    "There is a possible workaround (see next line), but with `ndarray`s you should always use NumPy functions or you will use the runtime benefits that come with `ndarray`s."
   ]
  },
  {
   "cell_type": "code",
   "execution_count": 48,
   "metadata": {
    "colab": {
     "base_uri": "https://localhost:8080/"
    },
    "executionInfo": {
     "elapsed": 314,
     "status": "ok",
     "timestamp": 1637657075813,
     "user": {
      "displayName": "Francesco Pannarale",
      "photoUrl": "https://lh3.googleusercontent.com/a/default-user=s64",
      "userId": "04296007763837408065"
     },
     "user_tz": -60
    },
    "id": "cITslfiy4nQI",
    "outputId": "da949c9b-0e13-43e3-d79d-7f1bb59bb089"
   },
   "outputs": [
    {
     "name": "stdout",
     "output_type": "stream",
     "text": [
      "[1.0, 2.0, 3.0, 4.0, 5.0, 6.0, 7.0, 8.0, 9.0, 10.0, 11.0, 12.0, 13.0, 14.0, 15.0, 16.0, 17.0, 18.0, 19.0, 20.0, 21.0, 22.0, 23.0, 24.0, 25.0, 26.0, 27.0, 28.0, 29.0, 30.0, 31.0, 32.0, 33.0, 34.0, 35.0, 36.0, 37.0, 38.0, 39.0, 40.0, 41.0, 42.0, 43.0, 44.0, 45.0, 46.0, 47.0, 48.0, 49.0, 50.0, 51.0, 52.0, 53.0, 54.0, 55.0, 56.0, 57.0, 58.0, 59.0, 60.0, 61.0, 62.0, 63.0, 64.0, 65.0, 66.0, 67.0, 68.0, 69.0, 70.0, 71.0, 72.0, 73.0, 74.0, 75.0, 76.0, 77.0, 78.0, 79.0, 80.0, 81.0, 82.0, 83.0, 84.0, 85.0, 86.0, 87.0, 88.0, 89.0, 90.0, 91.0, 92.0, 93.0, 94.0, 95.0, 96.0, 97.0, 98.0, 99.0, 100.0]\n"
     ]
    }
   ],
   "source": [
    "tmp = [m.sqrt(val) for val in datasq]\n",
    "print(tmp)"
   ]
  },
  {
   "cell_type": "code",
   "execution_count": 50,
   "metadata": {
    "colab": {
     "base_uri": "https://localhost:8080/"
    },
    "executionInfo": {
     "elapsed": 336,
     "status": "ok",
     "timestamp": 1637657081982,
     "user": {
      "displayName": "Francesco Pannarale",
      "photoUrl": "https://lh3.googleusercontent.com/a/default-user=s64",
      "userId": "04296007763837408065"
     },
     "user_tz": -60
    },
    "id": "0dDSVRIc4nQI",
    "outputId": "f61b9bd4-cea9-4618-9a1e-6dad176ecb2e"
   },
   "outputs": [
    {
     "name": "stdout",
     "output_type": "stream",
     "text": [
      "CPU times: user 68 µs, sys: 1e+03 ns, total: 69 µs\n",
      "Wall time: 75.1 µs\n",
      "CPU times: user 39 µs, sys: 10 µs, total: 49 µs\n",
      "Wall time: 49.8 µs\n"
     ]
    },
    {
     "data": {
      "text/plain": [
       "array([  1.,   2.,   3.,   4.,   5.,   6.,   7.,   8.,   9.,  10.,  11.,\n",
       "        12.,  13.,  14.,  15.,  16.,  17.,  18.,  19.,  20.,  21.,  22.,\n",
       "        23.,  24.,  25.,  26.,  27.,  28.,  29.,  30.,  31.,  32.,  33.,\n",
       "        34.,  35.,  36.,  37.,  38.,  39.,  40.,  41.,  42.,  43.,  44.,\n",
       "        45.,  46.,  47.,  48.,  49.,  50.,  51.,  52.,  53.,  54.,  55.,\n",
       "        56.,  57.,  58.,  59.,  60.,  61.,  62.,  63.,  64.,  65.,  66.,\n",
       "        67.,  68.,  69.,  70.,  71.,  72.,  73.,  74.,  75.,  76.,  77.,\n",
       "        78.,  79.,  80.,  81.,  82.,  83.,  84.,  85.,  86.,  87.,  88.,\n",
       "        89.,  90.,  91.,  92.,  93.,  94.,  95.,  96.,  97.,  98.,  99.,\n",
       "       100.])"
      ]
     },
     "execution_count": 50,
     "metadata": {},
     "output_type": "execute_result"
    }
   ],
   "source": [
    "%time [m.sqrt(val) for val in datasq]\n",
    "%time np.sqrt(datasq)"
   ]
  },
  {
   "cell_type": "markdown",
   "metadata": {
    "id": "VrZcvrYY4nQI"
   },
   "source": [
    "## 4. Shape of arrays\n",
    "Every `ndarray` is characterized by its \n",
    "- shape\n",
    "- size \n",
    "- type of data"
   ]
  },
  {
   "cell_type": "code",
   "execution_count": 51,
   "metadata": {
    "colab": {
     "base_uri": "https://localhost:8080/"
    },
    "executionInfo": {
     "elapsed": 307,
     "status": "ok",
     "timestamp": 1637657211861,
     "user": {
      "displayName": "Francesco Pannarale",
      "photoUrl": "https://lh3.googleusercontent.com/a/default-user=s64",
      "userId": "04296007763837408065"
     },
     "user_tz": -60
    },
    "id": "kXz0mmdc4nQI",
    "outputId": "a12fcfb1-2e31-4abf-b45c-a469667a320d"
   },
   "outputs": [
    {
     "name": "stdout",
     "output_type": "stream",
     "text": [
      "type:  <class 'numpy.ndarray'>\n",
      "data:\n",
      " [[-1.   2.3]\n",
      " [ 2.3  4.5]\n",
      " [-8.4  1.9]]\n",
      "\n",
      "dimension:  2\n",
      "shape:  (3, 2)\n",
      "data type:  float64\n"
     ]
    }
   ],
   "source": [
    "data = np.array([[-1., 2.3], [2.3, 4.5], [-8.4, 1.9]])\n",
    "print(\"type: \", type(data))\n",
    "print(\"data:\\n {0}\\n\".format(data))\n",
    "print(\"dimension: \", data.ndim)\n",
    "print(\"shape: \", data.shape)\n",
    "print(\"data type: \", data.dtype)"
   ]
  },
  {
   "cell_type": "markdown",
   "metadata": {
    "id": "DtrlQnge4nQJ"
   },
   "source": [
    "### Change type of data"
   ]
  },
  {
   "cell_type": "code",
   "execution_count": 52,
   "metadata": {
    "colab": {
     "base_uri": "https://localhost:8080/"
    },
    "executionInfo": {
     "elapsed": 304,
     "status": "ok",
     "timestamp": 1637657248151,
     "user": {
      "displayName": "Francesco Pannarale",
      "photoUrl": "https://lh3.googleusercontent.com/a/default-user=s64",
      "userId": "04296007763837408065"
     },
     "user_tz": -60
    },
    "id": "hS9xzglh4nQJ",
    "outputId": "0fdfd816-7fc2-4e92-ef30-00a8a2b5fbf9"
   },
   "outputs": [
    {
     "name": "stdout",
     "output_type": "stream",
     "text": [
      "data:\n",
      " [[-1  2]\n",
      " [ 2  4]\n",
      " [-8  1]]\n",
      "\n",
      "data type:  int64\n"
     ]
    }
   ],
   "source": [
    "data_int = np.array([[-1., 2.3], [2.3, 4.5], [-8.4, 1.9]], dtype=np.int64)\n",
    "print(\"data:\\n {0}\\n\".format(data_int))\n",
    "print(\"data type: \", data_int.dtype)"
   ]
  },
  {
   "cell_type": "markdown",
   "metadata": {
    "id": "_VddwdG-4nQJ"
   },
   "source": [
    "### Reshaping arrays"
   ]
  },
  {
   "cell_type": "code",
   "execution_count": 53,
   "metadata": {
    "colab": {
     "base_uri": "https://localhost:8080/"
    },
    "executionInfo": {
     "elapsed": 322,
     "status": "ok",
     "timestamp": 1637657286040,
     "user": {
      "displayName": "Francesco Pannarale",
      "photoUrl": "https://lh3.googleusercontent.com/a/default-user=s64",
      "userId": "04296007763837408065"
     },
     "user_tz": -60
    },
    "id": "ysjDbfTh4nQJ",
    "outputId": "f87d7cc7-f714-481c-d173-1ddf9b7163d1"
   },
   "outputs": [
    {
     "name": "stdout",
     "output_type": "stream",
     "text": [
      "[  1   2   3   4   5   6   7   8   9  10  11  12  13  14  15  16  17  18\n",
      "  19  20  21  22  23  24  25  26  27  28  29  30  31  32  33  34  35  36\n",
      "  37  38  39  40  41  42  43  44  45  46  47  48  49  50  51  52  53  54\n",
      "  55  56  57  58  59  60  61  62  63  64  65  66  67  68  69  70  71  72\n",
      "  73  74  75  76  77  78  79  80  81  82  83  84  85  86  87  88  89  90\n",
      "  91  92  93  94  95  96  97  98  99 100]\n",
      "1\n",
      "(100,)\n"
     ]
    }
   ],
   "source": [
    "data = np.arange(1,101)\n",
    "print(data)\n",
    "print(data.ndim)\n",
    "print(data.shape)"
   ]
  },
  {
   "cell_type": "code",
   "execution_count": 54,
   "metadata": {
    "colab": {
     "base_uri": "https://localhost:8080/"
    },
    "executionInfo": {
     "elapsed": 325,
     "status": "ok",
     "timestamp": 1637657310392,
     "user": {
      "displayName": "Francesco Pannarale",
      "photoUrl": "https://lh3.googleusercontent.com/a/default-user=s64",
      "userId": "04296007763837408065"
     },
     "user_tz": -60
    },
    "id": "8xTdTut74nQK",
    "outputId": "d9543274-cc54-4fd4-92e4-03889c10f332",
    "scrolled": false
   },
   "outputs": [
    {
     "name": "stdout",
     "output_type": "stream",
     "text": [
      "[[  1   2   3   4]\n",
      " [  5   6   7   8]\n",
      " [  9  10  11  12]\n",
      " [ 13  14  15  16]\n",
      " [ 17  18  19  20]\n",
      " [ 21  22  23  24]\n",
      " [ 25  26  27  28]\n",
      " [ 29  30  31  32]\n",
      " [ 33  34  35  36]\n",
      " [ 37  38  39  40]\n",
      " [ 41  42  43  44]\n",
      " [ 45  46  47  48]\n",
      " [ 49  50  51  52]\n",
      " [ 53  54  55  56]\n",
      " [ 57  58  59  60]\n",
      " [ 61  62  63  64]\n",
      " [ 65  66  67  68]\n",
      " [ 69  70  71  72]\n",
      " [ 73  74  75  76]\n",
      " [ 77  78  79  80]\n",
      " [ 81  82  83  84]\n",
      " [ 85  86  87  88]\n",
      " [ 89  90  91  92]\n",
      " [ 93  94  95  96]\n",
      " [ 97  98  99 100]]\n",
      "(25, 4)\n",
      "2\n"
     ]
    }
   ],
   "source": [
    "mat1 = data.reshape(25,4)\n",
    "print(mat1)\n",
    "print(mat1.shape)\n",
    "print(mat1.ndim)"
   ]
  },
  {
   "cell_type": "code",
   "execution_count": 55,
   "metadata": {
    "colab": {
     "base_uri": "https://localhost:8080/"
    },
    "executionInfo": {
     "elapsed": 328,
     "status": "ok",
     "timestamp": 1637657363451,
     "user": {
      "displayName": "Francesco Pannarale",
      "photoUrl": "https://lh3.googleusercontent.com/a/default-user=s64",
      "userId": "04296007763837408065"
     },
     "user_tz": -60
    },
    "id": "L6Aofm0c4nQL",
    "outputId": "85230b27-2a05-46d7-8e45-d4ad3111f53c",
    "scrolled": false
   },
   "outputs": [
    {
     "name": "stdout",
     "output_type": "stream",
     "text": [
      "[[  1   2   3   4   5   6   7   8   9  10]\n",
      " [ 11  12  13  14  15  16  17  18  19  20]\n",
      " [ 21  22  23  24  25  26  27  28  29  30]\n",
      " [ 31  32  33  34  35  36  37  38  39  40]\n",
      " [ 41  42  43  44  45  46  47  48  49  50]\n",
      " [ 51  52  53  54  55  56  57  58  59  60]\n",
      " [ 61  62  63  64  65  66  67  68  69  70]\n",
      " [ 71  72  73  74  75  76  77  78  79  80]\n",
      " [ 81  82  83  84  85  86  87  88  89  90]\n",
      " [ 91  92  93  94  95  96  97  98  99 100]]\n"
     ]
    }
   ],
   "source": [
    "mat2 = mat1.reshape(10,10)\n",
    "print(mat2)"
   ]
  },
  {
   "cell_type": "code",
   "execution_count": 56,
   "metadata": {
    "colab": {
     "base_uri": "https://localhost:8080/"
    },
    "executionInfo": {
     "elapsed": 316,
     "status": "ok",
     "timestamp": 1637657392434,
     "user": {
      "displayName": "Francesco Pannarale",
      "photoUrl": "https://lh3.googleusercontent.com/a/default-user=s64",
      "userId": "04296007763837408065"
     },
     "user_tz": -60
    },
    "id": "MWhmo0AW4nQL",
    "outputId": "7a19cdec-ff5e-411a-d315-480c2cf53c6b"
   },
   "outputs": [
    {
     "name": "stdout",
     "output_type": "stream",
     "text": [
      "[[[  1   2]\n",
      "  [  3   4]]\n",
      "\n",
      " [[  5   6]\n",
      "  [  7   8]]\n",
      "\n",
      " [[  9  10]\n",
      "  [ 11  12]]\n",
      "\n",
      " [[ 13  14]\n",
      "  [ 15  16]]\n",
      "\n",
      " [[ 17  18]\n",
      "  [ 19  20]]\n",
      "\n",
      " [[ 21  22]\n",
      "  [ 23  24]]\n",
      "\n",
      " [[ 25  26]\n",
      "  [ 27  28]]\n",
      "\n",
      " [[ 29  30]\n",
      "  [ 31  32]]\n",
      "\n",
      " [[ 33  34]\n",
      "  [ 35  36]]\n",
      "\n",
      " [[ 37  38]\n",
      "  [ 39  40]]\n",
      "\n",
      " [[ 41  42]\n",
      "  [ 43  44]]\n",
      "\n",
      " [[ 45  46]\n",
      "  [ 47  48]]\n",
      "\n",
      " [[ 49  50]\n",
      "  [ 51  52]]\n",
      "\n",
      " [[ 53  54]\n",
      "  [ 55  56]]\n",
      "\n",
      " [[ 57  58]\n",
      "  [ 59  60]]\n",
      "\n",
      " [[ 61  62]\n",
      "  [ 63  64]]\n",
      "\n",
      " [[ 65  66]\n",
      "  [ 67  68]]\n",
      "\n",
      " [[ 69  70]\n",
      "  [ 71  72]]\n",
      "\n",
      " [[ 73  74]\n",
      "  [ 75  76]]\n",
      "\n",
      " [[ 77  78]\n",
      "  [ 79  80]]\n",
      "\n",
      " [[ 81  82]\n",
      "  [ 83  84]]\n",
      "\n",
      " [[ 85  86]\n",
      "  [ 87  88]]\n",
      "\n",
      " [[ 89  90]\n",
      "  [ 91  92]]\n",
      "\n",
      " [[ 93  94]\n",
      "  [ 95  96]]\n",
      "\n",
      " [[ 97  98]\n",
      "  [ 99 100]]]\n"
     ]
    }
   ],
   "source": [
    "mat3 = mat1.reshape(25,2,2)\n",
    "print(mat3)"
   ]
  },
  {
   "cell_type": "markdown",
   "metadata": {
    "id": "C_liMn9X4nQL"
   },
   "source": [
    "NumPy has its checks on reshaping, so that you do not lose information.\n",
    "\n",
    "In the following, $10\\times 2\\times 2\\neq 100$, so you hit an error."
   ]
  },
  {
   "cell_type": "code",
   "execution_count": 57,
   "metadata": {
    "colab": {
     "base_uri": "https://localhost:8080/",
     "height": 204
    },
    "executionInfo": {
     "elapsed": 315,
     "status": "error",
     "timestamp": 1637657420284,
     "user": {
      "displayName": "Francesco Pannarale",
      "photoUrl": "https://lh3.googleusercontent.com/a/default-user=s64",
      "userId": "04296007763837408065"
     },
     "user_tz": -60
    },
    "id": "o-2vtzWc4nQL",
    "outputId": "201e78e5-4e93-4047-fa0e-88c94ecc33f6"
   },
   "outputs": [
    {
     "ename": "ValueError",
     "evalue": "cannot reshape array of size 100 into shape (10,2,2)",
     "output_type": "error",
     "traceback": [
      "\u001b[0;31m---------------------------------------------------------------------------\u001b[0m",
      "\u001b[0;31mValueError\u001b[0m                                Traceback (most recent call last)",
      "Cell \u001b[0;32mIn [57], line 1\u001b[0m\n\u001b[0;32m----> 1\u001b[0m mat4 \u001b[38;5;241m=\u001b[39m \u001b[43mmat1\u001b[49m\u001b[38;5;241;43m.\u001b[39;49m\u001b[43mreshape\u001b[49m\u001b[43m(\u001b[49m\u001b[38;5;241;43m10\u001b[39;49m\u001b[43m,\u001b[49m\u001b[38;5;241;43m2\u001b[39;49m\u001b[43m,\u001b[49m\u001b[38;5;241;43m2\u001b[39;49m\u001b[43m)\u001b[49m\n\u001b[1;32m      2\u001b[0m \u001b[38;5;28mprint\u001b[39m(mat4)\n",
      "\u001b[0;31mValueError\u001b[0m: cannot reshape array of size 100 into shape (10,2,2)"
     ]
    }
   ],
   "source": [
    "mat4 = mat1.reshape(10,2,2)\n",
    "print(mat4)"
   ]
  },
  {
   "cell_type": "markdown",
   "metadata": {
    "id": "a3_Yx5Rb4nQL"
   },
   "source": [
    "__Note that the original data array has not been modified__"
   ]
  },
  {
   "cell_type": "code",
   "execution_count": 58,
   "metadata": {
    "colab": {
     "base_uri": "https://localhost:8080/"
    },
    "executionInfo": {
     "elapsed": 306,
     "status": "ok",
     "timestamp": 1637657447275,
     "user": {
      "displayName": "Francesco Pannarale",
      "photoUrl": "https://lh3.googleusercontent.com/a/default-user=s64",
      "userId": "04296007763837408065"
     },
     "user_tz": -60
    },
    "id": "rKG2b4K44nQL",
    "outputId": "bad07260-2678-45f4-a83c-e3036692e80e",
    "scrolled": true
   },
   "outputs": [
    {
     "data": {
      "text/plain": [
       "array([  1,   2,   3,   4,   5,   6,   7,   8,   9,  10,  11,  12,  13,\n",
       "        14,  15,  16,  17,  18,  19,  20,  21,  22,  23,  24,  25,  26,\n",
       "        27,  28,  29,  30,  31,  32,  33,  34,  35,  36,  37,  38,  39,\n",
       "        40,  41,  42,  43,  44,  45,  46,  47,  48,  49,  50,  51,  52,\n",
       "        53,  54,  55,  56,  57,  58,  59,  60,  61,  62,  63,  64,  65,\n",
       "        66,  67,  68,  69,  70,  71,  72,  73,  74,  75,  76,  77,  78,\n",
       "        79,  80,  81,  82,  83,  84,  85,  86,  87,  88,  89,  90,  91,\n",
       "        92,  93,  94,  95,  96,  97,  98,  99, 100])"
      ]
     },
     "execution_count": 58,
     "metadata": {},
     "output_type": "execute_result"
    }
   ],
   "source": [
    "data"
   ]
  },
  {
   "cell_type": "markdown",
   "metadata": {
    "id": "mYF-oFR34nQL"
   },
   "source": [
    "If we want to modify the original array, we need to run `data = data.reshape(25,4)`"
   ]
  },
  {
   "cell_type": "markdown",
   "metadata": {
    "id": "lGpnf5L64nQL"
   },
   "source": [
    "### Creating an array with the same shape of an existing array\n",
    "\n",
    "`empty_like` will give you uninitialized (arbitrary) array elements"
   ]
  },
  {
   "cell_type": "code",
   "execution_count": 62,
   "metadata": {
    "colab": {
     "base_uri": "https://localhost:8080/"
    },
    "executionInfo": {
     "elapsed": 345,
     "status": "ok",
     "timestamp": 1637657489706,
     "user": {
      "displayName": "Francesco Pannarale",
      "photoUrl": "https://lh3.googleusercontent.com/a/default-user=s64",
      "userId": "04296007763837408065"
     },
     "user_tz": -60
    },
    "id": "LJX6JlYd4nQM",
    "outputId": "fc52ea9c-48fd-4bec-bacc-f3698bddc533"
   },
   "outputs": [
    {
     "name": "stdout",
     "output_type": "stream",
     "text": [
      "[[4607182418800017408 4611686018427387904 4613937818241073152\n",
      "  4616189618054758400 4617315517961601024 4618441417868443648\n",
      "  4619567317775286272 4620693217682128896 4621256167635550208\n",
      "  4621819117588971520]\n",
      " [4622382067542392832 4622945017495814144 4623507967449235456\n",
      "  4624070917402656768 4624633867356078080 4625196817309499392\n",
      "  4625478292286210048 4625759767262920704 4626041242239631360\n",
      "  4626322717216342016]\n",
      " [4626604192193052672 4626885667169763328 4627167142146473984\n",
      "  4627448617123184640 4627730092099895296 4628011567076605952\n",
      "  4628293042053316608 4628574517030027264 4628855992006737920\n",
      "  4629137466983448576]\n",
      " [4629418941960159232 4629700416936869888 4629841154425225216\n",
      "  4629981891913580544 4630122629401935872 4630263366890291200\n",
      "  4630404104378646528 4630544841867001856 4630685579355357184\n",
      "  4630826316843712512]\n",
      " [4630967054332067840 4631107791820423168 4631248529308778496\n",
      "  4631389266797133824 4631530004285489152 4631670741773844480\n",
      "  4631811479262199808 4631952216750555136 4632092954238910464\n",
      "  4632233691727265792]\n",
      " [4632374429215621120 4632515166703976448 4632655904192331776\n",
      "  4632796641680687104 4632937379169042432 4633078116657397760\n",
      "  4633218854145753088 4633359591634108416 4633500329122463744\n",
      "  4633641066610819072]\n",
      " [4633781804099174400 4633922541587529728 4634063279075885056\n",
      "  4634204016564240384 4634274385308418048 4634344754052595712\n",
      "  4634415122796773376 4634485491540951040 4634555860285128704\n",
      "  4634626229029306368]\n",
      " [4634696597773484032 4634766966517661696 4634837335261839360\n",
      "  4634907704006017024 4634978072750194688 4635048441494372352\n",
      "  4635118810238550016 4635189178982727680 4635259547726905344\n",
      "  4635329916471083008]\n",
      " [4635400285215260672 4635470653959438336 4635541022703616000\n",
      "  4635611391447793664 4635681760191971328 4635752128936148992\n",
      "  4635822497680326656 4635892866424504320 4635963235168681984\n",
      "  4636033603912859648]\n",
      " [4636103972657037312 4636174341401214976 4636244710145392640\n",
      "  4636315078889570304 4636385447633747968 4636455816377925632\n",
      "  4636526185122103296 4636596553866280960 4636666922610458624\n",
      "  4636737291354636288]]\n"
     ]
    }
   ],
   "source": [
    "y = np.empty_like(mat2)\n",
    "print(y)"
   ]
  },
  {
   "cell_type": "markdown",
   "metadata": {
    "id": "GYnrjcqP4nQM"
   },
   "source": [
    "`ones_like` will give you array elements equal to 1"
   ]
  },
  {
   "cell_type": "code",
   "execution_count": 63,
   "metadata": {
    "colab": {
     "base_uri": "https://localhost:8080/"
    },
    "executionInfo": {
     "elapsed": 317,
     "status": "ok",
     "timestamp": 1637657496857,
     "user": {
      "displayName": "Francesco Pannarale",
      "photoUrl": "https://lh3.googleusercontent.com/a/default-user=s64",
      "userId": "04296007763837408065"
     },
     "user_tz": -60
    },
    "id": "OHfQFrXi4nQM",
    "outputId": "13adce17-4669-444f-b3ad-fd3bf1c72d57",
    "scrolled": false
   },
   "outputs": [
    {
     "name": "stdout",
     "output_type": "stream",
     "text": [
      "[[1 1 1 1 1 1 1 1 1 1]\n",
      " [1 1 1 1 1 1 1 1 1 1]\n",
      " [1 1 1 1 1 1 1 1 1 1]\n",
      " [1 1 1 1 1 1 1 1 1 1]\n",
      " [1 1 1 1 1 1 1 1 1 1]\n",
      " [1 1 1 1 1 1 1 1 1 1]\n",
      " [1 1 1 1 1 1 1 1 1 1]\n",
      " [1 1 1 1 1 1 1 1 1 1]\n",
      " [1 1 1 1 1 1 1 1 1 1]\n",
      " [1 1 1 1 1 1 1 1 1 1]]\n"
     ]
    }
   ],
   "source": [
    "data2 = np.ones_like(mat2)\n",
    "print(data2)"
   ]
  },
  {
   "cell_type": "markdown",
   "metadata": {
    "id": "RQNATMDJ4nQM"
   },
   "source": [
    "`zeros_like` will give you array elements equal to 0"
   ]
  },
  {
   "cell_type": "code",
   "execution_count": 64,
   "metadata": {
    "colab": {
     "base_uri": "https://localhost:8080/"
    },
    "executionInfo": {
     "elapsed": 310,
     "status": "ok",
     "timestamp": 1637657501319,
     "user": {
      "displayName": "Francesco Pannarale",
      "photoUrl": "https://lh3.googleusercontent.com/a/default-user=s64",
      "userId": "04296007763837408065"
     },
     "user_tz": -60
    },
    "id": "woI5m-GC4nQM",
    "outputId": "89d1e245-1c9e-4f5c-aa04-c8743633caa5",
    "scrolled": true
   },
   "outputs": [
    {
     "data": {
      "text/plain": [
       "array([[0, 0, 0, 0, 0, 0, 0, 0, 0, 0],\n",
       "       [0, 0, 0, 0, 0, 0, 0, 0, 0, 0],\n",
       "       [0, 0, 0, 0, 0, 0, 0, 0, 0, 0],\n",
       "       [0, 0, 0, 0, 0, 0, 0, 0, 0, 0],\n",
       "       [0, 0, 0, 0, 0, 0, 0, 0, 0, 0],\n",
       "       [0, 0, 0, 0, 0, 0, 0, 0, 0, 0],\n",
       "       [0, 0, 0, 0, 0, 0, 0, 0, 0, 0],\n",
       "       [0, 0, 0, 0, 0, 0, 0, 0, 0, 0],\n",
       "       [0, 0, 0, 0, 0, 0, 0, 0, 0, 0],\n",
       "       [0, 0, 0, 0, 0, 0, 0, 0, 0, 0]])"
      ]
     },
     "execution_count": 64,
     "metadata": {},
     "output_type": "execute_result"
    }
   ],
   "source": [
    "np.zeros_like(mat2)"
   ]
  },
  {
   "cell_type": "markdown",
   "metadata": {
    "id": "zcR3itDk4nQM"
   },
   "source": [
    "`full_like` will preserve the shape of the first argument, and give you element identical to the second argument."
   ]
  },
  {
   "cell_type": "code",
   "execution_count": 66,
   "metadata": {
    "colab": {
     "base_uri": "https://localhost:8080/"
    },
    "executionInfo": {
     "elapsed": 338,
     "status": "ok",
     "timestamp": 1637657574318,
     "user": {
      "displayName": "Francesco Pannarale",
      "photoUrl": "https://lh3.googleusercontent.com/a/default-user=s64",
      "userId": "04296007763837408065"
     },
     "user_tz": -60
    },
    "id": "WmkKXh374nQM",
    "outputId": "70e104b1-aead-49a7-951b-701ec27e7542",
    "scrolled": true
   },
   "outputs": [
    {
     "data": {
      "text/plain": [
       "array([[-4.5, -4.5, -4.5, -4.5, -4.5, -4.5, -4.5, -4.5, -4.5, -4.5],\n",
       "       [-4.5, -4.5, -4.5, -4.5, -4.5, -4.5, -4.5, -4.5, -4.5, -4.5],\n",
       "       [-4.5, -4.5, -4.5, -4.5, -4.5, -4.5, -4.5, -4.5, -4.5, -4.5],\n",
       "       [-4.5, -4.5, -4.5, -4.5, -4.5, -4.5, -4.5, -4.5, -4.5, -4.5],\n",
       "       [-4.5, -4.5, -4.5, -4.5, -4.5, -4.5, -4.5, -4.5, -4.5, -4.5],\n",
       "       [-4.5, -4.5, -4.5, -4.5, -4.5, -4.5, -4.5, -4.5, -4.5, -4.5],\n",
       "       [-4.5, -4.5, -4.5, -4.5, -4.5, -4.5, -4.5, -4.5, -4.5, -4.5],\n",
       "       [-4.5, -4.5, -4.5, -4.5, -4.5, -4.5, -4.5, -4.5, -4.5, -4.5],\n",
       "       [-4.5, -4.5, -4.5, -4.5, -4.5, -4.5, -4.5, -4.5, -4.5, -4.5],\n",
       "       [-4.5, -4.5, -4.5, -4.5, -4.5, -4.5, -4.5, -4.5, -4.5, -4.5]])"
      ]
     },
     "execution_count": 66,
     "metadata": {},
     "output_type": "execute_result"
    }
   ],
   "source": [
    "np.full_like(mat2, -4.5, dtype=float)"
   ]
  },
  {
   "cell_type": "markdown",
   "metadata": {
    "id": "asLC_DED4nQN"
   },
   "source": [
    "Notice the importance of `dtype`!  The default is `int64` because it is the data type in `mat2`."
   ]
  },
  {
   "cell_type": "code",
   "execution_count": 76,
   "metadata": {
    "id": "YxtJ0MwB4nQN",
    "outputId": "39ad4d86-d7f9-4b4a-dacb-4734bfc49990"
   },
   "outputs": [
    {
     "data": {
      "text/plain": [
       "array([[-4, -4, -4, -4, -4, -4, -4, -4, -4, -4],\n",
       "       [-4, -4, -4, -4, -4, -4, -4, -4, -4, -4],\n",
       "       [-4, -4, -4, -4, -4, -4, -4, -4, -4, -4],\n",
       "       [-4, -4, -4, -4, -4, -4, -4, -4, -4, -4],\n",
       "       [-4, -4, -4, -4, -4, -4, -4, -4, -4, -4],\n",
       "       [-4, -4, -4, -4, -4, -4, -4, -4, -4, -4],\n",
       "       [-4, -4, -4, -4, -4, -4, -4, -4, -4, -4],\n",
       "       [-4, -4, -4, -4, -4, -4, -4, -4, -4, -4],\n",
       "       [-4, -4, -4, -4, -4, -4, -4, -4, -4, -4],\n",
       "       [-4, -4, -4, -4, -4, -4, -4, -4, -4, -4]])"
      ]
     },
     "execution_count": 76,
     "metadata": {},
     "output_type": "execute_result"
    }
   ],
   "source": [
    "np.full_like(mat2, -4.5)"
   ]
  },
  {
   "cell_type": "code",
   "execution_count": 79,
   "metadata": {
    "colab": {
     "base_uri": "https://localhost:8080/"
    },
    "executionInfo": {
     "elapsed": 303,
     "status": "ok",
     "timestamp": 1637657645338,
     "user": {
      "displayName": "Francesco Pannarale",
      "photoUrl": "https://lh3.googleusercontent.com/a/default-user=s64",
      "userId": "04296007763837408065"
     },
     "user_tz": -60
    },
    "id": "ExASxmNd4nQN",
    "outputId": "93d02be7-7db9-4bc4-faec-982b6defaf5a"
   },
   "outputs": [
    {
     "data": {
      "text/plain": [
       "array([['F', 'F', 'F', 'F', 'F', 'F', 'F', 'F', 'F', 'F'],\n",
       "       ['F', 'F', 'F', 'F', 'F', 'F', 'F', 'F', 'F', 'F'],\n",
       "       ['F', 'F', 'F', 'F', 'F', 'F', 'F', 'F', 'F', 'F'],\n",
       "       ['F', 'F', 'F', 'F', 'F', 'F', 'F', 'F', 'F', 'F'],\n",
       "       ['F', 'F', 'F', 'F', 'F', 'F', 'F', 'F', 'F', 'F'],\n",
       "       ['F', 'F', 'F', 'F', 'F', 'F', 'F', 'F', 'F', 'F'],\n",
       "       ['F', 'F', 'F', 'F', 'F', 'F', 'F', 'F', 'F', 'F'],\n",
       "       ['F', 'F', 'F', 'F', 'F', 'F', 'F', 'F', 'F', 'F'],\n",
       "       ['F', 'F', 'F', 'F', 'F', 'F', 'F', 'F', 'F', 'F'],\n",
       "       ['F', 'F', 'F', 'F', 'F', 'F', 'F', 'F', 'F', 'F']], dtype='<U1')"
      ]
     },
     "execution_count": 79,
     "metadata": {},
     "output_type": "execute_result"
    }
   ],
   "source": [
    "np.full_like(mat2, 'F', dtype=str) # Will fail without the dtype!"
   ]
  },
  {
   "cell_type": "markdown",
   "metadata": {
    "id": "FG4DvM7K4nQN"
   },
   "source": [
    "You can also use the NumPy types, naturally."
   ]
  },
  {
   "cell_type": "code",
   "execution_count": 80,
   "metadata": {
    "id": "tHKyV2nx4nQN",
    "outputId": "6cc9f46d-c390-4aa7-c95c-e15331ab33d5",
    "scrolled": false
   },
   "outputs": [
    {
     "data": {
      "text/plain": [
       "array([-4.5, -4.5, -4.5, -4.5, -4.5, -4.5, -4.5, -4.5, -4.5, -4.5, -4.5,\n",
       "       -4.5, -4.5, -4.5, -4.5, -4.5, -4.5, -4.5, -4.5, -4.5, -4.5, -4.5,\n",
       "       -4.5, -4.5, -4.5, -4.5, -4.5, -4.5, -4.5, -4.5, -4.5, -4.5, -4.5,\n",
       "       -4.5, -4.5, -4.5, -4.5, -4.5, -4.5, -4.5, -4.5, -4.5, -4.5, -4.5,\n",
       "       -4.5, -4.5, -4.5, -4.5, -4.5, -4.5, -4.5, -4.5, -4.5, -4.5, -4.5,\n",
       "       -4.5, -4.5, -4.5, -4.5, -4.5, -4.5, -4.5, -4.5, -4.5, -4.5, -4.5,\n",
       "       -4.5, -4.5, -4.5, -4.5, -4.5, -4.5, -4.5, -4.5, -4.5, -4.5, -4.5,\n",
       "       -4.5, -4.5, -4.5, -4.5, -4.5, -4.5, -4.5, -4.5, -4.5, -4.5, -4.5,\n",
       "       -4.5, -4.5, -4.5, -4.5, -4.5, -4.5, -4.5, -4.5, -4.5, -4.5, -4.5,\n",
       "       -4.5])"
      ]
     },
     "execution_count": 80,
     "metadata": {},
     "output_type": "execute_result"
    }
   ],
   "source": [
    "np.full_like(data, fill_value=-4.5,dtype=np.float64)"
   ]
  },
  {
   "cell_type": "markdown",
   "metadata": {
    "id": "VxqHwo774nQN"
   },
   "source": [
    "## 5. Indexing and slicing\n",
    "\n",
    "The indexing starts with 0, as usual."
   ]
  },
  {
   "cell_type": "code",
   "execution_count": 4,
   "metadata": {
    "colab": {
     "base_uri": "https://localhost:8080/"
    },
    "executionInfo": {
     "elapsed": 307,
     "status": "ok",
     "timestamp": 1637657701506,
     "user": {
      "displayName": "Francesco Pannarale",
      "photoUrl": "https://lh3.googleusercontent.com/a/default-user=s64",
      "userId": "04296007763837408065"
     },
     "user_tz": -60
    },
    "id": "g5F0k13H4nQN",
    "outputId": "fe80f83b-140a-4d64-fd56-841aad319bd4",
    "scrolled": true
   },
   "outputs": [
    {
     "name": "stdout",
     "output_type": "stream",
     "text": [
      "[[ 0  1  2  3  4]\n",
      " [ 5  6  7  8  9]\n",
      " [10 11 12 13 14]\n",
      " [15 16 17 18 19]]\n",
      "[[0, 1, 2, 3, 4], [5, 6, 7, 8, 9], [10, 11, 12, 13, 14], [15, 16, 17, 18, 19]]\n"
     ]
    }
   ],
   "source": [
    "data = np.arange(20).reshape(4,5)\n",
    "data_l = [[ 0,  1,  2,  3,  4],\n",
    "          [ 5,  6,  7,  8,  9],\n",
    "          [10, 11, 12, 13, 14],\n",
    "          [15, 16, 17, 18, 19]]\n",
    "print(data)\n",
    "print(data_l)"
   ]
  },
  {
   "cell_type": "code",
   "execution_count": 5,
   "metadata": {
    "id": "JMDrmc2c4nQN",
    "outputId": "8df841f7-ece7-430c-e212-dec24ef7e0ed"
   },
   "outputs": [
    {
     "name": "stdout",
     "output_type": "stream",
     "text": [
      "[[12]]\n",
      "(1, 1)\n"
     ]
    }
   ],
   "source": [
    "print(data[2:3,2:3])\n",
    "print(data[2:3,2:3].shape)"
   ]
  },
  {
   "cell_type": "markdown",
   "metadata": {
    "id": "b8zA35bY4nQO"
   },
   "source": [
    "Note that getting the same with a list requires a more elaborate (and less intuitive) syntax"
   ]
  },
  {
   "cell_type": "code",
   "execution_count": 6,
   "metadata": {
    "id": "xZMiYXgR4nQO",
    "outputId": "3c87151a-df9e-4ddc-cfc5-c5811638c054"
   },
   "outputs": [
    {
     "name": "stdout",
     "output_type": "stream",
     "text": [
      "[[12]]\n"
     ]
    }
   ],
   "source": [
    "print([data_l[2:3][0][2:3]])"
   ]
  },
  {
   "cell_type": "code",
   "execution_count": 7,
   "metadata": {
    "id": "TJP0tIHU4nQO",
    "outputId": "db12c883-18ee-47fe-8d2a-ae565984371b",
    "scrolled": true
   },
   "outputs": [
    {
     "name": "stdout",
     "output_type": "stream",
     "text": [
      "[[12 13]\n",
      " [17 18]]\n",
      "(2, 2)\n"
     ]
    }
   ],
   "source": [
    "print(data[2:4,2:4])\n",
    "print(data[2:4,2:4].shape)"
   ]
  },
  {
   "cell_type": "markdown",
   "metadata": {
    "id": "Tryf6GH84nQO"
   },
   "source": [
    "### Extracting columns"
   ]
  },
  {
   "cell_type": "code",
   "execution_count": 8,
   "metadata": {
    "colab": {
     "base_uri": "https://localhost:8080/"
    },
    "executionInfo": {
     "elapsed": 325,
     "status": "ok",
     "timestamp": 1637657839289,
     "user": {
      "displayName": "Francesco Pannarale",
      "photoUrl": "https://lh3.googleusercontent.com/a/default-user=s64",
      "userId": "04296007763837408065"
     },
     "user_tz": -60
    },
    "id": "X0tcH5taA3hb",
    "outputId": "fadadb75-b87a-4bbe-9cfe-d467bed7b4db"
   },
   "outputs": [
    {
     "name": "stdout",
     "output_type": "stream",
     "text": [
      "[[ 0  1  2  3  4]\n",
      " [ 5  6  7  8  9]\n",
      " [10 11 12 13 14]\n",
      " [15 16 17 18 19]]\n"
     ]
    }
   ],
   "source": [
    "print(data)"
   ]
  },
  {
   "cell_type": "code",
   "execution_count": 9,
   "metadata": {
    "colab": {
     "base_uri": "https://localhost:8080/"
    },
    "executionInfo": {
     "elapsed": 3,
     "status": "ok",
     "timestamp": 1637657839701,
     "user": {
      "displayName": "Francesco Pannarale",
      "photoUrl": "https://lh3.googleusercontent.com/a/default-user=s64",
      "userId": "04296007763837408065"
     },
     "user_tz": -60
    },
    "id": "vUtCIcVf4nQO",
    "outputId": "ada4007d-f470-4cef-a96f-2de65ccd191c"
   },
   "outputs": [
    {
     "data": {
      "text/plain": [
       "array([ 3,  8, 13, 18])"
      ]
     },
     "execution_count": 9,
     "metadata": {},
     "output_type": "execute_result"
    }
   ],
   "source": [
    "data[:,3] # Fetch the element with index 3 for all values of the 1st index"
   ]
  },
  {
   "cell_type": "code",
   "execution_count": 10,
   "metadata": {
    "id": "nBnTDFoA4nQO",
    "outputId": "b343b077-a7d1-484d-ddc5-f429bc68cbdc"
   },
   "outputs": [
    {
     "data": {
      "text/plain": [
       "array([[ 5,  6,  7,  8,  9],\n",
       "       [10, 11, 12, 13, 14],\n",
       "       [15, 16, 17, 18, 19]])"
      ]
     },
     "execution_count": 10,
     "metadata": {},
     "output_type": "execute_result"
    }
   ],
   "source": [
    "data[1:,:] # Fetch all entries for values of the 1st index from 1 onwards"
   ]
  },
  {
   "cell_type": "markdown",
   "metadata": {
    "id": "NJc6heaL4nQO"
   },
   "source": [
    "Slicing for a specific index that is out of bounds will cause an error.\n",
    "\n",
    "However slicing using `:` out of bound indices will not: NumPy will return as many entries as it can."
   ]
  },
  {
   "cell_type": "code",
   "execution_count": 11,
   "metadata": {
    "colab": {
     "base_uri": "https://localhost:8080/",
     "height": 187
    },
    "executionInfo": {
     "elapsed": 314,
     "status": "error",
     "timestamp": 1637657931543,
     "user": {
      "displayName": "Francesco Pannarale",
      "photoUrl": "https://lh3.googleusercontent.com/a/default-user=s64",
      "userId": "04296007763837408065"
     },
     "user_tz": -60
    },
    "id": "gVnqr4jT4nQO",
    "outputId": "789f8b1b-157c-4c64-dcf0-64f609ed757e",
    "scrolled": true
   },
   "outputs": [
    {
     "ename": "IndexError",
     "evalue": "index 20 is out of bounds for axis 0 with size 4",
     "output_type": "error",
     "traceback": [
      "\u001b[0;31m---------------------------------------------------------------------------\u001b[0m",
      "\u001b[0;31mIndexError\u001b[0m                                Traceback (most recent call last)",
      "Cell \u001b[0;32mIn [11], line 1\u001b[0m\n\u001b[0;32m----> 1\u001b[0m \u001b[43mdata\u001b[49m\u001b[43m[\u001b[49m\u001b[38;5;241;43m20\u001b[39;49m\u001b[43m]\u001b[49m\n",
      "\u001b[0;31mIndexError\u001b[0m: index 20 is out of bounds for axis 0 with size 4"
     ]
    }
   ],
   "source": [
    "data[20]"
   ]
  },
  {
   "cell_type": "code",
   "execution_count": 12,
   "metadata": {
    "colab": {
     "base_uri": "https://localhost:8080/"
    },
    "executionInfo": {
     "elapsed": 321,
     "status": "ok",
     "timestamp": 1637657940851,
     "user": {
      "displayName": "Francesco Pannarale",
      "photoUrl": "https://lh3.googleusercontent.com/a/default-user=s64",
      "userId": "04296007763837408065"
     },
     "user_tz": -60
    },
    "id": "FtvWJ6Wz4nQO",
    "outputId": "2d64b595-eeb2-4a11-f215-d06a83c4ea37"
   },
   "outputs": [
    {
     "data": {
      "text/plain": [
       "array([], shape=(0, 5), dtype=int64)"
      ]
     },
     "execution_count": 12,
     "metadata": {},
     "output_type": "execute_result"
    }
   ],
   "source": [
    "data[20:]"
   ]
  },
  {
   "cell_type": "code",
   "execution_count": 55,
   "metadata": {
    "colab": {
     "base_uri": "https://localhost:8080/"
    },
    "executionInfo": {
     "elapsed": 300,
     "status": "ok",
     "timestamp": 1637657956370,
     "user": {
      "displayName": "Francesco Pannarale",
      "photoUrl": "https://lh3.googleusercontent.com/a/default-user=s64",
      "userId": "04296007763837408065"
     },
     "user_tz": -60
    },
    "id": "huXdr7qH4nQO",
    "outputId": "6b7a2ef0-c6aa-4195-8a88-96d834cea8b6"
   },
   "outputs": [
    {
     "name": "stdout",
     "output_type": "stream",
     "text": [
      "[[ 0  1  2  3  4]\n",
      " [ 5  6  7  8  9]\n",
      " [10 11 12 13 14]\n",
      " [15 16 17 18 19]]\n"
     ]
    },
    {
     "data": {
      "text/plain": [
       "array([[ 0,  1,  2,  3,  4],\n",
       "       [ 5,  6,  7,  8,  9],\n",
       "       [10, 11, 12, 13, 14],\n",
       "       [15, 16, 17, 18, 19]])"
      ]
     },
     "execution_count": 55,
     "metadata": {},
     "output_type": "execute_result"
    }
   ],
   "source": [
    "print(data)\n",
    "data[:20]"
   ]
  },
  {
   "cell_type": "code",
   "execution_count": 56,
   "metadata": {
    "colab": {
     "base_uri": "https://localhost:8080/"
    },
    "executionInfo": {
     "elapsed": 316,
     "status": "ok",
     "timestamp": 1637657986727,
     "user": {
      "displayName": "Francesco Pannarale",
      "photoUrl": "https://lh3.googleusercontent.com/a/default-user=s64",
      "userId": "04296007763837408065"
     },
     "user_tz": -60
    },
    "id": "P36Q1_NV4nQO",
    "outputId": "fb55de3b-4430-4441-82c5-a16d8eec4cec"
   },
   "outputs": [
    {
     "data": {
      "text/plain": [
       "array([], shape=(0, 5), dtype=int64)"
      ]
     },
     "execution_count": 56,
     "metadata": {},
     "output_type": "execute_result"
    }
   ],
   "source": [
    "data[20:20]"
   ]
  },
  {
   "cell_type": "code",
   "execution_count": 58,
   "metadata": {
    "colab": {
     "base_uri": "https://localhost:8080/"
    },
    "executionInfo": {
     "elapsed": 371,
     "status": "ok",
     "timestamp": 1637657990876,
     "user": {
      "displayName": "Francesco Pannarale",
      "photoUrl": "https://lh3.googleusercontent.com/a/default-user=s64",
      "userId": "04296007763837408065"
     },
     "user_tz": -60
    },
    "id": "2apPvGxy4nQP",
    "outputId": "50bba3cd-1867-4359-c3b3-1c60379219e2"
   },
   "outputs": [
    {
     "data": {
      "text/plain": [
       "array([[3, 4],\n",
       "       [8, 9]])"
      ]
     },
     "execution_count": 58,
     "metadata": {},
     "output_type": "execute_result"
    }
   ],
   "source": [
    "data[:2,3:]"
   ]
  },
  {
   "cell_type": "code",
   "execution_count": 93,
   "metadata": {
    "colab": {
     "base_uri": "https://localhost:8080/"
    },
    "executionInfo": {
     "elapsed": 356,
     "status": "ok",
     "timestamp": 1637658018037,
     "user": {
      "displayName": "Francesco Pannarale",
      "photoUrl": "https://lh3.googleusercontent.com/a/default-user=s64",
      "userId": "04296007763837408065"
     },
     "user_tz": -60
    },
    "id": "agwfK5zh4nQP",
    "outputId": "179db11b-9062-48ef-eadf-64a9e9598df6"
   },
   "outputs": [
    {
     "data": {
      "text/plain": [
       "array([[3, 4],\n",
       "       [8, 9]])"
      ]
     },
     "execution_count": 93,
     "metadata": {},
     "output_type": "execute_result"
    }
   ],
   "source": [
    "data[:2,3:70]"
   ]
  },
  {
   "cell_type": "markdown",
   "metadata": {
    "id": "Wk3CurnW4nQP"
   },
   "source": [
    "**As with the lists, all operations return a reference to the original array, unless you make a copy**.\n",
    "\n",
    "In the example below, `y` is a newly defined numpy array."
   ]
  },
  {
   "cell_type": "code",
   "execution_count": 59,
   "metadata": {
    "id": "XmP15GeU4nQP",
    "outputId": "fd3e1c94-bde3-4183-8100-55add8f34d3c"
   },
   "outputs": [
    {
     "name": "stdout",
     "output_type": "stream",
     "text": [
      "[[1 2]\n",
      " [6 7]]\n",
      "[[1 2]\n",
      " [6 7]]\n"
     ]
    }
   ],
   "source": [
    "x = data[:2,1:3]\n",
    "y = np.array(data[:2,1:3])\n",
    "print(x)\n",
    "print(y)"
   ]
  },
  {
   "cell_type": "code",
   "execution_count": 60,
   "metadata": {
    "id": "OD-HcPRd4nQP",
    "outputId": "f0ae8577-4c85-4f6a-c69a-a0943a7c50e7"
   },
   "outputs": [
    {
     "data": {
      "text/plain": [
       "array([1, 2])"
      ]
     },
     "execution_count": 60,
     "metadata": {},
     "output_type": "execute_result"
    }
   ],
   "source": [
    "x[0]"
   ]
  },
  {
   "cell_type": "code",
   "execution_count": 61,
   "metadata": {
    "id": "K4idj69J4nQP",
    "outputId": "48704766-5331-4705-8f56-ecbd1fe8e47d"
   },
   "outputs": [
    {
     "data": {
      "text/plain": [
       "2"
      ]
     },
     "execution_count": 61,
     "metadata": {},
     "output_type": "execute_result"
    }
   ],
   "source": [
    "x[0][1]"
   ]
  },
  {
   "cell_type": "code",
   "execution_count": 97,
   "metadata": {
    "id": "u_hsQgXN4nQP",
    "outputId": "4fd04602-45ae-4920-9eb1-9c5e6b327055"
   },
   "outputs": [
    {
     "name": "stdout",
     "output_type": "stream",
     "text": [
      "[[ 1 -5]\n",
      " [ 6  7]]\n",
      "[[  1 500]\n",
      " [  6   7]]\n",
      "[[ 0  1 -5  3  4]\n",
      " [ 5  6  7  8  9]\n",
      " [10 11 12 13 14]\n",
      " [15 16 17 18 19]]\n"
     ]
    }
   ],
   "source": [
    "x[0][1] = -5.55\n",
    "y[0][1] = 500\n",
    "print(x)\n",
    "print(y)\n",
    "print(data)"
   ]
  },
  {
   "cell_type": "markdown",
   "metadata": {
    "id": "FFrguzEt4nQQ"
   },
   "source": [
    "We have modified not just `x`, but also the original data array!  The same is not true for `y`.\n",
    "\n",
    "The key difference is that in the `y` case we created a new copy of `data` by calling the constructor `numpy.array`."
   ]
  },
  {
   "cell_type": "markdown",
   "metadata": {
    "id": "dF13WBD34nQQ"
   },
   "source": [
    "## 6. Converting and casting\n",
    "When using `arange()` the array's type is integer."
   ]
  },
  {
   "cell_type": "code",
   "execution_count": 62,
   "metadata": {
    "id": "m2htaEVX4nQQ",
    "outputId": "7c58cf9f-56d1-463b-9edb-425523a62b8a"
   },
   "outputs": [
    {
     "data": {
      "text/plain": [
       "array([[ 0,  1,  2,  3,  4,  5,  6],\n",
       "       [ 7,  8,  9, 10, 11, 12, 13],\n",
       "       [14, 15, 16, 17, 18, 19, 20],\n",
       "       [21, 22, 23, 24, 25, 26, 27],\n",
       "       [28, 29, 30, 31, 32, 33, 34],\n",
       "       [35, 36, 37, 38, 39, 40, 41]])"
      ]
     },
     "execution_count": 62,
     "metadata": {},
     "output_type": "execute_result"
    }
   ],
   "source": [
    "data = np.arange(42).reshape(6,7)\n",
    "data"
   ]
  },
  {
   "cell_type": "code",
   "execution_count": 63,
   "metadata": {
    "id": "2wUhFbL_4nQQ",
    "outputId": "b83fb246-04a2-4e74-e168-8baee9f2bb71"
   },
   "outputs": [
    {
     "name": "stdout",
     "output_type": "stream",
     "text": [
      "[14 15 16 17 18 19 20]\n"
     ]
    }
   ],
   "source": [
    "print(data[2])"
   ]
  },
  {
   "cell_type": "markdown",
   "metadata": {
    "id": "EdKHsPlj4nQQ"
   },
   "source": [
    "Sometimes you might want to change its type for floating point calculations"
   ]
  },
  {
   "cell_type": "code",
   "execution_count": 64,
   "metadata": {
    "id": "5h15_hbx4nQQ",
    "outputId": "2cc2fe89-d801-4248-abe0-5f1ca59f913d"
   },
   "outputs": [
    {
     "data": {
      "text/plain": [
       "array([[ 0,  1,  2, -3,  4,  5,  6],\n",
       "       [ 7,  8,  9, 10, 11, 12, 13],\n",
       "       [14, 15, 16, 17, 18, 19, 20],\n",
       "       [21, 22, 23, 24, 25, 26, 27],\n",
       "       [28, 29, 30, 31, 32, 33, 34],\n",
       "       [35, 36, 37, 38, 39, 40, 41]])"
      ]
     },
     "execution_count": 64,
     "metadata": {},
     "output_type": "execute_result"
    }
   ],
   "source": [
    "data[0][3] = -np.pi\n",
    "data"
   ]
  },
  {
   "cell_type": "code",
   "execution_count": 66,
   "metadata": {
    "id": "nCbZw0P24nQQ",
    "outputId": "6650074d-0565-453c-fe7d-7a6e8d8f5bf0"
   },
   "outputs": [
    {
     "name": "stdout",
     "output_type": "stream",
     "text": [
      "[[ 0.  1.  2. -3.  4.  5.  6.]\n",
      " [ 7.  8.  9. 10. 11. 12. 13.]\n",
      " [14. 15. 16. 17. 18. 19. 20.]\n",
      " [21. 22. 23. 24. 25. 26. 27.]\n",
      " [28. 29. 30. 31. 32. 33. 34.]\n",
      " [35. 36. 37. 38. 39. 40. 41.]]\n"
     ]
    }
   ],
   "source": [
    "data_float = data.astype(np.float64)\n",
    "print(data_float)"
   ]
  },
  {
   "cell_type": "code",
   "execution_count": 67,
   "metadata": {
    "id": "EeubtA9O4nQQ",
    "outputId": "2e7fa4f6-bc41-46ca-ce60-03e782a0428b"
   },
   "outputs": [
    {
     "name": "stdout",
     "output_type": "stream",
     "text": [
      "[[ 0.          1.          2.         -3.14159265  4.          5.\n",
      "   6.        ]\n",
      " [ 7.          8.          9.         10.         11.         12.\n",
      "  13.        ]\n",
      " [14.         15.         16.         17.         18.         19.\n",
      "  20.        ]\n",
      " [21.         22.         23.         24.         25.         26.\n",
      "  27.        ]\n",
      " [28.         29.         30.         31.         32.         33.\n",
      "  34.        ]\n",
      " [35.         36.         37.         38.         39.         40.\n",
      "  41.        ]]\n"
     ]
    }
   ],
   "source": [
    "data_float[0][3] = -np.pi\n",
    "print(data_float)"
   ]
  },
  {
   "cell_type": "markdown",
   "metadata": {
    "id": "MrRVSj_C4nQQ"
   },
   "source": [
    "Note that `astype()` returned a copy of the array and our original array `data` has not been modified"
   ]
  },
  {
   "cell_type": "code",
   "execution_count": 68,
   "metadata": {
    "id": "FnEH_qWr4nQQ",
    "outputId": "72aa9f60-4452-4cfd-ba94-d9ce19b6d508"
   },
   "outputs": [
    {
     "name": "stdout",
     "output_type": "stream",
     "text": [
      "[[ 0  1  2 -3  4  5  6]\n",
      " [ 7  8  9 10 11 12 13]\n",
      " [14 15 16 17 18 19 20]\n",
      " [21 22 23 24 25 26 27]\n",
      " [28 29 30 31 32 33 34]\n",
      " [35 36 37 38 39 40 41]]\n"
     ]
    }
   ],
   "source": [
    "print(data)"
   ]
  },
  {
   "cell_type": "markdown",
   "metadata": {
    "id": "8MW7Un4o4nQR"
   },
   "source": [
    "## 7. Boolean arrays\n",
    "As with all operations, also logical operations are vectorised."
   ]
  },
  {
   "cell_type": "code",
   "execution_count": 70,
   "metadata": {
    "colab": {
     "base_uri": "https://localhost:8080/"
    },
    "executionInfo": {
     "elapsed": 284,
     "status": "ok",
     "timestamp": 1637839187272,
     "user": {
      "displayName": "Francesco Pannarale",
      "photoUrl": "https://lh3.googleusercontent.com/a/default-user=s64",
      "userId": "04296007763837408065"
     },
     "user_tz": -60
    },
    "id": "dT1WooW24nQR",
    "outputId": "1cd630a6-74e0-4384-a488-b3727e862a54",
    "scrolled": true
   },
   "outputs": [
    {
     "name": "stdout",
     "output_type": "stream",
     "text": [
      "[[-0.07633186  0.67456715  0.18992894  1.13541115 -0.04864087]\n",
      " [-0.62959607 -0.03913954 -1.51843681  2.13957131  2.19249132]\n",
      " [ 0.53966875  0.67157293  0.75313607  1.52045294 -1.98271507]\n",
      " [ 0.70522376 -0.63651154  0.08557289  0.73057684  0.5581203 ]\n",
      " [ 0.54664766  0.47550211 -0.05944241 -1.07840245  0.75278602]]\n"
     ]
    }
   ],
   "source": [
    "import numpy as np\n",
    "data = np.random.normal(0, 1., 25).reshape(5,5) # Same as np.random.normal(0, 1., (5,5))\n",
    "\n",
    "print(data)"
   ]
  },
  {
   "cell_type": "markdown",
   "metadata": {
    "id": "wBKFOJI84nQR"
   },
   "source": [
    "### Check if the elements satisfy a condition"
   ]
  },
  {
   "cell_type": "code",
   "execution_count": 72,
   "metadata": {
    "colab": {
     "base_uri": "https://localhost:8080/"
    },
    "executionInfo": {
     "elapsed": 243,
     "status": "ok",
     "timestamp": 1637839280601,
     "user": {
      "displayName": "Francesco Pannarale",
      "photoUrl": "https://lh3.googleusercontent.com/a/default-user=s64",
      "userId": "04296007763837408065"
     },
     "user_tz": -60
    },
    "id": "UApFgzhZ4nQR",
    "outputId": "e617abb8-a1cc-4519-a3d4-17e2688bbd24",
    "scrolled": true
   },
   "outputs": [
    {
     "name": "stdout",
     "output_type": "stream",
     "text": [
      "[[False  True  True  True False]\n",
      " [False False False  True  True]\n",
      " [ True  True  True  True False]\n",
      " [ True False  True  True  True]\n",
      " [ True  True False False  True]]\n"
     ]
    }
   ],
   "source": [
    "res = data > 0\n",
    "print(res)"
   ]
  },
  {
   "cell_type": "markdown",
   "metadata": {
    "id": "H2Y9eZap4nQR"
   },
   "source": [
    "### Print only elements that pass a certaing condition"
   ]
  },
  {
   "cell_type": "markdown",
   "metadata": {
    "id": "XCzJ6efC4nQR"
   },
   "source": [
    "Logical arrays can be used to slice and index an array!\n",
    "\n",
    "In this case we want the array with just the positive cells."
   ]
  },
  {
   "cell_type": "code",
   "execution_count": 74,
   "metadata": {
    "colab": {
     "base_uri": "https://localhost:8080/"
    },
    "executionInfo": {
     "elapsed": 252,
     "status": "ok",
     "timestamp": 1637839459533,
     "user": {
      "displayName": "Francesco Pannarale",
      "photoUrl": "https://lh3.googleusercontent.com/a/default-user=s64",
      "userId": "04296007763837408065"
     },
     "user_tz": -60
    },
    "id": "Zp7au7nM4nQR",
    "outputId": "d7d8578a-6974-4701-f94b-6f899c5e154c",
    "scrolled": true
   },
   "outputs": [
    {
     "name": "stdout",
     "output_type": "stream",
     "text": [
      "[0.67456715 0.18992894 1.13541115 2.13957131 2.19249132 0.53966875\n",
      " 0.67157293 0.75313607 1.52045294 0.70522376 0.08557289 0.73057684\n",
      " 0.5581203  0.54664766 0.47550211 0.75278602]\n",
      "# positives:  16\n",
      "Sum of boolean:  16\n"
     ]
    }
   ],
   "source": [
    "posdata = data[res]\n",
    "print(posdata)\n",
    "print(\"# positives: \", len(data[res]))\n",
    "print(\"Sum of boolean: \", res.sum())"
   ]
  },
  {
   "cell_type": "markdown",
   "metadata": {
    "id": "l44-KEdg4nQR"
   },
   "source": [
    "Since booleans are converted automatically to 0 and 1, you can easily count them by using the `sum` function"
   ]
  },
  {
   "cell_type": "code",
   "execution_count": 75,
   "metadata": {
    "colab": {
     "base_uri": "https://localhost:8080/"
    },
    "executionInfo": {
     "elapsed": 296,
     "status": "ok",
     "timestamp": 1637839508834,
     "user": {
      "displayName": "Francesco Pannarale",
      "photoUrl": "https://lh3.googleusercontent.com/a/default-user=s64",
      "userId": "04296007763837408065"
     },
     "user_tz": -60
    },
    "id": "BzTztEyq4nQR",
    "outputId": "3ede7a32-3671-43b8-e1a0-2a8e989dd986"
   },
   "outputs": [
    {
     "data": {
      "text/plain": [
       "16"
      ]
     },
     "execution_count": 75,
     "metadata": {},
     "output_type": "execute_result"
    }
   ],
   "source": [
    "(res).sum()"
   ]
  },
  {
   "cell_type": "markdown",
   "metadata": {
    "id": "fqTsQHBS4nQR"
   },
   "source": [
    "Note that the original shape is lost"
   ]
  },
  {
   "cell_type": "code",
   "execution_count": 76,
   "metadata": {
    "colab": {
     "base_uri": "https://localhost:8080/"
    },
    "executionInfo": {
     "elapsed": 259,
     "status": "ok",
     "timestamp": 1637839492257,
     "user": {
      "displayName": "Francesco Pannarale",
      "photoUrl": "https://lh3.googleusercontent.com/a/default-user=s64",
      "userId": "04296007763837408065"
     },
     "user_tz": -60
    },
    "id": "iAtb17QB4nQR",
    "outputId": "4cafa833-14d8-4414-ba1d-e4070a8826d6"
   },
   "outputs": [
    {
     "name": "stdout",
     "output_type": "stream",
     "text": [
      "<class 'numpy.ndarray'>\n",
      "Shape:  (16,)\n"
     ]
    }
   ],
   "source": [
    "print(type(posdata))\n",
    "print(\"Shape: \", np.shape(posdata))"
   ]
  },
  {
   "cell_type": "code",
   "execution_count": 77,
   "metadata": {
    "colab": {
     "base_uri": "https://localhost:8080/"
    },
    "executionInfo": {
     "elapsed": 386,
     "status": "ok",
     "timestamp": 1637839568014,
     "user": {
      "displayName": "Francesco Pannarale",
      "photoUrl": "https://lh3.googleusercontent.com/a/default-user=s64",
      "userId": "04296007763837408065"
     },
     "user_tz": -60
    },
    "id": "LFkC-3l34nQS",
    "outputId": "452ce8c0-9fa2-462c-db20-aeeaba459a9d"
   },
   "outputs": [
    {
     "data": {
      "text/plain": [
       "0.6745671464501924"
      ]
     },
     "execution_count": 77,
     "metadata": {},
     "output_type": "execute_result"
    }
   ],
   "source": [
    "posdata[0]"
   ]
  },
  {
   "cell_type": "code",
   "execution_count": 78,
   "metadata": {
    "executionInfo": {
     "elapsed": 315,
     "status": "ok",
     "timestamp": 1637839570802,
     "user": {
      "displayName": "Francesco Pannarale",
      "photoUrl": "https://lh3.googleusercontent.com/a/default-user=s64",
      "userId": "04296007763837408065"
     },
     "user_tz": -60
    },
    "id": "SXRoNji44nQS"
   },
   "outputs": [],
   "source": [
    "posdata[0] = -1"
   ]
  },
  {
   "cell_type": "code",
   "execution_count": 79,
   "metadata": {
    "colab": {
     "base_uri": "https://localhost:8080/"
    },
    "executionInfo": {
     "elapsed": 243,
     "status": "ok",
     "timestamp": 1637839577719,
     "user": {
      "displayName": "Francesco Pannarale",
      "photoUrl": "https://lh3.googleusercontent.com/a/default-user=s64",
      "userId": "04296007763837408065"
     },
     "user_tz": -60
    },
    "id": "ObuSC9Kv4nQS",
    "outputId": "37226c42-7606-4164-b0b0-745f3a469c2e"
   },
   "outputs": [
    {
     "name": "stdout",
     "output_type": "stream",
     "text": [
      "[-1.          0.18992894  1.13541115  2.13957131  2.19249132  0.53966875\n",
      "  0.67157293  0.75313607  1.52045294  0.70522376  0.08557289  0.73057684\n",
      "  0.5581203   0.54664766  0.47550211  0.75278602]\n"
     ]
    }
   ],
   "source": [
    "print(posdata)"
   ]
  },
  {
   "cell_type": "code",
   "execution_count": 80,
   "metadata": {
    "colab": {
     "base_uri": "https://localhost:8080/"
    },
    "executionInfo": {
     "elapsed": 270,
     "status": "ok",
     "timestamp": 1637839587598,
     "user": {
      "displayName": "Francesco Pannarale",
      "photoUrl": "https://lh3.googleusercontent.com/a/default-user=s64",
      "userId": "04296007763837408065"
     },
     "user_tz": -60
    },
    "id": "a8WAWgx74nQS",
    "outputId": "59891306-8c27-423f-d577-28ada6ffb18f"
   },
   "outputs": [
    {
     "name": "stdout",
     "output_type": "stream",
     "text": [
      "[[-0.07633186  0.67456715  0.18992894  1.13541115 -0.04864087]\n",
      " [-0.62959607 -0.03913954 -1.51843681  2.13957131  2.19249132]\n",
      " [ 0.53966875  0.67157293  0.75313607  1.52045294 -1.98271507]\n",
      " [ 0.70522376 -0.63651154  0.08557289  0.73057684  0.5581203 ]\n",
      " [ 0.54664766  0.47550211 -0.05944241 -1.07840245  0.75278602]]\n"
     ]
    }
   ],
   "source": [
    "print(data)"
   ]
  },
  {
   "cell_type": "markdown",
   "metadata": {
    "id": "TwVYmHXW4nQS"
   },
   "source": [
    "**Note how slicing with a boolean array, creates a new array and not a reference to the original array.**"
   ]
  },
  {
   "cell_type": "markdown",
   "metadata": {
    "id": "ew-8qJqm4nQS"
   },
   "source": [
    "## 8. I/O of NumPy objects\n",
    "\n",
    "NumPy provides built-in functions to easily store and read `ndarray`s in binary and text format **without iterating** over each element.\n",
    "- Use `save()` and `load()` with binary files (`.npy`).\n",
    "- Use `savetxt()` and `loadtxt()` with textfiles."
   ]
  },
  {
   "cell_type": "markdown",
   "metadata": {
    "id": "x52jT2A6zWoS"
   },
   "source": [
    "### I/O with `ndarray`s and binary files"
   ]
  },
  {
   "cell_type": "code",
   "execution_count": 86,
   "metadata": {
    "executionInfo": {
     "elapsed": 248,
     "status": "ok",
     "timestamp": 1637839730787,
     "user": {
      "displayName": "Francesco Pannarale",
      "photoUrl": "https://lh3.googleusercontent.com/a/default-user=s64",
      "userId": "04296007763837408065"
     },
     "user_tz": -60
    },
    "id": "H6yZ__kG4nQS"
   },
   "outputs": [],
   "source": [
    "import numpy as np\n",
    "\n",
    "matrix = np.random.randn(100,10)\n",
    "\n",
    "fname = 'npdata1'\n",
    "np.save(fname+'.npy', matrix)\n",
    "np.savetxt(fname+'.txt', matrix)"
   ]
  },
  {
   "cell_type": "markdown",
   "metadata": {
    "id": "Zv8jRfETzWoS"
   },
   "source": [
    "Naturally, the binary file uses less memory."
   ]
  },
  {
   "cell_type": "code",
   "execution_count": 87,
   "metadata": {
    "colab": {
     "base_uri": "https://localhost:8080/"
    },
    "executionInfo": {
     "elapsed": 293,
     "status": "ok",
     "timestamp": 1637839753373,
     "user": {
      "displayName": "Francesco Pannarale",
      "photoUrl": "https://lh3.googleusercontent.com/a/default-user=s64",
      "userId": "04296007763837408065"
     },
     "user_tz": -60
    },
    "id": "M_mYHkcGzWoT",
    "outputId": "8f0520cb-0eaa-42b0-ef4f-0b5c9ed777e0"
   },
   "outputs": [
    {
     "name": "stdout",
     "output_type": "stream",
     "text": [
      "-rw-r--r--  1 francesco  staff   7.9K Nov 29 08:43 npdata1.npy\r\n",
      "-rw-r--r--  1 francesco  staff    25K Nov 29 08:43 npdata1.txt\r\n"
     ]
    }
   ],
   "source": [
    "!ls -lrth npdata1*"
   ]
  },
  {
   "cell_type": "markdown",
   "metadata": {
    "id": "OZ4f0-8s4nQS"
   },
   "source": [
    "Reading the file is also simple with `load()` and `loadtxt()`"
   ]
  },
  {
   "cell_type": "code",
   "execution_count": 88,
   "metadata": {
    "colab": {
     "base_uri": "https://localhost:8080/"
    },
    "executionInfo": {
     "elapsed": 268,
     "status": "ok",
     "timestamp": 1637839839997,
     "user": {
      "displayName": "Francesco Pannarale",
      "photoUrl": "https://lh3.googleusercontent.com/a/default-user=s64",
      "userId": "04296007763837408065"
     },
     "user_tz": -60
    },
    "id": "5bRT29Yy4nQS",
    "outputId": "d004a418-66c5-4ef5-9b3d-a423f244087e"
   },
   "outputs": [
    {
     "name": "stdout",
     "output_type": "stream",
     "text": [
      "(100, 10)\n",
      "[[ 0.27165319 -1.72228408  0.11543166  0.10282644  1.48419446 -1.28406235\n",
      "   0.02383376  1.09074179 -1.33348272  0.10689657]]\n"
     ]
    }
   ],
   "source": [
    "vals = np.load(fname+'.npy')\n",
    "\n",
    "print(vals.shape)\n",
    "print(vals[:1,])"
   ]
  },
  {
   "cell_type": "markdown",
   "metadata": {
    "id": "1XHahmQT4nQS"
   },
   "source": [
    "The [Python Data Analysis Library (pandas)](http://pandas.pydata.org) provides even more efficient tools and data formats to handle data for analysis and their storage to file."
   ]
  },
  {
   "cell_type": "markdown",
   "metadata": {},
   "source": [
    "Cleanup"
   ]
  },
  {
   "cell_type": "code",
   "execution_count": 89,
   "metadata": {},
   "outputs": [],
   "source": [
    "!rm npdata1*"
   ]
  },
  {
   "cell_type": "markdown",
   "metadata": {
    "id": "BxDxOtWn4nQT"
   },
   "source": [
    "### Reading data into `ndarray`s from textfiles\n",
    "\n",
    "Often you will have a file with data stored per event (line) in columns (variables).  E.g., the following structure\n",
    "```\n",
    "#x   #y   #z   #t   #energy\n",
    "...  ...  ...  ...  ...\n",
    "...  ...  ...  ...  ...\n",
    "...  ...  ...  ...  ...\n",
    "...  ...  ...  ...  ...\n",
    "```\n",
    "\n",
    "With NumPy we can read the data directly into arrays per column without reading in all data and then manipulating it\n",
    "- [Input/Output with numpy](https://numpy.org/doc/stable/reference/routines.io.html)\n",
    "\n",
    "In particular [numpy.loadtxt](https://numpy.org/doc/stable/reference/generated/numpy.loadtxt.html#numpy.loadtxt) is very handy for quick reading of data from text files"
   ]
  },
  {
   "cell_type": "code",
   "execution_count": 90,
   "metadata": {
    "executionInfo": {
     "elapsed": 285,
     "status": "ok",
     "timestamp": 1637840211326,
     "user": {
      "displayName": "Francesco Pannarale",
      "photoUrl": "https://lh3.googleusercontent.com/a/default-user=s64",
      "userId": "04296007763837408065"
     },
     "user_tz": -60
    },
    "id": "uMbcbpYg4fv2"
   },
   "outputs": [],
   "source": [
    "import numpy as np\n",
    "\n",
    "matrix = np.random.randn(10,5)\n",
    "\n",
    "fname = 'output'\n",
    "np.savetxt(fname+'.txt', matrix)"
   ]
  },
  {
   "cell_type": "code",
   "execution_count": 92,
   "metadata": {
    "colab": {
     "base_uri": "https://localhost:8080/"
    },
    "executionInfo": {
     "elapsed": 344,
     "status": "ok",
     "timestamp": 1637840212669,
     "user": {
      "displayName": "Francesco Pannarale",
      "photoUrl": "https://lh3.googleusercontent.com/a/default-user=s64",
      "userId": "04296007763837408065"
     },
     "user_tz": -60
    },
    "id": "PF86cslN4nQT",
    "outputId": "50684c71-e4c3-4afb-a5df-a1364bad9032"
   },
   "outputs": [
    {
     "name": "stdout",
     "output_type": "stream",
     "text": [
      "-2.684025850629008780e-01 2.249554732428536152e-01 -2.383990394148102210e-01 -6.048473141981166590e-01 4.820174586908711478e-01\r\n",
      "2.868980003324156924e-01 5.183415774506719975e-01 -8.176452076970186500e-01 9.301788196437593692e-02 -1.020869626068323877e+00\r\n",
      "4.117693327340193332e-01 -4.944124226196323080e-01 -7.281003911752848001e-01 -1.021052685790907022e+00 -4.672236705708643356e-01\r\n",
      "-7.720759369659548899e-01 1.969073382213787360e-01 3.432108301452208021e-01 -2.096513389678265948e+00 -4.983445567103014229e-01\r\n",
      "-9.836537919069182623e-01 -1.305685407632756423e+00 -2.153205560751267900e-01 3.607926081431713228e-01 -1.204792749986002276e+00\r\n",
      "-2.042061814978155532e+00 1.467917932125424763e+00 -3.593223302805566566e-01 9.354823730682173544e-01 -1.219427677205741523e+00\r\n",
      "-1.594764568803147764e+00 -1.543667381966021379e+00 -7.582944352907931007e-01 9.321372101964242596e-02 -8.692762201443056114e-01\r\n",
      "-1.161506767356710740e-01 -8.153913715206033697e-01 -7.030140628787275858e-01 -2.830003136030988520e-01 2.515567834507497769e-01\r\n",
      "-9.301002349154248172e-01 -4.760076338774948401e-01 1.517424612244633764e+00 9.440922041864049374e-01 -6.178307717656594811e-01\r\n",
      "1.944919652804976418e-01 -9.949787069138142925e-01 -4.342109225449639065e-01 1.679887185002726935e-01 2.134635214517166257e-01\r\n"
     ]
    }
   ],
   "source": [
    "!cat output.txt"
   ]
  },
  {
   "cell_type": "code",
   "execution_count": 94,
   "metadata": {
    "colab": {
     "base_uri": "https://localhost:8080/"
    },
    "executionInfo": {
     "elapsed": 285,
     "status": "ok",
     "timestamp": 1637840226884,
     "user": {
      "displayName": "Francesco Pannarale",
      "photoUrl": "https://lh3.googleusercontent.com/a/default-user=s64",
      "userId": "04296007763837408065"
     },
     "user_tz": -60
    },
    "id": "1CfHXg9e4nQT",
    "outputId": "dbf681fd-bbf1-499a-f8dc-23975cf6d2b0"
   },
   "outputs": [
    {
     "name": "stdout",
     "output_type": "stream",
     "text": [
      "(10, 5)\n"
     ]
    }
   ],
   "source": [
    "fname = 'output.txt'\n",
    "\n",
    "data = np.loadtxt(fname)\n",
    "\n",
    "print(data.shape)"
   ]
  },
  {
   "cell_type": "code",
   "execution_count": 95,
   "metadata": {
    "colab": {
     "base_uri": "https://localhost:8080/"
    },
    "executionInfo": {
     "elapsed": 259,
     "status": "ok",
     "timestamp": 1637840231480,
     "user": {
      "displayName": "Francesco Pannarale",
      "photoUrl": "https://lh3.googleusercontent.com/a/default-user=s64",
      "userId": "04296007763837408065"
     },
     "user_tz": -60
    },
    "id": "BYyKwna04nQT",
    "outputId": "33f4fc19-2e63-415b-fede-fd620e43793a",
    "scrolled": true
   },
   "outputs": [
    {
     "name": "stdout",
     "output_type": "stream",
     "text": [
      "[[-0.26840259  0.22495547 -0.23839904 -0.60484731  0.48201746]\n",
      " [ 0.286898    0.51834158 -0.81764521  0.09301788 -1.02086963]\n",
      " [ 0.41176933 -0.49441242 -0.72810039 -1.02105269 -0.46722367]\n",
      " [-0.77207594  0.19690734  0.34321083 -2.09651339 -0.49834456]\n",
      " [-0.98365379 -1.30568541 -0.21532056  0.36079261 -1.20479275]\n",
      " [-2.04206181  1.46791793 -0.35932233  0.93548237 -1.21942768]\n",
      " [-1.59476457 -1.54366738 -0.75829444  0.09321372 -0.86927622]\n",
      " [-0.11615068 -0.81539137 -0.70301406 -0.28300031  0.25155678]\n",
      " [-0.93010023 -0.47600763  1.51742461  0.9440922  -0.61783077]\n",
      " [ 0.19449197 -0.99497871 -0.43421092  0.16798872  0.21346352]]\n"
     ]
    }
   ],
   "source": [
    "print(data)"
   ]
  },
  {
   "cell_type": "markdown",
   "metadata": {
    "id": "ZlgEU5k14nQU"
   },
   "source": [
    "Slice it to extract columns"
   ]
  },
  {
   "cell_type": "code",
   "execution_count": 96,
   "metadata": {
    "colab": {
     "base_uri": "https://localhost:8080/"
    },
    "executionInfo": {
     "elapsed": 242,
     "status": "ok",
     "timestamp": 1637840577221,
     "user": {
      "displayName": "Francesco Pannarale",
      "photoUrl": "https://lh3.googleusercontent.com/a/default-user=s64",
      "userId": "04296007763837408065"
     },
     "user_tz": -60
    },
    "id": "YFEcRr7b4nQU",
    "outputId": "80442d87-6246-4639-b6ce-db838b65e08d"
   },
   "outputs": [
    {
     "name": "stdout",
     "output_type": "stream",
     "text": [
      "[-0.23839904 -0.81764521 -0.72810039  0.34321083 -0.21532056 -0.35932233\n",
      " -0.75829444 -0.70301406  1.51742461 -0.43421092]\n"
     ]
    }
   ],
   "source": [
    "x = data[:,0]\n",
    "y = data[:,1]\n",
    "z = data[:,2]\n",
    "t = data[:,3]\n",
    "E = data[:,4]\n",
    "\n",
    "print(z)"
   ]
  },
  {
   "cell_type": "markdown",
   "metadata": {
    "id": "InQUrW7k4nQU"
   },
   "source": [
    "Since this is a typical usecase, `loadtxt` already has options to do all this!"
   ]
  },
  {
   "cell_type": "code",
   "execution_count": 97,
   "metadata": {
    "colab": {
     "base_uri": "https://localhost:8080/"
    },
    "executionInfo": {
     "elapsed": 245,
     "status": "ok",
     "timestamp": 1637840387744,
     "user": {
      "displayName": "Francesco Pannarale",
      "photoUrl": "https://lh3.googleusercontent.com/a/default-user=s64",
      "userId": "04296007763837408065"
     },
     "user_tz": -60
    },
    "id": "JTAnlbu34nQU",
    "outputId": "1495825f-ead4-429d-b523-ac58f9efa980"
   },
   "outputs": [
    {
     "name": "stdout",
     "output_type": "stream",
     "text": [
      "[-0.23839904 -0.81764521 -0.72810039  0.34321083 -0.21532056 -0.35932233\n",
      " -0.75829444 -0.70301406  1.51742461 -0.43421092]\n"
     ]
    }
   ],
   "source": [
    "x,z = np.loadtxt(fname, unpack=True, usecols=(0,2))\n",
    "\n",
    "print(z)"
   ]
  },
  {
   "cell_type": "markdown",
   "metadata": {
    "id": "MWhi2eEJ4nQU"
   },
   "source": [
    "- `usecols=(a,b,c)` or `usecols=d` reads only the specific column(s)\n",
    "- `unpack=True` transposes data to go in columns"
   ]
  },
  {
   "cell_type": "code",
   "execution_count": 98,
   "metadata": {
    "colab": {
     "base_uri": "https://localhost:8080/"
    },
    "executionInfo": {
     "elapsed": 246,
     "status": "ok",
     "timestamp": 1637840474507,
     "user": {
      "displayName": "Francesco Pannarale",
      "photoUrl": "https://lh3.googleusercontent.com/a/default-user=s64",
      "userId": "04296007763837408065"
     },
     "user_tz": -60
    },
    "id": "w0HF25ah4nQU",
    "outputId": "c250275d-11c3-4b3a-9905-57432e958895"
   },
   "outputs": [
    {
     "name": "stdout",
     "output_type": "stream",
     "text": [
      "[ 0.22495547  0.51834158 -0.49441242  0.19690734 -1.30568541  1.46791793\n",
      " -1.54366738 -0.81539137 -0.47600763 -0.99497871]\n"
     ]
    }
   ],
   "source": [
    "y = np.loadtxt(fname, usecols=1)\n",
    "print(y)"
   ]
  },
  {
   "cell_type": "code",
   "execution_count": 101,
   "metadata": {
    "colab": {
     "base_uri": "https://localhost:8080/",
     "height": 299
    },
    "executionInfo": {
     "elapsed": 260,
     "status": "ok",
     "timestamp": 1637840498471,
     "user": {
      "displayName": "Francesco Pannarale",
      "photoUrl": "https://lh3.googleusercontent.com/a/default-user=s64",
      "userId": "04296007763837408065"
     },
     "user_tz": -60
    },
    "id": "bi-dVGi24nQU",
    "outputId": "d9dcdbc5-a46c-4fbb-df13-2501cf94e834",
    "scrolled": true
   },
   "outputs": [
    {
     "data": {
      "image/png": "[encoded data removed]",
      "text/plain": [
       "<Figure size 640x480 with 1 Axes>"
      ]
     },
     "metadata": {},
     "output_type": "display_data"
    }
   ],
   "source": [
    "%matplotlib inline\n",
    "#%matplotlib notebook\n",
    "import matplotlib.pyplot as pl\n",
    "\n",
    "pl.plot(x, y, '^', label=\"y\")\n",
    "pl.plot(x, z, '.', label=\"z\")\n",
    "pl.xlabel('x')\n",
    "pl.grid()\n",
    "pl.legend()\n",
    "pl.show()"
   ]
  },
  {
   "cell_type": "markdown",
   "metadata": {
    "id": "bK74z4W84nQU"
   },
   "source": [
    "### Writing `ndarray`s to textfile\n",
    "\n",
    "[nump.savetxt](https://numpy.org/doc/stable/reference/generated/numpy.savetxt.html) is very convenient"
   ]
  },
  {
   "cell_type": "code",
   "execution_count": 105,
   "metadata": {
    "executionInfo": {
     "elapsed": 248,
     "status": "ok",
     "timestamp": 1637840635141,
     "user": {
      "displayName": "Francesco Pannarale",
      "photoUrl": "https://lh3.googleusercontent.com/a/default-user=s64",
      "userId": "04296007763837408065"
     },
     "user_tz": -60
    },
    "id": "yORrEBCX4nQU"
   },
   "outputs": [],
   "source": [
    "fname = 'output2.txt'\n",
    "\n",
    "np.savetxt(fname, (x, y, z, t, E), delimiter=\"\\t\", fmt=\"%.3f\")"
   ]
  },
  {
   "cell_type": "markdown",
   "metadata": {
    "id": "vr2Su0nT4nQU"
   },
   "source": [
    "Note that the \"columns\" get written to lines"
   ]
  },
  {
   "cell_type": "code",
   "execution_count": 106,
   "metadata": {
    "colab": {
     "base_uri": "https://localhost:8080/"
    },
    "executionInfo": {
     "elapsed": 328,
     "status": "ok",
     "timestamp": 1637840636909,
     "user": {
      "displayName": "Francesco Pannarale",
      "photoUrl": "https://lh3.googleusercontent.com/a/default-user=s64",
      "userId": "04296007763837408065"
     },
     "user_tz": -60
    },
    "id": "mFUAxeWh4nQV",
    "outputId": "a18fed03-d981-49f2-9c93-006b6e22cba8"
   },
   "outputs": [
    {
     "name": "stdout",
     "output_type": "stream",
     "text": [
      "-0.268\t0.287\t0.412\t-0.772\t-0.984\t-2.042\t-1.595\t-0.116\t-0.930\t0.194\r\n",
      "0.225\t0.518\t-0.494\t0.197\t-1.306\t1.468\t-1.544\t-0.815\t-0.476\t-0.995\r\n",
      "-0.238\t-0.818\t-0.728\t0.343\t-0.215\t-0.359\t-0.758\t-0.703\t1.517\t-0.434\r\n",
      "-0.605\t0.093\t-1.021\t-2.097\t0.361\t0.935\t0.093\t-0.283\t0.944\t0.168\r\n",
      "0.482\t-1.021\t-0.467\t-0.498\t-1.205\t-1.219\t-0.869\t0.252\t-0.618\t0.213\r\n"
     ]
    }
   ],
   "source": [
    "!cat output2.txt"
   ]
  },
  {
   "cell_type": "code",
   "execution_count": 107,
   "metadata": {
    "colab": {
     "base_uri": "https://localhost:8080/"
    },
    "executionInfo": {
     "elapsed": 265,
     "status": "ok",
     "timestamp": 1637840672476,
     "user": {
      "displayName": "Francesco Pannarale",
      "photoUrl": "https://lh3.googleusercontent.com/a/default-user=s64",
      "userId": "04296007763837408065"
     },
     "user_tz": -60
    },
    "id": "UvqdLkQD4nQV",
    "outputId": "5e2dd2e4-ea82-42d4-cfd4-502416f375f1",
    "scrolled": false
   },
   "outputs": [
    {
     "name": "stdout",
     "output_type": "stream",
     "text": [
      "-2.684025850629008780e-01 2.249554732428536152e-01 -2.383990394148102210e-01 -6.048473141981166590e-01 4.820174586908711478e-01\r\n",
      "2.868980003324156924e-01 5.183415774506719975e-01 -8.176452076970186500e-01 9.301788196437593692e-02 -1.020869626068323877e+00\r\n",
      "4.117693327340193332e-01 -4.944124226196323080e-01 -7.281003911752848001e-01 -1.021052685790907022e+00 -4.672236705708643356e-01\r\n",
      "-7.720759369659548899e-01 1.969073382213787360e-01 3.432108301452208021e-01 -2.096513389678265948e+00 -4.983445567103014229e-01\r\n",
      "-9.836537919069182623e-01 -1.305685407632756423e+00 -2.153205560751267900e-01 3.607926081431713228e-01 -1.204792749986002276e+00\r\n",
      "-2.042061814978155532e+00 1.467917932125424763e+00 -3.593223302805566566e-01 9.354823730682173544e-01 -1.219427677205741523e+00\r\n",
      "-1.594764568803147764e+00 -1.543667381966021379e+00 -7.582944352907931007e-01 9.321372101964242596e-02 -8.692762201443056114e-01\r\n",
      "-1.161506767356710740e-01 -8.153913715206033697e-01 -7.030140628787275858e-01 -2.830003136030988520e-01 2.515567834507497769e-01\r\n",
      "-9.301002349154248172e-01 -4.760076338774948401e-01 1.517424612244633764e+00 9.440922041864049374e-01 -6.178307717656594811e-01\r\n",
      "1.944919652804976418e-01 -9.949787069138142925e-01 -4.342109225449639065e-01 1.679887185002726935e-01 2.134635214517166257e-01\r\n"
     ]
    }
   ],
   "source": [
    "!cat output.txt"
   ]
  },
  {
   "cell_type": "markdown",
   "metadata": {},
   "source": [
    "Cleanup"
   ]
  },
  {
   "cell_type": "code",
   "execution_count": 108,
   "metadata": {},
   "outputs": [],
   "source": [
    "!rm output.txt output2.txt"
   ]
  },
  {
   "cell_type": "markdown",
   "metadata": {},
   "source": [
    "## 9. Vectorizing functions\n",
    "\n",
    "To tackle the bottleneck of for loops, NumPy provides a vectorization functionality that maps a function over a sequence efficiently."
   ]
  },
  {
   "cell_type": "code",
   "execution_count": 2,
   "metadata": {},
   "outputs": [
    {
     "data": {
      "text/plain": [
       "-1"
      ]
     },
     "execution_count": 2,
     "metadata": {},
     "output_type": "execute_result"
    }
   ],
   "source": [
    "import numpy as np\n",
    "\n",
    "# Simple example function\n",
    "def pyfunc(a, b):\n",
    "    if a >= b:\n",
    "        return a + b\n",
    "    else:\n",
    "        return a - b\n",
    "    \n",
    "# Checking it works\n",
    "a = 1\n",
    "b = 2\n",
    "\n",
    "pyfunc(a, b)"
   ]
  },
  {
   "cell_type": "code",
   "execution_count": 3,
   "metadata": {},
   "outputs": [
    {
     "ename": "ValueError",
     "evalue": "The truth value of an array with more than one element is ambiguous. Use a.any() or a.all()",
     "output_type": "error",
     "traceback": [
      "\u001b[0;31m---------------------------------------------------------------------------\u001b[0m",
      "\u001b[0;31mValueError\u001b[0m                                Traceback (most recent call last)",
      "Cell \u001b[0;32mIn [3], line 3\u001b[0m\n\u001b[1;32m      1\u001b[0m \u001b[38;5;66;03m# However, the interpreter does not know how to handle pyfunc when it its first argument a NumPy array\u001b[39;00m\n\u001b[1;32m      2\u001b[0m a \u001b[38;5;241m=\u001b[39m np\u001b[38;5;241m.\u001b[39marange(\u001b[38;5;241m5\u001b[39m)\n\u001b[0;32m----> 3\u001b[0m \u001b[43mpyfunc\u001b[49m\u001b[43m(\u001b[49m\u001b[43ma\u001b[49m\u001b[43m,\u001b[49m\u001b[43m \u001b[49m\u001b[43mb\u001b[49m\u001b[43m)\u001b[49m\n",
      "Cell \u001b[0;32mIn [2], line 5\u001b[0m, in \u001b[0;36mpyfunc\u001b[0;34m(a, b)\u001b[0m\n\u001b[1;32m      4\u001b[0m \u001b[38;5;28;01mdef\u001b[39;00m \u001b[38;5;21mpyfunc\u001b[39m(a, b):\n\u001b[0;32m----> 5\u001b[0m     \u001b[38;5;28;01mif\u001b[39;00m a \u001b[38;5;241m>\u001b[39m\u001b[38;5;241m=\u001b[39m b:\n\u001b[1;32m      6\u001b[0m         \u001b[38;5;28;01mreturn\u001b[39;00m a \u001b[38;5;241m+\u001b[39m b\n\u001b[1;32m      7\u001b[0m     \u001b[38;5;28;01melse\u001b[39;00m:\n",
      "\u001b[0;31mValueError\u001b[0m: The truth value of an array with more than one element is ambiguous. Use a.any() or a.all()"
     ]
    }
   ],
   "source": [
    "# However, the interpreter does not know how to handle pyfunc when it its first argument a NumPy array\n",
    "a = np.arange(5)\n",
    "pyfunc(a, b)"
   ]
  },
  {
   "cell_type": "code",
   "execution_count": 112,
   "metadata": {},
   "outputs": [
    {
     "name": "stdout",
     "output_type": "stream",
     "text": [
      "[-2 -1  4  5  6]\n",
      "[0 2 4 6 8]\n",
      "4\n",
      "[ 2  3  4 -1 -2]\n",
      "[0 2 4 6 8]\n"
     ]
    }
   ],
   "source": [
    "# Create a vectorized version of pyfunc\n",
    "vpyfunc = np.vectorize(pyfunc)\n",
    "\n",
    "# Check it works\n",
    "print(vpyfunc(a, b))\n",
    "print(vpyfunc(a, a))\n",
    "print(vpyfunc(b, b))\n",
    "print(vpyfunc(b, a))\n",
    "\n",
    "# Notice that the arguments can also be other kinds of collections\n",
    "print(vpyfunc(list(a), tuple(a)))"
   ]
  },
  {
   "cell_type": "code",
   "execution_count": 114,
   "metadata": {},
   "outputs": [
    {
     "name": "stdout",
     "output_type": "stream",
     "text": [
      "<class 'numpy.float64'>\n",
      "<class 'numpy.float64'>\n"
     ]
    }
   ],
   "source": [
    "# Enforce the output type\n",
    "res = vpyfunc(a, b)\n",
    "print(type(res[0]))\n",
    "\n",
    "vpyfunc =  np.vectorize(pyfunc, otypes=[float])\n",
    "res = vpyfunc(a, b)\n",
    "print(type(res[0]))"
   ]
  },
  {
   "cell_type": "code",
   "execution_count": 115,
   "metadata": {},
   "outputs": [
    {
     "name": "stdout",
     "output_type": "stream",
     "text": [
      "[-2. -1.  4.  5.  6.]\n",
      "4.0\n"
     ]
    }
   ],
   "source": [
    "# Create a vectorized version of pyfunc, which vectorizes only on the 1st argument\n",
    "vpyfunc = np.vectorize(pyfunc, otypes=[float], excluded=[1])\n",
    "\n",
    "print(vpyfunc(a, b))\n",
    "print(vpyfunc(b, b))"
   ]
  },
  {
   "cell_type": "code",
   "execution_count": 116,
   "metadata": {},
   "outputs": [
    {
     "ename": "ValueError",
     "evalue": "The truth value of an array with more than one element is ambiguous. Use a.any() or a.all()",
     "output_type": "error",
     "traceback": [
      "\u001b[0;31m---------------------------------------------------------------------------\u001b[0m",
      "\u001b[0;31mValueError\u001b[0m                                Traceback (most recent call last)",
      "Cell \u001b[0;32mIn [116], line 1\u001b[0m\n\u001b[0;32m----> 1\u001b[0m \u001b[38;5;28mprint\u001b[39m(\u001b[43mvpyfunc\u001b[49m\u001b[43m(\u001b[49m\u001b[43ma\u001b[49m\u001b[43m,\u001b[49m\u001b[43m \u001b[49m\u001b[43ma\u001b[49m\u001b[43m)\u001b[49m)\n",
      "File \u001b[0;32m/opt/homebrew/lib/python3.10/site-packages/numpy/lib/function_base.py:2328\u001b[0m, in \u001b[0;36mvectorize.__call__\u001b[0;34m(self, *args, **kwargs)\u001b[0m\n\u001b[1;32m   2325\u001b[0m     vargs \u001b[38;5;241m=\u001b[39m [args[_i] \u001b[38;5;28;01mfor\u001b[39;00m _i \u001b[38;5;129;01min\u001b[39;00m inds]\n\u001b[1;32m   2326\u001b[0m     vargs\u001b[38;5;241m.\u001b[39mextend([kwargs[_n] \u001b[38;5;28;01mfor\u001b[39;00m _n \u001b[38;5;129;01min\u001b[39;00m names])\n\u001b[0;32m-> 2328\u001b[0m \u001b[38;5;28;01mreturn\u001b[39;00m \u001b[38;5;28;43mself\u001b[39;49m\u001b[38;5;241;43m.\u001b[39;49m\u001b[43m_vectorize_call\u001b[49m\u001b[43m(\u001b[49m\u001b[43mfunc\u001b[49m\u001b[38;5;241;43m=\u001b[39;49m\u001b[43mfunc\u001b[49m\u001b[43m,\u001b[49m\u001b[43m \u001b[49m\u001b[43margs\u001b[49m\u001b[38;5;241;43m=\u001b[39;49m\u001b[43mvargs\u001b[49m\u001b[43m)\u001b[49m\n",
      "File \u001b[0;32m/opt/homebrew/lib/python3.10/site-packages/numpy/lib/function_base.py:2411\u001b[0m, in \u001b[0;36mvectorize._vectorize_call\u001b[0;34m(self, func, args)\u001b[0m\n\u001b[1;32m   2408\u001b[0m \u001b[38;5;66;03m# Convert args to object arrays first\u001b[39;00m\n\u001b[1;32m   2409\u001b[0m inputs \u001b[38;5;241m=\u001b[39m [asanyarray(a, dtype\u001b[38;5;241m=\u001b[39m\u001b[38;5;28mobject\u001b[39m) \u001b[38;5;28;01mfor\u001b[39;00m a \u001b[38;5;129;01min\u001b[39;00m args]\n\u001b[0;32m-> 2411\u001b[0m outputs \u001b[38;5;241m=\u001b[39m \u001b[43mufunc\u001b[49m\u001b[43m(\u001b[49m\u001b[38;5;241;43m*\u001b[39;49m\u001b[43minputs\u001b[49m\u001b[43m)\u001b[49m\n\u001b[1;32m   2413\u001b[0m \u001b[38;5;28;01mif\u001b[39;00m ufunc\u001b[38;5;241m.\u001b[39mnout \u001b[38;5;241m==\u001b[39m \u001b[38;5;241m1\u001b[39m:\n\u001b[1;32m   2414\u001b[0m     res \u001b[38;5;241m=\u001b[39m asanyarray(outputs, dtype\u001b[38;5;241m=\u001b[39motypes[\u001b[38;5;241m0\u001b[39m])\n",
      "File \u001b[0;32m/opt/homebrew/lib/python3.10/site-packages/numpy/lib/function_base.py:2323\u001b[0m, in \u001b[0;36mvectorize.__call__.<locals>.func\u001b[0;34m(*vargs)\u001b[0m\n\u001b[1;32m   2321\u001b[0m     the_args[_i] \u001b[38;5;241m=\u001b[39m vargs[_n]\n\u001b[1;32m   2322\u001b[0m kwargs\u001b[38;5;241m.\u001b[39mupdate(\u001b[38;5;28mzip\u001b[39m(names, vargs[\u001b[38;5;28mlen\u001b[39m(inds):]))\n\u001b[0;32m-> 2323\u001b[0m \u001b[38;5;28;01mreturn\u001b[39;00m \u001b[38;5;28;43mself\u001b[39;49m\u001b[38;5;241;43m.\u001b[39;49m\u001b[43mpyfunc\u001b[49m\u001b[43m(\u001b[49m\u001b[38;5;241;43m*\u001b[39;49m\u001b[43mthe_args\u001b[49m\u001b[43m,\u001b[49m\u001b[43m \u001b[49m\u001b[38;5;241;43m*\u001b[39;49m\u001b[38;5;241;43m*\u001b[39;49m\u001b[43mkwargs\u001b[49m\u001b[43m)\u001b[49m\n",
      "Cell \u001b[0;32mIn [109], line 3\u001b[0m, in \u001b[0;36mpyfunc\u001b[0;34m(a, b)\u001b[0m\n\u001b[1;32m      2\u001b[0m \u001b[38;5;28;01mdef\u001b[39;00m \u001b[38;5;21mpyfunc\u001b[39m(a, b):\n\u001b[0;32m----> 3\u001b[0m     \u001b[38;5;28;01mif\u001b[39;00m a \u001b[38;5;241m>\u001b[39m\u001b[38;5;241m=\u001b[39m b:\n\u001b[1;32m      4\u001b[0m         \u001b[38;5;28;01mreturn\u001b[39;00m a \u001b[38;5;241m+\u001b[39m b\n\u001b[1;32m      5\u001b[0m     \u001b[38;5;28;01melse\u001b[39;00m:\n",
      "\u001b[0;31mValueError\u001b[0m: The truth value of an array with more than one element is ambiguous. Use a.any() or a.all()"
     ]
    }
   ],
   "source": [
    "print(vpyfunc(a, a))"
   ]
  },
  {
   "cell_type": "code",
   "execution_count": 117,
   "metadata": {},
   "outputs": [
    {
     "ename": "ValueError",
     "evalue": "The truth value of an array with more than one element is ambiguous. Use a.any() or a.all()",
     "output_type": "error",
     "traceback": [
      "\u001b[0;31m---------------------------------------------------------------------------\u001b[0m",
      "\u001b[0;31mValueError\u001b[0m                                Traceback (most recent call last)",
      "Cell \u001b[0;32mIn [117], line 1\u001b[0m\n\u001b[0;32m----> 1\u001b[0m \u001b[38;5;28mprint\u001b[39m(\u001b[43mvpyfunc\u001b[49m\u001b[43m(\u001b[49m\u001b[43mb\u001b[49m\u001b[43m,\u001b[49m\u001b[43m \u001b[49m\u001b[43ma\u001b[49m\u001b[43m)\u001b[49m)\n",
      "File \u001b[0;32m/opt/homebrew/lib/python3.10/site-packages/numpy/lib/function_base.py:2328\u001b[0m, in \u001b[0;36mvectorize.__call__\u001b[0;34m(self, *args, **kwargs)\u001b[0m\n\u001b[1;32m   2325\u001b[0m     vargs \u001b[38;5;241m=\u001b[39m [args[_i] \u001b[38;5;28;01mfor\u001b[39;00m _i \u001b[38;5;129;01min\u001b[39;00m inds]\n\u001b[1;32m   2326\u001b[0m     vargs\u001b[38;5;241m.\u001b[39mextend([kwargs[_n] \u001b[38;5;28;01mfor\u001b[39;00m _n \u001b[38;5;129;01min\u001b[39;00m names])\n\u001b[0;32m-> 2328\u001b[0m \u001b[38;5;28;01mreturn\u001b[39;00m \u001b[38;5;28;43mself\u001b[39;49m\u001b[38;5;241;43m.\u001b[39;49m\u001b[43m_vectorize_call\u001b[49m\u001b[43m(\u001b[49m\u001b[43mfunc\u001b[49m\u001b[38;5;241;43m=\u001b[39;49m\u001b[43mfunc\u001b[49m\u001b[43m,\u001b[49m\u001b[43m \u001b[49m\u001b[43margs\u001b[49m\u001b[38;5;241;43m=\u001b[39;49m\u001b[43mvargs\u001b[49m\u001b[43m)\u001b[49m\n",
      "File \u001b[0;32m/opt/homebrew/lib/python3.10/site-packages/numpy/lib/function_base.py:2411\u001b[0m, in \u001b[0;36mvectorize._vectorize_call\u001b[0;34m(self, func, args)\u001b[0m\n\u001b[1;32m   2408\u001b[0m \u001b[38;5;66;03m# Convert args to object arrays first\u001b[39;00m\n\u001b[1;32m   2409\u001b[0m inputs \u001b[38;5;241m=\u001b[39m [asanyarray(a, dtype\u001b[38;5;241m=\u001b[39m\u001b[38;5;28mobject\u001b[39m) \u001b[38;5;28;01mfor\u001b[39;00m a \u001b[38;5;129;01min\u001b[39;00m args]\n\u001b[0;32m-> 2411\u001b[0m outputs \u001b[38;5;241m=\u001b[39m \u001b[43mufunc\u001b[49m\u001b[43m(\u001b[49m\u001b[38;5;241;43m*\u001b[39;49m\u001b[43minputs\u001b[49m\u001b[43m)\u001b[49m\n\u001b[1;32m   2413\u001b[0m \u001b[38;5;28;01mif\u001b[39;00m ufunc\u001b[38;5;241m.\u001b[39mnout \u001b[38;5;241m==\u001b[39m \u001b[38;5;241m1\u001b[39m:\n\u001b[1;32m   2414\u001b[0m     res \u001b[38;5;241m=\u001b[39m asanyarray(outputs, dtype\u001b[38;5;241m=\u001b[39motypes[\u001b[38;5;241m0\u001b[39m])\n",
      "File \u001b[0;32m/opt/homebrew/lib/python3.10/site-packages/numpy/lib/function_base.py:2323\u001b[0m, in \u001b[0;36mvectorize.__call__.<locals>.func\u001b[0;34m(*vargs)\u001b[0m\n\u001b[1;32m   2321\u001b[0m     the_args[_i] \u001b[38;5;241m=\u001b[39m vargs[_n]\n\u001b[1;32m   2322\u001b[0m kwargs\u001b[38;5;241m.\u001b[39mupdate(\u001b[38;5;28mzip\u001b[39m(names, vargs[\u001b[38;5;28mlen\u001b[39m(inds):]))\n\u001b[0;32m-> 2323\u001b[0m \u001b[38;5;28;01mreturn\u001b[39;00m \u001b[38;5;28;43mself\u001b[39;49m\u001b[38;5;241;43m.\u001b[39;49m\u001b[43mpyfunc\u001b[49m\u001b[43m(\u001b[49m\u001b[38;5;241;43m*\u001b[39;49m\u001b[43mthe_args\u001b[49m\u001b[43m,\u001b[49m\u001b[43m \u001b[49m\u001b[38;5;241;43m*\u001b[39;49m\u001b[38;5;241;43m*\u001b[39;49m\u001b[43mkwargs\u001b[49m\u001b[43m)\u001b[49m\n",
      "Cell \u001b[0;32mIn [109], line 3\u001b[0m, in \u001b[0;36mpyfunc\u001b[0;34m(a, b)\u001b[0m\n\u001b[1;32m      2\u001b[0m \u001b[38;5;28;01mdef\u001b[39;00m \u001b[38;5;21mpyfunc\u001b[39m(a, b):\n\u001b[0;32m----> 3\u001b[0m     \u001b[38;5;28;01mif\u001b[39;00m a \u001b[38;5;241m>\u001b[39m\u001b[38;5;241m=\u001b[39m b:\n\u001b[1;32m      4\u001b[0m         \u001b[38;5;28;01mreturn\u001b[39;00m a \u001b[38;5;241m+\u001b[39m b\n\u001b[1;32m      5\u001b[0m     \u001b[38;5;28;01melse\u001b[39;00m:\n",
      "\u001b[0;31mValueError\u001b[0m: The truth value of an array with more than one element is ambiguous. Use a.any() or a.all()"
     ]
    }
   ],
   "source": [
    "print(vpyfunc(b, a))"
   ]
  },
  {
   "cell_type": "markdown",
   "metadata": {
    "id": "jJnX4lH64nQW"
   },
   "source": [
    "# READY FOR `examples/Python/5-AnimatedPlots.ipynb`!"
   ]
  }
 ],
 "metadata": {
  "colab": {
   "collapsed_sections": [],
   "name": "4-NumPy.ipynb",
   "provenance": []
  },
  "kernelspec": {
   "display_name": "Python 3 (ipykernel)",
   "language": "python",
   "name": "python3"
  },
  "language_info": {
   "codemirror_mode": {
    "name": "ipython",
    "version": 3
   },
   "file_extension": ".py",
   "mimetype": "text/x-python",
   "name": "python",
   "nbconvert_exporter": "python",
   "pygments_lexer": "ipython3",
   "version": "3.10.7"
  }
 },
 "nbformat": 4,
 "nbformat_minor": 1
}
