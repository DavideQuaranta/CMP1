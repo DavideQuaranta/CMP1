{
 "cells": [
  {
   "cell_type": "markdown",
   "metadata": {
    "id": "uOW17J0cjT8A"
   },
   "source": [
    "# SCIPY\n",
    "\n",
    "Scipy, or Scientific Python, is a collection of functions to perform basic scientific programming and data analysis.\n",
    "\n",
    "Some of its contents are:\n",
    "- Fourier transforms (`scipy.fft`)\n",
    "- numerical integration (`scipy.integrate`)\n",
    "- interpolation tools (`scipy.interpolate`)\n",
    "- linear algebra routines (`scipy.linalg`)\n",
    "- signal processing tools (`scipy.signal`)\n",
    "- statistical functions (`scipy.stats`)\n",
    "\n",
    "It is also the ecosystem for several scientific packages and provides a consistent interface to the functions, avoiding duplication.  The libraries `scikit-learn` (for machine learning) and `scikit-image` (for image processing) rely on `scipy` heavily."
   ]
  },
  {
   "cell_type": "code",
   "execution_count": null,
   "metadata": {
    "executionInfo": {
     "elapsed": 6,
     "status": "ok",
     "timestamp": 1638257737700,
     "user": {
      "displayName": "Francesco Pannarale",
      "photoUrl": "https://lh3.googleusercontent.com/a/default-user=s64",
      "userId": "04296007763837408065"
     },
     "user_tz": -60
    },
    "id": "sydR5OBSjT8F"
   },
   "outputs": [],
   "source": [
    "import scipy\n",
    "import matplotlib.pyplot as plt\n",
    "import numpy as np"
   ]
  },
  {
   "cell_type": "markdown",
   "metadata": {
    "id": "L53kYTGhAx3X"
   },
   "source": [
    "## Integrating with `scipy.integrate`\n",
    "\n",
    "To integrate a list of numbers using the `integrate` package of `scipy`, you can use\n",
    "- `trapz` (for trapezoid, the type of integration being used)\n",
    "- `quad` (from quadrature) \n",
    "- etc."
   ]
  },
  {
   "cell_type": "code",
   "execution_count": null,
   "metadata": {
    "colab": {
     "base_uri": "https://localhost:8080/"
    },
    "executionInfo": {
     "elapsed": 228,
     "status": "ok",
     "timestamp": 1638257829855,
     "user": {
      "displayName": "Francesco Pannarale",
      "photoUrl": "https://lh3.googleusercontent.com/a/default-user=s64",
      "userId": "04296007763837408065"
     },
     "user_tz": -60
    },
    "id": "nms2dZv-BBbL",
    "outputId": "17001afc-d0c6-4be1-ba2c-4b7a0f720cb3"
   },
   "outputs": [],
   "source": [
    "import scipy.integrate as integrate\n",
    "result = integrate.trapz(np.array([0, 1, 2, 3, 4, 5]))\n",
    "print(result)"
   ]
  },
  {
   "cell_type": "markdown",
   "metadata": {},
   "source": [
    "Note that `scipy` handles NumPy arrays."
   ]
  },
  {
   "cell_type": "code",
   "execution_count": null,
   "metadata": {},
   "outputs": [],
   "source": [
    "data = np.arange(20).reshape((5,4))\n",
    "print(data)\n",
    "\n",
    "result = integrate.trapz(data)\n",
    "print(result)"
   ]
  },
  {
   "cell_type": "markdown",
   "metadata": {},
   "source": [
    "To integrate along a different axis (\"dimension\") of the numpy array, use the `axis` keyword (the default is `axis=1`)"
   ]
  },
  {
   "cell_type": "code",
   "execution_count": null,
   "metadata": {},
   "outputs": [],
   "source": [
    "result = integrate.trapz(data, axis=0)\n",
    "print(result)"
   ]
  },
  {
   "cell_type": "markdown",
   "metadata": {
    "id": "hbelU7NyB2OF"
   },
   "source": [
    "`trapz` assumes the $y$-values we provided are taken at evenly spaced values of $x$ with $\\Delta x=1$.  You can provide specific values of $x$ with the keyword `x`, as a list for example.  You can also provide a different $\\Delta x$ with the keyword `dx`."
   ]
  },
  {
   "cell_type": "markdown",
   "metadata": {
    "id": "-QK4kB1YBlcP"
   },
   "source": [
    "`quad` takes a function name and the limits of the integral, but no data points. It returns the integral with an estimate of the error.\n"
   ]
  },
  {
   "cell_type": "code",
   "execution_count": null,
   "metadata": {
    "colab": {
     "base_uri": "https://localhost:8080/"
    },
    "executionInfo": {
     "elapsed": 223,
     "status": "ok",
     "timestamp": 1638257879249,
     "user": {
      "displayName": "Francesco Pannarale",
      "photoUrl": "https://lh3.googleusercontent.com/a/default-user=s64",
      "userId": "04296007763837408065"
     },
     "user_tz": -60
    },
    "id": "RYK6aNNvBU9n",
    "outputId": "69c6cc8f-1024-44ea-fdca-14d89164c202"
   },
   "outputs": [],
   "source": [
    "result = integrate.quad(np.sin, 0, np.pi)\n",
    "print(result)"
   ]
  },
  {
   "cell_type": "markdown",
   "metadata": {
    "id": "ZlLsuLdwFJJ-"
   },
   "source": [
    "Consider\n",
    "$$\n",
    "\\int_0^2 x^4\\log (x+\\sqrt{x^2+1}) dx\\,.\n",
    "$$\n",
    "\n"
   ]
  },
  {
   "cell_type": "code",
   "execution_count": null,
   "metadata": {
    "colab": {
     "base_uri": "https://localhost:8080/",
     "height": 317
    },
    "executionInfo": {
     "elapsed": 857,
     "status": "ok",
     "timestamp": 1638257929721,
     "user": {
      "displayName": "Francesco Pannarale",
      "photoUrl": "https://lh3.googleusercontent.com/a/default-user=s64",
      "userId": "04296007763837408065"
     },
     "user_tz": -60
    },
    "id": "qBFsX0eQFzUz",
    "outputId": "2c0bad87-2335-40c4-adb4-6fbc359c7dc0"
   },
   "outputs": [],
   "source": [
    "%matplotlib inline\n",
    "\n",
    "#import matplotlib.pyplot as plt\n",
    "\n",
    "x = np.linspace(0, 2, 10000)\n",
    "\n",
    "def integrand(x):\n",
    "    return x**4*np.log(x+np.sqrt(x**2+1))\n",
    "\n",
    "y = integrand(x)\n",
    "\n",
    "plt.yscale('log')\n",
    "plt.xlabel('x')\n",
    "plt.ylabel('Integrand')\n",
    "plt.plot(x, y, 'b-', label='Integrand')\n",
    "plt.legend()"
   ]
  },
  {
   "cell_type": "markdown",
   "metadata": {
    "id": "bB4jDaBgGskQ"
   },
   "source": [
    "Notice that at low $x$-values the integrand hardly varies.  The `scipy.integrate.quad()` routine is **adaptive**, i.e., it adjusts the integrand evaluations to concentrate where its variations are more significant."
   ]
  },
  {
   "cell_type": "code",
   "execution_count": null,
   "metadata": {
    "colab": {
     "base_uri": "https://localhost:8080/"
    },
    "executionInfo": {
     "elapsed": 216,
     "status": "ok",
     "timestamp": 1638258027249,
     "user": {
      "displayName": "Francesco Pannarale",
      "photoUrl": "https://lh3.googleusercontent.com/a/default-user=s64",
      "userId": "04296007763837408065"
     },
     "user_tz": -60
    },
    "id": "NEnkEmQCHY8R",
    "outputId": "fbf13461-8f0e-46f6-c713-2db5678ca903"
   },
   "outputs": [],
   "source": [
    "print(integrate.quad(integrand, 0, 2))"
   ]
  },
  {
   "cell_type": "markdown",
   "metadata": {
    "id": "3ifeZhQFHz6u"
   },
   "source": [
    "## Integrating ODEs with `scipy.integrate.odeint`\n",
    "\n",
    "Many physical phenomena are modeled by differential equations: oscillations of simple systems (spring-mass, pendulum, etc.), fluid mechanics (Navier-Stokes, Laplace's, etc.), quantum mechanics (Schrödinger’s), etc.  \n",
    "\n",
    "Here is how to numerically solve equations of this kind, in relatively simple cases...\n",
    "\n",
    "The example looks at the 1D dynamics of a spring (with rest length $L$ and elastic constant $k$) and  mass $m$ in the presence of a drag force (with drag coefficient $\\beta$).  Newton’s second law reads:\n",
    "$$\n",
    "{{d^2x}\\over {dt^2}} + {\\beta \\over m}{{dx}\\over {dt}} + {k\\over m}(x-L) = 0\\,.\n",
    "$$\n",
    "This is a second oreder differential equation which we can rewrite as a system of two first order differential equations:\n",
    "$$\n",
    "\\begin{align}\n",
    "{{dx}\\over {dt}} &= v \\\\\n",
    "{{dv}\\over {dt}} &= - {\\beta \\over m}{v} - {k\\over m}(x-L)\n",
    "\\end{align}\n",
    "$$\n",
    "to be solved in $(x(t), v(t))$.\n",
    "\n",
    "To do this numerically we revert to `scipy.integrate.odeint`, which has the syntax\n",
    "```Python\n",
    "scipy.integrate.odeint(func, y0, t, args=())\n",
    "```\n",
    "`func` is the **system of first order differential equations**, the array `y0` contains the initial values, time `t` is an array of time values, and arguments `args()` contains the parameters of `func` (here $L$, $k$, $m$, and $\\beta$).  The unknowns in a system of differential equations are functions: `odeint` will return the values of these functions at the values provided via `t`."
   ]
  },
  {
   "cell_type": "code",
   "execution_count": null,
   "metadata": {
    "colab": {
     "base_uri": "https://localhost:8080/",
     "height": 594
    },
    "executionInfo": {
     "elapsed": 818,
     "status": "ok",
     "timestamp": 1638258560129,
     "user": {
      "displayName": "Francesco Pannarale",
      "photoUrl": "https://lh3.googleusercontent.com/a/default-user=s64",
      "userId": "04296007763837408065"
     },
     "user_tz": -60
    },
    "id": "s_9Vj_yWLd9f",
    "outputId": "ca60922e-fc2e-4e36-af5c-20688c37236c"
   },
   "outputs": [],
   "source": [
    "from scipy.integrate import odeint\n",
    " \n",
    "# The system of first order ODEs: returns dx/dt, dv/dt\n",
    "def odes(u, t):\n",
    "    x, v = u\n",
    "    return (v, (-k*(x-L) - beta*v)/m)\n",
    "\n",
    "# Sampling times\n",
    "t = np.arange(0, 20.1, 0.01)\n",
    "\n",
    "# Initial values of x, v\n",
    "u0 = np.array([1,0])\n",
    " \n",
    "# Assume certain values of the physical parameters\n",
    "beta = 0.4\n",
    "k = 8.0\n",
    "L = 0.5\n",
    "m = 1.0\n",
    "\n",
    "# Solve the ODEs\n",
    "u = odeint(odes, u0, t)\n",
    "\n",
    "# Plot x and v vs t using matplotlib\n",
    "# u[:,0] is x\n",
    "plt.plot(t, u[:,0], label='x')\n",
    "# u[:,1] is v\n",
    "plt.plot(t, u[:,1], label='v')\n",
    "plt.title('Damped Oscillator')\n",
    "plt.xlabel('Time')\n",
    "plt.legend()\n",
    "plt.show()\n",
    "\n",
    "# Plot in phase space using matplotlib\n",
    "plt.plot(u[:,0],u[:,1])\n",
    "plt.title('Phase-space')\n",
    "plt.xlabel('Position')\n",
    "plt.ylabel('Velocity')\n",
    "plt.show()"
   ]
  },
  {
   "cell_type": "markdown",
   "metadata": {
    "id": "Yf4Oi9kEjT8G"
   },
   "source": [
    "## Fitting Data with `scipy.optimize.curve_fit`\n",
    "\n",
    "The `scipy.optimize` package provides functions for minimizing (or maximizing) objective functions, possibly subject to constraints. It includes solvers for nonlinear problems (with support for both local and global optimization algorithms), linear programing, constrained and nonlinear least-squares, root finding, and curve fitting.\n",
    "\n",
    "A typical science use case is to fit data to a model and estimate the model parameters.  This can be easily achieved with [`scipy.optimize.curve_fit`](https://docs.scipy.org/doc/scipy/reference/generated/scipy.optimize.curve_fit.html).\n",
    "\n",
    "In this example we:\n",
    "\n",
    "1. generate some data according to a model\n",
    "1. add some random noise to the data\n",
    "1. write the data to file\n",
    "1. read back the data with numpy\n",
    "1. fit the data with `curve_fit`"
   ]
  },
  {
   "cell_type": "markdown",
   "metadata": {
    "id": "N5AhxXfhjT8G"
   },
   "source": [
    "### 1. Generate data"
   ]
  },
  {
   "cell_type": "code",
   "execution_count": null,
   "metadata": {
    "colab": {
     "base_uri": "https://localhost:8080/"
    },
    "executionInfo": {
     "elapsed": 232,
     "status": "ok",
     "timestamp": 1638258845885,
     "user": {
      "displayName": "Francesco Pannarale",
      "photoUrl": "https://lh3.googleusercontent.com/a/default-user=s64",
      "userId": "04296007763837408065"
     },
     "user_tz": -60
    },
    "id": "rb4PBlQEjT8H",
    "outputId": "a97c063b-86fe-46f5-d787-fb69f21bd764"
   },
   "outputs": [],
   "source": [
    "nevents = 100\n",
    "\n",
    "x = np.linspace(10, 100, nevents)\n",
    "\n",
    "def clean_data(t, A=100, tau=10):\n",
    "    return A * np.exp(-t/tau)\n",
    "\n",
    "y = clean_data(x)\n",
    "\n",
    "print(type(x))\n",
    "print(type(y))\n",
    "print(x.shape)\n",
    "print(y.shape)"
   ]
  },
  {
   "cell_type": "code",
   "execution_count": null,
   "metadata": {
    "colab": {
     "base_uri": "https://localhost:8080/",
     "height": 317
    },
    "executionInfo": {
     "elapsed": 248,
     "status": "ok",
     "timestamp": 1638258861711,
     "user": {
      "displayName": "Francesco Pannarale",
      "photoUrl": "https://lh3.googleusercontent.com/a/default-user=s64",
      "userId": "04296007763837408065"
     },
     "user_tz": -60
    },
    "id": "FC_lvleyjT8H",
    "outputId": "2b1f1600-c6fb-4fb9-b911-19f6954320f1"
   },
   "outputs": [],
   "source": [
    "%matplotlib inline\n",
    "\n",
    "#import matplotlib.pyplot as plt\n",
    "\n",
    "plt.plot(x, y, 'b-', label='Clean data')\n",
    "plt.xlabel('x')\n",
    "plt.legend()"
   ]
  },
  {
   "cell_type": "markdown",
   "metadata": {
    "id": "C5zMv0_9jT8I"
   },
   "source": [
    "### 2. Add random noise to the clean data"
   ]
  },
  {
   "cell_type": "code",
   "execution_count": null,
   "metadata": {
    "executionInfo": {
     "elapsed": 219,
     "status": "ok",
     "timestamp": 1638258917996,
     "user": {
      "displayName": "Francesco Pannarale",
      "photoUrl": "https://lh3.googleusercontent.com/a/default-user=s64",
      "userId": "04296007763837408065"
     },
     "user_tz": -60
    },
    "id": "O7uR1woEjT8I"
   },
   "outputs": [],
   "source": [
    "noise = 3 * np.random.normal(size=x.size)\n",
    "\n",
    "y_noise = y + noise"
   ]
  },
  {
   "cell_type": "code",
   "execution_count": null,
   "metadata": {
    "colab": {
     "base_uri": "https://localhost:8080/",
     "height": 317
    },
    "executionInfo": {
     "elapsed": 505,
     "status": "ok",
     "timestamp": 1638258935551,
     "user": {
      "displayName": "Francesco Pannarale",
      "photoUrl": "https://lh3.googleusercontent.com/a/default-user=s64",
      "userId": "04296007763837408065"
     },
     "user_tz": -60
    },
    "id": "N1NyIahfjT8J",
    "outputId": "0dc25008-4850-4311-e859-c2a427efbd66"
   },
   "outputs": [],
   "source": [
    "#%matplotlib notebook\n",
    "plt.plot(x, y_noise, 'r-', label='Clean data + noise')\n",
    "plt.plot(x, y, 'g^', label='Clean data')\n",
    "plt.xlabel('x')\n",
    "plt.legend()"
   ]
  },
  {
   "cell_type": "markdown",
   "metadata": {
    "id": "SqCIVIZ3jT8J"
   },
   "source": [
    "### 3. Write data to file\n",
    "\n",
    "This time we use `numpy.savetxt` and loop over the arrays."
   ]
  },
  {
   "cell_type": "code",
   "execution_count": null,
   "metadata": {
    "executionInfo": {
     "elapsed": 232,
     "status": "ok",
     "timestamp": 1638258985261,
     "user": {
      "displayName": "Francesco Pannarale",
      "photoUrl": "https://lh3.googleusercontent.com/a/default-user=s64",
      "userId": "04296007763837408065"
     },
     "user_tz": -60
    },
    "id": "-74zzyHRjT8K"
   },
   "outputs": [],
   "source": [
    "fname = 'data.txt'\n",
    "\n",
    "with open(fname,'w') as f:\n",
    "    [f.writelines(\"%.5f %.5f %.5f\\n\" % (x[i], y[i], y_noise[i])) for i in range(len(x))]"
   ]
  },
  {
   "cell_type": "code",
   "execution_count": null,
   "metadata": {
    "colab": {
     "base_uri": "https://localhost:8080/"
    },
    "executionInfo": {
     "elapsed": 237,
     "status": "ok",
     "timestamp": 1638258986699,
     "user": {
      "displayName": "Francesco Pannarale",
      "photoUrl": "https://lh3.googleusercontent.com/a/default-user=s64",
      "userId": "04296007763837408065"
     },
     "user_tz": -60
    },
    "id": "DwoOaikFlP-Z",
    "outputId": "73d1ce0c-5a48-4255-99e6-35cd45547c95"
   },
   "outputs": [],
   "source": [
    "!cat data.txt"
   ]
  },
  {
   "cell_type": "markdown",
   "metadata": {
    "id": "gJRIvbH_jT8L"
   },
   "source": [
    "### 4. Read data from file"
   ]
  },
  {
   "cell_type": "code",
   "execution_count": null,
   "metadata": {
    "colab": {
     "base_uri": "https://localhost:8080/"
    },
    "executionInfo": {
     "elapsed": 248,
     "status": "ok",
     "timestamp": 1638259052917,
     "user": {
      "displayName": "Francesco Pannarale",
      "photoUrl": "https://lh3.googleusercontent.com/a/default-user=s64",
      "userId": "04296007763837408065"
     },
     "user_tz": -60
    },
    "id": "rW20-_EsjT8L",
    "outputId": "055d9609-c43e-4696-d943-acac7bc3b0cb"
   },
   "outputs": [],
   "source": [
    "t, z, w = np.loadtxt(fname, unpack=True)\n",
    "print(t.shape)\n",
    "print(z.shape)\n",
    "print(w.shape)"
   ]
  },
  {
   "cell_type": "code",
   "execution_count": null,
   "metadata": {
    "colab": {
     "base_uri": "https://localhost:8080/",
     "height": 317
    },
    "executionInfo": {
     "elapsed": 292,
     "status": "ok",
     "timestamp": 1638259066788,
     "user": {
      "displayName": "Francesco Pannarale",
      "photoUrl": "https://lh3.googleusercontent.com/a/default-user=s64",
      "userId": "04296007763837408065"
     },
     "user_tz": -60
    },
    "id": "j0S82nSgjT8L",
    "outputId": "fda886e6-158b-4d4a-db6e-90003b1d3ca4"
   },
   "outputs": [],
   "source": [
    "#%matplotlib notebook\n",
    "plt.plot(t, z, 'r-', label='z (clean data)')\n",
    "plt.plot(t, w, 'b--', label='w (clean data + noise)')\n",
    "\n",
    "plt.xlabel('Time [s]')\n",
    "plt.legend()"
   ]
  },
  {
   "cell_type": "markdown",
   "metadata": {
    "id": "6FV6dPYgjT8L"
   },
   "source": [
    "### 5. Fit data\n",
    "\n",
    "`curve_fit` takes at least three arguments:\n",
    "1. the function that you want to fit;\n",
    "1. a set of independent data;\n",
    "1. a set of dependent data.\n",
    "\n",
    "We will keep using NumPy arrays for the data.  One can also:\n",
    "\n",
    "4. provide initial guesses for the function parameters in a keyword `p0`;\n",
    "\n",
    "5. give relative or absolute errors on the dependent data using the keyword `sigma` (and `absolute_sigma`).\n",
    "\n",
    "`curve_fit` returns the list of optimal values for the parameters [the values that minimize the sum of the squared residuals model($x$) - data], and their covariance matrix."
   ]
  },
  {
   "cell_type": "code",
   "execution_count": null,
   "metadata": {
    "executionInfo": {
     "elapsed": 215,
     "status": "ok",
     "timestamp": 1638259296123,
     "user": {
      "displayName": "Francesco Pannarale",
      "photoUrl": "https://lh3.googleusercontent.com/a/default-user=s64",
      "userId": "04296007763837408065"
     },
     "user_tz": -60
    },
    "id": "PWJt2XnijT8M"
   },
   "outputs": [],
   "source": [
    "# Reminder: our clean data was generated with A * np.exp(-t/tau)\n",
    "def fitfunc(x, N, alpha, c):\n",
    "    return N*np.exp(-alpha*x) + c\n",
    "\n",
    "param_labels = ['N', 'alpha', 'c']"
   ]
  },
  {
   "cell_type": "code",
   "execution_count": null,
   "metadata": {
    "colab": {
     "base_uri": "https://localhost:8080/"
    },
    "executionInfo": {
     "elapsed": 6,
     "status": "ok",
     "timestamp": 1638259297011,
     "user": {
      "displayName": "Francesco Pannarale",
      "photoUrl": "https://lh3.googleusercontent.com/a/default-user=s64",
      "userId": "04296007763837408065"
     },
     "user_tz": -60
    },
    "id": "YvCaSUqCjT8M",
    "outputId": "177291a7-04c8-4839-d664-c22616aa31eb"
   },
   "outputs": [],
   "source": [
    "from scipy.optimize import curve_fit\n",
    "\n",
    "fit_pars, cov_matrix = curve_fit(fitfunc, t, w)"
   ]
  },
  {
   "cell_type": "code",
   "execution_count": null,
   "metadata": {
    "colab": {
     "base_uri": "https://localhost:8080/"
    },
    "executionInfo": {
     "elapsed": 229,
     "status": "ok",
     "timestamp": 1638259322935,
     "user": {
      "displayName": "Francesco Pannarale",
      "photoUrl": "https://lh3.googleusercontent.com/a/default-user=s64",
      "userId": "04296007763837408065"
     },
     "user_tz": -60
    },
    "id": "eE874WJ1jT8M",
    "outputId": "76056441-c2b9-418a-9ffb-d4900d0264d7"
   },
   "outputs": [],
   "source": [
    "print(fit_pars)"
   ]
  },
  {
   "cell_type": "code",
   "execution_count": null,
   "metadata": {
    "colab": {
     "base_uri": "https://localhost:8080/"
    },
    "executionInfo": {
     "elapsed": 225,
     "status": "ok",
     "timestamp": 1638259349516,
     "user": {
      "displayName": "Francesco Pannarale",
      "photoUrl": "https://lh3.googleusercontent.com/a/default-user=s64",
      "userId": "04296007763837408065"
     },
     "user_tz": -60
    },
    "id": "MBPlZ_GvjT8M",
    "outputId": "263d7836-db45-4b19-ecef-153081fe5a73"
   },
   "outputs": [],
   "source": [
    "print(cov_matrix)"
   ]
  },
  {
   "cell_type": "code",
   "execution_count": null,
   "metadata": {
    "colab": {
     "base_uri": "https://localhost:8080/"
    },
    "executionInfo": {
     "elapsed": 229,
     "status": "ok",
     "timestamp": 1638259458055,
     "user": {
      "displayName": "Francesco Pannarale",
      "photoUrl": "https://lh3.googleusercontent.com/a/default-user=s64",
      "userId": "04296007763837408065"
     },
     "user_tz": -60
    },
    "id": "P85myhcdwqwC",
    "outputId": "d9aed984-e27b-4ddc-f4ce-48275c14e8c6"
   },
   "outputs": [],
   "source": [
    "def print_results(fit_pars, cov_matrix, param_labels):\n",
    "    _ = [print(param_labels[i], \": \", fit_pars[i], \"+/-\", cov_matrix[i, i]**0.5) for i in range(len(fit_pars))]\n",
    "    _ = [print(\"{0: .1f}% error on parameter {1}\"\n",
    "           .format(np.abs(100*cov_matrix[i, i]**0.5/fit_pars[i]), param_labels[i]))\n",
    "     for i in range(len(fit_pars))]\n",
    "    \n",
    "print_results(fit_pars, cov_matrix, param_labels)"
   ]
  },
  {
   "cell_type": "code",
   "execution_count": null,
   "metadata": {
    "executionInfo": {
     "elapsed": 246,
     "status": "ok",
     "timestamp": 1638259619593,
     "user": {
      "displayName": "Francesco Pannarale",
      "photoUrl": "https://lh3.googleusercontent.com/a/default-user=s64",
      "userId": "04296007763837408065"
     },
     "user_tz": -60
    },
    "id": "ln8UBBK94YDa"
   },
   "outputs": [],
   "source": [
    "fit_pars_with_guess, cov_matrix_with_guess = curve_fit(fitfunc, t, w, p0=[100., 0.1, 0.])"
   ]
  },
  {
   "cell_type": "code",
   "execution_count": null,
   "metadata": {
    "colab": {
     "base_uri": "https://localhost:8080/"
    },
    "executionInfo": {
     "elapsed": 216,
     "status": "ok",
     "timestamp": 1638259648601,
     "user": {
      "displayName": "Francesco Pannarale",
      "photoUrl": "https://lh3.googleusercontent.com/a/default-user=s64",
      "userId": "04296007763837408065"
     },
     "user_tz": -60
    },
    "id": "v3E3fPsM4iCC",
    "outputId": "d7c7bb0e-68eb-40f3-bfdf-9182b2be0b2a"
   },
   "outputs": [],
   "source": [
    "print_results(fit_pars_with_guess, cov_matrix_with_guess, param_labels)"
   ]
  },
  {
   "cell_type": "code",
   "execution_count": null,
   "metadata": {
    "colab": {
     "base_uri": "https://localhost:8080/",
     "height": 300
    },
    "executionInfo": {
     "elapsed": 800,
     "status": "ok",
     "timestamp": 1638259471091,
     "user": {
      "displayName": "Francesco Pannarale",
      "photoUrl": "https://lh3.googleusercontent.com/a/default-user=s64",
      "userId": "04296007763837408065"
     },
     "user_tz": -60
    },
    "id": "HgvFxYm7jT8N",
    "outputId": "338e83a2-bece-4d52-d1ce-1f865fd10056"
   },
   "outputs": [],
   "source": [
    "#%matplotlib notebook\n",
    "plt.plot(x, y, 'g--', label='Clean data')\n",
    "\n",
    "plt.plot(t, w, 'b-', label='Data points $w$')\n",
    "\n",
    "plt.plot(t, fitfunc(t, *fit_pars), 'm-', label='Fit N: %.2f alpha: %.3f  c: %.3f' % tuple(fit_pars))\n",
    "\n",
    "plt.legend()\n",
    "plt.xlabel('t')\n",
    "plt.grid()"
   ]
  },
  {
   "cell_type": "code",
   "execution_count": null,
   "metadata": {
    "id": "TX3ZPhOQ365o"
   },
   "outputs": [],
   "source": [
    "#Clean up\n",
    "!rm data.txt"
   ]
  },
  {
   "cell_type": "markdown",
   "metadata": {},
   "source": [
    "## Drawing from distributions with `scipy.stats`"
   ]
  },
  {
   "cell_type": "markdown",
   "metadata": {},
   "source": [
    "We will use a different package (Seaborn) to make our plot, as a reminder of the many options to do things that there are in Python."
   ]
  },
  {
   "cell_type": "code",
   "execution_count": null,
   "metadata": {},
   "outputs": [],
   "source": [
    "import seaborn as sns\n",
    "# settings for seaborn plotting style\n",
    "sns.set(color_codes=True)\n",
    "# settings for seaborn plot sizes\n",
    "sns.set(rc={'figure.figsize':(5,5)})"
   ]
  },
  {
   "cell_type": "markdown",
   "metadata": {},
   "source": [
    "#### 1. Uniform distribution"
   ]
  },
  {
   "cell_type": "code",
   "execution_count": null,
   "metadata": {},
   "outputs": [],
   "source": [
    "from scipy.stats import uniform"
   ]
  },
  {
   "cell_type": "code",
   "execution_count": null,
   "metadata": {},
   "outputs": [],
   "source": [
    "nevents = 10000\n",
    "start = 10\n",
    "width = 20\n",
    "# rvs stands for random variates\n",
    "data = uniform.rvs(size=nevents, loc=start, scale=width)"
   ]
  },
  {
   "cell_type": "code",
   "execution_count": null,
   "metadata": {},
   "outputs": [],
   "source": [
    "ax = sns.displot(data, bins=50, kde=True,\n",
    "                  color='skyblue', linewidth=1, alpha=0.5)\n",
    "ax.set(xlabel='Uniform Distribution ', ylabel='Frequency')"
   ]
  },
  {
   "cell_type": "markdown",
   "metadata": {},
   "source": [
    "#### 2. Normal distribution"
   ]
  },
  {
   "cell_type": "code",
   "execution_count": null,
   "metadata": {},
   "outputs": [],
   "source": [
    "from scipy.stats import norm"
   ]
  },
  {
   "cell_type": "code",
   "execution_count": null,
   "metadata": {},
   "outputs": [],
   "source": [
    "nevents = 10000\n",
    "# rvs stands for random variates\n",
    "data = norm.rvs(size=nevents, loc=0, scale=1)"
   ]
  },
  {
   "cell_type": "code",
   "execution_count": null,
   "metadata": {},
   "outputs": [],
   "source": [
    "ax = sns.displot(data, bins=50, kde=True,\n",
    "                  color='skyblue', linewidth=1, alpha=0.5)\n",
    "ax.set(xlabel='Normal Distribution ', ylabel='Frequency')"
   ]
  },
  {
   "cell_type": "markdown",
   "metadata": {},
   "source": [
    "#### 3. Exponential distribution"
   ]
  },
  {
   "cell_type": "code",
   "execution_count": null,
   "metadata": {},
   "outputs": [],
   "source": [
    "from scipy.stats import expon"
   ]
  },
  {
   "cell_type": "code",
   "execution_count": null,
   "metadata": {},
   "outputs": [],
   "source": [
    "nevents = 10000\n",
    "# rvs stands for random variates\n",
    "data = expon.rvs(size=nevents, loc=0, scale=1)"
   ]
  },
  {
   "cell_type": "code",
   "execution_count": null,
   "metadata": {},
   "outputs": [],
   "source": [
    "ax = sns.displot(data, bins=50, kde=True,\n",
    "                  color='skyblue', linewidth=1, alpha=0.5)\n",
    "ax.set(xlabel='Exponential Distribution ', ylabel='Frequency')"
   ]
  },
  {
   "cell_type": "code",
   "execution_count": null,
   "metadata": {},
   "outputs": [],
   "source": []
  }
 ],
 "metadata": {
  "colab": {
   "collapsed_sections": [],
   "name": "6-SciPy.ipynb",
   "provenance": []
  },
  "kernelspec": {
   "display_name": "Python 3 (ipykernel)",
   "language": "python",
   "name": "python3"
  },
  "language_info": {
   "codemirror_mode": {
    "name": "ipython",
    "version": 3
   },
   "file_extension": ".py",
   "mimetype": "text/x-python",
   "name": "python",
   "nbconvert_exporter": "python",
   "pygments_lexer": "ipython3",
   "version": "3.11.0"
  }
 },
 "nbformat": 4,
 "nbformat_minor": 1
}
