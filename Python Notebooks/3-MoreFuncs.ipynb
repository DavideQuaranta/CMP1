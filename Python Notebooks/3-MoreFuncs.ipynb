{
 "cells": [
  {
   "cell_type": "markdown",
   "metadata": {
    "id": "m_tlLBd6i6OD"
   },
   "source": [
    "# FUNCTIONS: ADVANCED TOPICS\n",
    "This notebook covers some of the useful features of Python functions\n",
    "\n",
    "## 1. Returning multiple values\n",
    "In C++ a function can return only one value\n",
    "```c++\n",
    "T function(args) {\n",
    " T val;\n",
    " // calculations\n",
    " return val;\n",
    "}\n",
    "```\n",
    "where `T` can be any type or class.\n",
    "\n",
    "**Python functions can return an arbitrary number of values (of arbitrary type combinations).**"
   ]
  },
  {
   "cell_type": "code",
   "execution_count": 1,
   "metadata": {
    "colab": {
     "base_uri": "https://localhost:8080/"
    },
    "executionInfo": {
     "elapsed": 8,
     "status": "ok",
     "timestamp": 1637651893777,
     "user": {
      "displayName": "Francesco Pannarale",
      "photoUrl": "https://lh3.googleusercontent.com/a/default-user=s64",
      "userId": "04296007763837408065"
     },
     "user_tz": -60
    },
    "id": "KRaFjeeEi6OG",
    "outputId": "911a6d9e-cc30-400d-ce14-ba960737d2f7"
   },
   "outputs": [
    {
     "name": "stdout",
     "output_type": "stream",
     "text": [
      "<class 'tuple'>\n",
      "<class 'tuple'>\n",
      "(5, 6, 7, 8)\n"
     ]
    }
   ],
   "source": [
    "def xplus(x):\n",
    "    return x+1, x+2, x+3, x+4\n",
    "\n",
    "print(type(xplus(3)))\n",
    "\n",
    "output = xplus(4)\n",
    "print(type(output))\n",
    "print(output)"
   ]
  },
  {
   "cell_type": "code",
   "execution_count": 2,
   "metadata": {
    "colab": {
     "base_uri": "https://localhost:8080/"
    },
    "executionInfo": {
     "elapsed": 312,
     "status": "ok",
     "timestamp": 1637651925695,
     "user": {
      "displayName": "Francesco Pannarale",
      "photoUrl": "https://lh3.googleusercontent.com/a/default-user=s64",
      "userId": "04296007763837408065"
     },
     "user_tz": -60
    },
    "id": "UkSVUsRHi6OH",
    "outputId": "4ab7b48f-5a3a-4a50-8958-542f7b7e3b80"
   },
   "outputs": [
    {
     "name": "stdout",
     "output_type": "stream",
     "text": [
      "[3.2, 4.2, 5.2, 6.2]\n"
     ]
    }
   ],
   "source": [
    "list_output = list(xplus(2.2))\n",
    "print(list_output)"
   ]
  },
  {
   "cell_type": "markdown",
   "metadata": {
    "id": "Cdltze2Ki6OH"
   },
   "source": [
    "### Example: calculating boost parameters\n",
    "\n",
    "Let's compute simple kinematic information and boost parameters.\n",
    "\n",
    "For simplcity we assume the momentum is along the *x* axis, but you should **TRY TO GENERALIZE THIS EXAMPLE.**"
   ]
  },
  {
   "cell_type": "code",
   "execution_count": 2,
   "metadata": {
    "colab": {
     "base_uri": "https://localhost:8080/"
    },
    "executionInfo": {
     "elapsed": 330,
     "status": "ok",
     "timestamp": 1637652086382,
     "user": {
      "displayName": "Francesco Pannarale",
      "photoUrl": "https://lh3.googleusercontent.com/a/default-user=s64",
      "userId": "04296007763837408065"
     },
     "user_tz": -60
    },
    "id": "1ISrRqTZi6OH",
    "outputId": "22377c07-5b9e-4858-cb7d-c8f544dd8c6b"
   },
   "outputs": [
    {
     "name": "stdout",
     "output_type": "stream",
     "text": [
      "pi 4-momentum: [1.2081390648431165, 1.2, 0, 0]\n",
      "pi boost: beta = 0.993, gamma = 8.630, beta*gamma = 8.571\n"
     ]
    }
   ],
   "source": [
    "import math as m\n",
    "\n",
    "m_pi = 0.140 # GeV\n",
    "p_pi = 1.2   # GeV\n",
    "\n",
    "def make_p4(mass, p):\n",
    "    return [m.sqrt(mass**2 + p**2), p, 0, 0] # momentum along the x axis as a list [E, px, py, pz]\n",
    "\n",
    "p4_pi = make_p4(m_pi, p_pi)\n",
    "print(\"pi 4-momentum:\", p4_pi)\n",
    "\n",
    "def boost_params(p4):\n",
    "    p = m.sqrt(p4[1]**2 + p4[2]**2 + p4[3]**2)\n",
    "    E = p4[0]\n",
    "    mass = m.sqrt(E**2 - p**2)\n",
    "    return p/E, E/mass, p/mass # beta, gamma, beta * gamma (as a tuple)\n",
    "\n",
    "beta_pi, gamma_pi, betagamma_pi = boost_params(p4_pi)\n",
    "\n",
    "print(\"pi boost: beta = {0:.3f}, gamma = {1:.3f}, beta*gamma = {2:.3f}\".format(beta_pi, gamma_pi, betagamma_pi))"
   ]
  },
  {
   "cell_type": "markdown",
   "metadata": {
    "id": "llAxJn-Ri6OI"
   },
   "source": [
    "## 2. The `_` variable\n",
    "\n",
    "If you return more values you need to make sure that all of them are used when calling the function."
   ]
  },
  {
   "cell_type": "markdown",
   "metadata": {
    "id": "SOeEfuwhi6OI"
   },
   "source": [
    "#### Example: suppose we only need $\\beta$ and $\\gamma$ and not $\\beta\\gamma$."
   ]
  },
  {
   "cell_type": "code",
   "execution_count": 3,
   "metadata": {
    "colab": {
     "base_uri": "https://localhost:8080/",
     "height": 240
    },
    "executionInfo": {
     "elapsed": 329,
     "status": "error",
     "timestamp": 1637652142784,
     "user": {
      "displayName": "Francesco Pannarale",
      "photoUrl": "https://lh3.googleusercontent.com/a/default-user=s64",
      "userId": "04296007763837408065"
     },
     "user_tz": -60
    },
    "id": "xEVodpZDi6OI",
    "outputId": "4b9d5dd0-55ec-4ebf-8d7d-fb45336febca"
   },
   "outputs": [
    {
     "ename": "ValueError",
     "evalue": "too many values to unpack (expected 2)",
     "output_type": "error",
     "traceback": [
      "\u001b[0;31m---------------------------------------------------------------------------\u001b[0m",
      "\u001b[0;31mValueError\u001b[0m                                Traceback (most recent call last)",
      "Cell \u001b[0;32mIn [3], line 4\u001b[0m\n\u001b[1;32m      1\u001b[0m m_B \u001b[38;5;241m=\u001b[39m \u001b[38;5;241m5.279\u001b[39m \u001b[38;5;66;03m# GeV\u001b[39;00m\n\u001b[1;32m      2\u001b[0m p_B \u001b[38;5;241m=\u001b[39m \u001b[38;5;241m0.3\u001b[39m   \u001b[38;5;66;03m# GeV\u001b[39;00m\n\u001b[0;32m----> 4\u001b[0m beta_B, gamma_B \u001b[38;5;241m=\u001b[39m boost_params(make_p4(m_B, p_B))\n\u001b[1;32m      5\u001b[0m \u001b[38;5;28mprint\u001b[39m(beta_B)\n",
      "\u001b[0;31mValueError\u001b[0m: too many values to unpack (expected 2)"
     ]
    }
   ],
   "source": [
    "m_B = 5.279 # GeV\n",
    "p_B = 0.3   # GeV\n",
    "\n",
    "beta_B, gamma_B = boost_params(make_p4(m_B, p_B))\n",
    "print(beta_B)"
   ]
  },
  {
   "cell_type": "markdown",
   "metadata": {
    "id": "rvQm1ulgi6OJ"
   },
   "source": [
    "You are forced to have 3 variables to write to, in order for the function to work.\n",
    "\n",
    "This can be tedious because at times you might not need all these returned values, or simply do not care. Fear not: Python has a solution for this as well.\n",
    "\n",
    "The `_`  is a special variable that can be used for a number of purposes. One of them is to ignore values we do not care about.\n",
    "\n",
    "Suppose we want to use only $\\beta_B$."
   ]
  },
  {
   "cell_type": "code",
   "execution_count": 4,
   "metadata": {
    "colab": {
     "base_uri": "https://localhost:8080/"
    },
    "executionInfo": {
     "elapsed": 380,
     "status": "ok",
     "timestamp": 1637652713124,
     "user": {
      "displayName": "Francesco Pannarale",
      "photoUrl": "https://lh3.googleusercontent.com/a/default-user=s64",
      "userId": "04296007763837408065"
     },
     "user_tz": -60
    },
    "id": "DIbemM5di6OJ",
    "outputId": "06c4eeb0-fdf9-4363-fd9c-289ec7691bfb"
   },
   "outputs": [
    {
     "name": "stdout",
     "output_type": "stream",
     "text": [
      "B beta: 0.05673740118652557\n"
     ]
    }
   ],
   "source": [
    "beta_B, *_ = boost_params(make_p4(m_B, p_B))\n",
    "\n",
    "print(\"B beta:\", beta_B)"
   ]
  },
  {
   "cell_type": "code",
   "execution_count": 5,
   "metadata": {
    "colab": {
     "base_uri": "https://localhost:8080/"
    },
    "executionInfo": {
     "elapsed": 2,
     "status": "ok",
     "timestamp": 1637652713452,
     "user": {
      "displayName": "Francesco Pannarale",
      "photoUrl": "https://lh3.googleusercontent.com/a/default-user=s64",
      "userId": "04296007763837408065"
     },
     "user_tz": -60
    },
    "id": "rUXHsTHXi6OJ",
    "outputId": "c9d69620-f88c-4e38-d495-474be1ca160c"
   },
   "outputs": [
    {
     "name": "stdout",
     "output_type": "stream",
     "text": [
      "[1.0016134628566604, 0.05682894487592347]\n",
      "<class 'list'>\n",
      "2\n"
     ]
    }
   ],
   "source": [
    "print(_)\n",
    "print(type(_))\n",
    "print(len(_))"
   ]
  },
  {
   "cell_type": "markdown",
   "metadata": {
    "id": "S12-VbAAi6OJ"
   },
   "source": [
    "In this case `*_` means that 0 or more vales are unpacked and assigned to `_`.\n",
    "\n",
    "Here `_` is a list of 2 objects. You can use `_` like any other variable."
   ]
  },
  {
   "cell_type": "code",
   "execution_count": 6,
   "metadata": {
    "colab": {
     "base_uri": "https://localhost:8080/"
    },
    "executionInfo": {
     "elapsed": 361,
     "status": "ok",
     "timestamp": 1637650640736,
     "user": {
      "displayName": "Francesco Pannarale",
      "photoUrl": "https://lh3.googleusercontent.com/a/default-user=s64",
      "userId": "04296007763837408065"
     },
     "user_tz": -60
    },
    "id": "cQQR2HICi6OK",
    "outputId": "05f6b873-168b-46c0-a1c6-cbe6a1a84ad3",
    "scrolled": true
   },
   "outputs": [
    {
     "name": "stdout",
     "output_type": "stream",
     "text": [
      "[1.0016134628566604, 0.05682894487592347]\n",
      "1.0016134628566604 0.05682894487592347\n"
     ]
    }
   ],
   "source": [
    "print(_)\n",
    "print(_[0], _[1])"
   ]
  },
  {
   "cell_type": "markdown",
   "metadata": {
    "id": "PeejJobJi6OK"
   },
   "source": [
    "#### Similarly"
   ]
  },
  {
   "cell_type": "code",
   "execution_count": 10,
   "metadata": {
    "colab": {
     "base_uri": "https://localhost:8080/"
    },
    "executionInfo": {
     "elapsed": 8,
     "status": "ok",
     "timestamp": 1637650642832,
     "user": {
      "displayName": "Francesco Pannarale",
      "photoUrl": "https://lh3.googleusercontent.com/a/default-user=s64",
      "userId": "04296007763837408065"
     },
     "user_tz": -60
    },
    "id": "PFkxCL3Vi6OK",
    "outputId": "e548d987-0094-4974-e4b1-7bc627e466ab"
   },
   "outputs": [
    {
     "name": "stdout",
     "output_type": "stream",
     "text": [
      "14 15 [16, 17]\n",
      "14 15 16 17\n",
      "14 15 16 [17]\n",
      "14 16 17\n",
      "14 17 [15, 16]\n"
     ]
    }
   ],
   "source": [
    "a, b, *_ = xplus(13)\n",
    "print(a, b, _)\n",
    "\n",
    "a, b, c, _ = xplus(13)\n",
    "print(a, b, c, _)\n",
    "\n",
    "a, b, c, *_ = xplus(13)\n",
    "print(a, b, c, _)\n",
    "\n",
    "a, _, c, _ = xplus(13)\n",
    "print(a, c, _)\n",
    "\n",
    "a, *_, d = xplus(13)\n",
    "print(a, d, _)"
   ]
  },
  {
   "cell_type": "markdown",
   "metadata": {
    "id": "Z2wGmkk9i6OK"
   },
   "source": [
    "#### Watch out, however: only one `*_` is allowed"
   ]
  },
  {
   "cell_type": "code",
   "execution_count": 12,
   "metadata": {
    "colab": {
     "base_uri": "https://localhost:8080/",
     "height": 130
    },
    "executionInfo": {
     "elapsed": 7,
     "status": "error",
     "timestamp": 1637650644396,
     "user": {
      "displayName": "Francesco Pannarale",
      "photoUrl": "https://lh3.googleusercontent.com/a/default-user=s64",
      "userId": "04296007763837408065"
     },
     "user_tz": -60
    },
    "id": "tfGdNBkXi6OL",
    "outputId": "94edffa1-7686-41b3-960c-2a22f7ebf17f"
   },
   "outputs": [
    {
     "ename": "SyntaxError",
     "evalue": "multiple starred expressions in assignment (3324119802.py, line 1)",
     "output_type": "error",
     "traceback": [
      "\u001b[0;36m  Cell \u001b[0;32mIn [12], line 1\u001b[0;36m\u001b[0m\n\u001b[0;31m    *_, c, *_ = xplus(13)\u001b[0m\n\u001b[0m    ^\u001b[0m\n\u001b[0;31mSyntaxError\u001b[0m\u001b[0;31m:\u001b[0m multiple starred expressions in assignment\n"
     ]
    }
   ],
   "source": [
    "*_, c, *_ = xplus(13)"
   ]
  },
  {
   "cell_type": "markdown",
   "metadata": {
    "id": "DqwlmAa9i6OL"
   },
   "source": [
    "#### If the multiple values have special meanings, using a dictionary should be considered"
   ]
  },
  {
   "cell_type": "code",
   "execution_count": 13,
   "metadata": {
    "colab": {
     "base_uri": "https://localhost:8080/"
    },
    "executionInfo": {
     "elapsed": 8,
     "status": "ok",
     "timestamp": 1637650646294,
     "user": {
      "displayName": "Francesco Pannarale",
      "photoUrl": "https://lh3.googleusercontent.com/a/default-user=s64",
      "userId": "04296007763837408065"
     },
     "user_tz": -60
    },
    "id": "x2nyKDyRi6OL",
    "outputId": "37399731-213e-48b4-d47a-edd555ac63d5"
   },
   "outputs": [
    {
     "name": "stdout",
     "output_type": "stream",
     "text": [
      "{'beta': 0.1854078591978247, 'gamma': 1.0176442686914566, 'betagamma': 0.18867924528301888}\n",
      "mu beta:  0.1854078591978247\n"
     ]
    }
   ],
   "source": [
    "def boost_dict(p4):\n",
    "    p = m.sqrt(p4[1]**2 + p4[2]**2 + p4[3]**2)\n",
    "    E = p4[0]\n",
    "    mass = m.sqrt(E**2 - p**2)\n",
    "    return {'beta': p/E, 'gamma': E/mass, 'betagamma': p/mass}\n",
    "\n",
    "m_mu = 0.106 # GeV\n",
    "p_mu = 0.020 # GeV\n",
    "\n",
    "boost_mu = boost_dict(make_p4(m_mu, p_mu))\n",
    "\n",
    "print(boost_mu)\n",
    "\n",
    "print(\"mu beta: \", boost_mu['beta'])"
   ]
  },
  {
   "cell_type": "markdown",
   "metadata": {
    "id": "HjC_B8zDi6OL"
   },
   "source": [
    "## 3. Anonymous (`lambda`) functions \n",
    "`lambda` functions are a special class of functions that consist of a simple single statement.\n",
    "\n",
    "Suppose we want to compute `1 + x**2 - x**3` for elements of a list, using a comprehension."
   ]
  },
  {
   "cell_type": "code",
   "execution_count": 14,
   "metadata": {
    "colab": {
     "base_uri": "https://localhost:8080/"
    },
    "executionInfo": {
     "elapsed": 324,
     "status": "ok",
     "timestamp": 1637652817400,
     "user": {
      "displayName": "Francesco Pannarale",
      "photoUrl": "https://lh3.googleusercontent.com/a/default-user=s64",
      "userId": "04296007763837408065"
     },
     "user_tz": -60
    },
    "id": "i7FKco4Ci6OM",
    "outputId": "b6c00f49-ff8b-4cc8-f2fb-6c20f3135529"
   },
   "outputs": [
    {
     "name": "stdout",
     "output_type": "stream",
     "text": [
      "[1.5647059877240204, 1.3768819472561087, 1.4219506794820815, 0.9814034503196336, 1.1547619546156884]\n",
      "[-0.38257239615618444, 0.2855057358036084, 0.14683946719303487, 1.0179113176359844, 0.7936287759764318]\n"
     ]
    }
   ],
   "source": [
    "import random as r\n",
    "\n",
    "def myfunc(x):\n",
    "    return 1 + x**2 - x**3\n",
    "\n",
    "def apply_to_list(alist, f):\n",
    "    return [f(x) for x in alist]\n",
    "\n",
    "alist = [r.normalvariate(1., 0.3) for i in range(5)]\n",
    "\n",
    "print(alist)\n",
    "print(apply_to_list(alist, myfunc))"
   ]
  },
  {
   "cell_type": "markdown",
   "metadata": {
    "id": "i4ZEtRONi6OM"
   },
   "source": [
    "Function `myfunc()` has really no other use other than when applied to a list. So its name is basically useless.\n",
    "\n",
    "Further, if we wanted now to apply a new function we would need to define a new useless function.\n",
    "\n",
    "Rather than definining a standard function with \n",
    "```python\n",
    "def myfunc(x):\n",
    "    return 1 + x**2 - x**3\n",
    "```\n",
    "we can do something more light weight."
   ]
  },
  {
   "cell_type": "markdown",
   "metadata": {
    "id": "xcm54G_7i6OM"
   },
   "source": [
    "We can create functions on the fly which do not have a name. Technically it means the function object does not have the `__name__` attribute [remember: also functions are objects in Python, so they have attributes and `__name__` is one of them].\n",
    "\n",
    "The solution with a `lambda` function is quite simple."
   ]
  },
  {
   "cell_type": "code",
   "execution_count": 18,
   "metadata": {
    "colab": {
     "base_uri": "https://localhost:8080/"
    },
    "executionInfo": {
     "elapsed": 325,
     "status": "ok",
     "timestamp": 1637652973738,
     "user": {
      "displayName": "Francesco Pannarale",
      "photoUrl": "https://lh3.googleusercontent.com/a/default-user=s64",
      "userId": "04296007763837408065"
     },
     "user_tz": -60
    },
    "id": "WnAT4wwti6OM",
    "outputId": "0fa4c3dc-5bb1-4b10-87cf-e69261990d9e",
    "scrolled": true
   },
   "outputs": [
    {
     "name": "stdout",
     "output_type": "stream",
     "text": [
      "[-0.38257239615618444, 0.2855057358036084, 0.14683946719303487, 1.0179113176359844, 0.7936287759764318]\n",
      "[-0.38257239615618444, 0.2855057358036084, 0.14683946719303487, 1.0179113176359844, 0.7936287759764318]\n"
     ]
    }
   ],
   "source": [
    "print(apply_to_list(alist, myfunc))\n",
    "print(apply_to_list(alist, lambda x: 1 + x**2 - x**3))"
   ]
  },
  {
   "cell_type": "markdown",
   "metadata": {
    "id": "rRgrdJeni6ON"
   },
   "source": [
    "### Sorting lists with lambda functions\n",
    "A typical use of `lambda` functions is list sorting."
   ]
  },
  {
   "cell_type": "code",
   "execution_count": 24,
   "metadata": {
    "colab": {
     "base_uri": "https://localhost:8080/"
    },
    "executionInfo": {
     "elapsed": 317,
     "status": "ok",
     "timestamp": 1637653225893,
     "user": {
      "displayName": "Francesco Pannarale",
      "photoUrl": "https://lh3.googleusercontent.com/a/default-user=s64",
      "userId": "04296007763837408065"
     },
     "user_tz": -60
    },
    "id": "C3AO8rrmi6ON",
    "outputId": "8172f1fb-2658-471c-d957-14caf54d3aff"
   },
   "outputs": [
    {
     "name": "stdout",
     "output_type": "stream",
     "text": [
      "Original data: [2.8812811136145253, 1.3813904243302286, 0.16703203894641916, 0.45674097063432684, 0.41423142450733597]\n",
      "Formated data: ['2.881', '1.381', '0.167', '0.457', '0.414']\n",
      "Sorted data: ['0.167', '0.414', '0.457', '1.381', '2.881']\n",
      "Data sorted by sin with lambda: ['0.167', '2.881', '0.414', '0.457', '1.381']\n",
      "Data sorted by sin without lambda: ['0.167', '2.881', '0.414', '0.457', '1.381']\n"
     ]
    }
   ],
   "source": [
    "vals = [r.uniform(0., 3.) for i in range(5)]\n",
    "print(\"Original data:\", vals)\n",
    "print(\"Formated data:\", [\"{0:0.3f}\".format(x) for x in vals])\n",
    "\n",
    "vals.sort()\n",
    "print(\"Sorted data:\", [\"%.3f\"%x for x in vals])\n",
    "\n",
    "vals.sort(key=lambda x: m.sin(x))\n",
    "print(\"Data sorted by sin with lambda:\",[\"%.3f\"%x for x in vals])\n",
    "\n",
    "vals.sort(key=m.sin)\n",
    "print(\"Data sorted by sin without lambda:\",[\"%.3f\"%x for x in vals])"
   ]
  },
  {
   "cell_type": "code",
   "execution_count": 23,
   "metadata": {},
   "outputs": [
    {
     "name": "stdout",
     "output_type": "stream",
     "text": [
      "Data sorted by sin without lambda: ['2.203', '1.567', '1.427', '0.912', '0.891']\n"
     ]
    }
   ],
   "source": [
    "vals.sort(key=lambda x: 1 + x**2 - x**3)\n",
    "print(\"Data sorted by sin without lambda:\",[\"%.3f\"%x for x in vals])"
   ]
  },
  {
   "cell_type": "code",
   "execution_count": 81,
   "metadata": {},
   "outputs": [
    {
     "name": "stdout",
     "output_type": "stream",
     "text": [
      "[0, -998, -84.375]\n"
     ]
    }
   ],
   "source": [
    "def apply_to_list_of_tuples(alist, f):\n",
    "    return [f(v1,v2) for v1,v2 in alist]\n",
    "\n",
    "vals = [(0,1), (1,10), (-9, 5.5)]\n",
    "\n",
    "vals2 = apply_to_list_of_tuples(vals, lambda x,y: 1 + x**2 - y**3)\n",
    "print(vals2)"
   ]
  },
  {
   "cell_type": "markdown",
   "metadata": {
    "id": "s1aNrf1Wi6ON"
   },
   "source": [
    "As an additonal use, we can sort the numbers based on unique numerals appearing in the number itself"
   ]
  },
  {
   "cell_type": "code",
   "execution_count": 25,
   "metadata": {
    "colab": {
     "base_uri": "https://localhost:8080/"
    },
    "executionInfo": {
     "elapsed": 309,
     "status": "ok",
     "timestamp": 1637653402557,
     "user": {
      "displayName": "Francesco Pannarale",
      "photoUrl": "https://lh3.googleusercontent.com/a/default-user=s64",
      "userId": "04296007763837408065"
     },
     "user_tz": -60
    },
    "id": "HKaO6LOZi6ON",
    "outputId": "94c68d84-33d1-42fb-95bf-9b9cf92977bd"
   },
   "outputs": [
    {
     "name": "stdout",
     "output_type": "stream",
     "text": [
      "['0.167', '2.881', '0.414', '0.457', '1.381']\n",
      "[{'7', '1', '0', '.', '6'}, {'2', '.', '8', '1'}, {'1', '0', '.', '4'}, {'7', '0', '.', '4', '5'}, {'3', '.', '8', '1'}]\n",
      "['2.881', '0.414', '1.381', '0.167', '0.457']\n"
     ]
    }
   ],
   "source": [
    "print([\"{0:0.3f}\".format(x) for x in vals])\n",
    "\n",
    "new_vals = [set(\"%.3f\"%x) for x in vals]\n",
    "print(new_vals)\n",
    "\n",
    "vals.sort(key=lambda x: len(set(\"%.3f\"%x)))\n",
    "print([\"%.3f\"%x for x in vals])"
   ]
  },
  {
   "cell_type": "markdown",
   "metadata": {
    "id": "jE9JNHJxi6ON"
   },
   "source": [
    "## 4. Functions with arbitrary number of arguments\n",
    "\n",
    "As seen for example with the `print()` function, functions can have a variable number of arguments. The same behaviour can easily be defined for any custom defined function for both **positional and keyword arguments**.\n",
    "\n",
    "### Positional arguments\n",
    "\n",
    "Additional arguments are taken via the special `*arg` argument which is a **tuple** of additional positional arguments."
   ]
  },
  {
   "cell_type": "code",
   "execution_count": 30,
   "metadata": {
    "executionInfo": {
     "elapsed": 304,
     "status": "ok",
     "timestamp": 1637653823179,
     "user": {
      "displayName": "Francesco Pannarale",
      "photoUrl": "https://lh3.googleusercontent.com/a/default-user=s64",
      "userId": "04296007763837408065"
     },
     "user_tz": -60
    },
    "id": "czcCS1MYi6ON"
   },
   "outputs": [],
   "source": [
    "def myfunc(a, *arg):\n",
    "    print(\"Positional arguments: %s %s\" % (a, arg))\n",
    "    if len(arg):\n",
    "        for x in arg:\n",
    "            print('[%s]\\t'%x)\n",
    "        print(type(arg), '\\n')"
   ]
  },
  {
   "cell_type": "code",
   "execution_count": 31,
   "metadata": {
    "colab": {
     "base_uri": "https://localhost:8080/",
     "height": 188
    },
    "executionInfo": {
     "elapsed": 5,
     "status": "error",
     "timestamp": 1637653826328,
     "user": {
      "displayName": "Francesco Pannarale",
      "photoUrl": "https://lh3.googleusercontent.com/a/default-user=s64",
      "userId": "04296007763837408065"
     },
     "user_tz": -60
    },
    "id": "IRhlaMGAwiEO",
    "outputId": "5ff9ee45-0d62-4d98-f893-70b88e2ffef9"
   },
   "outputs": [
    {
     "ename": "TypeError",
     "evalue": "myfunc() missing 1 required positional argument: 'a'",
     "output_type": "error",
     "traceback": [
      "\u001b[0;31m---------------------------------------------------------------------------\u001b[0m",
      "\u001b[0;31mTypeError\u001b[0m                                 Traceback (most recent call last)",
      "Cell \u001b[0;32mIn [31], line 1\u001b[0m\n\u001b[0;32m----> 1\u001b[0m \u001b[43mmyfunc\u001b[49m\u001b[43m(\u001b[49m\u001b[43m)\u001b[49m\n",
      "\u001b[0;31mTypeError\u001b[0m: myfunc() missing 1 required positional argument: 'a'"
     ]
    }
   ],
   "source": [
    "myfunc()"
   ]
  },
  {
   "cell_type": "code",
   "execution_count": 36,
   "metadata": {
    "colab": {
     "base_uri": "https://localhost:8080/"
    },
    "executionInfo": {
     "elapsed": 304,
     "status": "ok",
     "timestamp": 1637653826022,
     "user": {
      "displayName": "Francesco Pannarale",
      "photoUrl": "https://lh3.googleusercontent.com/a/default-user=s64",
      "userId": "04296007763837408065"
     },
     "user_tz": -60
    },
    "id": "F1Hm_94gi6OO",
    "outputId": "dec7c1c1-0587-497c-e368-2d0222de5815"
   },
   "outputs": [
    {
     "name": "stdout",
     "output_type": "stream",
     "text": [
      "Positional arguments: 1.1 ()\n"
     ]
    }
   ],
   "source": [
    "myfunc(1.1)"
   ]
  },
  {
   "cell_type": "code",
   "execution_count": 37,
   "metadata": {},
   "outputs": [
    {
     "name": "stdout",
     "output_type": "stream",
     "text": [
      "Positional arguments: 1.1 ()\n"
     ]
    }
   ],
   "source": [
    "myfunc(1.1, )"
   ]
  },
  {
   "cell_type": "code",
   "execution_count": 35,
   "metadata": {
    "colab": {
     "base_uri": "https://localhost:8080/"
    },
    "executionInfo": {
     "elapsed": 6,
     "status": "ok",
     "timestamp": 1637653826327,
     "user": {
      "displayName": "Francesco Pannarale",
      "photoUrl": "https://lh3.googleusercontent.com/a/default-user=s64",
      "userId": "04296007763837408065"
     },
     "user_tz": -60
    },
    "id": "qjfx58AJi6OO",
    "outputId": "0841c136-8143-469f-c535-abffc964c3a3"
   },
   "outputs": [
    {
     "name": "stdout",
     "output_type": "stream",
     "text": [
      "Positional arguments: hello ()\n"
     ]
    }
   ],
   "source": [
    "myfunc('hello')"
   ]
  },
  {
   "cell_type": "code",
   "execution_count": 38,
   "metadata": {
    "colab": {
     "base_uri": "https://localhost:8080/"
    },
    "executionInfo": {
     "elapsed": 4,
     "status": "ok",
     "timestamp": 1637653826653,
     "user": {
      "displayName": "Francesco Pannarale",
      "photoUrl": "https://lh3.googleusercontent.com/a/default-user=s64",
      "userId": "04296007763837408065"
     },
     "user_tz": -60
    },
    "id": "2cxdu3Pli6OP",
    "outputId": "6e78dbc9-4329-4d2a-fe45-59fa25565c34"
   },
   "outputs": [
    {
     "name": "stdout",
     "output_type": "stream",
     "text": [
      "Positional arguments: -0.2 (0.3, 'hello')\n",
      "[0.3]\t\n",
      "[hello]\t\n",
      "<class 'tuple'> \n",
      "\n"
     ]
    }
   ],
   "source": [
    "myfunc(-0.2, 0.3, 'hello')"
   ]
  },
  {
   "cell_type": "code",
   "execution_count": 40,
   "metadata": {
    "colab": {
     "base_uri": "https://localhost:8080/"
    },
    "executionInfo": {
     "elapsed": 389,
     "status": "ok",
     "timestamp": 1637653828593,
     "user": {
      "displayName": "Francesco Pannarale",
      "photoUrl": "https://lh3.googleusercontent.com/a/default-user=s64",
      "userId": "04296007763837408065"
     },
     "user_tz": -60
    },
    "id": "tHsJ7z0Ji6OQ",
    "outputId": "79e2163a-3603-4f11-91e6-832a05ae5da4"
   },
   "outputs": [
    {
     "name": "stdout",
     "output_type": "stream",
     "text": [
      "Positional arguments: -0.2 (0.3, 'hello', 'goodbye', -2, 100)\n",
      "[0.3]\t\n",
      "[hello]\t\n",
      "[goodbye]\t\n",
      "[-2]\t\n",
      "[100]\t\n",
      "<class 'tuple'> \n",
      "\n"
     ]
    }
   ],
   "source": [
    "myfunc(-0.2, 0.3, 'hello', 'goodbye', -2, 100, )"
   ]
  },
  {
   "cell_type": "markdown",
   "metadata": {
    "id": "MaxYThCTi6OR"
   },
   "source": [
    "### Keyword arguments\n",
    "\n",
    "For optional keyword arguments, the `**karg` feature is used.  This is a **dictionary**."
   ]
  },
  {
   "cell_type": "code",
   "execution_count": 41,
   "metadata": {
    "executionInfo": {
     "elapsed": 343,
     "status": "ok",
     "timestamp": 1637653848369,
     "user": {
      "displayName": "Francesco Pannarale",
      "photoUrl": "https://lh3.googleusercontent.com/a/default-user=s64",
      "userId": "04296007763837408065"
     },
     "user_tz": -60
    },
    "id": "y3-jnO8Qi6OS"
   },
   "outputs": [],
   "source": [
    "def myfunc2(a, mu=0.0, sig=0.1, **karg):\n",
    "    print(\"a: %s\"%(a))\n",
    "    print(\"Keyword arguments: %s %s %s\" % (mu, sig, karg))\n",
    "    if len(karg):\n",
    "        for x in karg:\n",
    "            print('[%s]\\t' % x)\n",
    "        print(type(karg), '\\n')"
   ]
  },
  {
   "cell_type": "code",
   "execution_count": 42,
   "metadata": {},
   "outputs": [
    {
     "ename": "TypeError",
     "evalue": "myfunc2() missing 1 required positional argument: 'a'",
     "output_type": "error",
     "traceback": [
      "\u001b[0;31m---------------------------------------------------------------------------\u001b[0m",
      "\u001b[0;31mTypeError\u001b[0m                                 Traceback (most recent call last)",
      "Cell \u001b[0;32mIn [42], line 1\u001b[0m\n\u001b[0;32m----> 1\u001b[0m \u001b[43mmyfunc2\u001b[49m\u001b[43m(\u001b[49m\u001b[43m)\u001b[49m\n",
      "\u001b[0;31mTypeError\u001b[0m: myfunc2() missing 1 required positional argument: 'a'"
     ]
    }
   ],
   "source": [
    "myfunc2()"
   ]
  },
  {
   "cell_type": "code",
   "execution_count": 43,
   "metadata": {
    "colab": {
     "base_uri": "https://localhost:8080/"
    },
    "executionInfo": {
     "elapsed": 315,
     "status": "ok",
     "timestamp": 1637653919354,
     "user": {
      "displayName": "Francesco Pannarale",
      "photoUrl": "https://lh3.googleusercontent.com/a/default-user=s64",
      "userId": "04296007763837408065"
     },
     "user_tz": -60
    },
    "id": "6BngpfAyi6OS",
    "outputId": "e4ca0c1a-6658-4d97-b685-9d09af979724"
   },
   "outputs": [
    {
     "name": "stdout",
     "output_type": "stream",
     "text": [
      "a: 0.11111\n",
      "Keyword arguments: 0.0 0.1 {}\n"
     ]
    }
   ],
   "source": [
    "myfunc2(0.11111)"
   ]
  },
  {
   "cell_type": "code",
   "execution_count": 47,
   "metadata": {
    "colab": {
     "base_uri": "https://localhost:8080/"
    },
    "executionInfo": {
     "elapsed": 341,
     "status": "ok",
     "timestamp": 1637653934995,
     "user": {
      "displayName": "Francesco Pannarale",
      "photoUrl": "https://lh3.googleusercontent.com/a/default-user=s64",
      "userId": "04296007763837408065"
     },
     "user_tz": -60
    },
    "id": "qGG38nigi6OT",
    "outputId": "bbcfb2ba-3b51-4f67-9129-02b6dce28b8d"
   },
   "outputs": [
    {
     "name": "stdout",
     "output_type": "stream",
     "text": [
      "a: 0.3\n",
      "Keyword arguments: 0.0 0.5 {}\n"
     ]
    }
   ],
   "source": [
    "myfunc2(0.3, sig=0.5)"
   ]
  },
  {
   "cell_type": "code",
   "execution_count": 48,
   "metadata": {
    "colab": {
     "base_uri": "https://localhost:8080/"
    },
    "executionInfo": {
     "elapsed": 3,
     "status": "ok",
     "timestamp": 1637653774560,
     "user": {
      "displayName": "Francesco Pannarale",
      "photoUrl": "https://lh3.googleusercontent.com/a/default-user=s64",
      "userId": "04296007763837408065"
     },
     "user_tz": -60
    },
    "id": "SQgaY_zIi6OT",
    "outputId": "33bcf209-2756-412f-b690-5bd97b41ce95"
   },
   "outputs": [
    {
     "name": "stdout",
     "output_type": "stream",
     "text": [
      "a: 0.3\n",
      "Keyword arguments: 0.0 0.1 {'color': 'red'}\n",
      "[color]\t\n",
      "<class 'dict'> \n",
      "\n"
     ]
    }
   ],
   "source": [
    "myfunc2(0.3, color='red')"
   ]
  },
  {
   "cell_type": "code",
   "execution_count": 51,
   "metadata": {
    "colab": {
     "base_uri": "https://localhost:8080/"
    },
    "executionInfo": {
     "elapsed": 332,
     "status": "ok",
     "timestamp": 1637653777185,
     "user": {
      "displayName": "Francesco Pannarale",
      "photoUrl": "https://lh3.googleusercontent.com/a/default-user=s64",
      "userId": "04296007763837408065"
     },
     "user_tz": -60
    },
    "id": "c_YjpG5si6OT",
    "outputId": "38557f8c-b218-4e81-b65c-1df338607bc9"
   },
   "outputs": [
    {
     "name": "stdout",
     "output_type": "stream",
     "text": [
      "a: 2.0\n",
      "Keyword arguments: 0.6 0.1 {'color': 'red'}\n",
      "[color]\t\n",
      "<class 'dict'> \n",
      "\n"
     ]
    }
   ],
   "source": [
    "myfunc2(2., color='red', mu=0.6)"
   ]
  },
  {
   "cell_type": "markdown",
   "metadata": {
    "id": "MXNooT9ci6OT"
   },
   "source": [
    "The additional keyword arguments are stored as a dictionary."
   ]
  },
  {
   "cell_type": "code",
   "execution_count": 61,
   "metadata": {
    "colab": {
     "base_uri": "https://localhost:8080/"
    },
    "executionInfo": {
     "elapsed": 331,
     "status": "ok",
     "timestamp": 1637654106527,
     "user": {
      "displayName": "Francesco Pannarale",
      "photoUrl": "https://lh3.googleusercontent.com/a/default-user=s64",
      "userId": "04296007763837408065"
     },
     "user_tz": -60
    },
    "id": "fPHAPMiqi6OU",
    "outputId": "b2e90d73-8d13-4910-8c8e-ea6ecbbe39ca"
   },
   "outputs": [
    {
     "name": "stdout",
     "output_type": "stream",
     "text": [
      "a: 0.1\n",
      "Keyword arguments: 0.0 0.1 {}\n"
     ]
    }
   ],
   "source": [
    "def myfunc3(a,mu=0.0, sig=0.1, **karg):\n",
    "    print(\"a: %s\"%(a))\n",
    "    print(\"Keyword arguments: %s %s %s\" % (mu, sig, karg))\n",
    "    if len(karg):\n",
    "        for x in karg.keys():\n",
    "            print('[%s = %s]\\t'%(x, karg[x]))\n",
    "        print(type(karg), '\\n')\n",
    "        \n",
    "myfunc3(0.1)"
   ]
  },
  {
   "cell_type": "code",
   "execution_count": 62,
   "metadata": {
    "colab": {
     "base_uri": "https://localhost:8080/"
    },
    "executionInfo": {
     "elapsed": 307,
     "status": "ok",
     "timestamp": 1637654110258,
     "user": {
      "displayName": "Francesco Pannarale",
      "photoUrl": "https://lh3.googleusercontent.com/a/default-user=s64",
      "userId": "04296007763837408065"
     },
     "user_tz": -60
    },
    "id": "04AJkcc-i6OU",
    "outputId": "738534ca-dfea-4cf5-aa31-2b55a29a3432"
   },
   "outputs": [
    {
     "name": "stdout",
     "output_type": "stream",
     "text": [
      "a: 0.3\n",
      "Keyword arguments: 0.6 0.1 {'color': 'red'}\n",
      "[color = red]\t\n",
      "<class 'dict'> \n",
      "\n"
     ]
    }
   ],
   "source": [
    "myfunc3(0.3, color='red', mu=0.6)"
   ]
  },
  {
   "cell_type": "markdown",
   "metadata": {
    "id": "moGGuabni6OU"
   },
   "source": [
    "### Combine both positional and keyword arguments for the most generic function"
   ]
  },
  {
   "cell_type": "code",
   "execution_count": 14,
   "metadata": {
    "colab": {
     "base_uri": "https://localhost:8080/"
    },
    "executionInfo": {
     "elapsed": 330,
     "status": "ok",
     "timestamp": 1637654338303,
     "user": {
      "displayName": "Francesco Pannarale",
      "photoUrl": "https://lh3.googleusercontent.com/a/default-user=s64",
      "userId": "04296007763837408065"
     },
     "user_tz": -60
    },
    "id": "glE-LFXYi6OV",
    "outputId": "763dd6a5-8699-4575-f21e-bf0a6c5c6ba1"
   },
   "outputs": [
    {
     "name": "stdout",
     "output_type": "stream",
     "text": [
      "Myfunc4 called\n",
      "Positional:  a: -0.1.     Optional: ()\n",
      "keyword: 0 1 {}\n",
      "Myfunc4 called\n",
      "Positional:  a: 0.3.     Optional: ('x', 'y', 0.9)\n",
      "[x]\t\n",
      "[y]\t\n",
      "[0.9]\t\n",
      "<class 'tuple'> \n",
      "\n",
      "keyword: 0.6 1 {'color': 'red', 'thick': 1.1, 'fill': 'true'}\n",
      "[color = red]\t\n",
      "[thick = 1.1]\t\n",
      "[fill = true]\t\n",
      "<class 'dict'> \n",
      "\n",
      "red is my favourite color\n"
     ]
    }
   ],
   "source": [
    "def myfunc4(a, *arg, mu=0, sig=1, **karg):\n",
    "    print(\"Myfunc4 called\")\n",
    "    print(\"Positional:  a: %s.     Optional: %s\" % (a, arg))\n",
    "    if len(arg):\n",
    "        for x in arg:\n",
    "            print('[%s]\\t' % x)\n",
    "        print(type(arg), '\\n')\n",
    "    print(\"keyword: %s %s %s\" % (mu, sig, karg))    \n",
    "    if len(karg):\n",
    "        for x in karg.keys():\n",
    "            print('[%s = %s]\\t' % (x, karg[x]))\n",
    "        print(type(karg), '\\n')\n",
    "    \n",
    "    try:\n",
    "        print(karg['color']+' is my favourite color')\n",
    "    except:\n",
    "        pass\n",
    "    \n",
    "myfunc4(-0.1)\n",
    "\n",
    "myfunc4(0.3, 'x', 'y', 0.9, color='red', mu=0.6, thick=1.1, fill='true')"
   ]
  },
  {
   "cell_type": "code",
   "execution_count": 6,
   "metadata": {
    "colab": {
     "base_uri": "https://localhost:8080/"
    },
    "executionInfo": {
     "elapsed": 401,
     "status": "ok",
     "timestamp": 1637654274883,
     "user": {
      "displayName": "Francesco Pannarale",
      "photoUrl": "https://lh3.googleusercontent.com/a/default-user=s64",
      "userId": "04296007763837408065"
     },
     "user_tz": -60
    },
    "id": "aL-EPmbRi6OV",
    "outputId": "9298f6c4-676b-41e9-aa3b-61e97098314e"
   },
   "outputs": [
    {
     "ename": "TypeError",
     "evalue": "myfunc4() missing 1 required positional argument: 'a'",
     "output_type": "error",
     "traceback": [
      "\u001b[0;31m---------------------------------------------------------------------------\u001b[0m",
      "\u001b[0;31mTypeError\u001b[0m                                 Traceback (most recent call last)",
      "Cell \u001b[0;32mIn [6], line 1\u001b[0m\n\u001b[0;32m----> 1\u001b[0m \u001b[43mmyfunc4\u001b[49m\u001b[43m(\u001b[49m\u001b[43m)\u001b[49m\n",
      "\u001b[0;31mTypeError\u001b[0m: myfunc4() missing 1 required positional argument: 'a'"
     ]
    }
   ],
   "source": [
    "myfunc4()"
   ]
  },
  {
   "cell_type": "code",
   "execution_count": 7,
   "metadata": {},
   "outputs": [
    {
     "name": "stdout",
     "output_type": "stream",
     "text": [
      "Myfunc4 called\n",
      "Positional:  a: -0.1.     Optional: (10.1,)\n",
      "[10.1]\t\n",
      "<class 'tuple'> \n",
      "\n",
      "keyword: 0 1 {}\n"
     ]
    }
   ],
   "source": [
    "myfunc4(-0.1, 10.1)"
   ]
  },
  {
   "cell_type": "code",
   "execution_count": 8,
   "metadata": {
    "colab": {
     "base_uri": "https://localhost:8080/"
    },
    "executionInfo": {
     "elapsed": 2,
     "status": "ok",
     "timestamp": 1637654275292,
     "user": {
      "displayName": "Francesco Pannarale",
      "photoUrl": "https://lh3.googleusercontent.com/a/default-user=s64",
      "userId": "04296007763837408065"
     },
     "user_tz": -60
    },
    "id": "rGTvl08Xi6OV",
    "outputId": "9564bdf0-8797-49c0-b893-a1ea39d9080d"
   },
   "outputs": [
    {
     "name": "stdout",
     "output_type": "stream",
     "text": [
      "Myfunc4 called\n",
      "Positional:  a: -0.1.     Optional: ()\n",
      "keyword: 10.1 1 {}\n"
     ]
    }
   ],
   "source": [
    "myfunc4(-0.1, mu=10.1)"
   ]
  },
  {
   "cell_type": "code",
   "execution_count": 9,
   "metadata": {
    "colab": {
     "base_uri": "https://localhost:8080/"
    },
    "executionInfo": {
     "elapsed": 311,
     "status": "ok",
     "timestamp": 1637654345934,
     "user": {
      "displayName": "Francesco Pannarale",
      "photoUrl": "https://lh3.googleusercontent.com/a/default-user=s64",
      "userId": "04296007763837408065"
     },
     "user_tz": -60
    },
    "id": "wsjH_PRki6OV",
    "outputId": "00dc4660-a818-4a87-85bf-316b73435bbf"
   },
   "outputs": [
    {
     "name": "stdout",
     "output_type": "stream",
     "text": [
      "Myfunc4 called\n",
      "Positional:  a: 0.3.     Optional: ('x', 'y', 0.9)\n",
      "[x]\t\n",
      "[y]\t\n",
      "[0.9]\t\n",
      "<class 'tuple'> \n",
      "\n",
      "keyword: 0.6 1 {'color': 'red', 'thick': 1.1, 'fill': 'true'}\n",
      "[color = red]\t\n",
      "[thick = 1.1]\t\n",
      "[fill = true]\t\n",
      "<class 'dict'> \n",
      "\n"
     ]
    }
   ],
   "source": [
    "myfunc4(0.3, 'x', 'y', 0.9, color='red', mu=0.6, thick=1.1, fill='true')"
   ]
  },
  {
   "cell_type": "markdown",
   "metadata": {
    "id": "m75z6Yg_i6OV"
   },
   "source": [
    "# COMMAND LINE ARGUMENTS\n",
    "\n",
    "Since we covered function arguments, it is only natural to wonder how to provide arguments to a Python script being run from command line.\n",
    "\n",
    "The `sys` module grants easy access to command line arguments as a list. An example is in `examples/Python/cmd_line_args.py`, which reads:\n",
    "\n",
    "```Python\n",
    "import sys, os\n",
    "\n",
    "print(\"Running \" + __file__)\n",
    "\n",
    "print(\"Running \" + os.path.basename(__file__))\n",
    "\n",
    "print(\"Program called with %d arguments\" % len(sys.argv))\n",
    "\n",
    "for a in sys.argv:\n",
    "    print(a)\n",
    "```\n",
    "\n",
    "Run this in a terminal (with `python3`!) to see what happens."
   ]
  },
  {
   "cell_type": "markdown",
   "metadata": {
    "id": "uwv8fpcii6OV"
   },
   "source": [
    "# READY FOR `examples/Python/4-NumPy.ipynb`!"
   ]
  }
 ],
 "metadata": {
  "colab": {
   "collapsed_sections": [],
   "name": "3-MoreFuncs.ipynb",
   "provenance": []
  },
  "kernelspec": {
   "display_name": "Python 3 (ipykernel)",
   "language": "python",
   "name": "python3"
  },
  "language_info": {
   "codemirror_mode": {
    "name": "ipython",
    "version": 3
   },
   "file_extension": ".py",
   "mimetype": "text/x-python",
   "name": "python",
   "nbconvert_exporter": "python",
   "pygments_lexer": "ipython3",
   "version": "3.10.7"
  }
 },
 "nbformat": 4,
 "nbformat_minor": 1
}
