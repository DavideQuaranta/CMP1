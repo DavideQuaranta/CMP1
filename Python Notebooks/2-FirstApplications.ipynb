{
 "cells": [
  {
   "cell_type": "markdown",
   "metadata": {
    "id": "Mj_hUIvYCcQo"
   },
   "source": [
    "# 1. COUNTING WORDS"
   ]
  },
  {
   "cell_type": "markdown",
   "metadata": {},
   "source": [
    "Get the name of the file and open it.\n",
    "If you are running on google colab, make sure you upload `examples/Python/words.txt` to the directory `content/` (the default search space for a Jupyter notebook on colab)."
   ]
  },
  {
   "cell_type": "code",
   "execution_count": 2,
   "metadata": {
    "colab": {
     "base_uri": "https://localhost:8080/"
    },
    "executionInfo": {
     "elapsed": 12629,
     "status": "ok",
     "timestamp": 1637270446054,
     "user": {
      "displayName": "Francesco Pannarale",
      "photoUrl": "https://lh3.googleusercontent.com/a/default-user=s64",
      "userId": "04296007763837408065"
     },
     "user_tz": -60
    },
    "id": "tDWwIlFQCcQt",
    "outputId": "52e593a5-7de3-443c-bda5-26da9d3828eb"
   },
   "outputs": [
    {
     "name": "stdout",
     "output_type": "stream",
     "text": [
      "Enter file (default is words.txt):\n",
      "The most common word is 'in'. It appears 3 times in 'words.txt'.\n"
     ]
    }
   ],
   "source": [
    "name = input('Enter file (default is words.txt):')\n",
    "try:\n",
    "    handle = open(name, 'r')\n",
    "except:\n",
    "    handle = open(\"words.txt\", 'r')\n",
    "    \n",
    "# Count word frequency\n",
    "counts = dict()\n",
    "for line in handle:\n",
    "    words = line.split()\n",
    "    for word in words:\n",
    "        counts[word] = counts.get(word,0) + 1 \n",
    "\n",
    "# Find the most common word\n",
    "# None: defines a null value, or no value at all\n",
    "# - It is not the same as 0, False, or an empty string\n",
    "# - It is a data type of its own (NoneType)\n",
    "# - Only None can be None\n",
    "bigcount = None\n",
    "bigword = None\n",
    "for word,count in counts.items():\n",
    "    if bigcount is None or count > bigcount:\n",
    "        bigword = word\n",
    "        bigcount = count\n",
    "\n",
    "# All done\n",
    "print(\"The most common word is '{0}'. It appears {2} times in '{1}'.\".format(bigword, handle.name, bigcount))"
   ]
  },
  {
   "cell_type": "markdown",
   "metadata": {},
   "source": [
    "# 2. MOTION OF A BODY UNDER GRAVITY\n",
    "\n",
    "We want to simulate the motion of a body under gravity. We also want to plot the trajectory to check our results. To do so, we will use `matplotlib`, a Python library to create static, animated, and interactive visualizations.\n",
    "\n",
    "\n",
    "\n",
    "**Important:** \n",
    "- In the following you will see the magic commands `%matplotlib notebook` and `%matplotlib inline`: this kind of command is only needed in Jupyter and should not be placed in a Python program.\n",
    "- It is needed **only once** in the notebook before plotting. Here, we have it once per cell to make each cell standalone.  [The same is true about all the `import`'s you will find.]\n",
    "- If `%matplotlib notebook` does not seem to work as expected on Google Colab, try using `%matplotlib inline` (but do try `%matplotlib notebook` first on your personal machine)."
   ]
  },
  {
   "cell_type": "markdown",
   "metadata": {
    "id": "iUfTxrprCcQ3"
   },
   "source": [
    "We will use the NumPy function `arange()`:\n",
    "```python\n",
    "arange([start,] stop[, step,])\n",
    "```\n",
    "It returns evenly spaced values within a given interval.\n",
    "\n",
    "We will learn more about NumPy in future lectures."
   ]
  },
  {
   "cell_type": "markdown",
   "metadata": {},
   "source": [
    "For convenience this example is also reported in `examples/Python/gravity1.py`."
   ]
  },
  {
   "cell_type": "code",
   "execution_count": 6,
   "metadata": {
    "colab": {
     "base_uri": "https://localhost:8080/",
     "height": 380
    },
    "executionInfo": {
     "elapsed": 5951,
     "status": "ok",
     "timestamp": 1637271134586,
     "user": {
      "displayName": "Francesco Pannarale",
      "photoUrl": "https://lh3.googleusercontent.com/a/default-user=s64",
      "userId": "04296007763837408065"
     },
     "user_tz": -60
    },
    "id": "MP4ZfQFHCcQ0",
    "outputId": "25d301d6-cc05-4134-f1cd-f086b2a990c3"
   },
   "outputs": [
    {
     "name": "stdout",
     "output_type": "stream",
     "text": [
      "Insert dt > 0 in sec (press return for 0.01 sec): \n",
      "Insert angle theta in (0,90) degrees (press return for 23.0 degrees): \n",
      "Insert initial height h in m: (press return for h = 5.0 m): \n",
      "Insert v_0 > 0 in m/s (press return for 10.0 m/s): \n",
      "v0_x: 9.205 m/s \t v0_y: 3.907 m/s\n",
      "[0.0, 0.01, 0.02, 0.03, 0.04, 0.05, 0.06, 0.07, 0.08, 0.09]\n",
      "total steps:\t 149 \n",
      "last x:\t\t 13.62\n",
      "last y:\t\t 0.050\n"
     ]
    },
    {
     "data": {
      "text/plain": [
       "(-0.01, 6.356816965352806)"
      ]
     },
     "execution_count": 6,
     "metadata": {},
     "output_type": "execute_result"
    },
    {
     "data": {
      "image/png": "[encoded data removed]",
      "text/plain": [
       "<Figure size 640x480 with 1 Axes>"
      ]
     },
     "metadata": {},
     "output_type": "display_data"
    }
   ],
   "source": [
    "# ONLY for Jupyter notebook\n",
    "#%matplotlib notebook\n",
    "%matplotlib inline\n",
    "\n",
    "# Import modules\n",
    "import matplotlib.pyplot as plt\n",
    "import math\n",
    "import numpy as np\n",
    "\n",
    "# Gravity!\n",
    "g = 9.8   # m/s^2\n",
    "\n",
    "# Function to test values provided for initial conditions or integration settings\n",
    "# The 4 parameters that the user may want to customize are:\n",
    "# 1) the time step (dt)\n",
    "# 2) the angle at which the bullet is shot (theta)\n",
    "# 3) the height from which the bullet is shot (h)\n",
    "# 4) the speed at which the bullet is shot (v0)\n",
    "def test_val(var, val):\n",
    "    test = False\n",
    "    # Accept integration steps and initial velocities only if > 0\n",
    "    if var in ['dt', 'v0']:\n",
    "        test = val>0\n",
    "    # Accept initial height >= 0\n",
    "    elif var=='h':\n",
    "        test = val>=0\n",
    "    # Assuming that val can only be 'theta' at this point\n",
    "    # allow only 0 < theta < 90 [degrees]\n",
    "    else:\n",
    "        test = (val>0 and val<90)\n",
    "\n",
    "    return test\n",
    "        \n",
    "\n",
    "# Function to handle reading in initial conditions and integration settings\n",
    "def set_param(var):\n",
    "    # Dictionary of default values\n",
    "    defaults = {\n",
    "        'dt':     0.01, # [s] Default value of the time step\n",
    "        'theta': 23.,  # [deg] Default value of the angle at which the bullet is shot\n",
    "        'h':      5.,  # [m] Default value of the height from which the bullet is shot\n",
    "        'v0':     10., # [m/s] Default value of the speed at which the bullet is shot\n",
    "    }\n",
    "    # Dictionary of info messages to the user\n",
    "    msgs = {\n",
    "        'dt': \"Insert dt > 0 in sec (press return for {0} sec): \".format(defaults['dt']),\n",
    "        'theta': \"Insert angle theta in (0,90) degrees (press return for {0} degrees): \".format(defaults['theta']),\n",
    "        'h': \"Insert initial height h in m: (press return for h = {0} m): \".format(defaults['h']),\n",
    "        'v0': \"Insert v_0 > 0 in m/s (press return for {0} m/s): \".format(defaults['v0'])\n",
    "    }\n",
    "    # Start by reading a value and continue until happy with value provided\n",
    "    while True:\n",
    "        val_in = input(msgs[var])\n",
    "        # Allow default value\n",
    "        if val_in==\"\":\n",
    "            val_out = defaults[var]\n",
    "            break\n",
    "        # Convert to float...\n",
    "        try:\n",
    "            val_out = float(val_in)\n",
    "        except:\n",
    "            val_out = -1\n",
    "        # ...and test value\n",
    "        if test_val(var, val_out):\n",
    "            break\n",
    "\n",
    "    # Convert theta from degrees to radians\n",
    "    if var=='theta':\n",
    "        val_out = math.radians(val_out)\n",
    "    \n",
    "    return val_out\n",
    "\n",
    "\n",
    "# Offer the user the chance to customize values of dt, theta, h, v0\n",
    "dt = set_param('dt')\n",
    "theta = set_param('theta')\n",
    "h = set_param('h')\n",
    "v0 = set_param('v0')\n",
    "\n",
    "# Compute initial velocity components\n",
    "v0x = v0*math.cos(theta)\n",
    "v0y = v0*math.sin(theta)\n",
    "print(\"v0_x: %.3f m/s \\t v0_y: %.3f m/s\"%(v0x,v0y))\n",
    "\n",
    "# Initial position coordinates\n",
    "x0 = 0\n",
    "y0 = h\n",
    "\n",
    "# \"Evolution\" functions\n",
    "def x(t):\n",
    "    return x0 + v0x*t\n",
    "\n",
    "def y(t):\n",
    "    return y0 + v0y*t - 0.5*g*t*t\n",
    "\n",
    "# Generate list of times for sampling\n",
    "times = np.arange(0., 1000., dt).tolist() \n",
    "\n",
    "# Print first 10 elements\n",
    "print(times[:10])\n",
    "\n",
    "# Compute x(t_i)\n",
    "xi = [x(t) for t in times if y(t)>=0.]\n",
    "\n",
    "# Compute y(t_i)\n",
    "yi = [y(t) for t in times if y(t)>=0.]\n",
    "\n",
    "print( \"total steps:\\t %-4d\"%len(xi))\n",
    "print( \"last x:\\t\\t %.2f\"%xi[-1])\n",
    "print( \"last y:\\t\\t %.3f\"%yi[-1])\n",
    "\n",
    "# Plot results...\n",
    "plt.plot(xi, yi, label='trajectory', color='red', marker='.')\n",
    "plt.legend()\n",
    "\n",
    "# ...and make them look good\n",
    "plt.title('motion under gravity')\n",
    "plt.xlabel(\"x [m]\")\n",
    "plt.ylabel(\"y [m]\")\n",
    "plt.grid(True)\n",
    "plt.xlim(-0.01, max(xi)*1.1)\n",
    "plt.ylim(-0.01,max(yi)*1.10)\n",
    "\n",
    "# Only for script\n",
    "#plt.show()\n",
    "# or use this to save your plot\n",
    "#plt.savefig(\"./gravity.png\")"
   ]
  },
  {
   "cell_type": "markdown",
   "metadata": {
    "id": "VVgEjyivCcQ4"
   },
   "source": [
    "# 3. PLOTTING A HISTOGRAM\n",
    "\n",
    "All you need are two collections (lists in this case)\n",
    "- values on the *x* axis\n",
    "- the number of counts for each value of *x*\n",
    "\n",
    "We use the [matplotlib.pyplot.bar](https://matplotlib.org/3.1.1/api/_as_gen/matplotlib.pyplot.bar.html) function for this purpose"
   ]
  },
  {
   "cell_type": "markdown",
   "metadata": {
    "id": "AIAB3NnaCcQ5"
   },
   "source": [
    "Our data"
   ]
  },
  {
   "cell_type": "code",
   "execution_count": 7,
   "metadata": {
    "executionInfo": {
     "elapsed": 410,
     "status": "ok",
     "timestamp": 1637271195918,
     "user": {
      "displayName": "Francesco Pannarale",
      "photoUrl": "https://lh3.googleusercontent.com/a/default-user=s64",
      "userId": "04296007763837408065"
     },
     "user_tz": -60
    },
    "id": "3BDxsHljCcQ6"
   },
   "outputs": [],
   "source": [
    "import random as r\n",
    "\n",
    "grades = []\n",
    "\n",
    "for i in range(50):\n",
    "    grades.append(r.randrange(10,31))\n",
    "\n",
    "vals = set(grades)\n",
    "\n",
    "data = {}\n",
    "for v in vals:\n",
    "    data[v] = grades.count(v)\n",
    "    \n",
    "    "
   ]
  },
  {
   "cell_type": "code",
   "execution_count": 8,
   "metadata": {
    "colab": {
     "base_uri": "https://localhost:8080/",
     "height": 312
    },
    "executionInfo": {
     "elapsed": 5,
     "status": "ok",
     "timestamp": 1637271197658,
     "user": {
      "displayName": "Francesco Pannarale",
      "photoUrl": "https://lh3.googleusercontent.com/a/default-user=s64",
      "userId": "04296007763837408065"
     },
     "user_tz": -60
    },
    "id": "qlQfaDvJCcQ6",
    "outputId": "c6bd8e6d-ddd8-47be-e665-d86512d7e78f"
   },
   "outputs": [
    {
     "data": {
      "text/plain": [
       "<matplotlib.legend.Legend at 0x11feb5900>"
      ]
     },
     "execution_count": 8,
     "metadata": {},
     "output_type": "execute_result"
    },
    {
     "data": {
      "image/png": "[encoded data removed]",
      "text/plain": [
       "<Figure size 640x480 with 1 Axes>"
      ]
     },
     "metadata": {},
     "output_type": "display_data"
    }
   ],
   "source": [
    "# ONLY for Jupyter notebook\n",
    "#%matplotlib notebook\n",
    "%matplotlib inline\n",
    "\n",
    "import matplotlib.pyplot as plt\n",
    "\n",
    "plt.bar(list(data.keys()), list(data.values()), color='magenta', label=\"grades\")\n",
    "plt.title(\"Distribution of grades in the exam\")\n",
    "plt.xlabel('grade')\n",
    "plt.ylabel('frequency')\n",
    "plt.grid()\n",
    "plt.legend()\n",
    "#plt.show()\n"
   ]
  },
  {
   "cell_type": "markdown",
   "metadata": {
    "id": "2yKQkxKoCcQ6"
   },
   "source": [
    "You could also create a histogram using  [matplotlib.pyplot.hist](https://matplotlib.org/3.3.3/api/_as_gen/matplotlib.pyplot.hist.html)\n",
    "\n",
    "Note the strange-looking syntax since `hist` is returning more than one value! This is a feature of functions in Python which we will discuss shortly"
   ]
  },
  {
   "cell_type": "code",
   "execution_count": 13,
   "metadata": {
    "colab": {
     "base_uri": "https://localhost:8080/",
     "height": 350
    },
    "executionInfo": {
     "elapsed": 407,
     "status": "ok",
     "timestamp": 1637271203806,
     "user": {
      "displayName": "Francesco Pannarale",
      "photoUrl": "https://lh3.googleusercontent.com/a/default-user=s64",
      "userId": "04296007763837408065"
     },
     "user_tz": -60
    },
    "id": "ww_kbWU7CcQ7",
    "outputId": "9e98e590-0688-4578-ad52-8bbe1d730377"
   },
   "outputs": [
    {
     "name": "stdout",
     "output_type": "stream",
     "text": [
      "[5. 1. 3. 2. 1. 3. 2. 1. 2. 1. 1. 3. 6. 4. 1. 3. 5. 3. 0. 3.]\n",
      "[10. 11. 12. 13. 14. 15. 16. 17. 18. 19. 20. 21. 22. 23. 24. 25. 26. 27.\n",
      " 28. 29. 30.]\n"
     ]
    },
    {
     "data": {
      "image/png": "[encoded data removed]",
      "text/plain": [
       "<Figure size 640x480 with 1 Axes>"
      ]
     },
     "metadata": {},
     "output_type": "display_data"
    }
   ],
   "source": [
    "# ONLY for Jupyter notebook\n",
    "#%matplotlib notebook\n",
    "%matplotlib inline\n",
    "\n",
    "n, bins, patches = plt.hist(grades, facecolor='green', bins=len(set(grades)))\n",
    "print(n)\n",
    "print(bins)\n"
   ]
  },
  {
   "cell_type": "markdown",
   "metadata": {
    "id": "oCe9f4XwCcQ7"
   },
   "source": [
    "# READY FOR `examples/Python/3-MoreFuncs.ipynb`!"
   ]
  }
 ],
 "metadata": {
  "colab": {
   "collapsed_sections": [
    "Mj_hUIvYCcQo"
   ],
   "name": "2-FirstApplications.ipynb",
   "provenance": []
  },
  "kernelspec": {
   "display_name": "Python 3 (ipykernel)",
   "language": "python",
   "name": "python3"
  },
  "language_info": {
   "codemirror_mode": {
    "name": "ipython",
    "version": 3
   },
   "file_extension": ".py",
   "mimetype": "text/x-python",
   "name": "python",
   "nbconvert_exporter": "python",
   "pygments_lexer": "ipython3",
   "version": "3.10.7"
  }
 },
 "nbformat": 4,
 "nbformat_minor": 1
}
