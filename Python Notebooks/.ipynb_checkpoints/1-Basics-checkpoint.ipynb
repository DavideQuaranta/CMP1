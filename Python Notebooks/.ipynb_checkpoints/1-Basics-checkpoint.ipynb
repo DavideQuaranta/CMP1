{
 "cells": [
  {
   "cell_type": "markdown",
   "metadata": {
    "id": "uspFW50qzdyM"
   },
   "source": [
    "# 1. SEMANTICS\n",
    "- Variables\n",
    "- Expressions\n",
    "- Types\n",
    "- Input"
   ]
  },
  {
   "cell_type": "markdown",
   "metadata": {
    "id": "j1J0u51lqPrQ"
   },
   "source": [
    "# Input from keyboard\n",
    "\n",
    "`input()` acquires simple text from keyboard and returns it as a `str`."
   ]
  },
  {
   "cell_type": "code",
   "execution_count": 3,
   "metadata": {
    "colab": {
     "base_uri": "https://localhost:8080/",
     "height": 249
    },
    "executionInfo": {
     "elapsed": 5499,
     "status": "error",
     "timestamp": 1636631089379,
     "user": {
      "displayName": "Francesco Pannarale",
      "photoUrl": "https://lh3.googleusercontent.com/a/default-user=s64",
      "userId": "04296007763837408065"
     },
     "user_tz": -60
    },
    "id": "ww8Qfl9xqPrR",
    "outputId": "d49921a2-8ac7-430a-e3b8-64a5a9954ba4"
   },
   "outputs": [
    {
     "name": "stdout",
     "output_type": "stream",
     "text": [
      "insert a number: 54\n",
      "<class 'str'>\n",
      "your input:  54\n"
     ]
    },
    {
     "ename": "TypeError",
     "evalue": "'>' not supported between instances of 'str' and 'int'",
     "output_type": "error",
     "traceback": [
      "\u001b[1;31m---------------------------------------------------------------------------\u001b[0m",
      "\u001b[1;31mTypeError\u001b[0m                                 Traceback (most recent call last)",
      "\u001b[1;32m~\\AppData\\Local\\Temp/ipykernel_5996/358854777.py\u001b[0m in \u001b[0;36m<module>\u001b[1;34m\u001b[0m\n\u001b[0;32m      2\u001b[0m \u001b[0mprint\u001b[0m\u001b[1;33m(\u001b[0m\u001b[0mtype\u001b[0m\u001b[1;33m(\u001b[0m\u001b[0mz\u001b[0m\u001b[1;33m)\u001b[0m\u001b[1;33m)\u001b[0m\u001b[1;33m\u001b[0m\u001b[1;33m\u001b[0m\u001b[0m\n\u001b[0;32m      3\u001b[0m \u001b[0mprint\u001b[0m\u001b[1;33m(\u001b[0m\u001b[1;34m\"your input: \"\u001b[0m\u001b[1;33m,\u001b[0m \u001b[0mz\u001b[0m\u001b[1;33m)\u001b[0m\u001b[1;33m\u001b[0m\u001b[1;33m\u001b[0m\u001b[0m\n\u001b[1;32m----> 4\u001b[1;33m \u001b[1;32mif\u001b[0m \u001b[0mz\u001b[0m\u001b[1;33m>\u001b[0m\u001b[1;36m0\u001b[0m\u001b[1;33m:\u001b[0m\u001b[1;33m\u001b[0m\u001b[1;33m\u001b[0m\u001b[0m\n\u001b[0m\u001b[0;32m      5\u001b[0m     \u001b[0mprint\u001b[0m\u001b[1;33m(\u001b[0m\u001b[1;34m\"positive number: \"\u001b[0m\u001b[1;33m,\u001b[0m \u001b[0mz\u001b[0m\u001b[1;33m)\u001b[0m\u001b[1;33m\u001b[0m\u001b[1;33m\u001b[0m\u001b[0m\n",
      "\u001b[1;31mTypeError\u001b[0m: '>' not supported between instances of 'str' and 'int'"
     ]
    }
   ],
   "source": [
    "z = input(\"insert a number: \")\n",
    "print(type(z))\n",
    "print(\"your input: \", z)\n",
    "if z>0:\n",
    "    print(\"positive number: \", z)"
   ]
  },
  {
   "cell_type": "markdown",
   "metadata": {
    "id": "LkRpdHpXqPrT"
   },
   "source": [
    "To use the `>` operator on `z`, we must explicitly convert it to the needed type."
   ]
  },
  {
   "cell_type": "markdown",
   "metadata": {
    "id": "LHmlQPSZqPrV"
   },
   "source": [
    "# Built-in types\n",
    "\n",
    "Commonly used numerical and string types are\n",
    "\n",
    "Type | Description |\n",
    ":----|:-----------\n",
    " str | similar to C++ string \n",
    " float | C double precision \n",
    " complex | complex number with real parts x + yj\n",
    " int | integer \n",
    " bool | boolean variable. special integer with just 1 bit\n",
    "\n",
    "You must explicitly convert `input()` to desired type for use.\n"
   ]
  },
  {
   "cell_type": "code",
   "execution_count": 5,
   "metadata": {
    "colab": {
     "base_uri": "https://localhost:8080/",
     "height": 198
    },
    "executionInfo": {
     "elapsed": 3581,
     "status": "error",
     "timestamp": 1636631176680,
     "user": {
      "displayName": "Francesco Pannarale",
      "photoUrl": "https://lh3.googleusercontent.com/a/default-user=s64",
      "userId": "04296007763837408065"
     },
     "user_tz": -60
    },
    "id": "Hkzb8OU3qPrU",
    "outputId": "0181631d-3736-4712-b154-b9d6d3684129"
   },
   "outputs": [
    {
     "name": "stdout",
     "output_type": "stream",
     "text": [
      "Insert integer: 4.5\n"
     ]
    },
    {
     "ename": "ValueError",
     "evalue": "invalid literal for int() with base 10: '4.5'",
     "output_type": "error",
     "traceback": [
      "\u001b[1;31m---------------------------------------------------------------------------\u001b[0m",
      "\u001b[1;31mValueError\u001b[0m                                Traceback (most recent call last)",
      "\u001b[1;32m~\\AppData\\Local\\Temp/ipykernel_5996/3051273434.py\u001b[0m in \u001b[0;36m<module>\u001b[1;34m\u001b[0m\n\u001b[1;32m----> 1\u001b[1;33m \u001b[0mx\u001b[0m \u001b[1;33m=\u001b[0m \u001b[0mint\u001b[0m\u001b[1;33m(\u001b[0m\u001b[0minput\u001b[0m\u001b[1;33m(\u001b[0m\u001b[1;34m\"Insert integer: \"\u001b[0m\u001b[1;33m)\u001b[0m\u001b[1;33m)\u001b[0m \u001b[1;31m# What happens if input is float?\u001b[0m\u001b[1;33m\u001b[0m\u001b[1;33m\u001b[0m\u001b[0m\n\u001b[0m\u001b[0;32m      2\u001b[0m \u001b[0mprint\u001b[0m\u001b[1;33m(\u001b[0m\u001b[1;34m\"x = \"\u001b[0m\u001b[1;33m,\u001b[0m \u001b[0mx\u001b[0m\u001b[1;33m)\u001b[0m\u001b[1;33m\u001b[0m\u001b[1;33m\u001b[0m\u001b[0m\n",
      "\u001b[1;31mValueError\u001b[0m: invalid literal for int() with base 10: '4.5'"
     ]
    }
   ],
   "source": [
    "x = int(input(\"Insert integer: \")) # What happens if input is float?\n",
    "print(\"x = \", x)"
   ]
  },
  {
   "cell_type": "markdown",
   "metadata": {
    "id": "GudBdWdLzdyR"
   },
   "source": [
    "Say we input 4.5.  The call is then `int('4.5')`.  To fix it we need to call `int(float('4.5'))`"
   ]
  },
  {
   "cell_type": "code",
   "execution_count": null,
   "metadata": {
    "colab": {
     "base_uri": "https://localhost:8080/"
    },
    "executionInfo": {
     "elapsed": 6141,
     "status": "ok",
     "timestamp": 1636631231781,
     "user": {
      "displayName": "Francesco Pannarale",
      "photoUrl": "https://lh3.googleusercontent.com/a/default-user=s64",
      "userId": "04296007763837408065"
     },
     "user_tz": -60
    },
    "id": "Kq11mICkzdyR",
    "outputId": "ae4a3ab4-958f-4d24-fdbd-9b20eb46fe83"
   },
   "outputs": [
    {
     "name": "stdout",
     "output_type": "stream",
     "text": [
      "Insert integer: 6.8\n",
      "x =  6\n"
     ]
    }
   ],
   "source": [
    "x = int(float(input(\"Insert integer: \"))) # Better\n",
    "print(\"x = \", x)"
   ]
  },
  {
   "cell_type": "code",
   "execution_count": 4,
   "metadata": {
    "colab": {
     "base_uri": "https://localhost:8080/"
    },
    "executionInfo": {
     "elapsed": 15350,
     "status": "ok",
     "timestamp": 1636631272783,
     "user": {
      "displayName": "Francesco Pannarale",
      "photoUrl": "https://lh3.googleusercontent.com/a/default-user=s64",
      "userId": "04296007763837408065"
     },
     "user_tz": -60
    },
    "id": "HB_G6zcMqPrV",
    "outputId": "a6c9b2c3-ee02-4892-94c7-f20d4f2d7980"
   },
   "outputs": [
    {
     "name": "stdout",
     "output_type": "stream",
     "text": [
      "Insert integer number: 1\n",
      "Insert a rational number: 4.5\n",
      "y: 4.5 > x:1\n"
     ]
    }
   ],
   "source": [
    "x = int(input(\"Insert integer number: \"))\n",
    "y = float(input(\"Insert a rational number: \"))\n",
    "\n",
    "if x > y:\n",
    "    print(\"x: {0} > y:{1}\".format(x,y))\n",
    "else: \n",
    "    print(\"y: {1} > x:{0}\".format(x,y))"
   ]
  },
  {
   "cell_type": "code",
   "execution_count": 6,
   "metadata": {
    "colab": {
     "base_uri": "https://localhost:8080/"
    },
    "executionInfo": {
     "elapsed": 2341,
     "status": "ok",
     "timestamp": 1636631315765,
     "user": {
      "displayName": "Francesco Pannarale",
      "photoUrl": "https://lh3.googleusercontent.com/a/default-user=s64",
      "userId": "04296007763837408065"
     },
     "user_tz": -60
    },
    "id": "fVIovdElqPrW",
    "outputId": "1a84e305-45a5-4054-cd72-9c6cdd2c6064"
   },
   "outputs": [
    {
     "name": "stdout",
     "output_type": "stream",
     "text": [
      "Insert an integer: 3\n",
      "3\n"
     ]
    }
   ],
   "source": [
    "anint = int(input(\"Insert an integer: \"))\n",
    "print(anint)"
   ]
  },
  {
   "cell_type": "markdown",
   "metadata": {
    "id": "IPGpN4lsqPrW"
   },
   "source": [
    "An integer literal can be used as float: there is automatic conversion in this case."
   ]
  },
  {
   "cell_type": "code",
   "execution_count": 7,
   "metadata": {
    "colab": {
     "base_uri": "https://localhost:8080/"
    },
    "executionInfo": {
     "elapsed": 9432,
     "status": "ok",
     "timestamp": 1636631330261,
     "user": {
      "displayName": "Francesco Pannarale",
      "photoUrl": "https://lh3.googleusercontent.com/a/default-user=s64",
      "userId": "04296007763837408065"
     },
     "user_tz": -60
    },
    "id": "eIuS3ZbDqPrW",
    "outputId": "a572cdd7-9b41-4a79-c398-35ea19853ef7"
   },
   "outputs": [
    {
     "name": "stdout",
     "output_type": "stream",
     "text": [
      "Insert a float: 4.5\n",
      "4.5\n"
     ]
    }
   ],
   "source": [
    "afloat = float(input(\"Insert a float: \"))\n",
    "print(afloat)"
   ]
  },
  {
   "cell_type": "markdown",
   "metadata": {
    "id": "IlAKZXJatWt7"
   },
   "source": [
    "`j` is the imaginary unit."
   ]
  },
  {
   "cell_type": "code",
   "execution_count": 10,
   "metadata": {
    "colab": {
     "base_uri": "https://localhost:8080/"
    },
    "executionInfo": {
     "elapsed": 11916,
     "status": "ok",
     "timestamp": 1636631354525,
     "user": {
      "displayName": "Francesco Pannarale",
      "photoUrl": "https://lh3.googleusercontent.com/a/default-user=s64",
      "userId": "04296007763837408065"
     },
     "user_tz": -60
    },
    "id": "yX3KCPzMqPrY",
    "outputId": "52f8c5b8-dc29-4359-8400-9e269a4f1136"
   },
   "outputs": [
    {
     "name": "stdout",
     "output_type": "stream",
     "text": [
      "Insert a complex number: 2+8j\n",
      "(2+8j)\n"
     ]
    }
   ],
   "source": [
    "acomplex = complex(input(\"Insert a complex number: \"))\n",
    "print(acomplex)"
   ]
  },
  {
   "cell_type": "markdown",
   "metadata": {
    "id": "EwgkvMGHqPrY"
   },
   "source": [
    "## Bool type\n",
    "Same as bool in C++. Used for logical operation and uses just one bit to store the info."
   ]
  },
  {
   "cell_type": "code",
   "execution_count": 11,
   "metadata": {
    "colab": {
     "base_uri": "https://localhost:8080/"
    },
    "executionInfo": {
     "elapsed": 392,
     "status": "ok",
     "timestamp": 1636631446853,
     "user": {
      "displayName": "Francesco Pannarale",
      "photoUrl": "https://lh3.googleusercontent.com/a/default-user=s64",
      "userId": "04296007763837408065"
     },
     "user_tz": -60
    },
    "id": "Z3Jnn4RvqPrY",
    "outputId": "a2844353-c956-4b0a-8ecf-1d18cfcfcfb4"
   },
   "outputs": [
    {
     "name": "stdout",
     "output_type": "stream",
     "text": [
      "True <class 'bool'> 1\n",
      "False 0\n",
      "True 1\n",
      "True 1\n",
      "<class 'float'> <class 'bool'> <class 'str'>\n"
     ]
    }
   ],
   "source": [
    "c = 2.3 < 3\n",
    "print(c, type(c), c.bit_length())\n",
    "\n",
    "c = bool(0)\n",
    "print(c, c.bit_length())\n",
    "\n",
    "c = bool(-3)\n",
    "print(c, c.bit_length())\n",
    "\n",
    "d = True\n",
    "print(d, int(d))\n",
    "\n",
    "print(type(2.3), type(True), type(\"hello\"))"
   ]
  },
  {
   "cell_type": "markdown",
   "metadata": {
    "id": "vrywiHZGqPrY"
   },
   "source": [
    "## Integers in Python\n",
    "Unlike in C/C++, you can have arbitrarily large integers in Python."
   ]
  },
  {
   "cell_type": "code",
   "execution_count": 12,
   "metadata": {
    "id": "afOcDqKBqPrZ",
    "outputId": "22c68028-91e9-422c-b797-02f14e3a774d"
   },
   "outputs": [
    {
     "name": "stdout",
     "output_type": "stream",
     "text": [
      "2282964069396179429161277601795098342183689069116233595351030111107374894317918598839132436948135567673806054712849856030005501307907699595360638611572383720569\n",
      "<class 'int'>\n",
      "18334\n"
     ]
    }
   ],
   "source": [
    "j = 3**334 # 3^334\n",
    "print(j)\n",
    "print(type(j))\n",
    "print((3**11567).bit_length())"
   ]
  },
  {
   "cell_type": "markdown",
   "metadata": {
    "id": "CFoW62ZazdyU"
   },
   "source": [
    "Python3 is smart about integer division (Python2 had a different behaviour)"
   ]
  },
  {
   "cell_type": "code",
   "execution_count": 13,
   "metadata": {
    "id": "x-sJWYRNzdyV",
    "outputId": "dd453a61-7b47-417f-aa12-eaa1476b96de"
   },
   "outputs": [
    {
     "name": "stdout",
     "output_type": "stream",
     "text": [
      "5.0\n",
      "4.5\n",
      "0.99\n",
      "5.0\n",
      "0.99\n"
     ]
    }
   ],
   "source": [
    "print(10/2) \n",
    "print(9/2) \n",
    "print(99/100) \n",
    "print(10.0/2.0) \n",
    "print(99.0/100.0) "
   ]
  },
  {
   "cell_type": "markdown",
   "metadata": {
    "id": "E_9E1xhHqPra"
   },
   "source": [
    "### Integers in arbitrary bases\n",
    "\n",
    "A neat feature of integers in Python is easy conversion to an arbitrary base"
   ]
  },
  {
   "cell_type": "code",
   "execution_count": 14,
   "metadata": {
    "colab": {
     "base_uri": "https://localhost:8080/"
    },
    "executionInfo": {
     "elapsed": 242,
     "status": "ok",
     "timestamp": 1636411397957,
     "user": {
      "displayName": "Francesco Pannarale",
      "photoUrl": "https://lh3.googleusercontent.com/a/default-user=s64",
      "userId": "04296007763837408065"
     },
     "user_tz": -60
    },
    "id": "hDTWx1qTqPra",
    "outputId": "de0c8287-c088-4502-8841-25f4a725bef3"
   },
   "outputs": [
    {
     "name": "stdout",
     "output_type": "stream",
     "text": [
      "5 101\n"
     ]
    }
   ],
   "source": [
    "a = int('101', base=2)\n",
    "b = int(101)\n",
    "print(a,b)"
   ]
  },
  {
   "cell_type": "code",
   "execution_count": 15,
   "metadata": {
    "colab": {
     "base_uri": "https://localhost:8080/"
    },
    "executionInfo": {
     "elapsed": 5,
     "status": "ok",
     "timestamp": 1636411398296,
     "user": {
      "displayName": "Francesco Pannarale",
      "photoUrl": "https://lh3.googleusercontent.com/a/default-user=s64",
      "userId": "04296007763837408065"
     },
     "user_tz": -60
    },
    "id": "c38gV3XdqPrb",
    "outputId": "0000720f-e76e-4759-9e35-40fa31679b27"
   },
   "outputs": [
    {
     "data": {
      "text/plain": [
       "10"
      ]
     },
     "execution_count": 15,
     "metadata": {},
     "output_type": "execute_result"
    }
   ],
   "source": [
    "int('101', base=3)"
   ]
  },
  {
   "cell_type": "code",
   "execution_count": 16,
   "metadata": {
    "colab": {
     "base_uri": "https://localhost:8080/"
    },
    "executionInfo": {
     "elapsed": 2,
     "status": "ok",
     "timestamp": 1636411399236,
     "user": {
      "displayName": "Francesco Pannarale",
      "photoUrl": "https://lh3.googleusercontent.com/a/default-user=s64",
      "userId": "04296007763837408065"
     },
     "user_tz": -60
    },
    "id": "vB63W_2BqPrb",
    "outputId": "3d8950b5-0e8d-44bb-ce1e-f2b7b8e836f5"
   },
   "outputs": [
    {
     "data": {
      "text/plain": [
       "26"
      ]
     },
     "execution_count": 16,
     "metadata": {},
     "output_type": "execute_result"
    }
   ],
   "source": [
    "int('101', base=5)"
   ]
  },
  {
   "cell_type": "code",
   "execution_count": 17,
   "metadata": {
    "colab": {
     "base_uri": "https://localhost:8080/"
    },
    "executionInfo": {
     "elapsed": 4,
     "status": "ok",
     "timestamp": 1636411399475,
     "user": {
      "displayName": "Francesco Pannarale",
      "photoUrl": "https://lh3.googleusercontent.com/a/default-user=s64",
      "userId": "04296007763837408065"
     },
     "user_tz": -60
    },
    "id": "oPzWWBpAqPrb",
    "outputId": "3a802b22-8d24-4894-cb7d-2109a6512b02"
   },
   "outputs": [
    {
     "data": {
      "text/plain": [
       "50"
      ]
     },
     "execution_count": 17,
     "metadata": {},
     "output_type": "execute_result"
    }
   ],
   "source": [
    "int('101', base=7)"
   ]
  },
  {
   "cell_type": "code",
   "execution_count": 18,
   "metadata": {
    "colab": {
     "base_uri": "https://localhost:8080/"
    },
    "executionInfo": {
     "elapsed": 3,
     "status": "ok",
     "timestamp": 1636411399860,
     "user": {
      "displayName": "Francesco Pannarale",
      "photoUrl": "https://lh3.googleusercontent.com/a/default-user=s64",
      "userId": "04296007763837408065"
     },
     "user_tz": -60
    },
    "id": "9KO4BtnfqPrb",
    "outputId": "7be5e680-be73-4b0b-c691-927542a2b7c5"
   },
   "outputs": [
    {
     "data": {
      "text/plain": [
       "65"
      ]
     },
     "execution_count": 18,
     "metadata": {},
     "output_type": "execute_result"
    }
   ],
   "source": [
    "int('101', base=8)"
   ]
  },
  {
   "cell_type": "code",
   "execution_count": 19,
   "metadata": {
    "colab": {
     "base_uri": "https://localhost:8080/"
    },
    "executionInfo": {
     "elapsed": 3,
     "status": "ok",
     "timestamp": 1636411400086,
     "user": {
      "displayName": "Francesco Pannarale",
      "photoUrl": "https://lh3.googleusercontent.com/a/default-user=s64",
      "userId": "04296007763837408065"
     },
     "user_tz": -60
    },
    "id": "iI9Yt6RbqPrc",
    "outputId": "55d02e43-4f46-478b-e1aa-ad236c31d323"
   },
   "outputs": [
    {
     "data": {
      "text/plain": [
       "257"
      ]
     },
     "execution_count": 19,
     "metadata": {},
     "output_type": "execute_result"
    }
   ],
   "source": [
    "int('101', base=16)"
   ]
  },
  {
   "cell_type": "code",
   "execution_count": 20,
   "metadata": {
    "colab": {
     "base_uri": "https://localhost:8080/"
    },
    "executionInfo": {
     "elapsed": 369,
     "status": "ok",
     "timestamp": 1636631738964,
     "user": {
      "displayName": "Francesco Pannarale",
      "photoUrl": "https://lh3.googleusercontent.com/a/default-user=s64",
      "userId": "04296007763837408065"
     },
     "user_tz": -60
    },
    "id": "KC5W1mfRqPrc",
    "outputId": "e6ad1ed8-b4fc-4453-f14b-75f3d71c8441"
   },
   "outputs": [
    {
     "data": {
      "text/plain": [
       "31"
      ]
     },
     "execution_count": 20,
     "metadata": {},
     "output_type": "execute_result"
    }
   ],
   "source": [
    "int('1F', base=16)"
   ]
  },
  {
   "cell_type": "code",
   "execution_count": 21,
   "metadata": {},
   "outputs": [],
   "source": [
    "x = int('FF01', base=16)"
   ]
  },
  {
   "cell_type": "code",
   "execution_count": 22,
   "metadata": {
    "colab": {
     "base_uri": "https://localhost:8080/"
    },
    "executionInfo": {
     "elapsed": 266,
     "status": "ok",
     "timestamp": 1636411407313,
     "user": {
      "displayName": "Francesco Pannarale",
      "photoUrl": "https://lh3.googleusercontent.com/a/default-user=s64",
      "userId": "04296007763837408065"
     },
     "user_tz": -60
    },
    "id": "BkhISXrZqPrc",
    "outputId": "a39949e6-dab1-4e41-9ba0-ccc9efe61df5"
   },
   "outputs": [
    {
     "name": "stdout",
     "output_type": "stream",
     "text": [
      "65281\n",
      "113\n"
     ]
    },
    {
     "data": {
      "text/plain": [
       "65394"
      ]
     },
     "execution_count": 22,
     "metadata": {},
     "output_type": "execute_result"
    }
   ],
   "source": [
    "x = int('FF01', base=16)\n",
    "print(x)\n",
    "print(int('1110001',base=2))\n",
    "int('FF01', base=16) + int('1110001', base=2)"
   ]
  },
  {
   "cell_type": "markdown",
   "metadata": {
    "id": "AOhtZi1BqPrc"
   },
   "source": [
    "# Inline help and inspection\n",
    "Use the inline help facility in the interactive Python session:"
   ]
  },
  {
   "cell_type": "code",
   "execution_count": 23,
   "metadata": {
    "colab": {
     "base_uri": "https://localhost:8080/"
    },
    "executionInfo": {
     "elapsed": 765,
     "status": "ok",
     "timestamp": 1636411665498,
     "user": {
      "displayName": "Francesco Pannarale",
      "photoUrl": "https://lh3.googleusercontent.com/a/default-user=s64",
      "userId": "04296007763837408065"
     },
     "user_tz": -60
    },
    "id": "nbSKjnhxqPrd",
    "outputId": "3321c17f-17d2-4c2e-c227-39c0102f9279"
   },
   "outputs": [
    {
     "name": "stdout",
     "output_type": "stream",
     "text": [
      "Help on class int in module builtins:\n",
      "\n",
      "class int(object)\n",
      " |  int([x]) -> integer\n",
      " |  int(x, base=10) -> integer\n",
      " |  \n",
      " |  Convert a number or string to an integer, or return 0 if no arguments\n",
      " |  are given.  If x is a number, return x.__int__().  For floating point\n",
      " |  numbers, this truncates towards zero.\n",
      " |  \n",
      " |  If x is not a number or if base is given, then x must be a string,\n",
      " |  bytes, or bytearray instance representing an integer literal in the\n",
      " |  given base.  The literal can be preceded by '+' or '-' and be surrounded\n",
      " |  by whitespace.  The base defaults to 10.  Valid bases are 0 and 2-36.\n",
      " |  Base 0 means to interpret the base from the string as an integer literal.\n",
      " |  >>> int('0b100', base=0)\n",
      " |  4\n",
      " |  \n",
      " |  Built-in subclasses:\n",
      " |      bool\n",
      " |  \n",
      " |  Methods defined here:\n",
      " |  \n",
      " |  __abs__(self, /)\n",
      " |      abs(self)\n",
      " |  \n",
      " |  __add__(self, value, /)\n",
      " |      Return self+value.\n",
      " |  \n",
      " |  __and__(self, value, /)\n",
      " |      Return self&value.\n",
      " |  \n",
      " |  __bool__(self, /)\n",
      " |      True if self else False\n",
      " |  \n",
      " |  __ceil__(...)\n",
      " |      Ceiling of an Integral returns itself.\n",
      " |  \n",
      " |  __divmod__(self, value, /)\n",
      " |      Return divmod(self, value).\n",
      " |  \n",
      " |  __eq__(self, value, /)\n",
      " |      Return self==value.\n",
      " |  \n",
      " |  __float__(self, /)\n",
      " |      float(self)\n",
      " |  \n",
      " |  __floor__(...)\n",
      " |      Flooring an Integral returns itself.\n",
      " |  \n",
      " |  __floordiv__(self, value, /)\n",
      " |      Return self//value.\n",
      " |  \n",
      " |  __format__(self, format_spec, /)\n",
      " |      Default object formatter.\n",
      " |  \n",
      " |  __ge__(self, value, /)\n",
      " |      Return self>=value.\n",
      " |  \n",
      " |  __getattribute__(self, name, /)\n",
      " |      Return getattr(self, name).\n",
      " |  \n",
      " |  __getnewargs__(self, /)\n",
      " |  \n",
      " |  __gt__(self, value, /)\n",
      " |      Return self>value.\n",
      " |  \n",
      " |  __hash__(self, /)\n",
      " |      Return hash(self).\n",
      " |  \n",
      " |  __index__(self, /)\n",
      " |      Return self converted to an integer, if self is suitable for use as an index into a list.\n",
      " |  \n",
      " |  __int__(self, /)\n",
      " |      int(self)\n",
      " |  \n",
      " |  __invert__(self, /)\n",
      " |      ~self\n",
      " |  \n",
      " |  __le__(self, value, /)\n",
      " |      Return self<=value.\n",
      " |  \n",
      " |  __lshift__(self, value, /)\n",
      " |      Return self<<value.\n",
      " |  \n",
      " |  __lt__(self, value, /)\n",
      " |      Return self<value.\n",
      " |  \n",
      " |  __mod__(self, value, /)\n",
      " |      Return self%value.\n",
      " |  \n",
      " |  __mul__(self, value, /)\n",
      " |      Return self*value.\n",
      " |  \n",
      " |  __ne__(self, value, /)\n",
      " |      Return self!=value.\n",
      " |  \n",
      " |  __neg__(self, /)\n",
      " |      -self\n",
      " |  \n",
      " |  __or__(self, value, /)\n",
      " |      Return self|value.\n",
      " |  \n",
      " |  __pos__(self, /)\n",
      " |      +self\n",
      " |  \n",
      " |  __pow__(self, value, mod=None, /)\n",
      " |      Return pow(self, value, mod).\n",
      " |  \n",
      " |  __radd__(self, value, /)\n",
      " |      Return value+self.\n",
      " |  \n",
      " |  __rand__(self, value, /)\n",
      " |      Return value&self.\n",
      " |  \n",
      " |  __rdivmod__(self, value, /)\n",
      " |      Return divmod(value, self).\n",
      " |  \n",
      " |  __repr__(self, /)\n",
      " |      Return repr(self).\n",
      " |  \n",
      " |  __rfloordiv__(self, value, /)\n",
      " |      Return value//self.\n",
      " |  \n",
      " |  __rlshift__(self, value, /)\n",
      " |      Return value<<self.\n",
      " |  \n",
      " |  __rmod__(self, value, /)\n",
      " |      Return value%self.\n",
      " |  \n",
      " |  __rmul__(self, value, /)\n",
      " |      Return value*self.\n",
      " |  \n",
      " |  __ror__(self, value, /)\n",
      " |      Return value|self.\n",
      " |  \n",
      " |  __round__(...)\n",
      " |      Rounding an Integral returns itself.\n",
      " |      \n",
      " |      Rounding with an ndigits argument also returns an integer.\n",
      " |  \n",
      " |  __rpow__(self, value, mod=None, /)\n",
      " |      Return pow(value, self, mod).\n",
      " |  \n",
      " |  __rrshift__(self, value, /)\n",
      " |      Return value>>self.\n",
      " |  \n",
      " |  __rshift__(self, value, /)\n",
      " |      Return self>>value.\n",
      " |  \n",
      " |  __rsub__(self, value, /)\n",
      " |      Return value-self.\n",
      " |  \n",
      " |  __rtruediv__(self, value, /)\n",
      " |      Return value/self.\n",
      " |  \n",
      " |  __rxor__(self, value, /)\n",
      " |      Return value^self.\n",
      " |  \n",
      " |  __sizeof__(self, /)\n",
      " |      Returns size in memory, in bytes.\n",
      " |  \n",
      " |  __sub__(self, value, /)\n",
      " |      Return self-value.\n",
      " |  \n",
      " |  __truediv__(self, value, /)\n",
      " |      Return self/value.\n",
      " |  \n",
      " |  __trunc__(...)\n",
      " |      Truncating an Integral returns itself.\n",
      " |  \n",
      " |  __xor__(self, value, /)\n",
      " |      Return self^value.\n",
      " |  \n",
      " |  as_integer_ratio(self, /)\n",
      " |      Return integer ratio.\n",
      " |      \n",
      " |      Return a pair of integers, whose ratio is exactly equal to the original int\n",
      " |      and with a positive denominator.\n",
      " |      \n",
      " |      >>> (10).as_integer_ratio()\n",
      " |      (10, 1)\n",
      " |      >>> (-10).as_integer_ratio()\n",
      " |      (-10, 1)\n",
      " |      >>> (0).as_integer_ratio()\n",
      " |      (0, 1)\n",
      " |  \n",
      " |  bit_count(self, /)\n",
      " |      Number of ones in the binary representation of the absolute value of self.\n",
      " |      \n",
      " |      Also known as the population count.\n",
      " |      \n",
      " |      >>> bin(13)\n",
      " |      '0b1101'\n",
      " |      >>> (13).bit_count()\n",
      " |      3\n",
      " |  \n",
      " |  bit_length(self, /)\n",
      " |      Number of bits necessary to represent self in binary.\n",
      " |      \n",
      " |      >>> bin(37)\n",
      " |      '0b100101'\n",
      " |      >>> (37).bit_length()\n",
      " |      6\n",
      " |  \n",
      " |  conjugate(...)\n",
      " |      Returns self, the complex conjugate of any int.\n",
      " |  \n",
      " |  to_bytes(self, /, length, byteorder, *, signed=False)\n",
      " |      Return an array of bytes representing an integer.\n",
      " |      \n",
      " |      length\n",
      " |        Length of bytes object to use.  An OverflowError is raised if the\n",
      " |        integer is not representable with the given number of bytes.\n",
      " |      byteorder\n",
      " |        The byte order used to represent the integer.  If byteorder is 'big',\n",
      " |        the most significant byte is at the beginning of the byte array.  If\n",
      " |        byteorder is 'little', the most significant byte is at the end of the\n",
      " |        byte array.  To request the native byte order of the host system, use\n",
      " |        `sys.byteorder' as the byte order value.\n",
      " |      signed\n",
      " |        Determines whether two's complement is used to represent the integer.\n",
      " |        If signed is False and a negative integer is given, an OverflowError\n",
      " |        is raised.\n",
      " |  \n",
      " |  ----------------------------------------------------------------------\n",
      " |  Class methods defined here:\n",
      " |  \n",
      " |  from_bytes(bytes, byteorder, *, signed=False) from builtins.type\n",
      " |      Return the integer represented by the given array of bytes.\n",
      " |      \n",
      " |      bytes\n",
      " |        Holds the array of bytes to convert.  The argument must either\n",
      " |        support the buffer protocol or be an iterable object producing bytes.\n",
      " |        Bytes and bytearray are examples of built-in objects that support the\n",
      " |        buffer protocol.\n",
      " |      byteorder\n",
      " |        The byte order used to represent the integer.  If byteorder is 'big',\n",
      " |        the most significant byte is at the beginning of the byte array.  If\n",
      " |        byteorder is 'little', the most significant byte is at the end of the\n",
      " |        byte array.  To request the native byte order of the host system, use\n",
      " |        `sys.byteorder' as the byte order value.\n",
      " |      signed\n",
      " |        Indicates whether two's complement is used to represent the integer.\n",
      " |  \n",
      " |  ----------------------------------------------------------------------\n",
      " |  Static methods defined here:\n",
      " |  \n",
      " |  __new__(*args, **kwargs) from builtins.type\n",
      " |      Create and return a new object.  See help(type) for accurate signature.\n",
      " |  \n",
      " |  ----------------------------------------------------------------------\n",
      " |  Data descriptors defined here:\n",
      " |  \n",
      " |  denominator\n",
      " |      the denominator of a rational number in lowest terms\n",
      " |  \n",
      " |  imag\n",
      " |      the imaginary part of a complex number\n",
      " |  \n",
      " |  numerator\n",
      " |      the numerator of a rational number in lowest terms\n",
      " |  \n",
      " |  real\n",
      " |      the real part of a complex number\n",
      "\n"
     ]
    }
   ],
   "source": [
    "help(int)"
   ]
  },
  {
   "cell_type": "markdown",
   "metadata": {
    "id": "PXNWjOSlqPrd"
   },
   "source": [
    "And since **everything is an object in Python**, you can list the attributes, data, and functions (which are all objects) within any object."
   ]
  },
  {
   "cell_type": "code",
   "execution_count": 24,
   "metadata": {},
   "outputs": [
    {
     "data": {
      "text/plain": [
       "65281"
      ]
     },
     "execution_count": 24,
     "metadata": {},
     "output_type": "execute_result"
    }
   ],
   "source": [
    "x"
   ]
  },
  {
   "cell_type": "code",
   "execution_count": 25,
   "metadata": {
    "colab": {
     "base_uri": "https://localhost:8080/"
    },
    "executionInfo": {
     "elapsed": 247,
     "status": "ok",
     "timestamp": 1636411713379,
     "user": {
      "displayName": "Francesco Pannarale",
      "photoUrl": "https://lh3.googleusercontent.com/a/default-user=s64",
      "userId": "04296007763837408065"
     },
     "user_tz": -60
    },
    "id": "VMUhv_GSqPrd",
    "outputId": "3ef00873-4586-4493-9e51-a46e377ae8a0"
   },
   "outputs": [
    {
     "data": {
      "text/plain": [
       "['__add__',\n",
       " '__class__',\n",
       " '__contains__',\n",
       " '__delattr__',\n",
       " '__dir__',\n",
       " '__doc__',\n",
       " '__eq__',\n",
       " '__format__',\n",
       " '__ge__',\n",
       " '__getattribute__',\n",
       " '__getitem__',\n",
       " '__getnewargs__',\n",
       " '__gt__',\n",
       " '__hash__',\n",
       " '__init__',\n",
       " '__init_subclass__',\n",
       " '__iter__',\n",
       " '__le__',\n",
       " '__len__',\n",
       " '__lt__',\n",
       " '__mod__',\n",
       " '__mul__',\n",
       " '__ne__',\n",
       " '__new__',\n",
       " '__reduce__',\n",
       " '__reduce_ex__',\n",
       " '__repr__',\n",
       " '__rmod__',\n",
       " '__rmul__',\n",
       " '__setattr__',\n",
       " '__sizeof__',\n",
       " '__str__',\n",
       " '__subclasshook__',\n",
       " 'capitalize',\n",
       " 'casefold',\n",
       " 'center',\n",
       " 'count',\n",
       " 'encode',\n",
       " 'endswith',\n",
       " 'expandtabs',\n",
       " 'find',\n",
       " 'format',\n",
       " 'format_map',\n",
       " 'index',\n",
       " 'isalnum',\n",
       " 'isalpha',\n",
       " 'isascii',\n",
       " 'isdecimal',\n",
       " 'isdigit',\n",
       " 'isidentifier',\n",
       " 'islower',\n",
       " 'isnumeric',\n",
       " 'isprintable',\n",
       " 'isspace',\n",
       " 'istitle',\n",
       " 'isupper',\n",
       " 'join',\n",
       " 'ljust',\n",
       " 'lower',\n",
       " 'lstrip',\n",
       " 'maketrans',\n",
       " 'partition',\n",
       " 'removeprefix',\n",
       " 'removesuffix',\n",
       " 'replace',\n",
       " 'rfind',\n",
       " 'rindex',\n",
       " 'rjust',\n",
       " 'rpartition',\n",
       " 'rsplit',\n",
       " 'rstrip',\n",
       " 'split',\n",
       " 'splitlines',\n",
       " 'startswith',\n",
       " 'strip',\n",
       " 'swapcase',\n",
       " 'title',\n",
       " 'translate',\n",
       " 'upper',\n",
       " 'zfill']"
      ]
     },
     "execution_count": 25,
     "metadata": {},
     "output_type": "execute_result"
    }
   ],
   "source": [
    "dir(str)"
   ]
  },
  {
   "cell_type": "code",
   "execution_count": 26,
   "metadata": {
    "id": "U7MwNhX4qPrd",
    "outputId": "95c6d22f-7dd1-4d2e-83e2-033da0fb7831"
   },
   "outputs": [
    {
     "name": "stdout",
     "output_type": "stream",
     "text": [
      "Help on method_descriptor:\n",
      "\n",
      "bit_length(self, /)\n",
      "    Number of bits necessary to represent self in binary.\n",
      "    \n",
      "    >>> bin(37)\n",
      "    '0b100101'\n",
      "    >>> (37).bit_length()\n",
      "    6\n",
      "\n"
     ]
    }
   ],
   "source": [
    "help(int.bit_length)"
   ]
  },
  {
   "cell_type": "code",
   "execution_count": 27,
   "metadata": {
    "id": "oQ4vQ3gCqPrd",
    "outputId": "9f5cd924-6b73-42ab-dd38-02d09030171e",
    "scrolled": true
   },
   "outputs": [
    {
     "name": "stdout",
     "output_type": "stream",
     "text": [
      "Help on built-in function bin in module builtins:\n",
      "\n",
      "bin(number, /)\n",
      "    Return the binary representation of an integer.\n",
      "    \n",
      "    >>> bin(2796202)\n",
      "    '0b1010101010101010101010'\n",
      "\n"
     ]
    }
   ],
   "source": [
    "help(bin)"
   ]
  },
  {
   "cell_type": "code",
   "execution_count": 28,
   "metadata": {
    "id": "XcybjsEKqPre",
    "outputId": "bc9f91e2-ebed-4afe-a6ea-9e950a0ae9c5"
   },
   "outputs": [
    {
     "data": {
      "text/plain": [
       "'0b111100001111'"
      ]
     },
     "execution_count": 28,
     "metadata": {},
     "output_type": "execute_result"
    }
   ],
   "source": [
    "bin(int('F0F', base=16))"
   ]
  },
  {
   "cell_type": "markdown",
   "metadata": {
    "id": "4YlJfkAXqPre"
   },
   "source": [
    "There are actually built-in functions for easy base conversions."
   ]
  },
  {
   "cell_type": "code",
   "execution_count": 29,
   "metadata": {
    "colab": {
     "base_uri": "https://localhost:8080/"
    },
    "executionInfo": {
     "elapsed": 242,
     "status": "ok",
     "timestamp": 1636411908444,
     "user": {
      "displayName": "Francesco Pannarale",
      "photoUrl": "https://lh3.googleusercontent.com/a/default-user=s64",
      "userId": "04296007763837408065"
     },
     "user_tz": -60
    },
    "id": "r5wQ98t2qPre",
    "outputId": "d1317e8a-ab34-421c-b800-24abe6ddb3f6"
   },
   "outputs": [
    {
     "name": "stdout",
     "output_type": "stream",
     "text": [
      "0b10111 0o27 0x17\n"
     ]
    },
    {
     "data": {
      "text/plain": [
       "41"
      ]
     },
     "execution_count": 29,
     "metadata": {},
     "output_type": "execute_result"
    }
   ],
   "source": [
    "c = 23\n",
    "print(bin(c), oct(c), hex(c))\n",
    "\n",
    "0x1F + 3 +0b111"
   ]
  },
  {
   "cell_type": "markdown",
   "metadata": {
    "id": "v8Dsl8Z7qPre"
   },
   "source": [
    "You can quickly exercise your ability in converting between hexadecimal and binary bases."
   ]
  },
  {
   "cell_type": "code",
   "execution_count": 30,
   "metadata": {
    "id": "SAdSL_HQqPrf",
    "outputId": "946441e6-a3c6-4733-c11a-3453d9f2ffe3"
   },
   "outputs": [
    {
     "name": "stdout",
     "output_type": "stream",
     "text": [
      "0x18\n"
     ]
    }
   ],
   "source": [
    "print(hex(0b00011000))"
   ]
  },
  {
   "cell_type": "code",
   "execution_count": 31,
   "metadata": {
    "colab": {
     "base_uri": "https://localhost:8080/"
    },
    "executionInfo": {
     "elapsed": 240,
     "status": "ok",
     "timestamp": 1636412015139,
     "user": {
      "displayName": "Francesco Pannarale",
      "photoUrl": "https://lh3.googleusercontent.com/a/default-user=s64",
      "userId": "04296007763837408065"
     },
     "user_tz": -60
    },
    "id": "w0JsPyJmwSp2",
    "outputId": "769e6665-5f96-48e7-c8cc-75075b1d0e53"
   },
   "outputs": [
    {
     "name": "stdout",
     "output_type": "stream",
     "text": [
      "0x9a\n"
     ]
    }
   ],
   "source": [
    "print(hex(0b10011010))"
   ]
  },
  {
   "cell_type": "markdown",
   "metadata": {
    "id": "2nkKo-2_qPrf"
   },
   "source": [
    "# 2 FLOW CONTROL\n",
    "\n",
    "- `if/elif/else` conditional statements\n",
    "- `while` loops\n",
    "- `for` loops\n",
    "- `try/except/else/finally` statements\n",
    "- `break`, `continue`, and `pass`\n",
    "\n",
    "The main difference with respect to C++ is the lack of `{}` and `;` for logical structure, which is instead achieved via the use of `:` and **indentation**\n",
    "\n",
    "```c++\n",
    "if(x<0) {\n",
    "} else {\n",
    "    cout << x << endl;\n",
    "}\n",
    "```"
   ]
  },
  {
   "cell_type": "markdown",
   "metadata": {
    "id": "fOX-74Brx8yX"
   },
   "source": [
    "## Conditional statements with `if/elif/else`"
   ]
  },
  {
   "cell_type": "code",
   "execution_count": 32,
   "metadata": {
    "colab": {
     "base_uri": "https://localhost:8080/"
    },
    "executionInfo": {
     "elapsed": 3603,
     "status": "ok",
     "timestamp": 1636633129543,
     "user": {
      "displayName": "Francesco Pannarale",
      "photoUrl": "https://lh3.googleusercontent.com/a/default-user=s64",
      "userId": "04296007763837408065"
     },
     "user_tz": -60
    },
    "id": "WOiqTyvFqPrf",
    "outputId": "38f3a1ee-694f-48ba-f73b-f30dbeade970"
   },
   "outputs": [
    {
     "name": "stdout",
     "output_type": "stream",
     "text": [
      "Insert a number: 5\n",
      "1 < x < 10\n"
     ]
    }
   ],
   "source": [
    "x = float(input(\"Insert a number: \"))\n",
    "if x < 0 :\n",
    "    print(\"x < 0\")\n",
    "elif x < 1:\n",
    "    print(\"0 < x < 1\")\n",
    "elif x < 10:\n",
    "    print(\"1 < x < 10\")\n",
    "else:\n",
    "    print(\"x > 10\")"
   ]
  },
  {
   "cell_type": "markdown",
   "metadata": {
    "id": "2Xzk20OjqPrg"
   },
   "source": [
    "## `while` loop"
   ]
  },
  {
   "cell_type": "code",
   "execution_count": 33,
   "metadata": {
    "colab": {
     "base_uri": "https://localhost:8080/"
    },
    "executionInfo": {
     "elapsed": 6978,
     "status": "ok",
     "timestamp": 1636412260336,
     "user": {
      "displayName": "Francesco Pannarale",
      "photoUrl": "https://lh3.googleusercontent.com/a/default-user=s64",
      "userId": "04296007763837408065"
     },
     "user_tz": -60
    },
    "id": "DKJLTub7qPrg",
    "outputId": "4194c6bb-d46b-4c8d-8332-fcd8b36c9aa3"
   },
   "outputs": [
    {
     "name": "stdout",
     "output_type": "stream",
     "text": [
      "Insert x in [0,1]: 2.4\n",
      "Insert x in [0,1]: 0.4\n"
     ]
    }
   ],
   "source": [
    "w = -2\n",
    "while w<0 or w>1:\n",
    "    w = float(input(\"Insert x in [0,1]: \"))"
   ]
  },
  {
   "cell_type": "markdown",
   "metadata": {
    "id": "bQezNrVkqPrg"
   },
   "source": [
    "Easily create a user interface for input with control over user input"
   ]
  },
  {
   "cell_type": "code",
   "execution_count": 34,
   "metadata": {
    "colab": {
     "base_uri": "https://localhost:8080/"
    },
    "executionInfo": {
     "elapsed": 9437,
     "status": "ok",
     "timestamp": 1636633253130,
     "user": {
      "displayName": "Francesco Pannarale",
      "photoUrl": "https://lh3.googleusercontent.com/a/default-user=s64",
      "userId": "04296007763837408065"
     },
     "user_tz": -60
    },
    "id": "tqgVxCfsqPrg",
    "outputId": "86d9b2fb-8a69-4fc9-ca41-5eaf2de073a7"
   },
   "outputs": [
    {
     "name": "stdout",
     "output_type": "stream",
     "text": [
      "insert x in [0,1]: 2.4\n",
      "insert x in [0,1]: 0.4\n"
     ]
    }
   ],
   "source": [
    "control = True\n",
    "while control:\n",
    "    w = float(input(\"insert x in [0,1]: \"))\n",
    "    if w>=0 and w<=1:\n",
    "        control = False"
   ]
  },
  {
   "cell_type": "markdown",
   "metadata": {
    "id": "Eh4m5zm5qPrg"
   },
   "source": [
    "## `for` loop\n",
    "We have already seen that the use of a `for` loop that requires a sequence of objects to iterate over"
   ]
  },
  {
   "cell_type": "code",
   "execution_count": 35,
   "metadata": {},
   "outputs": [
    {
     "data": {
      "text/plain": [
       "range(0, 10)"
      ]
     },
     "execution_count": 35,
     "metadata": {},
     "output_type": "execute_result"
    }
   ],
   "source": [
    "range(0,10,1)"
   ]
  },
  {
   "cell_type": "code",
   "execution_count": 36,
   "metadata": {
    "colab": {
     "base_uri": "https://localhost:8080/"
    },
    "executionInfo": {
     "elapsed": 216,
     "status": "ok",
     "timestamp": 1636412495641,
     "user": {
      "displayName": "Francesco Pannarale",
      "photoUrl": "https://lh3.googleusercontent.com/a/default-user=s64",
      "userId": "04296007763837408065"
     },
     "user_tz": -60
    },
    "id": "iiwjTKEpqPrh",
    "outputId": "0eeb677f-3f23-47d6-80e4-556d9d06ed79"
   },
   "outputs": [
    {
     "data": {
      "text/plain": [
       "range"
      ]
     },
     "execution_count": 36,
     "metadata": {},
     "output_type": "execute_result"
    }
   ],
   "source": [
    "type(range(0,10,1))"
   ]
  },
  {
   "cell_type": "code",
   "execution_count": 37,
   "metadata": {
    "id": "mFojoQpNqPrh",
    "outputId": "0492ca2c-2191-43ad-818a-0101a4faba7e"
   },
   "outputs": [
    {
     "name": "stdout",
     "output_type": "stream",
     "text": [
      "Help on class range in module builtins:\n",
      "\n",
      "class range(object)\n",
      " |  range(stop) -> range object\n",
      " |  range(start, stop[, step]) -> range object\n",
      " |  \n",
      " |  Return an object that produces a sequence of integers from start (inclusive)\n",
      " |  to stop (exclusive) by step.  range(i, j) produces i, i+1, i+2, ..., j-1.\n",
      " |  start defaults to 0, and stop is omitted!  range(4) produces 0, 1, 2, 3.\n",
      " |  These are exactly the valid indices for a list of 4 elements.\n",
      " |  When step is given, it specifies the increment (or decrement).\n",
      " |  \n",
      " |  Methods defined here:\n",
      " |  \n",
      " |  __bool__(self, /)\n",
      " |      True if self else False\n",
      " |  \n",
      " |  __contains__(self, key, /)\n",
      " |      Return key in self.\n",
      " |  \n",
      " |  __eq__(self, value, /)\n",
      " |      Return self==value.\n",
      " |  \n",
      " |  __ge__(self, value, /)\n",
      " |      Return self>=value.\n",
      " |  \n",
      " |  __getattribute__(self, name, /)\n",
      " |      Return getattr(self, name).\n",
      " |  \n",
      " |  __getitem__(self, key, /)\n",
      " |      Return self[key].\n",
      " |  \n",
      " |  __gt__(self, value, /)\n",
      " |      Return self>value.\n",
      " |  \n",
      " |  __hash__(self, /)\n",
      " |      Return hash(self).\n",
      " |  \n",
      " |  __iter__(self, /)\n",
      " |      Implement iter(self).\n",
      " |  \n",
      " |  __le__(self, value, /)\n",
      " |      Return self<=value.\n",
      " |  \n",
      " |  __len__(self, /)\n",
      " |      Return len(self).\n",
      " |  \n",
      " |  __lt__(self, value, /)\n",
      " |      Return self<value.\n",
      " |  \n",
      " |  __ne__(self, value, /)\n",
      " |      Return self!=value.\n",
      " |  \n",
      " |  __reduce__(...)\n",
      " |      Helper for pickle.\n",
      " |  \n",
      " |  __repr__(self, /)\n",
      " |      Return repr(self).\n",
      " |  \n",
      " |  __reversed__(...)\n",
      " |      Return a reverse iterator.\n",
      " |  \n",
      " |  count(...)\n",
      " |      rangeobject.count(value) -> integer -- return number of occurrences of value\n",
      " |  \n",
      " |  index(...)\n",
      " |      rangeobject.index(value) -> integer -- return index of value.\n",
      " |      Raise ValueError if the value is not present.\n",
      " |  \n",
      " |  ----------------------------------------------------------------------\n",
      " |  Static methods defined here:\n",
      " |  \n",
      " |  __new__(*args, **kwargs) from builtins.type\n",
      " |      Create and return a new object.  See help(type) for accurate signature.\n",
      " |  \n",
      " |  ----------------------------------------------------------------------\n",
      " |  Data descriptors defined here:\n",
      " |  \n",
      " |  start\n",
      " |  \n",
      " |  step\n",
      " |  \n",
      " |  stop\n",
      "\n"
     ]
    }
   ],
   "source": [
    "help(range)"
   ]
  },
  {
   "cell_type": "code",
   "execution_count": 38,
   "metadata": {},
   "outputs": [
    {
     "name": "stdout",
     "output_type": "stream",
     "text": [
      "[0, 1, 2, 3, 4, 5, 6, 7, 8, 9]\n"
     ]
    }
   ],
   "source": [
    "print(list(range(0,10)))"
   ]
  },
  {
   "cell_type": "code",
   "execution_count": 39,
   "metadata": {
    "colab": {
     "base_uri": "https://localhost:8080/"
    },
    "executionInfo": {
     "elapsed": 356,
     "status": "ok",
     "timestamp": 1636633472761,
     "user": {
      "displayName": "Francesco Pannarale",
      "photoUrl": "https://lh3.googleusercontent.com/a/default-user=s64",
      "userId": "04296007763837408065"
     },
     "user_tz": -60
    },
    "id": "jaL49EegqPrh",
    "outputId": "87921ec3-2e2d-4bd3-fd1b-5db579daadfb"
   },
   "outputs": [
    {
     "name": "stdout",
     "output_type": "stream",
     "text": [
      "i: 1  \t i^2: 1\n",
      "i: 1\t i^2: 1\n",
      "i: 3  \t i^2: 9\n",
      "i: 3\t i^2: 9\n",
      "i: 5  \t i^2: 25\n",
      "i: 5\t i^2: 25\n",
      "i: 7  \t i^2: 49\n",
      "i: 7\t i^2: 49\n",
      "i: 9  \t i^2: 81\n",
      "i: 9\t i^2: 81\n"
     ]
    }
   ],
   "source": [
    "for i in range(1,11,2):\n",
    "    print(\"i: %-3d\\t i^2: %d\" % (i, i**2))\n",
    "    print(\"i: {0}\\t i^2: {1}\".format(i,i**2))"
   ]
  },
  {
   "cell_type": "markdown",
   "metadata": {
    "id": "2js6mAE8qPrh"
   },
   "source": [
    "In this example you can also use the C-style `fprintf` formatting for displaying information."
   ]
  },
  {
   "cell_type": "markdown",
   "metadata": {
    "id": "dSsnZCL_zdyf"
   },
   "source": [
    "## `try/except/else/finally`"
   ]
  },
  {
   "cell_type": "code",
   "execution_count": 40,
   "metadata": {
    "colab": {
     "base_uri": "https://localhost:8080/"
    },
    "executionInfo": {
     "elapsed": 369,
     "status": "ok",
     "timestamp": 1636633699487,
     "user": {
      "displayName": "Francesco Pannarale",
      "photoUrl": "https://lh3.googleusercontent.com/a/default-user=s64",
      "userId": "04296007763837408065"
     },
     "user_tz": -60
    },
    "id": "1gwvxRA1zdyf",
    "outputId": "d5398ba4-efa4-4b8f-e19a-0bfd02f5cf46"
   },
   "outputs": [
    {
     "name": "stdout",
     "output_type": "stream",
     "text": [
      "Deleting the variable result.\n",
      "Nothing to delete.\n",
      "Yeah! Your answer is: 1\n",
      "This is always executed\n",
      "1\n"
     ]
    }
   ],
   "source": [
    "x = 3\n",
    "y = 2\n",
    "#y = 0\n",
    "\n",
    "try:\n",
    "    print(\"Deleting the variable result.\")\n",
    "    del result\n",
    "except:\n",
    "    print(\"Nothing to delete.\")\n",
    "\n",
    "try:\n",
    "    # Floor division\n",
    "    result = x // y\n",
    "except ZeroDivisionError:\n",
    "    print(\"Sorry! You are dividing by zero\")\n",
    "else:\n",
    "    print(\"Yeah! Your answer is:\", result)\n",
    "finally: \n",
    "    # This block is always executed  \n",
    "    # regardless of exception generation. \n",
    "    print(\"This is always executed\")\n",
    "\n",
    "# result was defined, calculated, stored, as long\n",
    "# as everything went well with x//y.\n",
    "# If so, result is still there and accessible\n",
    "print(result)"
   ]
  },
  {
   "cell_type": "markdown",
   "metadata": {
    "id": "JbsSoWwPzdyf"
   },
   "source": [
    "## `break`, `continue`, and `pass`"
   ]
  },
  {
   "cell_type": "markdown",
   "metadata": {
    "id": "0hvHXKSizdyf"
   },
   "source": [
    "Spot prime numbers between 2 and 9"
   ]
  },
  {
   "cell_type": "code",
   "execution_count": 41,
   "metadata": {
    "colab": {
     "base_uri": "https://localhost:8080/"
    },
    "executionInfo": {
     "elapsed": 344,
     "status": "ok",
     "timestamp": 1636633829402,
     "user": {
      "displayName": "Francesco Pannarale",
      "photoUrl": "https://lh3.googleusercontent.com/a/default-user=s64",
      "userId": "04296007763837408065"
     },
     "user_tz": -60
    },
    "id": "d0Ow7pYMzdyf",
    "outputId": "9b429b1d-7196-49cc-9878-e7c6a089c6be"
   },
   "outputs": [
    {
     "name": "stdout",
     "output_type": "stream",
     "text": [
      "2 is a prime number\n",
      "3 is a prime number\n",
      "4 equals 2 * 2\n",
      "5 is a prime number\n",
      "6 equals 2 * 3\n",
      "7 is a prime number\n",
      "8 equals 2 * 4\n",
      "9 equals 3 * 3\n"
     ]
    }
   ],
   "source": [
    "for n in range(2, 10):\n",
    "    # Think of this as: if x appears in [2,3,...,n) then do...\n",
    "    for x in range(2, n):\n",
    "        if n % x == 0:\n",
    "            print(n, 'equals', x, '*', n//x)\n",
    "            break\n",
    "    # ...otherwise do...\n",
    "    else:\n",
    "        # Loop fell through without finding a factor\n",
    "        print(n, 'is a prime number')"
   ]
  },
  {
   "cell_type": "markdown",
   "metadata": {
    "id": "tI-HN-0Azdyf"
   },
   "source": [
    "Spot even and odd numbers between 2 and 9"
   ]
  },
  {
   "cell_type": "code",
   "execution_count": 42,
   "metadata": {
    "colab": {
     "base_uri": "https://localhost:8080/"
    },
    "executionInfo": {
     "elapsed": 372,
     "status": "ok",
     "timestamp": 1636634049384,
     "user": {
      "displayName": "Francesco Pannarale",
      "photoUrl": "https://lh3.googleusercontent.com/a/default-user=s64",
      "userId": "04296007763837408065"
     },
     "user_tz": -60
    },
    "id": "N_krpv-Wzdyf",
    "outputId": "367e9261-6648-4c1f-f442-8068bf819631"
   },
   "outputs": [
    {
     "name": "stdout",
     "output_type": "stream",
     "text": [
      "Found an even number 2\n",
      "Found an odd number 3\n",
      "Moving on to the next number\n",
      "Found an even number 4\n",
      "Found an odd number 5\n",
      "Moving on to the next number\n",
      "Found an even number 6\n",
      "Found an odd number 7\n",
      "Moving on to the next number\n",
      "Found an even number 8\n",
      "Found an odd number 9\n",
      "Moving on to the next number\n"
     ]
    }
   ],
   "source": [
    "for num in range(2, 10):\n",
    "    if num % 2 == 0:\n",
    "        print(\"Found an even number\", num)\n",
    "        continue\n",
    "    print(\"Found an odd number\", num)\n",
    "    print(\"Moving on to the next number\")"
   ]
  },
  {
   "cell_type": "markdown",
   "metadata": {
    "id": "v9hGHIHdzdyg"
   },
   "source": [
    "Spot odd numbers between 2 and 9\n",
    "\n",
    "The keyword `pass` is needed for an empty scope. It does not skip anything. It only tells the interpreter that in this scope there is nothing to do. It is equivalent to `{}` in C++."
   ]
  },
  {
   "cell_type": "code",
   "execution_count": 43,
   "metadata": {
    "colab": {
     "base_uri": "https://localhost:8080/"
    },
    "executionInfo": {
     "elapsed": 649,
     "status": "ok",
     "timestamp": 1636634101683,
     "user": {
      "displayName": "Francesco Pannarale",
      "photoUrl": "https://lh3.googleusercontent.com/a/default-user=s64",
      "userId": "04296007763837408065"
     },
     "user_tz": -60
    },
    "id": "eFEml-Lzzdyg",
    "outputId": "8b2dac7c-3ebc-44f2-c148-84a78e029fd9"
   },
   "outputs": [
    {
     "name": "stdout",
     "output_type": "stream",
     "text": [
      "Moving on to the next number\n",
      "Found an odd number 3\n",
      "Moving on to the next number\n",
      "Moving on to the next number\n",
      "Found an odd number 5\n",
      "Moving on to the next number\n",
      "Moving on to the next number\n",
      "Found an odd number 7\n",
      "Moving on to the next number\n",
      "Moving on to the next number\n",
      "Found an odd number 9\n",
      "Moving on to the next number\n"
     ]
    }
   ],
   "source": [
    "for num in range(2, 10):\n",
    "    if num % 2 == 0:\n",
    "        pass\n",
    "    else:\n",
    "        print(\"Found an odd number\", num)\n",
    "    print(\"Moving on to the next number\")"
   ]
  },
  {
   "cell_type": "markdown",
   "metadata": {},
   "source": [
    "Often a `pass` can be avoided in favour of more elegant/streamlined code."
   ]
  },
  {
   "cell_type": "code",
   "execution_count": 44,
   "metadata": {},
   "outputs": [
    {
     "name": "stdout",
     "output_type": "stream",
     "text": [
      "Moving on to the next number\n",
      "Found an odd number 3\n",
      "Moving on to the next number\n",
      "Moving on to the next number\n",
      "Found an odd number 5\n",
      "Moving on to the next number\n",
      "Moving on to the next number\n",
      "Found an odd number 7\n",
      "Moving on to the next number\n",
      "Moving on to the next number\n",
      "Found an odd number 9\n",
      "Moving on to the next number\n"
     ]
    }
   ],
   "source": [
    "for num in range(2, 10):\n",
    "    if num % 2 != 0:\n",
    "        print(\"Found an odd number\", num)\n",
    "    print(\"Moving on to the next number\")"
   ]
  },
  {
   "cell_type": "markdown",
   "metadata": {
    "id": "8YFJRfsWqPrh"
   },
   "source": [
    "# 3. FUNCTIONS AND MODULES\n",
    "\n",
    "As in other languages, a function is defined by its name and its arguments. But there is no return type nor do you need to specify the type of arguments. Any object can be the input to any function.\n",
    "\n",
    "The generic structure of a function is\n",
    "```python\n",
    "def function(arg1, arg2, arg3=val):\n",
    "    statements\n",
    "    return value\n",
    "\n",
    "next_statement\n",
    "```\n",
    "\n",
    "If a function does not return a value, a `None` value is returned automatically"
   ]
  },
  {
   "cell_type": "code",
   "execution_count": 45,
   "metadata": {
    "colab": {
     "base_uri": "https://localhost:8080/"
    },
    "executionInfo": {
     "elapsed": 377,
     "status": "ok",
     "timestamp": 1636634798065,
     "user": {
      "displayName": "Francesco Pannarale",
      "photoUrl": "https://lh3.googleusercontent.com/a/default-user=s64",
      "userId": "04296007763837408065"
     },
     "user_tz": -60
    },
    "id": "86Lm5yJHqPri",
    "outputId": "05d2b94e-dd12-422f-c096-bf53c6c76924"
   },
   "outputs": [
    {
     "name": "stdout",
     "output_type": "stream",
     "text": [
      "Three body decay\n",
      "Decay to 4 or more bodies\n",
      "Two body decay\n",
      "<class 'NoneType'>\n",
      "x = 0.7590\n",
      "Decay to 4 or more bodies\n",
      "\n",
      "So what is import all about?\n"
     ]
    }
   ],
   "source": [
    "def decay(x, a=0.3, b=0.7):\n",
    "    if x < a:\n",
    "        print(\"Two body decay\")\n",
    "    elif x < b:\n",
    "        print(\"Three body decay\")\n",
    "    else:\n",
    "        print(\"Decay to 4 or more bodies\")\n",
    "    \n",
    "decay(0.4)\n",
    "decay(0.9, b=0.6)\n",
    "# Also decay() has a return type\n",
    "v = decay(0.003)\n",
    "print(type(v))\n",
    "\n",
    "# Import NumPy module\n",
    "import numpy as np\n",
    "x = np.random.random()\n",
    "print(\"x = %.4f\"%x)\n",
    "decay(x)\n",
    "\n",
    "print(\"\\nSo what is import all about?\")"
   ]
  },
  {
   "cell_type": "code",
   "execution_count": 46,
   "metadata": {},
   "outputs": [
    {
     "name": "stdout",
     "output_type": "stream",
     "text": [
      "Help on built-in function random:\n",
      "\n",
      "random(...) method of numpy.random.mtrand.RandomState instance\n",
      "    random(size=None)\n",
      "    \n",
      "    Return random floats in the half-open interval [0.0, 1.0). Alias for\n",
      "    `random_sample` to ease forward-porting to the new random API.\n",
      "\n"
     ]
    }
   ],
   "source": [
    "help(np.random.random)"
   ]
  },
  {
   "cell_type": "markdown",
   "metadata": {
    "id": "WRU-wLmdqPri"
   },
   "source": [
    "## Python application and modules\n",
    "An important difference with respect to C++ is the lack of an entry point.\n",
    "\n",
    "A typical C/C++ application `app.cc` is\n",
    "```c++\n",
    "#include <stdio>\n",
    "#include <math>\n",
    "\n",
    "double uniform(double,double);\n",
    "\n",
    "int main() {\n",
    "  /*   code goes here */\n",
    "  return 0;\n",
    "}\n",
    "\n",
    "double uniform(double a,double b) {\n",
    "  /* implement uniform */\n",
    "  return something\n",
    "}\n",
    "```\n",
    "You compile and link the application using the math library as\n",
    "```\n",
    "g++ -o /tmp/app.exe -lm app.cc\n",
    "```\n",
    "and finally run the executable\n",
    "```\n",
    "/tmp/app.exe\n",
    "```\n",
    "\n",
    "Running the executable means that the operating system calls the `main()` function in `app.exe`.\n",
    "\n",
    "**In Python, however, there is no such thing!**\n",
    "\n",
    "A program is any file containing python statements. Being an interpreted language, all statements are executed as they appear in the file.\n",
    "\n",
    "The following examples showing the use of modules and namespaces are available in the classroom drive in the directory `examples/Python`.\n",
    "\n",
    "Our first program is `example11.py`"
   ]
  },
  {
   "cell_type": "markdown",
   "metadata": {
    "id": "VM7x-vdeqPri"
   },
   "source": [
    "```\n",
    "# This is my first module\n",
    "\n",
    "print(\"==== Running example11.py\")\n",
    "\n",
    "a = 2.3\n",
    "b = 4.5\n",
    "c = a/b\n",
    "\n",
    "def line(x, m=1., q=0.):\n",
    "  print(\"x: {2}, m: {0}, q: {1}\".format(m,q,x))\n",
    "  return m*x+q\n",
    "\n",
    "# Print using ''\n",
    "print('a = {0}, b = {1}, c = {2}'.format(a, b, c))\n",
    "\n",
    "\n",
    "print(line(2., q=2.3))\n",
    "print(line(0., q=-1.3))\n",
    "print(\"==== End of example11.py\")\n",
    "```"
   ]
  },
  {
   "cell_type": "markdown",
   "metadata": {
    "id": "zkU6nZqNqPri"
   },
   "source": [
    "__Reminder__: you can execute the program from the command line with \n",
    "```\n",
    "python3 example11.py\n",
    "```\n",
    "In Jupyter you can run a local file (with path relative to the directory where you started the notebook session) by using the magic `%run` command.  E.g.\n",
    "\n",
    "```\n",
    "%run ./example11.py\n",
    "```"
   ]
  },
  {
   "cell_type": "code",
   "execution_count": 47,
   "metadata": {},
   "outputs": [
    {
     "name": "stdout",
     "output_type": "stream",
     "text": [
      "==== Running example11.py\n",
      "a = 2.3, b = 4.5, c = 0.5111111111111111\n",
      "x: 2.0, m: 1.0, q: 2.3\n",
      "4.3\n",
      "x: 0.0, m: 1.0, q: -1.3\n",
      "-1.3\n",
      "==== End of example11.py\n"
     ]
    }
   ],
   "source": [
    "%run ./example11.py"
   ]
  },
  {
   "cell_type": "markdown",
   "metadata": {
    "id": "qTVeFMs1qPrj"
   },
   "source": [
    "### Our first module\n",
    "Suppose you want to use the `line()` function in this example in other programs. Rather than copying the code by hand we want to use a library model, or what is called a __module__ in Python. \n",
    "\n",
    "Unlike C, there is  no special setup to create a module.\n",
    "\n",
    "We write a second program `example12.py`\n",
    "```python\n",
    "import example11\n",
    "\n",
    "print('===== Running 12example.py ===== ')\n",
    "\n",
    "x = float(input(\"Insert x:\"))\n",
    "y = example11.line(x)\n",
    "print(y)\n",
    "\n",
    "# A much shorter way\n",
    "print(example11.line(float(input(\"Insert x:\"))))\n",
    "```\n",
    "\n",
    "and execute it from the command line\n",
    "\n",
    "```shell\n",
    "$ python3 example12.py\n",
    "==== Running example11.py\n",
    "a = 2.3, b = 4.5, c = 0.5111111111111111\n",
    "x: 2.0, m: 1.0, q: 2.3\n",
    "4.3\n",
    "x: 0.0, m: 1.0, q: -1.3\n",
    "-1.3\n",
    "==== End of example11.py\n",
    "===== Running example12.py ===== \n",
    "insert x:-123\n",
    "x: -123.0, m: 1.0, q: 0.0\n",
    "-123.0\n",
    "insert x:23\n",
    "x: 23.0, m: 1.0, q: 0.0\n",
    "23.0\n",
    "```"
   ]
  },
  {
   "cell_type": "markdown",
   "metadata": {
    "id": "Pmf9EZikzdyh"
   },
   "source": [
    "There are 2 important aspects to note\n",
    "  1. The function `line()` belongs to the `example11` namespace. So you __must__ use `example11.line` to call it.\n",
    "  2. By importing `example11`, in addition to the definition of function `line` you also execute the rest of the Python program.\n",
    "  This is expected because __Python is an interpreted language__.\n",
    "  \n",
    "Let's address these 2 issues."
   ]
  },
  {
   "cell_type": "markdown",
   "metadata": {
    "id": "0fapX3a0qPrj"
   },
   "source": [
    "### Importing only some objects of a module\n",
    "To address the first issue we can do the following in `example13.py`\n",
    "```python\n",
    "from example11 import line\n",
    "\n",
    "print(\"++++ executing \"+ __file__)\n",
    "\n",
    "print(line(-3.4, q=0.5))\n",
    "```\n",
    "Now when we run the program:\n",
    "```shell\n",
    "$ python3 example13.py \n",
    "==== Running example11.py\n",
    "a = 2.3, b = 4.5, c = 0.5111111111111111\n",
    "x: 2.0, m: 1.0, q: 2.3\n",
    "4.3\n",
    "x: 0.0, m: 1.0, q: -1.3\n",
    "-1.3\n",
    "==== End of example11.py\n",
    "++++ executing /Users/francesco/Documents/Work/Didattica/2022-23/2022-23 Computing Methods For Physics/Course Material 2022-23/examples/Python/example13.py\n",
    "x: -3.4, m: 1.0, q: 0.5\n",
    "-2.9\n",
    "```"
   ]
  },
  {
   "cell_type": "markdown",
   "metadata": {
    "id": "OR4_31Z5qPrj"
   },
   "source": [
    "### Importing objects from a module and renaming them\n",
    "A different approach is shown in `example14.py` where `line` is imported and renamed `p1`.\n",
    "```python\n",
    "from example11 import line as p1\n",
    "\n",
    "print(\"++++ executing \"+ __file__)\n",
    "\n",
    "print(p1(-3.4, q=0.5))\n",
    "```\n",
    "Produces\n",
    "\n",
    "```shell\n",
    "==== Running example11.py\n",
    "a = 2.3, b = 4.5, c = 0.5111111111111111\n",
    "x: 2.0, m: 1.0, q: 2.3\n",
    "4.3\n",
    "x: 0.0, m: 1.0, q: -1.3\n",
    "-1.3\n",
    "==== End of example11.py\n",
    "++++ executing /Users/francesco/Documents/Work/Didattica/2022-23/2022-23 Computing Methods For Physics/Course Material 2022-23/examples/Python/example14.py\n",
    "x: -3.4, m: 1.0, q: 0.5\n",
    "-2.9\n",
    "```"
   ]
  },
  {
   "cell_type": "markdown",
   "metadata": {
    "id": "39uwsqpCqPrj"
   },
   "source": [
    "### What is imported? \n",
    "All objects defined in a module are available when a module is imported. \n",
    "\n",
    "This is shown in `example15.py`\n",
    "```python \n",
    "import example11\n",
    "\n",
    "print(\"++++ executing file: \"+ __file__)\n",
    "\n",
    "print(\"Calling example11.line(2.34, q=0.5): \", example11.line(2.34, q=0.5))\n",
    "\n",
    "print(\"example11.a: %f\" % example11.a)\n",
    "```\n",
    "When running in the terminal:\n",
    "\n",
    "```shell\n",
    "$ python3 example15.py\n",
    "==== Running example11.py\n",
    "a = 2.3, b = 4.5, c = 0.5111111111111111\n",
    "x: 2.0, m: 1.0, q: 2.3\n",
    "4.3\n",
    "x: 0.0, m: 1.0, q: -1.3\n",
    "-1.3\n",
    "==== End of example11.py\n",
    "++++ executing file: /Users/francesco/Documents/Work/Didattica/2022-23/2022-23 Computing Methods For Physics/Course Material 2021-22/examples/Python/example15.py\n",
    "x: 2.34, m: 1.0, q: 0.5\n",
    "Calling example11.line(2.34, q=0.5):  2.84\n",
    "example11.a: 2.300000\n",
    "```"
   ]
  },
  {
   "cell_type": "markdown",
   "metadata": {
    "id": "Feoqjhl1qPrj"
   },
   "source": [
    "### Importing only objects without executing statements\n",
    "We now turn to our second problem, namely how to avoid running the statements in `example11.py` when importing it as a module.\n",
    "\n",
    "This can be done with a more advanced feature of Python which we will understand better in future lectures. The solution is actually trivial. A modified version of `example11.py` is `mymodule.py`\n",
    "```python\n",
    "# This is my first module\n",
    "a = 2.3\n",
    "b = 4.5\n",
    "c = a/b\n",
    "\n",
    "def line(x, m=1., q=0.):\n",
    "  print(\"=== In line === x: {2}, m: {0}, q: {1}\".format(m,q,x))\n",
    "  return m*x+q\n",
    "\n",
    "print(\"__name__ : \" +  __name__ + \" in \" + __file__)\n",
    "\n",
    "\n",
    "if __name__ == \"__main__\":\n",
    "  print(\"executing \" +  __name__ + \" in \" + __file__)\n",
    "\n",
    "  # Print using ''\n",
    "  print('a = {0}, b = {1}, c = {2}'.format(a, b, c))\n",
    "  print(\"calling line(): \", line(2., q=2.3))\n",
    "  print(\"calling line()\", line(0., q=-1.3))\n",
    "\n",
    "  def p1(x, m=1., q=0.):\n",
    "      print(\"x: {2}, m: {0}, q: {1}\".format(m,q,x))\n",
    "      return m*x+q\n",
    "```\n",
    "which has this behavior\n",
    "```shell\n",
    "$ python3 mymodule.py \n",
    "__name__ : __main__ in /Users/francesco/Documents/Work/Didattica/2022-23/2022-23 Computing Methods For Physics/Course Material 2022-23/examples/Python/mymodule.py\n",
    "executing __main__ in /Users/francesco/Documents/Work/Didattica/2022-23/2022-23 Computing Methods For Physics/Course Material 2022-23/examples/Python/mymodule.py\n",
    "a = 2.3, b = 4.5, c = 0.5111111111111111\n",
    "=== in line === x: 2.0, m: 1.0, q: 2.3\n",
    "calling line():  4.3\n",
    "=== in line === x: 0.0, m: 1.0, q: -1.3\n",
    "calling line() -1.3\n",
    "```"
   ]
  },
  {
   "cell_type": "markdown",
   "metadata": {
    "id": "1HoE3JJEqPrj"
   },
   "source": [
    "To understand this better look at `example16.py`\n",
    "```python\n",
    "import mymodule\n",
    "\n",
    "print(\"++++ executing namespace \" + __name__ + \" in file: \" +  __file__)\n",
    "\n",
    "# Local a variable\n",
    "a = 'test string'\n",
    "\n",
    "# Any object in mymodule can be used and there is no confusion with local a\n",
    "print(\"mymodule.a: %f\" % mymodule.a)\n",
    "print(\"local a: \", a)\n",
    "\n",
    "# Use line function from mymodule\n",
    "print(mymodule.line(2.34, q=0.5))\n",
    "\n",
    "# Function p1 is defined in mymodule but cannot be used because\n",
    "# behind __name__ == \"__main__\" in mymodule\n",
    "print(mymodule.p1(2.34, q=0.5))\n",
    "```"
   ]
  },
  {
   "cell_type": "markdown",
   "metadata": {
    "id": "wY94_diFqPrk"
   },
   "source": [
    "At runtime we get the following error\n",
    "```shell\n",
    "$ python3 example16.py\n",
    "__name__ : mymodule in /Users/francesco/Documents/Work/Didattica/2022-23/2022-23 Computing Methods For Physics/Course Material 2022-23/examples/Python/mymodule.py\n",
    "++++ executing namespace __main__ in file: example16.py\n",
    "mymodule.a: 2.300000\n",
    "('local a: ', 'test string')\n",
    "=== in line === x: 2.34, m: 1.0, q: 0.5\n",
    "2.84\n",
    "Traceback (most recent call last):\n",
    "  File \"example16.py\", line 17, in <module>\n",
    "    print(mymodule.p1(2.34, q=0.5))\n",
    "AttributeError: 'module' object has no attribute 'p1'\n",
    "```"
   ]
  },
  {
   "cell_type": "markdown",
   "metadata": {
    "id": "LShNAOuyqPrk"
   },
   "source": [
    "When `mymodule` is imported it has its own namespace which is not `__main__`. At any time, only the Python program being executed has the `__main__` namespace as desired.\n"
   ]
  },
  {
   "cell_type": "markdown",
   "metadata": {
    "id": "e0XX0bcgqPrk"
   },
   "source": [
    "# 4. BUILT-IN DATA STRUCTURES: CONTAINERS AND SEQUENCES\n",
    "\n",
    "- One of the great and popular features of Python is the presence of built-in containers for sequences of objects\n",
    "  - These are provided by the STL in C++, but we have not discussed this (yet?)\n",
    "\n",
    "- Since in Python everything is an object and all objects can be referenced in the same way, containers can include objects of different type\n",
    "  - This is unlike anything seen in C++\n",
    "  \n",
    "- These built-in types and the reference-driven flexibility of Python has made it very popular for data analysis\n",
    "\n",
    "- Basic built-in data structures in python are\n",
    "  - tuple `(v1, v2, v3, ...)`\n",
    "  - list `[v1, v2, v3, ...]`\n",
    "  - dictionary `{key1:value1, key2:value2, key3:value3, ...)`\n",
    "  - set `{v1, v2, v3, ...}`\n",
    "  \n",
    "- We will introduce more advanced types when discussing [NumPy](https://www.numpy.org) and [pandas](http://pandas.pydata.org) packages, e.g.\n",
    "  - ndarrays\n",
    "  - series\n",
    "  - time series\n",
    "  - DataFrame"
   ]
  },
  {
   "cell_type": "markdown",
   "metadata": {
    "id": "nepoX-J_qPrk"
   },
   "source": [
    "## Tuples\n",
    "\n",
    "A tuple is an **immutable** sequence of Python objects.\n",
    "- Since Python does not have to build tuple structures to be modifiable, they are simpler and more efficient in terms of memory use and performance than lists (the next sequence container we will see).\n",
    "\n",
    "To create a tuple simply separate its elements with a `,`."
   ]
  },
  {
   "cell_type": "code",
   "execution_count": 48,
   "metadata": {
    "colab": {
     "base_uri": "https://localhost:8080/"
    },
    "executionInfo": {
     "elapsed": 249,
     "status": "ok",
     "timestamp": 1637048167819,
     "user": {
      "displayName": "Francesco Pannarale",
      "photoUrl": "https://lh3.googleusercontent.com/a/default-user=s64",
      "userId": "04296007763837408065"
     },
     "user_tz": -60
    },
    "id": "xw-DfDQzqPrk",
    "outputId": "d7dde253-c4ed-4881-de4f-720fa24f0ae8"
   },
   "outputs": [
    {
     "name": "stdout",
     "output_type": "stream",
     "text": [
      "('lec23', 'lec24', 'lec25')\n"
     ]
    }
   ],
   "source": [
    "a = 'lec23', 'lec24', 'lec25'\n",
    "print(a)"
   ]
  },
  {
   "cell_type": "code",
   "execution_count": 49,
   "metadata": {
    "colab": {
     "base_uri": "https://localhost:8080/"
    },
    "executionInfo": {
     "elapsed": 3,
     "status": "ok",
     "timestamp": 1637048168076,
     "user": {
      "displayName": "Francesco Pannarale",
      "photoUrl": "https://lh3.googleusercontent.com/a/default-user=s64",
      "userId": "04296007763837408065"
     },
     "user_tz": -60
    },
    "id": "59LegH1LqPrk",
    "outputId": "cf09c8c1-e99d-499f-8941-2bd0aa32cd23"
   },
   "outputs": [
    {
     "data": {
      "text/plain": [
       "3"
      ]
     },
     "execution_count": 49,
     "metadata": {},
     "output_type": "execute_result"
    }
   ],
   "source": [
    "len(a)"
   ]
  },
  {
   "cell_type": "markdown",
   "metadata": {
    "id": "OCcsXBofqPrq"
   },
   "source": [
    "Given the limitation of tuple (content and size are immutable) there are very few methods.  The ones not starting with a double underscore are the ones intended to be used, and there are only two of them."
   ]
  },
  {
   "cell_type": "code",
   "execution_count": 50,
   "metadata": {
    "colab": {
     "base_uri": "https://localhost:8080/"
    },
    "executionInfo": {
     "elapsed": 2,
     "status": "ok",
     "timestamp": 1637048168840,
     "user": {
      "displayName": "Francesco Pannarale",
      "photoUrl": "https://lh3.googleusercontent.com/a/default-user=s64",
      "userId": "04296007763837408065"
     },
     "user_tz": -60
    },
    "id": "hE7KY6mLzdyi",
    "outputId": "0e2d2409-835f-4119-e1a2-d080816a116a"
   },
   "outputs": [
    {
     "data": {
      "text/plain": [
       "['__add__',\n",
       " '__class__',\n",
       " '__class_getitem__',\n",
       " '__contains__',\n",
       " '__delattr__',\n",
       " '__dir__',\n",
       " '__doc__',\n",
       " '__eq__',\n",
       " '__format__',\n",
       " '__ge__',\n",
       " '__getattribute__',\n",
       " '__getitem__',\n",
       " '__getnewargs__',\n",
       " '__gt__',\n",
       " '__hash__',\n",
       " '__init__',\n",
       " '__init_subclass__',\n",
       " '__iter__',\n",
       " '__le__',\n",
       " '__len__',\n",
       " '__lt__',\n",
       " '__mul__',\n",
       " '__ne__',\n",
       " '__new__',\n",
       " '__reduce__',\n",
       " '__reduce_ex__',\n",
       " '__repr__',\n",
       " '__rmul__',\n",
       " '__setattr__',\n",
       " '__sizeof__',\n",
       " '__str__',\n",
       " '__subclasshook__',\n",
       " 'count',\n",
       " 'index']"
      ]
     },
     "execution_count": 50,
     "metadata": {},
     "output_type": "execute_result"
    }
   ],
   "source": [
    "dir(tuple)"
   ]
  },
  {
   "cell_type": "markdown",
   "metadata": {
    "id": "R-Xp_Qcszdyi"
   },
   "source": [
    "One very useful one is `count()`"
   ]
  },
  {
   "cell_type": "code",
   "execution_count": 51,
   "metadata": {
    "colab": {
     "base_uri": "https://localhost:8080/"
    },
    "executionInfo": {
     "elapsed": 249,
     "status": "ok",
     "timestamp": 1637048170681,
     "user": {
      "displayName": "Francesco Pannarale",
      "photoUrl": "https://lh3.googleusercontent.com/a/default-user=s64",
      "userId": "04296007763837408065"
     },
     "user_tz": -60
    },
    "id": "zH0TOBr4qPrq",
    "outputId": "9161df14-3818-48e2-dc58-5380bd1bb229"
   },
   "outputs": [
    {
     "data": {
      "text/plain": [
       "4"
      ]
     },
     "execution_count": 51,
     "metadata": {},
     "output_type": "execute_result"
    }
   ],
   "source": [
    "grades = (30, 22, 24, 23, 30, 18, 24, 27, 28, 28, 25, 24, 22, 30, 30, 18, 20)\n",
    "grades.count(30)"
   ]
  },
  {
   "cell_type": "markdown",
   "metadata": {
    "id": "QXlUXltYqPrl"
   },
   "source": [
    "A tuple can contain objects of different type"
   ]
  },
  {
   "cell_type": "code",
   "execution_count": 52,
   "metadata": {
    "colab": {
     "base_uri": "https://localhost:8080/"
    },
    "executionInfo": {
     "elapsed": 236,
     "status": "ok",
     "timestamp": 1637049062310,
     "user": {
      "displayName": "Francesco Pannarale",
      "photoUrl": "https://lh3.googleusercontent.com/a/default-user=s64",
      "userId": "04296007763837408065"
     },
     "user_tz": -60
    },
    "id": "zy-vOJX0qPrl",
    "outputId": "fce1bc5d-3460-4559-bb4c-6d9a775a897a"
   },
   "outputs": [
    {
     "name": "stdout",
     "output_type": "stream",
     "text": [
      "('paul', 24, 1.75, 85.3)\n"
     ]
    }
   ],
   "source": [
    "b = 'paul', 24, 1.75, 85.3\n",
    "print(b)"
   ]
  },
  {
   "cell_type": "code",
   "execution_count": 53,
   "metadata": {
    "colab": {
     "base_uri": "https://localhost:8080/"
    },
    "executionInfo": {
     "elapsed": 3,
     "status": "ok",
     "timestamp": 1637048172379,
     "user": {
      "displayName": "Francesco Pannarale",
      "photoUrl": "https://lh3.googleusercontent.com/a/default-user=s64",
      "userId": "04296007763837408065"
     },
     "user_tz": -60
    },
    "id": "7OjTnfVMqPrm",
    "outputId": "9c13754c-73d3-4082-f8e0-b23491c5f67f"
   },
   "outputs": [
    {
     "name": "stdout",
     "output_type": "stream",
     "text": [
      "('lec23', 'lec24', 'lec25') ('paul', 24, 1.75, 85.3) hi\n",
      "<class 'tuple'>\n"
     ]
    }
   ],
   "source": [
    "print(a, b, 'hi')\n",
    "print(type(b))"
   ]
  },
  {
   "cell_type": "markdown",
   "metadata": {
    "id": "G0C1aIDEqPrm"
   },
   "source": [
    "### Accessing tuple elements\n",
    "Accessing the i-th element of a tuple is achieved with the `[]` operator\n",
    "- Indexing starts with 0"
   ]
  },
  {
   "cell_type": "code",
   "execution_count": 54,
   "metadata": {
    "id": "hqHrbGA-qPrm",
    "outputId": "504f6329-0e03-4963-c507-136381a10fbe"
   },
   "outputs": [
    {
     "name": "stdout",
     "output_type": "stream",
     "text": [
      "lec25\n",
      "85.3\n",
      "<class 'int'>\n",
      "4\n"
     ]
    },
    {
     "ename": "IndexError",
     "evalue": "tuple index out of range",
     "output_type": "error",
     "traceback": [
      "\u001b[0;31m---------------------------------------------------------------------------\u001b[0m",
      "\u001b[0;31mIndexError\u001b[0m                                Traceback (most recent call last)",
      "Cell \u001b[0;32mIn [54], line 5\u001b[0m\n\u001b[1;32m      3\u001b[0m \u001b[38;5;28mprint\u001b[39m(\u001b[38;5;28mtype\u001b[39m(b[\u001b[38;5;241m1\u001b[39m]))\n\u001b[1;32m      4\u001b[0m \u001b[38;5;28mprint\u001b[39m(\u001b[38;5;28mlen\u001b[39m(b))\n\u001b[0;32m----> 5\u001b[0m \u001b[38;5;28mprint\u001b[39m(\u001b[43mb\u001b[49m\u001b[43m[\u001b[49m\u001b[38;5;241;43m4\u001b[39;49m\u001b[43m]\u001b[49m)\n",
      "\u001b[0;31mIndexError\u001b[0m: tuple index out of range"
     ]
    }
   ],
   "source": [
    "print(a[2])\n",
    "print(b[3])\n",
    "print(type(b[1]))\n",
    "print(len(b))\n",
    "print(b[4])"
   ]
  },
  {
   "cell_type": "markdown",
   "metadata": {
    "id": "L-9KLnoZqPrn"
   },
   "source": [
    "Note how there is protection against out-of-bound access to tuples."
   ]
  },
  {
   "cell_type": "markdown",
   "metadata": {
    "id": "Ui3c3xvvqPrn"
   },
   "source": [
    "### Empty or one-element tuple"
   ]
  },
  {
   "cell_type": "code",
   "execution_count": 55,
   "metadata": {
    "colab": {
     "base_uri": "https://localhost:8080/"
    },
    "executionInfo": {
     "elapsed": 324,
     "status": "ok",
     "timestamp": 1637048401293,
     "user": {
      "displayName": "Francesco Pannarale",
      "photoUrl": "https://lh3.googleusercontent.com/a/default-user=s64",
      "userId": "04296007763837408065"
     },
     "user_tz": -60
    },
    "id": "5tUYONfeqPrn",
    "outputId": "4b557c6f-098b-475e-9e84-7f8ea3fd5a5d"
   },
   "outputs": [
    {
     "name": "stdout",
     "output_type": "stream",
     "text": [
      "<class 'tuple'> ()\n",
      "<class 'tuple'> ('something',)\n",
      "<class 'str'> something\n"
     ]
    }
   ],
   "source": [
    "c = ()\n",
    "print(type(c),c)\n",
    "\n",
    "d = 'something',\n",
    "print(type(d),d)\n",
    "\n",
    "e = 'something'\n",
    "print(type(e),e)"
   ]
  },
  {
   "cell_type": "markdown",
   "metadata": {
    "id": "IYlg4KHgqPrn"
   },
   "source": [
    "Note that the `,` is critical to distinguish a on-element tuple from a normal variable."
   ]
  },
  {
   "cell_type": "markdown",
   "metadata": {
    "id": "EerATrBOqPrn"
   },
   "source": [
    "### Conversion to tuple"
   ]
  },
  {
   "cell_type": "code",
   "execution_count": 56,
   "metadata": {
    "colab": {
     "base_uri": "https://localhost:8080/"
    },
    "executionInfo": {
     "elapsed": 9,
     "status": "ok",
     "timestamp": 1637048517691,
     "user": {
      "displayName": "Francesco Pannarale",
      "photoUrl": "https://lh3.googleusercontent.com/a/default-user=s64",
      "userId": "04296007763837408065"
     },
     "user_tz": -60
    },
    "id": "83ZDXeGnqPrn",
    "outputId": "eba31fb3-6c73-437a-cf67-b48a1c09fe84"
   },
   "outputs": [
    {
     "name": "stdout",
     "output_type": "stream",
     "text": [
      "range(0, 10)\n"
     ]
    }
   ],
   "source": [
    "print(range(10))"
   ]
  },
  {
   "cell_type": "code",
   "execution_count": 57,
   "metadata": {
    "colab": {
     "base_uri": "https://localhost:8080/"
    },
    "executionInfo": {
     "elapsed": 230,
     "status": "ok",
     "timestamp": 1637048528144,
     "user": {
      "displayName": "Francesco Pannarale",
      "photoUrl": "https://lh3.googleusercontent.com/a/default-user=s64",
      "userId": "04296007763837408065"
     },
     "user_tz": -60
    },
    "id": "7cgkgaJHqPro",
    "outputId": "1b7727f4-663e-4aa9-8567-5e172be492f8"
   },
   "outputs": [
    {
     "name": "stdout",
     "output_type": "stream",
     "text": [
      "length:  10\n",
      "tup: range(0, 10)\n",
      "<class 'range'>\n"
     ]
    }
   ],
   "source": [
    "tup = range(10)\n",
    "print(\"length: \", len(tup))\n",
    "print(\"tup:\", tup)\n",
    "print(type(tup))"
   ]
  },
  {
   "cell_type": "markdown",
   "metadata": {
    "id": "H8a2dxTXqPro"
   },
   "source": [
    "Note how `tup` is not a tuple but simply a refernce to function call `range(10)`.\n",
    "\n",
    "If you want a tuple you have to explicitly convert the output of `range(10)` to be a tuple."
   ]
  },
  {
   "cell_type": "code",
   "execution_count": 58,
   "metadata": {
    "id": "oQKlYUBKqPro",
    "outputId": "18ec9b1d-1671-483c-ba3f-ac46d59ebb7a"
   },
   "outputs": [
    {
     "name": "stdout",
     "output_type": "stream",
     "text": [
      "length:  10\n",
      "tup:  (0, 1, 2, 3, 4, 5, 6, 7, 8, 9)\n",
      "<class 'tuple'>\n"
     ]
    }
   ],
   "source": [
    "tup = tuple(range(10))\n",
    "print(\"length: \", len(tup))\n",
    "print(\"tup: \", tup)\n",
    "print(type(tup))"
   ]
  },
  {
   "cell_type": "markdown",
   "metadata": {
    "id": "7a6xfi5jqPro"
   },
   "source": [
    "### Iterating over a tuple\n",
    "- Is easy"
   ]
  },
  {
   "cell_type": "code",
   "execution_count": 59,
   "metadata": {
    "id": "em_tLfvUqPro",
    "outputId": "9d1337e2-ce8b-4f21-b078-87fd1c7f43f3"
   },
   "outputs": [
    {
     "name": "stdout",
     "output_type": "stream",
     "text": [
      "0\n",
      "1\n",
      "2\n",
      "3\n",
      "4\n",
      "5\n",
      "6\n",
      "7\n",
      "8\n",
      "9\n"
     ]
    }
   ],
   "source": [
    "for i in tup:\n",
    "    print(i)"
   ]
  },
  {
   "cell_type": "markdown",
   "metadata": {
    "id": "6dvIkdunqPro"
   },
   "source": [
    "### Converting strings to tuples"
   ]
  },
  {
   "cell_type": "code",
   "execution_count": 60,
   "metadata": {
    "id": "CzGEJ84SqPro",
    "outputId": "ac302e35-d9aa-491b-bf2b-a4896af1f63f"
   },
   "outputs": [
    {
     "name": "stdout",
     "output_type": "stream",
     "text": [
      "tup:  ('H', 'e', 'l', 'l', 'o', ' ', 'W', 'o', 'r', 'l', 'd', '!')\n",
      "12\n",
      "H\n",
      "e\n",
      "l\n",
      "l\n",
      "o\n",
      " \n",
      "W\n",
      "o\n",
      "r\n",
      "l\n",
      "d\n",
      "!\n",
      "H >> e >> l >> l >> o >>   >> W >> o >> r >> l >> d >> ! >> \n",
      "\n"
     ]
    }
   ],
   "source": [
    "tup = tuple(\"Hello World!\")\n",
    "print(\"tup: \", tup)\n",
    "print(len(tup))\n",
    "\n",
    "for i in tup:\n",
    "    print(i)\n",
    "\n",
    "for i in tup:\n",
    "    print(i, end=\" >> \")\n",
    "    \n",
    "print(\"\\n\")    \n"
   ]
  },
  {
   "cell_type": "markdown",
   "metadata": {
    "id": "ueUB06k-qPrp"
   },
   "source": [
    "### Tuples can contain any object\n",
    "\n",
    "Even a function is a valid object to be placed in a tuple"
   ]
  },
  {
   "cell_type": "code",
   "execution_count": 61,
   "metadata": {
    "colab": {
     "base_uri": "https://localhost:8080/"
    },
    "executionInfo": {
     "elapsed": 236,
     "status": "ok",
     "timestamp": 1637048896807,
     "user": {
      "displayName": "Francesco Pannarale",
      "photoUrl": "https://lh3.googleusercontent.com/a/default-user=s64",
      "userId": "04296007763837408065"
     },
     "user_tz": -60
    },
    "id": "pQRU_rhnqPrp",
    "outputId": "c52ce941-24b4-4155-c0cc-6f40ce900d38"
   },
   "outputs": [
    {
     "name": "stdout",
     "output_type": "stream",
     "text": [
      "tup:  (1, 'name', <function myprod at 0x10fca2b90>)\n",
      "<class 'int'>\n",
      "<class 'str'>\n",
      "<class 'function'>\n"
     ]
    }
   ],
   "source": [
    "def myprod(a, b=3.145, scale=1.0):\n",
    "    return a*b*scale\n",
    "\n",
    "tup = (1, 'name', myprod)\n",
    "print(\"tup: \",tup)\n",
    "\n",
    "for i in tup:\n",
    "    print(type(i))"
   ]
  },
  {
   "cell_type": "markdown",
   "metadata": {
    "id": "e5YH43y0zdyk"
   },
   "source": [
    "**Note how the use of default values is more flexible than in C**"
   ]
  },
  {
   "cell_type": "code",
   "execution_count": 62,
   "metadata": {
    "colab": {
     "base_uri": "https://localhost:8080/"
    },
    "executionInfo": {
     "elapsed": 216,
     "status": "ok",
     "timestamp": 1637048992189,
     "user": {
      "displayName": "Francesco Pannarale",
      "photoUrl": "https://lh3.googleusercontent.com/a/default-user=s64",
      "userId": "04296007763837408065"
     },
     "user_tz": -60
    },
    "id": "0mNvT6gVqPrp",
    "outputId": "7ca9485b-c3a1-4cb6-f2f7-cd1ba98699a1"
   },
   "outputs": [
    {
     "name": "stdout",
     "output_type": "stream",
     "text": [
      "6.4\n",
      "6.4\n",
      "20.128\n"
     ]
    }
   ],
   "source": [
    "bb = 3.2\n",
    "print(tup[2](2, bb))\n",
    "print(myprod(2, b=bb))\n",
    "print(myprod(2, scale=bb))"
   ]
  },
  {
   "cell_type": "markdown",
   "metadata": {
    "id": "lPH8MI3rqPrp"
   },
   "source": [
    "### A tuple can contain tuples as its elements"
   ]
  },
  {
   "cell_type": "code",
   "execution_count": 63,
   "metadata": {
    "colab": {
     "base_uri": "https://localhost:8080/"
    },
    "executionInfo": {
     "elapsed": 211,
     "status": "ok",
     "timestamp": 1637049073045,
     "user": {
      "displayName": "Francesco Pannarale",
      "photoUrl": "https://lh3.googleusercontent.com/a/default-user=s64",
      "userId": "04296007763837408065"
     },
     "user_tz": -60
    },
    "id": "zoVYXkrLqPrp",
    "outputId": "8d12b37a-e95c-4657-bc74-2d1751227f0d"
   },
   "outputs": [
    {
     "name": "stdout",
     "output_type": "stream",
     "text": [
      "i:  ('lec23', 'lec24', 'lec25')\n",
      "i:  ('paul', 24, 1.75, 85.3)\n",
      "i:  ()\n",
      "i:  (1, 'name', <function myprod at 0x10fca2b90>)\n"
     ]
    }
   ],
   "source": [
    "x = a, b, c, tup\n",
    "\n",
    "for i in x:\n",
    "    print(\"i: \", i)"
   ]
  },
  {
   "cell_type": "code",
   "execution_count": 64,
   "metadata": {
    "id": "p5FLijHoqPrp",
    "outputId": "7e29c1ab-14e1-4837-c4db-07877a7bfcb3"
   },
   "outputs": [
    {
     "name": "stdout",
     "output_type": "stream",
     "text": [
      "()\n",
      "('lec23', 'lec24', 'lec25')\n",
      "15.0\n"
     ]
    }
   ],
   "source": [
    "print(x[2])\n",
    "print(x[0])\n",
    "print(x[3][2](3,5))  # calling function myprod contained in tup"
   ]
  },
  {
   "cell_type": "markdown",
   "metadata": {
    "id": "1dLSJTWiqPrp"
   },
   "source": [
    "### And once again: tuples are immutable\n",
    "\n",
    "You can bind a variable to a new tuple but you cannot change an element of a tuple"
   ]
  },
  {
   "cell_type": "code",
   "execution_count": 65,
   "metadata": {
    "colab": {
     "base_uri": "https://localhost:8080/",
     "height": 188
    },
    "executionInfo": {
     "elapsed": 211,
     "status": "error",
     "timestamp": 1637049144846,
     "user": {
      "displayName": "Francesco Pannarale",
      "photoUrl": "https://lh3.googleusercontent.com/a/default-user=s64",
      "userId": "04296007763837408065"
     },
     "user_tz": -60
    },
    "id": "5TAKaV-wqPrq",
    "outputId": "10a65449-61d5-4996-a24e-34b7baf7636b"
   },
   "outputs": [
    {
     "ename": "TypeError",
     "evalue": "'tuple' object does not support item assignment",
     "output_type": "error",
     "traceback": [
      "\u001b[0;31m---------------------------------------------------------------------------\u001b[0m",
      "\u001b[0;31mTypeError\u001b[0m                                 Traceback (most recent call last)",
      "Cell \u001b[0;32mIn [65], line 1\u001b[0m\n\u001b[0;32m----> 1\u001b[0m \u001b[43mtup\u001b[49m\u001b[43m[\u001b[49m\u001b[38;5;241;43m0\u001b[39;49m\u001b[43m]\u001b[49m \u001b[38;5;241m=\u001b[39m \u001b[38;5;124m'\u001b[39m\u001b[38;5;124mone\u001b[39m\u001b[38;5;124m'\u001b[39m\n",
      "\u001b[0;31mTypeError\u001b[0m: 'tuple' object does not support item assignment"
     ]
    }
   ],
   "source": [
    "tup[0] = 'one'"
   ]
  },
  {
   "cell_type": "code",
   "execution_count": 66,
   "metadata": {
    "id": "R8v3v8HDqPrq",
    "outputId": "9dd2d772-9798-449a-dc39-6bfc86aabd40"
   },
   "outputs": [
    {
     "name": "stdout",
     "output_type": "stream",
     "text": [
      "('one', ('lec23', 'lec24', 'lec25'), (2, 3))\n",
      "(1, 'name', <function myprod at 0x10fca2b90>)\n"
     ]
    }
   ],
   "source": [
    "y = 'one', a, (2,3)\n",
    "print(y)\n",
    "print(tup)"
   ]
  },
  {
   "cell_type": "code",
   "execution_count": 67,
   "metadata": {
    "id": "OK9JQgnGqPrq",
    "outputId": "7bc51855-680a-4210-9e8b-c951ced545fd"
   },
   "outputs": [
    {
     "name": "stdout",
     "output_type": "stream",
     "text": [
      "('one', ('lec23', 'lec24', 'lec25'), (2, 3))\n"
     ]
    }
   ],
   "source": [
    "tup = y\n",
    "print(tup)"
   ]
  },
  {
   "cell_type": "code",
   "execution_count": 68,
   "metadata": {
    "id": "cU5HeyTmqPrq",
    "outputId": "878383c8-43a6-4d67-b499-0769e66553e3"
   },
   "outputs": [
    {
     "name": "stdout",
     "output_type": "stream",
     "text": [
      "('lec23', 'lec27', 'lec25', 'lec25', 3.14, 3.56, 3.97)\n",
      "2\n",
      "2\n",
      "1\n",
      "<class 'int'>\n"
     ]
    },
    {
     "ename": "ValueError",
     "evalue": "tuple.index(x): x not in tuple",
     "output_type": "error",
     "traceback": [
      "\u001b[0;31m---------------------------------------------------------------------------\u001b[0m",
      "\u001b[0;31mValueError\u001b[0m                                Traceback (most recent call last)",
      "Cell \u001b[0;32mIn [68], line 8\u001b[0m\n\u001b[1;32m      6\u001b[0m \u001b[38;5;28mprint\u001b[39m(b\u001b[38;5;241m.\u001b[39mcount(\u001b[38;5;241m3.14\u001b[39m))\n\u001b[1;32m      7\u001b[0m \u001b[38;5;28mprint\u001b[39m(\u001b[38;5;28mtype\u001b[39m(b\u001b[38;5;241m.\u001b[39mcount(\u001b[38;5;124m'\u001b[39m\u001b[38;5;124mlec25\u001b[39m\u001b[38;5;124m'\u001b[39m)))\n\u001b[0;32m----> 8\u001b[0m \u001b[38;5;28mprint\u001b[39m(\u001b[43mb\u001b[49m\u001b[38;5;241;43m.\u001b[39;49m\u001b[43mindex\u001b[49m\u001b[43m(\u001b[49m\u001b[38;5;124;43m'\u001b[39;49m\u001b[38;5;124;43mtest\u001b[39;49m\u001b[38;5;124;43m'\u001b[39;49m\u001b[43m)\u001b[49m)\n",
      "\u001b[0;31mValueError\u001b[0m: tuple.index(x): x not in tuple"
     ]
    }
   ],
   "source": [
    "ntuple = 'lec23', 'lec27', 'lec25', 'lec25', 3.14, 3.56, 3.97\n",
    "b = ntuple\n",
    "print(b)\n",
    "print(b.index('lec25'))\n",
    "print(b.count('lec25'))\n",
    "print(b.count(3.14))\n",
    "print(type(b.count('lec25')))\n",
    "print(b.index('test'))"
   ]
  },
  {
   "cell_type": "markdown",
   "metadata": {
    "id": "rZ5nrKrqzdyk"
   },
   "source": [
    "### Tuples are comparable\n",
    "\n",
    "The comparison operators work with tuples and other sequences. If the first item is equal, Python goes on to the next element, and so on, until it finds elements that differ."
   ]
  },
  {
   "cell_type": "code",
   "execution_count": 69,
   "metadata": {
    "id": "GAJ98wvjzdyl",
    "outputId": "026e2054-8125-44f7-dfe6-e10c9dfa6940"
   },
   "outputs": [
    {
     "data": {
      "text/plain": [
       "True"
      ]
     },
     "execution_count": 69,
     "metadata": {},
     "output_type": "execute_result"
    }
   ],
   "source": [
    "(0, 1, 2) < (5, 1, 2)"
   ]
  },
  {
   "cell_type": "code",
   "execution_count": 70,
   "metadata": {
    "id": "zVWZXEiuzdyl",
    "outputId": "b272c0f7-2ffd-46b7-8512-5de92c68c5d9"
   },
   "outputs": [
    {
     "data": {
      "text/plain": [
       "True"
      ]
     },
     "execution_count": 70,
     "metadata": {},
     "output_type": "execute_result"
    }
   ],
   "source": [
    "(0, 1, 2000000) < (0, 3, 4)"
   ]
  },
  {
   "cell_type": "markdown",
   "metadata": {
    "id": "eESSzgECwsPG"
   },
   "source": [
    "With strings it checks for alphabetical order"
   ]
  },
  {
   "cell_type": "code",
   "execution_count": 71,
   "metadata": {
    "colab": {
     "base_uri": "https://localhost:8080/"
    },
    "executionInfo": {
     "elapsed": 230,
     "status": "ok",
     "timestamp": 1637049622091,
     "user": {
      "displayName": "Francesco Pannarale",
      "photoUrl": "https://lh3.googleusercontent.com/a/default-user=s64",
      "userId": "04296007763837408065"
     },
     "user_tz": -60
    },
    "id": "7xpV5QJXzdyl",
    "outputId": "6ed624a5-a343-4e64-811f-aac6a84e83ca"
   },
   "outputs": [
    {
     "data": {
      "text/plain": [
       "True"
      ]
     },
     "execution_count": 71,
     "metadata": {},
     "output_type": "execute_result"
    }
   ],
   "source": [
    "('Jones', 'Sally') > ('Adams', 'Sam')"
   ]
  },
  {
   "cell_type": "code",
   "execution_count": 72,
   "metadata": {},
   "outputs": [
    {
     "data": {
      "text/plain": [
       "True"
      ]
     },
     "execution_count": 72,
     "metadata": {},
     "output_type": "execute_result"
    }
   ],
   "source": [
    "'J' > 'A'"
   ]
  },
  {
   "cell_type": "code",
   "execution_count": 73,
   "metadata": {
    "colab": {
     "base_uri": "https://localhost:8080/"
    },
    "executionInfo": {
     "elapsed": 16,
     "status": "ok",
     "timestamp": 1637049622332,
     "user": {
      "displayName": "Francesco Pannarale",
      "photoUrl": "https://lh3.googleusercontent.com/a/default-user=s64",
      "userId": "04296007763837408065"
     },
     "user_tz": -60
    },
    "id": "m6MAiV6Ozdyl",
    "outputId": "a0430867-9e59-43e4-8a1c-29d13d6cc8ca"
   },
   "outputs": [
    {
     "data": {
      "text/plain": [
       "False"
      ]
     },
     "execution_count": 73,
     "metadata": {},
     "output_type": "execute_result"
    }
   ],
   "source": [
    "('Jones', 'Sally') > ('Jones', 'Sally')"
   ]
  },
  {
   "cell_type": "code",
   "execution_count": 74,
   "metadata": {
    "colab": {
     "base_uri": "https://localhost:8080/"
    },
    "executionInfo": {
     "elapsed": 228,
     "status": "ok",
     "timestamp": 1637050450088,
     "user": {
      "displayName": "Francesco Pannarale",
      "photoUrl": "https://lh3.googleusercontent.com/a/default-user=s64",
      "userId": "04296007763837408065"
     },
     "user_tz": -60
    },
    "id": "j5NFlIQ0wg25",
    "outputId": "18e65e61-ff35-4a07-a021-23118bcdd405"
   },
   "outputs": [
    {
     "data": {
      "text/plain": [
       "False"
      ]
     },
     "execution_count": 74,
     "metadata": {},
     "output_type": "execute_result"
    }
   ],
   "source": [
    "('Sally') > ('Sam')"
   ]
  },
  {
   "cell_type": "code",
   "execution_count": 75,
   "metadata": {
    "colab": {
     "base_uri": "https://localhost:8080/"
    },
    "executionInfo": {
     "elapsed": 219,
     "status": "ok",
     "timestamp": 1637050456931,
     "user": {
      "displayName": "Francesco Pannarale",
      "photoUrl": "https://lh3.googleusercontent.com/a/default-user=s64",
      "userId": "04296007763837408065"
     },
     "user_tz": -60
    },
    "id": "AXnnkrx2z4Ql",
    "outputId": "7979219e-e5f3-404f-9f62-7752dfbe4409"
   },
   "outputs": [
    {
     "data": {
      "text/plain": [
       "True"
      ]
     },
     "execution_count": 75,
     "metadata": {},
     "output_type": "execute_result"
    }
   ],
   "source": [
    "('Sally') < ('Sam')"
   ]
  },
  {
   "cell_type": "markdown",
   "metadata": {
    "id": "kWgnaY2nxI9w"
   },
   "source": [
    "If it finds characters for numbers, it converts them to numbers for the comparison"
   ]
  },
  {
   "cell_type": "code",
   "execution_count": 76,
   "metadata": {
    "colab": {
     "base_uri": "https://localhost:8080/"
    },
    "executionInfo": {
     "elapsed": 300,
     "status": "ok",
     "timestamp": 1637050478539,
     "user": {
      "displayName": "Francesco Pannarale",
      "photoUrl": "https://lh3.googleusercontent.com/a/default-user=s64",
      "userId": "04296007763837408065"
     },
     "user_tz": -60
    },
    "id": "Rn1a68Rww-Lu",
    "outputId": "6f75165e-5e45-417c-ef1d-b994db7a92e7"
   },
   "outputs": [
    {
     "data": {
      "text/plain": [
       "False"
      ]
     },
     "execution_count": 76,
     "metadata": {},
     "output_type": "execute_result"
    }
   ],
   "source": [
    "('Jones10') > ('Jones11')"
   ]
  },
  {
   "cell_type": "code",
   "execution_count": 77,
   "metadata": {
    "colab": {
     "base_uri": "https://localhost:8080/"
    },
    "executionInfo": {
     "elapsed": 216,
     "status": "ok",
     "timestamp": 1637050491869,
     "user": {
      "displayName": "Francesco Pannarale",
      "photoUrl": "https://lh3.googleusercontent.com/a/default-user=s64",
      "userId": "04296007763837408065"
     },
     "user_tz": -60
    },
    "id": "TjQbVl7z0BdY",
    "outputId": "fada1dce-f037-4a9a-f596-8877fac307c3"
   },
   "outputs": [
    {
     "data": {
      "text/plain": [
       "True"
      ]
     },
     "execution_count": 77,
     "metadata": {},
     "output_type": "execute_result"
    }
   ],
   "source": [
    "('Jones10') < ('Jones11')"
   ]
  },
  {
   "cell_type": "code",
   "execution_count": 78,
   "metadata": {},
   "outputs": [
    {
     "data": {
      "text/plain": [
       "False"
      ]
     },
     "execution_count": 78,
     "metadata": {},
     "output_type": "execute_result"
    }
   ],
   "source": [
    "('J') < ('1')"
   ]
  },
  {
   "cell_type": "code",
   "execution_count": 79,
   "metadata": {},
   "outputs": [
    {
     "data": {
      "text/plain": [
       "False"
      ]
     },
     "execution_count": 79,
     "metadata": {},
     "output_type": "execute_result"
    }
   ],
   "source": [
    "('J') == ('1')"
   ]
  },
  {
   "cell_type": "code",
   "execution_count": 80,
   "metadata": {},
   "outputs": [
    {
     "data": {
      "text/plain": [
       "True"
      ]
     },
     "execution_count": 80,
     "metadata": {},
     "output_type": "execute_result"
    }
   ],
   "source": [
    "('J') > ('1')"
   ]
  },
  {
   "cell_type": "code",
   "execution_count": 81,
   "metadata": {},
   "outputs": [
    {
     "data": {
      "text/plain": [
       "True"
      ]
     },
     "execution_count": 81,
     "metadata": {},
     "output_type": "execute_result"
    }
   ],
   "source": [
    "('j') > ('1')"
   ]
  },
  {
   "cell_type": "code",
   "execution_count": 82,
   "metadata": {},
   "outputs": [
    {
     "data": {
      "text/plain": [
       "True"
      ]
     },
     "execution_count": 82,
     "metadata": {},
     "output_type": "execute_result"
    }
   ],
   "source": [
    "('J') < ('j')"
   ]
  },
  {
   "cell_type": "code",
   "execution_count": 83,
   "metadata": {},
   "outputs": [
    {
     "ename": "TypeError",
     "evalue": "'<' not supported between instances of 'function' and 'function'",
     "output_type": "error",
     "traceback": [
      "\u001b[0;31m---------------------------------------------------------------------------\u001b[0m",
      "\u001b[0;31mTypeError\u001b[0m                                 Traceback (most recent call last)",
      "Cell \u001b[0;32mIn [83], line 1\u001b[0m\n\u001b[0;32m----> 1\u001b[0m \u001b[43m(\u001b[49m\u001b[43mmyprod\u001b[49m\u001b[43m)\u001b[49m\u001b[43m \u001b[49m\u001b[38;5;241;43m<\u001b[39;49m\u001b[43m \u001b[49m\u001b[43m(\u001b[49m\u001b[43mmyprod\u001b[49m\u001b[43m)\u001b[49m\n",
      "\u001b[0;31mTypeError\u001b[0m: '<' not supported between instances of 'function' and 'function'"
     ]
    }
   ],
   "source": [
    "(myprod) < (myprod)"
   ]
  },
  {
   "cell_type": "markdown",
   "metadata": {
    "id": "tg28dbwLqPrq"
   },
   "source": [
    "## Lists\n",
    "- Lists are also a collection of objects but unlike tuples they are **mutable**\n",
    "  - variable length\n",
    "  - each element can be modified"
   ]
  },
  {
   "cell_type": "code",
   "execution_count": 84,
   "metadata": {
    "colab": {
     "base_uri": "https://localhost:8080/"
    },
    "executionInfo": {
     "elapsed": 279,
     "status": "ok",
     "timestamp": 1637050515041,
     "user": {
      "displayName": "Francesco Pannarale",
      "photoUrl": "https://lh3.googleusercontent.com/a/default-user=s64",
      "userId": "04296007763837408065"
     },
     "user_tz": -60
    },
    "id": "gMzdWDp3qPrq",
    "outputId": "33f8f477-0001-4fdd-a123-984bf1a5976b",
    "scrolled": true
   },
   "outputs": [
    {
     "name": "stdout",
     "output_type": "stream",
     "text": [
      "[2, 3, 4]\n",
      "4\n",
      "[2, 3, -3]\n"
     ]
    }
   ],
   "source": [
    "alist = [2, 3, 4]\n",
    "print(alist)\n",
    "print(alist[2])\n",
    "alist[2] = -3\n",
    "print(alist)"
   ]
  },
  {
   "cell_type": "markdown",
   "metadata": {},
   "source": [
    "Given the less limited nature of `list` compared to `tuple`, it offers more methods (11)."
   ]
  },
  {
   "cell_type": "code",
   "execution_count": 85,
   "metadata": {},
   "outputs": [
    {
     "data": {
      "text/plain": [
       "['__add__',\n",
       " '__class__',\n",
       " '__class_getitem__',\n",
       " '__contains__',\n",
       " '__delattr__',\n",
       " '__delitem__',\n",
       " '__dir__',\n",
       " '__doc__',\n",
       " '__eq__',\n",
       " '__format__',\n",
       " '__ge__',\n",
       " '__getattribute__',\n",
       " '__getitem__',\n",
       " '__gt__',\n",
       " '__hash__',\n",
       " '__iadd__',\n",
       " '__imul__',\n",
       " '__init__',\n",
       " '__init_subclass__',\n",
       " '__iter__',\n",
       " '__le__',\n",
       " '__len__',\n",
       " '__lt__',\n",
       " '__mul__',\n",
       " '__ne__',\n",
       " '__new__',\n",
       " '__reduce__',\n",
       " '__reduce_ex__',\n",
       " '__repr__',\n",
       " '__reversed__',\n",
       " '__rmul__',\n",
       " '__setattr__',\n",
       " '__setitem__',\n",
       " '__sizeof__',\n",
       " '__str__',\n",
       " '__subclasshook__',\n",
       " 'append',\n",
       " 'clear',\n",
       " 'copy',\n",
       " 'count',\n",
       " 'extend',\n",
       " 'index',\n",
       " 'insert',\n",
       " 'pop',\n",
       " 'remove',\n",
       " 'reverse',\n",
       " 'sort']"
      ]
     },
     "execution_count": 85,
     "metadata": {},
     "output_type": "execute_result"
    }
   ],
   "source": [
    "dir(list)"
   ]
  },
  {
   "cell_type": "markdown",
   "metadata": {
    "id": "vb-p3w2aqPrr"
   },
   "source": [
    "Lists (and tuples) are protected against out of range index.\n",
    "Let's see how long the list is.  To do this we call the `len()` function which is basically a getter for the length of collections."
   ]
  },
  {
   "cell_type": "code",
   "execution_count": 86,
   "metadata": {},
   "outputs": [
    {
     "name": "stdout",
     "output_type": "stream",
     "text": [
      "3\n"
     ]
    }
   ],
   "source": [
    "print(len(alist))"
   ]
  },
  {
   "cell_type": "markdown",
   "metadata": {},
   "source": [
    "And let's try to access `alist` one element beyond its length."
   ]
  },
  {
   "cell_type": "code",
   "execution_count": 87,
   "metadata": {
    "id": "p1GWGmOEqPrr",
    "outputId": "9083e608-7060-4a21-baa9-99f44a453074"
   },
   "outputs": [
    {
     "ename": "IndexError",
     "evalue": "list index out of range",
     "output_type": "error",
     "traceback": [
      "\u001b[0;31m---------------------------------------------------------------------------\u001b[0m",
      "\u001b[0;31mIndexError\u001b[0m                                Traceback (most recent call last)",
      "Cell \u001b[0;32mIn [87], line 1\u001b[0m\n\u001b[0;32m----> 1\u001b[0m \u001b[43malist\u001b[49m\u001b[43m[\u001b[49m\u001b[38;5;241;43m3\u001b[39;49m\u001b[43m]\u001b[49m\n",
      "\u001b[0;31mIndexError\u001b[0m: list index out of range"
     ]
    }
   ],
   "source": [
    "alist[3]"
   ]
  },
  {
   "cell_type": "code",
   "execution_count": 88,
   "metadata": {
    "id": "MJV5n7ypzdyl",
    "outputId": "585606bc-1f3e-40cd-d61b-a651ba9fdef8"
   },
   "outputs": [
    {
     "name": "stdout",
     "output_type": "stream",
     "text": [
      "[2, 3, -3]\n",
      "3\n"
     ]
    }
   ],
   "source": [
    "# For negative indices, one basically has periodic boundary conditions\n",
    "print(alist)\n",
    "print(alist[-2])"
   ]
  },
  {
   "cell_type": "markdown",
   "metadata": {
    "id": "7CrsaYiyzdyl"
   },
   "source": [
    "But here too the list is protected against out of range index"
   ]
  },
  {
   "cell_type": "code",
   "execution_count": 89,
   "metadata": {
    "id": "RT6m8Q9mzdyl",
    "outputId": "e5ad716f-6fb2-43cf-9f2f-de07f44e7f11"
   },
   "outputs": [
    {
     "ename": "IndexError",
     "evalue": "list index out of range",
     "output_type": "error",
     "traceback": [
      "\u001b[0;31m---------------------------------------------------------------------------\u001b[0m",
      "\u001b[0;31mIndexError\u001b[0m                                Traceback (most recent call last)",
      "Cell \u001b[0;32mIn [89], line 1\u001b[0m\n\u001b[0;32m----> 1\u001b[0m \u001b[38;5;28mprint\u001b[39m(\u001b[43malist\u001b[49m\u001b[43m[\u001b[49m\u001b[38;5;241;43m-\u001b[39;49m\u001b[38;5;241;43m4\u001b[39;49m\u001b[43m]\u001b[49m)\n",
      "\u001b[0;31mIndexError\u001b[0m: list index out of range"
     ]
    }
   ],
   "source": [
    "print(alist[-4])"
   ]
  },
  {
   "cell_type": "markdown",
   "metadata": {
    "id": "nK-k8h06zdyl"
   },
   "source": [
    "In summary: `-len(list)` $\\leq$ index $<$ `len(list)`"
   ]
  },
  {
   "cell_type": "markdown",
   "metadata": {
    "id": "L5zKUtq0qPrr"
   },
   "source": [
    "A list can cantain any type of data. In this example the list is made of strings, float, int, function, lists, and tuples"
   ]
  },
  {
   "cell_type": "code",
   "execution_count": 90,
   "metadata": {
    "id": "kC7erNZmqPrr",
    "outputId": "b50aa9b5-fe2d-4a79-a066-0f7fc525129f"
   },
   "outputs": [
    {
     "name": "stdout",
     "output_type": "stream",
     "text": [
      "['one', 2, 3.24, <function myprod at 0x10fca2b90>, (23, 24), ['lec1', 'lec2', [<function myprod at 0x10fca2b90>, 3.14]]]\n",
      "42.0\n"
     ]
    }
   ],
   "source": [
    "alist = ['one', 2, 3.24, myprod, (23, 24), ['lec1', 'lec2', [myprod, 3.14]]]\n",
    "print(alist)\n",
    "print(alist[5][2][0](6,7))"
   ]
  },
  {
   "cell_type": "markdown",
   "metadata": {
    "id": "bZ-6W9r3qPrr"
   },
   "source": [
    "### Lists vs tuples\n",
    "- A list is created using the `[]` operator or the explicit type `list`\n",
    "- A tuple is created with the `()` operator or the explicit type `tuple`\n",
    "- Lists and tuples are semantically similar\n",
    "  - Many functions can take a tuple or a list\n",
    "- Lists are used in data analysis to store data from iterators or generators"
   ]
  },
  {
   "cell_type": "code",
   "execution_count": 91,
   "metadata": {
    "id": "IL-4XarMqPrr",
    "outputId": "1bd2b3f9-00f4-49a8-b7e9-f0b263e25c1c"
   },
   "outputs": [
    {
     "name": "stdout",
     "output_type": "stream",
     "text": [
      "range(-3, 10, 2)\n",
      "[-3, -1, 1, 3, 5, 7, 9]\n",
      "(-3, -1, 1, 3, 5, 7, 9)\n"
     ]
    }
   ],
   "source": [
    "values = range(-3, 10, 2)\n",
    "print(values)\n",
    "print(list(values))\n",
    "print(tuple(values))"
   ]
  },
  {
   "cell_type": "markdown",
   "metadata": {
    "id": "DN79h-iHqPrr"
   },
   "source": [
    "Note that as with tuples, you have to convert the output of `range` to be a list."
   ]
  },
  {
   "cell_type": "markdown",
   "metadata": {
    "id": "-GBBzFH3qPrs"
   },
   "source": [
    "### List from tuple\n",
    "You can create a list from a tuple by explicit conversion "
   ]
  },
  {
   "cell_type": "code",
   "execution_count": 92,
   "metadata": {},
   "outputs": [
    {
     "name": "stdout",
     "output_type": "stream",
     "text": [
      "<class 'tuple'>\n"
     ]
    }
   ],
   "source": [
    "print(type(a))"
   ]
  },
  {
   "cell_type": "code",
   "execution_count": 93,
   "metadata": {
    "colab": {
     "base_uri": "https://localhost:8080/"
    },
    "executionInfo": {
     "elapsed": 228,
     "status": "ok",
     "timestamp": 1637051650806,
     "user": {
      "displayName": "Francesco Pannarale",
      "photoUrl": "https://lh3.googleusercontent.com/a/default-user=s64",
      "userId": "04296007763837408065"
     },
     "user_tz": -60
    },
    "id": "tFZHqlM8qPrs",
    "outputId": "98e4f8fb-4a69-42ad-9050-aef703174d8b"
   },
   "outputs": [
    {
     "name": "stdout",
     "output_type": "stream",
     "text": [
      "('lec23', 'lec24', 'lec25')\n",
      "['lec23', 'lec24', 'lec25']\n",
      "('lec23', 'lec24', 'lec28')\n"
     ]
    }
   ],
   "source": [
    "print(a)\n",
    "blist = list(a)\n",
    "print(blist)\n",
    "blist[2] = 'lec28'\n",
    "blist\n",
    "a = tuple(blist)\n",
    "print(a)"
   ]
  },
  {
   "cell_type": "markdown",
   "metadata": {
    "id": "Xf_0w6IzqPr2"
   },
   "source": [
    "### List slicing\n",
    "\n",
    "One of most popular featurs in data analysis with python is the possibility of accessing a subset of a collection by specifying the indices\n",
    "\n",
    "```list[start:stop:step]```"
   ]
  },
  {
   "cell_type": "code",
   "execution_count": 94,
   "metadata": {
    "id": "OPLSOWUlzdym",
    "outputId": "bbd6e465-6534-44e9-e0cf-535e3765772c"
   },
   "outputs": [
    {
     "name": "stdout",
     "output_type": "stream",
     "text": [
      "['b', 'c']\n",
      "['a', 'b', 'c', 'd']\n",
      "['d', 'e', 'f']\n",
      "['a', 'b', 'c', 'd', 'e', 'f']\n",
      "['a', 'b', 'c', 'd', 'e', 'f']\n",
      "['a', 'c', 'e']\n",
      "['a', 'b', 'c', 'd']\n",
      "['e', 'f']\n",
      "['a', 'b', 'c', 'd']\n",
      "['f', 'e', 'd', 'c', 'b', 'a']\n"
     ]
    }
   ],
   "source": [
    "t = ['a', 'b', 'c', 'd', 'e', 'f'] \n",
    "print(t[1:3])\n",
    "print(t[:4])\n",
    "print(t[3:])\n",
    "print(t[:])\n",
    "print(t[::])\n",
    "print(t[0:6:2])\n",
    "print(t[:-2])\n",
    "print(t[-2:])\n",
    "print(t[-6:-2])\n",
    "print(t[::-1])"
   ]
  },
  {
   "cell_type": "markdown",
   "metadata": {
    "id": "Q5jbzoeAqPrs"
   },
   "source": [
    "### Adding and removing list elements\n",
    "- To add an element at the end of the list, use the `append()` method\n",
    "- To insert a value at a specific location by providing the index, use the `insert()` method\n",
    "- To remove an element from the list at a specific location use the `pop()` method\n",
    "- To remove the **first occurrence** of an element (removal by value) from a list use the `remove()` method"
   ]
  },
  {
   "cell_type": "code",
   "execution_count": 95,
   "metadata": {
    "colab": {
     "base_uri": "https://localhost:8080/"
    },
    "executionInfo": {
     "elapsed": 210,
     "status": "ok",
     "timestamp": 1637051655973,
     "user": {
      "displayName": "Francesco Pannarale",
      "photoUrl": "https://lh3.googleusercontent.com/a/default-user=s64",
      "userId": "04296007763837408065"
     },
     "user_tz": -60
    },
    "id": "2X74UD7WqPrs",
    "outputId": "3dab5312-e91e-4494-9001-83acd49dbe7e"
   },
   "outputs": [
    {
     "name": "stdout",
     "output_type": "stream",
     "text": [
      "['one', 2, 3.14, 4, 'five', 6]\n"
     ]
    }
   ],
   "source": [
    "clist = ['one', 2, 3.14, 4, 'five']\n",
    "clist.append(6)\n",
    "print(clist)"
   ]
  },
  {
   "cell_type": "code",
   "execution_count": 96,
   "metadata": {
    "colab": {
     "base_uri": "https://localhost:8080/"
    },
    "executionInfo": {
     "elapsed": 212,
     "status": "ok",
     "timestamp": 1637051657256,
     "user": {
      "displayName": "Francesco Pannarale",
      "photoUrl": "https://lh3.googleusercontent.com/a/default-user=s64",
      "userId": "04296007763837408065"
     },
     "user_tz": -60
    },
    "id": "RyuPtXMWqPrs",
    "outputId": "dda71103-3e1d-4f35-8644-211ff6304c4d"
   },
   "outputs": [
    {
     "name": "stdout",
     "output_type": "stream",
     "text": [
      "['one', 2, 'two', 3.14, 4, 'five', 6]\n"
     ]
    }
   ],
   "source": [
    "clist.insert(2, 'two')\n",
    "print(clist)"
   ]
  },
  {
   "cell_type": "markdown",
   "metadata": {
    "id": "AUmNBTkSqPrs"
   },
   "source": [
    "Note how the new element is inserted __before__ the indicated index."
   ]
  },
  {
   "cell_type": "code",
   "execution_count": 97,
   "metadata": {
    "colab": {
     "base_uri": "https://localhost:8080/"
    },
    "executionInfo": {
     "elapsed": 2,
     "status": "ok",
     "timestamp": 1637051657960,
     "user": {
      "displayName": "Francesco Pannarale",
      "photoUrl": "https://lh3.googleusercontent.com/a/default-user=s64",
      "userId": "04296007763837408065"
     },
     "user_tz": -60
    },
    "id": "S6o9LnRfqPrs",
    "outputId": "6b1dff48-5bed-4e3a-8007-e326e619d38f"
   },
   "outputs": [
    {
     "name": "stdout",
     "output_type": "stream",
     "text": [
      "['one', 2, 3.14, 4, 'five', 6]\n"
     ]
    }
   ],
   "source": [
    "clist.pop(2)\n",
    "print(clist)"
   ]
  },
  {
   "cell_type": "markdown",
   "metadata": {
    "id": "sV3O25YXqPrt"
   },
   "source": [
    "The `insert` and `pop` methods have a return value. \n",
    "\n",
    "In particular with `pop` it is useful to see the value you have removed from the list"
   ]
  },
  {
   "cell_type": "code",
   "execution_count": 98,
   "metadata": {
    "colab": {
     "base_uri": "https://localhost:8080/"
    },
    "executionInfo": {
     "elapsed": 3,
     "status": "ok",
     "timestamp": 1637051659884,
     "user": {
      "displayName": "Francesco Pannarale",
      "photoUrl": "https://lh3.googleusercontent.com/a/default-user=s64",
      "userId": "04296007763837408065"
     },
     "user_tz": -60
    },
    "id": "-Hc6NUP1qPrt",
    "outputId": "b73581fa-b880-45dc-c327-9a25ae4dbdcf"
   },
   "outputs": [
    {
     "name": "stdout",
     "output_type": "stream",
     "text": [
      "None\n",
      "test\n",
      "['one', 2, 3.14, 4, 'five', 6]\n"
     ]
    }
   ],
   "source": [
    "x = clist.insert(2, 'test')\n",
    "print(x)\n",
    "x = clist.pop(2)\n",
    "print(x)\n",
    "print(clist)"
   ]
  },
  {
   "cell_type": "markdown",
   "metadata": {
    "id": "maVxBkykqPrt"
   },
   "source": [
    "Although not very efficient, you can `remove()` a given value from the list. It will only remove the first such occurrence. Python will linearly go through all elements until it finds the first occurrence."
   ]
  },
  {
   "cell_type": "code",
   "execution_count": 99,
   "metadata": {
    "colab": {
     "base_uri": "https://localhost:8080/"
    },
    "executionInfo": {
     "elapsed": 2,
     "status": "ok",
     "timestamp": 1637051661646,
     "user": {
      "displayName": "Francesco Pannarale",
      "photoUrl": "https://lh3.googleusercontent.com/a/default-user=s64",
      "userId": "04296007763837408065"
     },
     "user_tz": -60
    },
    "id": "NxcCthrkqPrt",
    "outputId": "87e0d421-6ae8-4fe6-bcc3-770b48bf7a4c"
   },
   "outputs": [
    {
     "name": "stdout",
     "output_type": "stream",
     "text": [
      "True\n",
      "['one', 2, 3.14, 4, 'five', 6]\n",
      "['one', 2, 3.14, 4, 'five', 6, 4]\n"
     ]
    }
   ],
   "source": [
    "print(4 in clist)\n",
    "print(clist)\n",
    "clist.append(4)\n",
    "print(clist)"
   ]
  },
  {
   "cell_type": "code",
   "execution_count": 100,
   "metadata": {
    "colab": {
     "base_uri": "https://localhost:8080/"
    },
    "executionInfo": {
     "elapsed": 3,
     "status": "ok",
     "timestamp": 1637051661977,
     "user": {
      "displayName": "Francesco Pannarale",
      "photoUrl": "https://lh3.googleusercontent.com/a/default-user=s64",
      "userId": "04296007763837408065"
     },
     "user_tz": -60
    },
    "id": "cW4w4_coqPrt",
    "outputId": "e794b788-3531-4ee6-cb70-93338bfaed20"
   },
   "outputs": [
    {
     "name": "stdout",
     "output_type": "stream",
     "text": [
      "['one', 2, 3.14, 'five', 6, 4]\n"
     ]
    }
   ],
   "source": [
    "if 4 in clist:\n",
    "    clist.remove(4)\n",
    "print(clist)"
   ]
  },
  {
   "cell_type": "code",
   "execution_count": 101,
   "metadata": {
    "colab": {
     "base_uri": "https://localhost:8080/"
    },
    "executionInfo": {
     "elapsed": 2,
     "status": "ok",
     "timestamp": 1637051662617,
     "user": {
      "displayName": "Francesco Pannarale",
      "photoUrl": "https://lh3.googleusercontent.com/a/default-user=s64",
      "userId": "04296007763837408065"
     },
     "user_tz": -60
    },
    "id": "xNXTJOr-qPrt",
    "outputId": "e8ebbaf5-ec50-45d9-8bf3-dc1118278af0"
   },
   "outputs": [
    {
     "name": "stdout",
     "output_type": "stream",
     "text": [
      "['one', 2, 3.14, 'five', 6]\n"
     ]
    }
   ],
   "source": [
    "if 4 in clist:\n",
    "    clist.remove(4)\n",
    "print(clist)"
   ]
  },
  {
   "cell_type": "markdown",
   "metadata": {},
   "source": [
    "I can modify a list that is contained in a tuple and in this sense modify the tuple, but I am not modifying its length or the type of the elements it contains."
   ]
  },
  {
   "cell_type": "code",
   "execution_count": 102,
   "metadata": {},
   "outputs": [
    {
     "name": "stdout",
     "output_type": "stream",
     "text": [
      "([1, 0], 'a') <class 'tuple'>\n",
      "([1, 0, 1], 'a') <class 'tuple'>\n"
     ]
    }
   ],
   "source": [
    "tt = ([1, 0], 'a')\n",
    "print(tt, type(tt))\n",
    "\n",
    "tt[0].append(1)\n",
    "print(tt, type(tt))"
   ]
  },
  {
   "cell_type": "code",
   "execution_count": 103,
   "metadata": {},
   "outputs": [
    {
     "name": "stdout",
     "output_type": "stream",
     "text": [
      "[1, 0] ([1, 0], [1, 0])\n",
      "<class 'list'> <class 'tuple'>\n",
      "[1, 0, 1] ([1, 0, 1], [1, 0, 1])\n",
      "<class 'list'> <class 'tuple'>\n"
     ]
    }
   ],
   "source": [
    "ll = [1,0]\n",
    "tt = (ll, ll)\n",
    "print(ll, tt)\n",
    "print(type(ll), type(tt))\n",
    "\n",
    "tt[0].append(1)\n",
    "print(ll, tt)\n",
    "print(type(ll), type(tt))"
   ]
  },
  {
   "cell_type": "markdown",
   "metadata": {
    "id": "-hi-oa1YqPrt"
   },
   "source": [
    "### Combining lists\n",
    "Use `+` to combine or extend exisiting or new lists"
   ]
  },
  {
   "cell_type": "code",
   "execution_count": 104,
   "metadata": {
    "colab": {
     "base_uri": "https://localhost:8080/"
    },
    "executionInfo": {
     "elapsed": 227,
     "status": "ok",
     "timestamp": 1637051664694,
     "user": {
      "displayName": "Francesco Pannarale",
      "photoUrl": "https://lh3.googleusercontent.com/a/default-user=s64",
      "userId": "04296007763837408065"
     },
     "user_tz": -60
    },
    "id": "vXTsoYtlqPru",
    "outputId": "9e0ee65c-42dc-4ddc-979d-abfa3a34f1dd"
   },
   "outputs": [
    {
     "name": "stdout",
     "output_type": "stream",
     "text": [
      "['lec23', 'lec24', 'lec28']\n",
      "['one', 2, 3.14, 'five', 6]\n",
      "['lec23', 'lec24', 'lec28', 'id', 'name', 'major'] ['lec23', 'lec24', 'lec28', 'one', 2, 3.14, 'five', 6]\n"
     ]
    }
   ],
   "source": [
    "print(blist)\n",
    "print(clist)\n",
    "all = blist + ['id', 'name', 'major']\n",
    "all2 = blist + clist\n",
    "print(all, all2)"
   ]
  },
  {
   "cell_type": "markdown",
   "metadata": {
    "id": "ZGekA1jrqPru"
   },
   "source": [
    "Note that this is very different from the following"
   ]
  },
  {
   "cell_type": "code",
   "execution_count": 105,
   "metadata": {
    "colab": {
     "base_uri": "https://localhost:8080/"
    },
    "executionInfo": {
     "elapsed": 356,
     "status": "ok",
     "timestamp": 1637051677010,
     "user": {
      "displayName": "Francesco Pannarale",
      "photoUrl": "https://lh3.googleusercontent.com/a/default-user=s64",
      "userId": "04296007763837408065"
     },
     "user_tz": -60
    },
    "id": "Q93xbjUQqPru",
    "outputId": "80cc1f21-9b80-4e9b-b972-1394bc26d982"
   },
   "outputs": [
    {
     "name": "stdout",
     "output_type": "stream",
     "text": [
      "[['lec23', 'lec24', 'lec28'], 'id', 'name', 'major']\n"
     ]
    }
   ],
   "source": [
    "all = [blist, 'id', 'name', 'major']\n",
    "print(all)"
   ]
  },
  {
   "cell_type": "code",
   "execution_count": 106,
   "metadata": {
    "colab": {
     "base_uri": "https://localhost:8080/"
    },
    "executionInfo": {
     "elapsed": 2,
     "status": "ok",
     "timestamp": 1637051677222,
     "user": {
      "displayName": "Francesco Pannarale",
      "photoUrl": "https://lh3.googleusercontent.com/a/default-user=s64",
      "userId": "04296007763837408065"
     },
     "user_tz": -60
    },
    "id": "awtvDUjZqPrv",
    "outputId": "e01766e4-bbff-4853-c84b-5a0d7e2cd1ab"
   },
   "outputs": [
    {
     "name": "stdout",
     "output_type": "stream",
     "text": [
      "1\n",
      "major\n",
      "id\n"
     ]
    }
   ],
   "source": [
    "print(all.index('id'))\n",
    "print(all[-1])\n",
    "print(all[-3])"
   ]
  },
  {
   "cell_type": "markdown",
   "metadata": {
    "id": "xfHftAf1qPrv"
   },
   "source": [
    "The most efficient way to extend a list is with `extend`. It can take one or more elements to be added."
   ]
  },
  {
   "cell_type": "code",
   "execution_count": 107,
   "metadata": {
    "colab": {
     "base_uri": "https://localhost:8080/"
    },
    "executionInfo": {
     "elapsed": 2,
     "status": "ok",
     "timestamp": 1637051678299,
     "user": {
      "displayName": "Francesco Pannarale",
      "photoUrl": "https://lh3.googleusercontent.com/a/default-user=s64",
      "userId": "04296007763837408065"
     },
     "user_tz": -60
    },
    "id": "NDB9PQSIqPrv",
    "outputId": "dbb4762c-a574-453f-e7a4-6e23e3dd84b5"
   },
   "outputs": [
    {
     "name": "stdout",
     "output_type": "stream",
     "text": [
      "[['lec23', 'lec24', 'lec28'], 'id', 'name', 'major', 2, 3, 4, 'test', 'python']\n",
      "[['lec23', 'lec24', 'lec28'], 'id', 'name', 'major', 2, 3, 4, 'test', 'python', 4.56]\n",
      "[['lec23', 'lec24', 'lec28'], 'id', 'name', 'major', 2, 3, 4, 'test', 'python', 4.56, 2, 3]\n",
      "[['lec23', 'lec24', 'lec28'], 'id', 'name', 'major', 2, 3, 4, 'test', 'python', 4.56, 2, 3, (2, 3)]\n",
      "(2, 3)\n",
      "3\n",
      "3\n"
     ]
    }
   ],
   "source": [
    "all.extend([2, 3, 4, 'test', 'python'])\n",
    "print(all)\n",
    "all.append(4.56)\n",
    "print(all)\n",
    "# extend works with both round and square brackets\n",
    "all.extend((2, 3))\n",
    "print(all)\n",
    "# Append takes a single parameter, so (2,3) is interpreted as a tuple\n",
    "all.append((2, 3))\n",
    "print(all)\n",
    "print(all[all.index((2, 3))])\n",
    "print(all[all.index((2, 3))][1])\n",
    "print(all[-1][1])"
   ]
  },
  {
   "cell_type": "markdown",
   "metadata": {
    "id": "oFh2aAABqPrv"
   },
   "source": [
    "### More on the difference between `append()` and `extend()`"
   ]
  },
  {
   "cell_type": "code",
   "execution_count": 108,
   "metadata": {
    "id": "BRcbO9cZqPrv"
   },
   "outputs": [],
   "source": [
    "list_1 = [1, 2, 3]\n",
    "list_2 = [1, 2, 3]\n",
    "\n",
    "list_3 = [10, 11]\n",
    "\n",
    "list_1.append(list_3)\n",
    "list_2.extend(list_3)"
   ]
  },
  {
   "cell_type": "code",
   "execution_count": 109,
   "metadata": {
    "colab": {
     "base_uri": "https://localhost:8080/"
    },
    "executionInfo": {
     "elapsed": 2,
     "status": "ok",
     "timestamp": 1637051679641,
     "user": {
      "displayName": "Francesco Pannarale",
      "photoUrl": "https://lh3.googleusercontent.com/a/default-user=s64",
      "userId": "04296007763837408065"
     },
     "user_tz": -60
    },
    "id": "0dTOBaC6qPrv",
    "outputId": "9689c8f7-0846-4165-9dea-885d43d81841"
   },
   "outputs": [
    {
     "name": "stdout",
     "output_type": "stream",
     "text": [
      "append to a list:  [1, 2, 3, [10, 11]]\n",
      "extend a list:  [1, 2, 3, 10, 11]\n"
     ]
    }
   ],
   "source": [
    "print(\"append to a list: \", list_1)\n",
    "print(\"extend a list: \", list_2)"
   ]
  },
  {
   "cell_type": "markdown",
   "metadata": {
    "id": "-W-VlKo5qPrx"
   },
   "source": [
    "### Sorting a list\n",
    "Lists of elements that can be compared to each other can be sorted"
   ]
  },
  {
   "cell_type": "code",
   "execution_count": 110,
   "metadata": {
    "id": "UB02pS4qqPry",
    "outputId": "bb9be9d1-ecb4-4ce4-908b-f6ea7a35303f"
   },
   "outputs": [],
   "source": [
    "#print(all)\n",
    "#all.sort()"
   ]
  },
  {
   "cell_type": "code",
   "execution_count": 111,
   "metadata": {
    "colab": {
     "base_uri": "https://localhost:8080/"
    },
    "executionInfo": {
     "elapsed": 210,
     "status": "ok",
     "timestamp": 1637051728404,
     "user": {
      "displayName": "Francesco Pannarale",
      "photoUrl": "https://lh3.googleusercontent.com/a/default-user=s64",
      "userId": "04296007763837408065"
     },
     "user_tz": -60
    },
    "id": "jEZUTFs0qPrz",
    "outputId": "8e3bc72c-5b8f-4264-f3ca-47ca668db121"
   },
   "outputs": [
    {
     "name": "stdout",
     "output_type": "stream",
     "text": [
      "['january', 'february', 'march', 'april', 'may', 'june', 'july', 'august', 'september', 'october', 'november', 'december']\n"
     ]
    }
   ],
   "source": [
    "months = ['january', 'february', 'march', 'april', 'may', 'june', 'july', 'august', 'september', 'october', 'november', 'december']\n",
    "print(months)"
   ]
  },
  {
   "cell_type": "code",
   "execution_count": 112,
   "metadata": {
    "colab": {
     "base_uri": "https://localhost:8080/"
    },
    "executionInfo": {
     "elapsed": 302,
     "status": "ok",
     "timestamp": 1637051834760,
     "user": {
      "displayName": "Francesco Pannarale",
      "photoUrl": "https://lh3.googleusercontent.com/a/default-user=s64",
      "userId": "04296007763837408065"
     },
     "user_tz": -60
    },
    "id": "AJ8RvmyIqPr0",
    "outputId": "88acf59b-af4b-47c5-ba76-8208efc59bd4"
   },
   "outputs": [
    {
     "name": "stdout",
     "output_type": "stream",
     "text": [
      "['april', 'august', 'december', 'february', 'january', 'july', 'june', 'march', 'may', 'november', 'october', 'september']\n"
     ]
    }
   ],
   "source": [
    "months.sort()\n",
    "print(months)"
   ]
  },
  {
   "cell_type": "code",
   "execution_count": 113,
   "metadata": {
    "colab": {
     "base_uri": "https://localhost:8080/"
    },
    "executionInfo": {
     "elapsed": 279,
     "status": "ok",
     "timestamp": 1637051838294,
     "user": {
      "displayName": "Francesco Pannarale",
      "photoUrl": "https://lh3.googleusercontent.com/a/default-user=s64",
      "userId": "04296007763837408065"
     },
     "user_tz": -60
    },
    "id": "xPLfXsOTqPr0",
    "outputId": "e436dbd7-d5bd-498b-caf7-f7c126f5b786"
   },
   "outputs": [
    {
     "name": "stdout",
     "output_type": "stream",
     "text": [
      "['may', 'july', 'june', 'april', 'march', 'august', 'january', 'october', 'december', 'february', 'november', 'september']\n"
     ]
    }
   ],
   "source": [
    "months.sort(key=len)\n",
    "print(months)"
   ]
  },
  {
   "cell_type": "code",
   "execution_count": 114,
   "metadata": {
    "id": "DXNzfTsyqPr0",
    "outputId": "5383ce04-bd16-497c-d682-1c79aac81e1e"
   },
   "outputs": [
    {
     "name": "stdout",
     "output_type": "stream",
     "text": [
      "Help on method_descriptor:\n",
      "\n",
      "sort(self, /, *, key=None, reverse=False)\n",
      "    Sort the list in ascending order and return None.\n",
      "    \n",
      "    The sort is in-place (i.e. the list itself is modified) and stable (i.e. the\n",
      "    order of two equal elements is maintained).\n",
      "    \n",
      "    If a key function is given, apply it once to each list item and sort them,\n",
      "    ascending or descending, according to their function values.\n",
      "    \n",
      "    The reverse flag can be set to sort in descending order.\n",
      "\n"
     ]
    }
   ],
   "source": [
    "help(list.sort)"
   ]
  },
  {
   "cell_type": "code",
   "execution_count": 115,
   "metadata": {
    "id": "oMLFCfMqqPr0",
    "outputId": "67768ce3-9daa-4384-a26b-8bbca3706e0a"
   },
   "outputs": [
    {
     "name": "stdout",
     "output_type": "stream",
     "text": [
      "['september', 'december', 'february', 'november', 'january', 'october', 'august', 'april', 'march', 'july', 'june', 'may']\n",
      "['september', 'october', 'november', 'may', 'march', 'june', 'july', 'january', 'february', 'december', 'august', 'april']\n"
     ]
    }
   ],
   "source": [
    "months.sort(key=len,reverse=True)\n",
    "print(months)\n",
    "\n",
    "months.sort(reverse=True)\n",
    "print(months)"
   ]
  },
  {
   "cell_type": "code",
   "execution_count": 116,
   "metadata": {
    "colab": {
     "base_uri": "https://localhost:8080/"
    },
    "executionInfo": {
     "elapsed": 316,
     "status": "ok",
     "timestamp": 1637051896937,
     "user": {
      "displayName": "Francesco Pannarale",
      "photoUrl": "https://lh3.googleusercontent.com/a/default-user=s64",
      "userId": "04296007763837408065"
     },
     "user_tz": -60
    },
    "id": "Jg-x2Jmh5WWW",
    "outputId": "17cd1f40-973b-4ed6-e5d8-e4833fb8ed6c"
   },
   "outputs": [
    {
     "name": "stdout",
     "output_type": "stream",
     "text": [
      "['september', 'october', 'november', 'may', 'march', 'june', 'july', 'january', 'february', 'december', 'august', 'april']\n",
      "['april', 'august', 'december', 'february', 'january', 'july', 'june', 'march', 'may', 'november', 'october', 'september']\n"
     ]
    }
   ],
   "source": [
    "print(months)\n",
    "months.sort()\n",
    "print(months)"
   ]
  },
  {
   "cell_type": "markdown",
   "metadata": {
    "id": "XPKJ5-aXqPr0"
   },
   "source": [
    "### `sort()` vs `sorted()`\n",
    "In these examples, `sort()` is **applied** to the object and **modifies** it.  We might prefer keeping the data intact and have a new sorted copy, instead."
   ]
  },
  {
   "cell_type": "code",
   "execution_count": 117,
   "metadata": {
    "colab": {
     "base_uri": "https://localhost:8080/"
    },
    "executionInfo": {
     "elapsed": 208,
     "status": "ok",
     "timestamp": 1637051986898,
     "user": {
      "displayName": "Francesco Pannarale",
      "photoUrl": "https://lh3.googleusercontent.com/a/default-user=s64",
      "userId": "04296007763837408065"
     },
     "user_tz": -60
    },
    "id": "4I1VzQOWqPr0",
    "outputId": "05ff9bd9-ebc0-4a7f-ee8f-3e9de7a58d95"
   },
   "outputs": [
    {
     "name": "stdout",
     "output_type": "stream",
     "text": [
      "['january', 'february', 'march', 'april', 'may', 'june', 'july', 'august', 'september', 'october', 'november', 'december']\n",
      "['april', 'august', 'december', 'february', 'january', 'july', 'june', 'march', 'may', 'november', 'october', 'september']\n",
      "['may', 'june', 'july', 'march', 'april', 'august', 'january', 'october', 'february', 'november', 'december', 'september']\n",
      "['january', 'february', 'march', 'april', 'may', 'june', 'july', 'august', 'september', 'october', 'november', 'december']\n",
      "Help on built-in function sorted in module builtins:\n",
      "\n",
      "sorted(iterable, /, *, key=None, reverse=False)\n",
      "    Return a new list containing all items from the iterable in ascending order.\n",
      "    \n",
      "    A custom key function can be supplied to customize the sort order, and the\n",
      "    reverse flag can be set to request the result in descending order.\n",
      "\n"
     ]
    }
   ],
   "source": [
    "months = ['january', 'february', 'march', 'april', 'may', 'june', 'july', 'august', 'september', 'october', 'november', 'december']\n",
    "print(months)\n",
    "\n",
    "sorted_months_byname = sorted(months)\n",
    "print(sorted_months_byname)\n",
    "\n",
    "sorted_months_bylen = sorted(months, key=len)\n",
    "print(sorted_months_bylen)\n",
    "\n",
    "print(months)\n",
    "\n",
    "help(sorted)"
   ]
  },
  {
   "cell_type": "code",
   "execution_count": 118,
   "metadata": {},
   "outputs": [
    {
     "name": "stdout",
     "output_type": "stream",
     "text": [
      "['april', 'august', 'december', 'february', 'january', 'july', 'june', 'march', 'may', 'november', 'october', 'september']\n",
      "['january', 'february', 'march', 'april', 'may', 'june', 'july', 'august', 'september', 'october', 'november', 'december']\n"
     ]
    }
   ],
   "source": [
    "print(sorted(months))\n",
    "print(months)"
   ]
  },
  {
   "cell_type": "markdown",
   "metadata": {
    "id": "y6Ac44hyqPr1"
   },
   "source": [
    "### Lists and strings"
   ]
  },
  {
   "cell_type": "code",
   "execution_count": 119,
   "metadata": {
    "id": "1NLAXjjqqPr1",
    "outputId": "61f0aa04-9d9e-46ca-deee-0639123d8cb0"
   },
   "outputs": [
    {
     "name": "stdout",
     "output_type": "stream",
     "text": [
      "['i', 'n', ' ', 'a', ' ', 'f', 'a', 'r', ' ', 'a', 'w', 'a', 'y', ' ', 'g', 'a', 'l', 'a', 'x', 'y']\n"
     ]
    },
    {
     "data": {
      "text/plain": [
       "4"
      ]
     },
     "execution_count": 119,
     "metadata": {},
     "output_type": "execute_result"
    }
   ],
   "source": [
    "chars = list(\"in a far away galaxy\")\n",
    "print(chars)\n",
    "chars.count(' ')"
   ]
  },
  {
   "cell_type": "markdown",
   "metadata": {
    "id": "th0tJpZgzdyo"
   },
   "source": [
    "The `split()` method breaks a string into parts and produces a list of strings."
   ]
  },
  {
   "cell_type": "code",
   "execution_count": 120,
   "metadata": {
    "colab": {
     "base_uri": "https://localhost:8080/"
    },
    "executionInfo": {
     "elapsed": 206,
     "status": "ok",
     "timestamp": 1637052029284,
     "user": {
      "displayName": "Francesco Pannarale",
      "photoUrl": "https://lh3.googleusercontent.com/a/default-user=s64",
      "userId": "04296007763837408065"
     },
     "user_tz": -60
    },
    "id": "4YHkERtzzdyo",
    "outputId": "3f393ccf-8efb-4ee9-9580-94106bb8547a"
   },
   "outputs": [
    {
     "name": "stdout",
     "output_type": "stream",
     "text": [
      "['I', 'quite', 'like', 'Python']\n"
     ]
    }
   ],
   "source": [
    "sentence = \"I quite like Python\"\n",
    "words = sentence.split()\n",
    "print(words)"
   ]
  },
  {
   "cell_type": "code",
   "execution_count": 121,
   "metadata": {
    "colab": {
     "base_uri": "https://localhost:8080/"
    },
    "executionInfo": {
     "elapsed": 212,
     "status": "ok",
     "timestamp": 1637052099608,
     "user": {
      "displayName": "Francesco Pannarale",
      "photoUrl": "https://lh3.googleusercontent.com/a/default-user=s64",
      "userId": "04296007763837408065"
     },
     "user_tz": -60
    },
    "id": "e_i0k-V7zdyo",
    "outputId": "59c7c40d-8dcf-4d7b-b61e-1b62f4c16506"
   },
   "outputs": [
    {
     "name": "stdout",
     "output_type": "stream",
     "text": [
      "['I quite like Python', ' I liked C++ as well', \" Anyways, let's carry on\", '']\n",
      "['I', 'quite', 'like', 'Python']\n",
      "['I', 'liked', 'C++', 'as', 'well']\n",
      "['Anyways,', \"let's\", 'carry', 'on']\n",
      "[]\n"
     ]
    }
   ],
   "source": [
    "speech = \"I quite like Python. I liked C++ as well. Anyways, let's carry on.\"\n",
    "sentences = speech.split('.')\n",
    "print(sentences)\n",
    "\n",
    "for sentence in sentences:\n",
    "    words = sentence.split()\n",
    "    print(words)"
   ]
  },
  {
   "cell_type": "markdown",
   "metadata": {
    "id": "zx_j3pB-qPr1"
   },
   "source": [
    "### The `enumerate()` function\n",
    "Keeps track of index while iterating on a collection, e.g., a list.\n",
    "\n",
    "`enumerate` can be exploited in `for` loops."
   ]
  },
  {
   "cell_type": "code",
   "execution_count": 122,
   "metadata": {
    "id": "ivBNkJTAqPr2",
    "outputId": "a570de19-13d9-4fce-cdba-79157bcfa6d5"
   },
   "outputs": [
    {
     "name": "stdout",
     "output_type": "stream",
     "text": [
      "['january', 'february', 'march', 'april', 'may', 'june', 'july', 'august', 'september', 'october', 'november', 'december']\n",
      "month 1 : january\n",
      "month 2 : february\n",
      "month 3 : march\n",
      "month 4 : april\n",
      "month 5 : may\n",
      "month 6 : june\n",
      "month 7 : july\n",
      "month 8 : august\n",
      "month 9 : september\n",
      "month 10: october\n",
      "month 11: november\n",
      "month 12: december\n"
     ]
    }
   ],
   "source": [
    "print(months)\n",
    "\n",
    "for i,m in enumerate(months):\n",
    "    print(\"month %-2d: %s\" % (i+1, m))\n",
    "    \n",
    "# More efficent than the following\n",
    "#for i in range(0, len(months)):\n",
    "#    print(i, months[i])"
   ]
  },
  {
   "cell_type": "code",
   "execution_count": 123,
   "metadata": {
    "id": "C0YqFT22qPr2",
    "outputId": "335e6214-696d-4433-c804-d56bcbe9995e"
   },
   "outputs": [
    {
     "name": "stdout",
     "output_type": "stream",
     "text": [
      "0 \t name\n",
      "1 \t surname\n",
      "2 \t id\n"
     ]
    }
   ],
   "source": [
    "data = 'name', 'surname', 'id'\n",
    "\n",
    "for i,d in enumerate(data):\n",
    "    print(i, \"\\t\", d)"
   ]
  },
  {
   "cell_type": "markdown",
   "metadata": {
    "id": "gUmIserzqPr2"
   },
   "source": [
    "### References and lists\n",
    "All collection objects are handled as a reference. This is shown explicitly in this example."
   ]
  },
  {
   "cell_type": "code",
   "execution_count": 124,
   "metadata": {
    "colab": {
     "base_uri": "https://localhost:8080/"
    },
    "executionInfo": {
     "elapsed": 318,
     "status": "ok",
     "timestamp": 1637052219566,
     "user": {
      "displayName": "Francesco Pannarale",
      "photoUrl": "https://lh3.googleusercontent.com/a/default-user=s64",
      "userId": "04296007763837408065"
     },
     "user_tz": -60
    },
    "id": "0ZC7-Z7tqPr2",
    "outputId": "830a8143-8915-49ff-c582-eef8d241124b"
   },
   "outputs": [
    {
     "name": "stdout",
     "output_type": "stream",
     "text": [
      "['january', 'february', 'march', 'april', 'may', 'june', 'july', 'august', 'september', 'october', 'november', 'december']\n"
     ]
    }
   ],
   "source": [
    "newlist = months\n",
    "print(newlist)"
   ]
  },
  {
   "cell_type": "code",
   "execution_count": 125,
   "metadata": {
    "id": "76ffdus1qPr2",
    "outputId": "00e58548-090d-49aa-8f15-a6ad7df748b3",
    "scrolled": true
   },
   "outputs": [
    {
     "name": "stdout",
     "output_type": "stream",
     "text": [
      "['january', 'february', 'march', 'april', 'may', 'june', 'july', 'august', 'september', 'october', 'november', 'december', 'NewMonth']\n",
      "['january', 'february', 'march', 'april', 'may', 'june', 'july', 'august', 'september', 'october', 'november', 'december', 'NewMonth']\n"
     ]
    }
   ],
   "source": [
    "newlist.append('NewMonth')\n",
    "print(months)\n",
    "print(newlist)"
   ]
  },
  {
   "cell_type": "markdown",
   "metadata": {
    "id": "_ePaX3RFqPr3"
   },
   "source": [
    "So `newlist` __is not a new copy__. `newlist` and `months` are simply two references to the same list object!\n",
    "\n",
    "To have a new copy you have to use the explcit conversion."
   ]
  },
  {
   "cell_type": "code",
   "execution_count": 126,
   "metadata": {
    "id": "cb0kcMPHqPr3",
    "outputId": "0cadd358-110b-45b1-dcb7-79b5a3792b85"
   },
   "outputs": [
    {
     "name": "stdout",
     "output_type": "stream",
     "text": [
      "['january', 'february', 'march', 'april', 'may', 'june', 'july', 'august', 'september', 'october', 'november', 'december', 'NewMonth']\n",
      "['january', 'february', 'march', 'april', 'may', 'june', 'july', 'august', 'september', 'october', 'november', 'december', 'NewMonth', 'CrazyMonth']\n"
     ]
    }
   ],
   "source": [
    "newlist = list(months)\n",
    "newlist.append('CrazyMonth')\n",
    "print(months)\n",
    "print(newlist)"
   ]
  },
  {
   "cell_type": "markdown",
   "metadata": {
    "id": "JICKPQnjqGPJ"
   },
   "source": [
    "## Dictionaries\n",
    "- Another collection of objects\n",
    "  - **Mutable** (variable length and modifiable)\n",
    "  - **Unordered** (unlike tuples and lists)\n",
    "  \n",
    "\n",
    "Very similar to the associative container `map<T,K>` discussed in C++. They are also known as __hash tables__ in other languages, e.g. `perl`.  To create a `dict` object:\n",
    "\n",
    "```python\n",
    "my_dict = { key1 : value1, key2: value2, ... }\n",
    "```\n",
    "\n",
    "or\n",
    "\n",
    "```python\n",
    "my_dict = dict()\n",
    "my_dict['key1'] = value1\n",
    "my_dict['key2'] = value2\n",
    "...\n",
    "```\n",
    "\n",
    "or\n",
    "```python\n",
    "my_dict = dict([('key1', value1), ('key2', value2), ...])\n",
    "```"
   ]
  },
  {
   "cell_type": "markdown",
   "metadata": {},
   "source": [
    "Do not forget to try to get a sense of what you can do by checking out the `dir`"
   ]
  },
  {
   "cell_type": "code",
   "execution_count": 127,
   "metadata": {},
   "outputs": [
    {
     "data": {
      "text/plain": [
       "['__class__',\n",
       " '__class_getitem__',\n",
       " '__contains__',\n",
       " '__delattr__',\n",
       " '__delitem__',\n",
       " '__dir__',\n",
       " '__doc__',\n",
       " '__eq__',\n",
       " '__format__',\n",
       " '__ge__',\n",
       " '__getattribute__',\n",
       " '__getitem__',\n",
       " '__gt__',\n",
       " '__hash__',\n",
       " '__init__',\n",
       " '__init_subclass__',\n",
       " '__ior__',\n",
       " '__iter__',\n",
       " '__le__',\n",
       " '__len__',\n",
       " '__lt__',\n",
       " '__ne__',\n",
       " '__new__',\n",
       " '__or__',\n",
       " '__reduce__',\n",
       " '__reduce_ex__',\n",
       " '__repr__',\n",
       " '__reversed__',\n",
       " '__ror__',\n",
       " '__setattr__',\n",
       " '__setitem__',\n",
       " '__sizeof__',\n",
       " '__str__',\n",
       " '__subclasshook__',\n",
       " 'clear',\n",
       " 'copy',\n",
       " 'fromkeys',\n",
       " 'get',\n",
       " 'items',\n",
       " 'keys',\n",
       " 'pop',\n",
       " 'popitem',\n",
       " 'setdefault',\n",
       " 'update',\n",
       " 'values']"
      ]
     },
     "execution_count": 127,
     "metadata": {},
     "output_type": "execute_result"
    }
   ],
   "source": [
    "dir(dict)"
   ]
  },
  {
   "cell_type": "markdown",
   "metadata": {
    "id": "geuuDaXZqGPJ"
   },
   "source": [
    "### Dictionary creation"
   ]
  },
  {
   "cell_type": "markdown",
   "metadata": {
    "id": "VYS0dZRMqGPJ"
   },
   "source": [
    "#### Empty dictionary"
   ]
  },
  {
   "cell_type": "code",
   "execution_count": 128,
   "metadata": {
    "id": "5QrQrpK3qGPJ",
    "outputId": "00cf9757-c280-4fd9-892f-82d82b569fdd"
   },
   "outputs": [
    {
     "name": "stdout",
     "output_type": "stream",
     "text": [
      "{}\n",
      "{}\n"
     ]
    }
   ],
   "source": [
    "my_dict = dict()\n",
    "print(my_dict)\n",
    "\n",
    "my_dict = {}\n",
    "print(my_dict)"
   ]
  },
  {
   "cell_type": "markdown",
   "metadata": {
    "id": "0x79HtozqGPJ"
   },
   "source": [
    "#### 2 separate lists become a 1 dictionary"
   ]
  },
  {
   "cell_type": "code",
   "execution_count": 129,
   "metadata": {
    "colab": {
     "base_uri": "https://localhost:8080/"
    },
    "executionInfo": {
     "elapsed": 534,
     "status": "ok",
     "timestamp": 1637052537042,
     "user": {
      "displayName": "Francesco Pannarale",
      "photoUrl": "https://lh3.googleusercontent.com/a/default-user=s64",
      "userId": "04296007763837408065"
     },
     "user_tz": -60
    },
    "id": "2YAkvr_eqGPJ",
    "outputId": "e1925c1a-0516-42ea-bf77-4d06fb4d69b6"
   },
   "outputs": [
    {
     "name": "stdout",
     "output_type": "stream",
     "text": [
      "['january', 'february', 'march', 'april', 'may', 'june', 'july', 'august', 'september', 'october', 'november', 'december']\n",
      "[31, 28, 31, 30, 31, 30, 31, 31, 30, 31, 30, 31]\n",
      "month:  january  has  31  days\n"
     ]
    }
   ],
   "source": [
    "# Two separate lists...\n",
    "months = ['january', 'february', 'march', 'april', 'may', 'june', 'july', 'august', 'september', 'october', 'november', 'december']\n",
    "day_months = [31, 28, 31, 30, 31 , 30, 31, 31, 30, 31, 30 , 31]\n",
    "print(months)\n",
    "print(day_months)\n",
    "\n",
    "print(\"month: \", months[0], \" has \", day_months[0], \" days\")"
   ]
  },
  {
   "cell_type": "code",
   "execution_count": 130,
   "metadata": {
    "colab": {
     "base_uri": "https://localhost:8080/"
    },
    "executionInfo": {
     "elapsed": 2,
     "status": "ok",
     "timestamp": 1637052537300,
     "user": {
      "displayName": "Francesco Pannarale",
      "photoUrl": "https://lh3.googleusercontent.com/a/default-user=s64",
      "userId": "04296007763837408065"
     },
     "user_tz": -60
    },
    "id": "qen7dyNeqGPJ",
    "outputId": "9a474619-eb1a-4bb3-c12e-3208f4270602"
   },
   "outputs": [
    {
     "name": "stdout",
     "output_type": "stream",
     "text": [
      "{'january': 31, 'february': 28, 'march': 31, 'april': 30, 'may': 31, 'june': 30, 'july': 31, 'august': 31, 'september': 30, 'october': 31, 'november': 30, 'december': 31}\n",
      "31\n",
      "28\n"
     ]
    }
   ],
   "source": [
    "# ...a dictionary!\n",
    "days_per_month = {}\n",
    "\n",
    "for i, m in enumerate(months):\n",
    "    days_per_month[m] = day_months[i]\n",
    "    \n",
    "print(days_per_month)\n",
    "print(days_per_month['january'])\n",
    "print(days_per_month['february'])"
   ]
  },
  {
   "cell_type": "markdown",
   "metadata": {
    "id": "DT8lmYtSqGPJ"
   },
   "source": [
    "The `items()` method in dictionaries returns a list of `(key, value)` tuples"
   ]
  },
  {
   "cell_type": "code",
   "execution_count": 131,
   "metadata": {
    "id": "EWKZ6VyRqGPJ",
    "outputId": "3c76d0a1-16ac-4fcb-cbd0-779ae76e8fdb"
   },
   "outputs": [
    {
     "name": "stdout",
     "output_type": "stream",
     "text": [
      "dict_items([('january', 31), ('february', 28), ('march', 31), ('april', 30), ('may', 31), ('june', 30), ('july', 31), ('august', 31), ('september', 30), ('october', 31), ('november', 30), ('december', 31)])\n"
     ]
    }
   ],
   "source": [
    "print(days_per_month.items())"
   ]
  },
  {
   "cell_type": "markdown",
   "metadata": {
    "id": "PjFueVXgqGPJ"
   },
   "source": [
    "#### You can also create a dictionary by hand"
   ]
  },
  {
   "cell_type": "code",
   "execution_count": 132,
   "metadata": {
    "id": "ptF4nSDYqGPJ",
    "outputId": "5a317330-920c-4be7-c216-246368d35696"
   },
   "outputs": [
    {
     "name": "stdout",
     "output_type": "stream",
     "text": [
      "{'a': 1, 'b': (1, 2, 3), 'c': ['one', 'two'], 'd': 'example', 56: 'name'}\n"
     ]
    }
   ],
   "source": [
    "dict1 = {'a' : 1,\n",
    "         'b' : (1,2,3),\n",
    "         'c' : ['one','two'],\n",
    "         'd' : 'example',\n",
    "         56 : 'name'}\n",
    "print(dict1)"
   ]
  },
  {
   "cell_type": "code",
   "execution_count": 133,
   "metadata": {
    "colab": {
     "base_uri": "https://localhost:8080/"
    },
    "executionInfo": {
     "elapsed": 240,
     "status": "ok",
     "timestamp": 1637052691816,
     "user": {
      "displayName": "Francesco Pannarale",
      "photoUrl": "https://lh3.googleusercontent.com/a/default-user=s64",
      "userId": "04296007763837408065"
     },
     "user_tz": -60
    },
    "id": "3Rf1-BGgqGPK",
    "outputId": "2cf8b7ac-0027-4c8c-cc0f-b788969a178c"
   },
   "outputs": [
    {
     "name": "stdout",
     "output_type": "stream",
     "text": [
      "{'rio': {'name': 'john', 'age': 23, 'id': 123456}, 'nairobi': {'name': 'susan', 'id': 123123, 'age': 21}, 'tokyo': {'name': 'maria', 'id': 123651, 'age': 24}}\n"
     ]
    }
   ],
   "source": [
    "students = {'rio': {'name':'john', 'age':23, 'id':123456},\n",
    "            'nairobi': {'name':'susan', 'id':123123, 'age':21}, \n",
    "            'tokyo': {'name':'maria', 'id':123651, 'age':24}, }\n",
    "print(students)"
   ]
  },
  {
   "cell_type": "markdown",
   "metadata": {
    "id": "ZFCx-c0hqGPK"
   },
   "source": [
    "#### Adding a new value for a key"
   ]
  },
  {
   "cell_type": "code",
   "execution_count": 134,
   "metadata": {
    "colab": {
     "base_uri": "https://localhost:8080/"
    },
    "executionInfo": {
     "elapsed": 224,
     "status": "ok",
     "timestamp": 1637052713276,
     "user": {
      "displayName": "Francesco Pannarale",
      "photoUrl": "https://lh3.googleusercontent.com/a/default-user=s64",
      "userId": "04296007763837408065"
     },
     "user_tz": -60
    },
    "id": "_Gxsd7LjqGPK",
    "outputId": "214e9fe1-e14e-450a-e5c5-335d9a8c6638"
   },
   "outputs": [
    {
     "name": "stdout",
     "output_type": "stream",
     "text": [
      "{'rio': {'name': 'john', 'age': 23, 'id': 123456}, 'nairobi': {'name': 'susan', 'id': 123123, 'age': 21}, 'tokyo': {'name': 'maria', 'id': 123651, 'age': 24}, 'oslo': {'name': '', 'age': 30, 'id': 111111}}\n"
     ]
    }
   ],
   "source": [
    "students['oslo'] = {'name':'', 'age':30, 'id':111111} \n",
    "print(students)"
   ]
  },
  {
   "cell_type": "markdown",
   "metadata": {
    "id": "B5Pe2KQaqGPK"
   },
   "source": [
    "If the key is already in use, its value will be updated (similar to modifying elements of a list)"
   ]
  },
  {
   "cell_type": "code",
   "execution_count": 135,
   "metadata": {
    "colab": {
     "base_uri": "https://localhost:8080/"
    },
    "executionInfo": {
     "elapsed": 207,
     "status": "ok",
     "timestamp": 1637052737962,
     "user": {
      "displayName": "Francesco Pannarale",
      "photoUrl": "https://lh3.googleusercontent.com/a/default-user=s64",
      "userId": "04296007763837408065"
     },
     "user_tz": -60
    },
    "id": "WnuNcEn9qGPK",
    "outputId": "17ebbc95-2705-4b90-f3f2-d4f73ec4dfee"
   },
   "outputs": [
    {
     "name": "stdout",
     "output_type": "stream",
     "text": [
      "{'rio': {'name': 'john', 'age': 23, 'id': 123456}, 'nairobi': {'name': 'susan', 'id': 123123, 'age': 21}, 'tokyo': {'name': 'maria', 'id': 123651, 'age': 24}, 'oslo': {'name': 'sergey', 'age': 22, 'id': 111112}}\n"
     ]
    }
   ],
   "source": [
    "students['oslo'] = {'name':'sergey', 'age':22, 'id':111112} \n",
    "print(students)"
   ]
  },
  {
   "cell_type": "markdown",
   "metadata": {
    "id": "1BkNDrT4qGPK"
   },
   "source": [
    "### `KeyError`, `in`, and `get`\n",
    "\n",
    "`KeyError` is the error you hit when referencing a `key` which is not in the dictionary"
   ]
  },
  {
   "cell_type": "code",
   "execution_count": 136,
   "metadata": {
    "colab": {
     "base_uri": "https://localhost:8080/",
     "height": 188
    },
    "executionInfo": {
     "elapsed": 234,
     "status": "error",
     "timestamp": 1637052765972,
     "user": {
      "displayName": "Francesco Pannarale",
      "photoUrl": "https://lh3.googleusercontent.com/a/default-user=s64",
      "userId": "04296007763837408065"
     },
     "user_tz": -60
    },
    "id": "bYmZpxUDqGPK",
    "outputId": "4c9b88aa-aa31-479f-e379-65357d195cb9"
   },
   "outputs": [
    {
     "ename": "KeyError",
     "evalue": "'osaka'",
     "output_type": "error",
     "traceback": [
      "\u001b[0;31m---------------------------------------------------------------------------\u001b[0m",
      "\u001b[0;31mKeyError\u001b[0m                                  Traceback (most recent call last)",
      "Cell \u001b[0;32mIn [136], line 1\u001b[0m\n\u001b[0;32m----> 1\u001b[0m \u001b[43mstudents\u001b[49m\u001b[43m[\u001b[49m\u001b[38;5;124;43m'\u001b[39;49m\u001b[38;5;124;43mosaka\u001b[39;49m\u001b[38;5;124;43m'\u001b[39;49m\u001b[43m]\u001b[49m\n",
      "\u001b[0;31mKeyError\u001b[0m: 'osaka'"
     ]
    }
   ],
   "source": [
    "students['osaka']"
   ]
  },
  {
   "cell_type": "markdown",
   "metadata": {
    "id": "k_I1DCAcqGPK"
   },
   "source": [
    "#### Use the `in` operator to checking whether a `key` is in use"
   ]
  },
  {
   "cell_type": "code",
   "execution_count": 137,
   "metadata": {
    "colab": {
     "base_uri": "https://localhost:8080/"
    },
    "executionInfo": {
     "elapsed": 14392,
     "status": "ok",
     "timestamp": 1637052825954,
     "user": {
      "displayName": "Francesco Pannarale",
      "photoUrl": "https://lh3.googleusercontent.com/a/default-user=s64",
      "userId": "04296007763837408065"
     },
     "user_tz": -60
    },
    "id": "pkIerXjeqGPK",
    "outputId": "7fe28a19-1bec-49b8-e1c1-4d228e69b659"
   },
   "outputs": [
    {
     "name": "stdout",
     "output_type": "stream",
     "text": [
      "Name (press return to end): rio\n",
      "name: john\t age: 23\t id: 123456\n",
      "Name (press return to end): osaka\n",
      "osaka not in the list. sorry.\n",
      "Name (press return to end): \n"
     ]
    }
   ],
   "source": [
    "while True:\n",
    "    name = input(\"Name (press return to end): \")  \n",
    "    if(name==''): break\n",
    "    if name not in students:\n",
    "        print(\"{0} not in the list. sorry.\".format(name))\n",
    "    else: \n",
    "        print(\"name: {0}\\t age: {1}\\t id: {2}\".format(students[name]['name'], students[name]['age'], students[name]['id']))"
   ]
  },
  {
   "cell_type": "markdown",
   "metadata": {
    "id": "lHyhbqeMqGPK"
   },
   "source": [
    "#### `get`\n",
    "\n",
    "- Dedicated getter method for dictionaries\n",
    "- Has a fall-back feature to avoid `KeyError`\n",
    "- Syntax:\n",
    "\n",
    "```python\n",
    "value = some_dict.get(key, value_if_key_not_found)\n",
    "```\n",
    "\n",
    "Notice also that we process the input with the method `lower()`."
   ]
  },
  {
   "cell_type": "code",
   "execution_count": 192,
   "metadata": {
    "colab": {
     "base_uri": "https://localhost:8080/"
    },
    "executionInfo": {
     "elapsed": 8456,
     "status": "ok",
     "timestamp": 1637052918571,
     "user": {
      "displayName": "Francesco Pannarale",
      "photoUrl": "https://lh3.googleusercontent.com/a/default-user=s64",
      "userId": "04296007763837408065"
     },
     "user_tz": -60
    },
    "id": "3x4O7fCGqGPK",
    "outputId": "f1383199-2f03-4efd-ff4a-f29779a01a06"
   },
   "outputs": [
    {
     "name": "stdout",
     "output_type": "stream",
     "text": [
      "Name (press return to end): rio\n",
      "{'name': 'john', 'age': 23, 'id': 123456}\n",
      "Name (press return to end): Rio\n",
      "{'name': 'john', 'age': 23, 'id': 123456}\n",
      "Name (press return to end): osaka\n",
      "you silly person, this is not in here\n",
      "Name (press return to end): \n"
     ]
    }
   ],
   "source": [
    "while True:\n",
    "    name = input(\"Name (press return to end): \").lower()  \n",
    "    if(name==''): break\n",
    "    val = students.get(name, \"you silly person, this is not in here\")\n",
    "    print(val)"
   ]
  },
  {
   "cell_type": "markdown",
   "metadata": {
    "id": "sddPrq1ZqGPK"
   },
   "source": [
    "### Keys are unique\n",
    "- There can be only one `value` for a given `key` in a dictionary made of `key:value`\n",
    "- If you need more values for a `key`, then what you want is a dictionary of `key:[value]` "
   ]
  },
  {
   "cell_type": "code",
   "execution_count": 139,
   "metadata": {
    "colab": {
     "base_uri": "https://localhost:8080/"
    },
    "executionInfo": {
     "elapsed": 329,
     "status": "ok",
     "timestamp": 1637052938504,
     "user": {
      "displayName": "Francesco Pannarale",
      "photoUrl": "https://lh3.googleusercontent.com/a/default-user=s64",
      "userId": "04296007763837408065"
     },
     "user_tz": -60
    },
    "id": "Ge4FIXJ5qGPK",
    "outputId": "fc224ec9-b94a-49a8-ae53-67a99cc129e2"
   },
   "outputs": [
    {
     "data": {
      "text/plain": [
       "{'boson': ['Z', 'gluon', 'W', 'photon'],\n",
       " 'meson': ['pion', 'kaon'],\n",
       " 'quark': ['u', 'd', 's'],\n",
       " 'lepton': ['electron', 'muon']}"
      ]
     },
     "execution_count": 139,
     "metadata": {},
     "output_type": "execute_result"
    }
   ],
   "source": [
    "particles = {'boson':['Z', 'gluon', 'W', 'photon'],\n",
    "             'meson':['pion', 'kaon'],\n",
    "             'quark':['u','d','s'],\n",
    "             'lepton':['electron', 'muon']}\n",
    "particles"
   ]
  },
  {
   "cell_type": "code",
   "execution_count": 140,
   "metadata": {
    "colab": {
     "base_uri": "https://localhost:8080/"
    },
    "executionInfo": {
     "elapsed": 254,
     "status": "ok",
     "timestamp": 1637052947598,
     "user": {
      "displayName": "Francesco Pannarale",
      "photoUrl": "https://lh3.googleusercontent.com/a/default-user=s64",
      "userId": "04296007763837408065"
     },
     "user_tz": -60
    },
    "id": "Wz5Q1HIFqGPK",
    "outputId": "a3fa5a2d-4f39-47fd-8b40-3bc61beccff3"
   },
   "outputs": [
    {
     "data": {
      "text/plain": [
       "{'boson': ['Z', 'gluon', 'W', 'photon'],\n",
       " 'meson': ['pion', 'kaon'],\n",
       " 'quark': ['u', 'd', 's'],\n",
       " 'lepton': ['electron', 'muon', 'tau']}"
      ]
     },
     "execution_count": 140,
     "metadata": {},
     "output_type": "execute_result"
    }
   ],
   "source": [
    "particles['lepton'].append('tau')\n",
    "particles"
   ]
  },
  {
   "cell_type": "markdown",
   "metadata": {
    "id": "SzgCZxOzqGPK"
   },
   "source": [
    "### Iterating over dict \n",
    "By default the iterator gives you the keys.  You can also *explicitly* loop over keys."
   ]
  },
  {
   "cell_type": "code",
   "execution_count": 141,
   "metadata": {
    "colab": {
     "base_uri": "https://localhost:8080/"
    },
    "executionInfo": {
     "elapsed": 202,
     "status": "ok",
     "timestamp": 1637052981722,
     "user": {
      "displayName": "Francesco Pannarale",
      "photoUrl": "https://lh3.googleusercontent.com/a/default-user=s64",
      "userId": "04296007763837408065"
     },
     "user_tz": -60
    },
    "id": "F85KPDz6qGPL",
    "outputId": "1224c23f-0f4e-4638-ba0e-61ce4f5d243e"
   },
   "outputs": [
    {
     "name": "stdout",
     "output_type": "stream",
     "text": [
      "boson\n",
      "meson\n",
      "quark\n",
      "lepton\n"
     ]
    }
   ],
   "source": [
    "for p in particles:\n",
    "    print(p)"
   ]
  },
  {
   "cell_type": "code",
   "execution_count": 142,
   "metadata": {
    "id": "BGKJOr2iqGPL",
    "outputId": "6a82b355-699d-47ba-bf5c-f1e0eef1b8f8"
   },
   "outputs": [
    {
     "name": "stdout",
     "output_type": "stream",
     "text": [
      "dict_keys(['boson', 'meson', 'quark', 'lepton'])\n",
      "boson\n",
      "meson\n",
      "quark\n",
      "lepton\n"
     ]
    }
   ],
   "source": [
    "print(particles.keys())\n",
    "for k in particles.keys():\n",
    "    print(k)"
   ]
  },
  {
   "cell_type": "code",
   "execution_count": 143,
   "metadata": {
    "colab": {
     "base_uri": "https://localhost:8080/"
    },
    "executionInfo": {
     "elapsed": 232,
     "status": "ok",
     "timestamp": 1637053045159,
     "user": {
      "displayName": "Francesco Pannarale",
      "photoUrl": "https://lh3.googleusercontent.com/a/default-user=s64",
      "userId": "04296007763837408065"
     },
     "user_tz": -60
    },
    "id": "qAnI3mFVqGPL",
    "outputId": "40ee1a5d-6daf-41e8-9afa-158cb4639bd2"
   },
   "outputs": [
    {
     "name": "stdout",
     "output_type": "stream",
     "text": [
      "['Z', 'gluon', 'W', 'photon']\n",
      "['pion', 'kaon']\n",
      "['u', 'd', 's']\n",
      "['electron', 'muon', 'tau']\n"
     ]
    }
   ],
   "source": [
    "for k in particles:\n",
    "    print(particles[k])"
   ]
  },
  {
   "cell_type": "markdown",
   "metadata": {
    "id": "-Xh33F36qGPL"
   },
   "source": [
    "#### There is more: two iteration variables!\n",
    "\n",
    "You can loop through the `key:value` pairs in a dictionary using **two** iteration variables.\n",
    "At each iteration, the first variable is the `key` and the second variable is its corresponding `value`."
   ]
  },
  {
   "cell_type": "code",
   "execution_count": 144,
   "metadata": {
    "id": "IJqUDjy_qGPL",
    "outputId": "04278cb8-35a6-40fe-cbc0-e4319b618740"
   },
   "outputs": [
    {
     "name": "stdout",
     "output_type": "stream",
     "text": [
      "boson list: ['Z', 'gluon', 'W', 'photon']\n",
      "meson list: ['pion', 'kaon']\n",
      "quark list: ['u', 'd', 's']\n",
      "lepton list: ['electron', 'muon', 'tau']\n"
     ]
    }
   ],
   "source": [
    "for aaa,bbb in particles.items():\n",
    "    print(aaa, 'list:', bbb)"
   ]
  },
  {
   "cell_type": "markdown",
   "metadata": {
    "id": "6AHzTCFHqGPL"
   },
   "source": [
    "### Accessing values without keys\n",
    "If you do not care about the keys, but need all the values python provides with `values` function.\n",
    "\n",
    "This operation is also called __flattening__."
   ]
  },
  {
   "cell_type": "code",
   "execution_count": 145,
   "metadata": {
    "colab": {
     "base_uri": "https://localhost:8080/"
    },
    "executionInfo": {
     "elapsed": 207,
     "status": "ok",
     "timestamp": 1637053146624,
     "user": {
      "displayName": "Francesco Pannarale",
      "photoUrl": "https://lh3.googleusercontent.com/a/default-user=s64",
      "userId": "04296007763837408065"
     },
     "user_tz": -60
    },
    "id": "_uRmOd-W-IJn",
    "outputId": "914c783a-7c54-4103-de4d-a8efeb8979c7"
   },
   "outputs": [
    {
     "name": "stdout",
     "output_type": "stream",
     "text": [
      "dict_values([['Z', 'gluon', 'W', 'photon'], ['pion', 'kaon'], ['u', 'd', 's'], ['electron', 'muon', 'tau']])\n"
     ]
    }
   ],
   "source": [
    "print(particles.values())"
   ]
  },
  {
   "cell_type": "code",
   "execution_count": 146,
   "metadata": {
    "id": "ZHftEikPqGPL",
    "outputId": "d11de5d2-99d8-491b-f61c-2110461c2b1f"
   },
   "outputs": [
    {
     "name": "stdout",
     "output_type": "stream",
     "text": [
      "Looping over keys in dict\n",
      "['Z', 'gluon', 'W', 'photon']\n",
      "Looping over keys in dict\n",
      "['pion', 'kaon']\n",
      "Looping over keys in dict\n",
      "['u', 'd', 's']\n",
      "Looping over keys in dict\n",
      "['electron', 'muon', 'tau']\n",
      "All_vals (flattened)\n",
      "['Z', 'gluon', 'W', 'photon', 'pion', 'kaon', 'u', 'd', 's', 'electron', 'muon', 'tau']\n",
      "All_vals (not flattened)\n",
      "[['Z', 'gluon', 'W', 'photon'], ['pion', 'kaon'], ['u', 'd', 's'], ['electron', 'muon', 'tau']]\n"
     ]
    }
   ],
   "source": [
    "all_vals_ext = []\n",
    "all_vals_app = []\n",
    "\n",
    "for v in particles.values():\n",
    "    print(\"Looping over keys in dict\")\n",
    "    print(v)\n",
    "    all_vals_ext.extend(v)\n",
    "    all_vals_app.append(v)\n",
    "\n",
    "print(\"All_vals (flattened)\")\n",
    "print(all_vals_ext)\n",
    "\n",
    "print(\"All_vals (not flattened)\")\n",
    "print(all_vals_app)"
   ]
  },
  {
   "cell_type": "code",
   "execution_count": 147,
   "metadata": {
    "id": "QV3sYXC5qGPL",
    "outputId": "70625740-e4ad-4e49-cbe5-414c4e7982ad"
   },
   "outputs": [
    {
     "name": "stdout",
     "output_type": "stream",
     "text": [
      "{123: (1, 2, 3), 'one': [1.2, 2.3], (1, 2): 'tuple'}\n",
      "<class 'int'> <class 'tuple'>\n",
      "<class 'str'> <class 'list'>\n",
      "<class 'tuple'> <class 'str'>\n"
     ]
    }
   ],
   "source": [
    "dic2 = {123: (1,2,3), 'one': [1.2, 2.3] , (1,2): 'tuple'}\n",
    "print(dic2)\n",
    "for i in dic2:\n",
    "    print(type(i), type(dic2[i]))"
   ]
  },
  {
   "cell_type": "markdown",
   "metadata": {
    "id": "S0b12bEzqGPL"
   },
   "source": [
    "Same behavior can be obtained with a double loop."
   ]
  },
  {
   "cell_type": "code",
   "execution_count": 148,
   "metadata": {
    "id": "D5OCqDVbqGPL",
    "outputId": "422a378c-4d44-4231-98fd-a074e4a2207b"
   },
   "outputs": [
    {
     "name": "stdout",
     "output_type": "stream",
     "text": [
      "['Z', 'gluon', 'W', 'photon', 'pion', 'kaon', 'u', 'd', 's', 'electron', 'muon', 'tau']\n"
     ]
    }
   ],
   "source": [
    "flat=[]\n",
    "for v in particles.values():\n",
    "    for i in v:\n",
    "        flat.append(i)\n",
    "print(flat)"
   ]
  },
  {
   "cell_type": "markdown",
   "metadata": {
    "id": "6Ic-8OHVqGPL"
   },
   "source": [
    "### Valid key types\n",
    "- Keys must be hashable, i.e., a unique identifier can be created based on a given key.\n",
    "- Hashable types:\n",
    "    - immutable scalar type such as int, float, string\n",
    "    - tuples\n",
    "- You can check if a variable is hashable or not with `hash()`"
   ]
  },
  {
   "cell_type": "code",
   "execution_count": 149,
   "metadata": {
    "colab": {
     "base_uri": "https://localhost:8080/"
    },
    "executionInfo": {
     "elapsed": 419,
     "status": "ok",
     "timestamp": 1637234153464,
     "user": {
      "displayName": "Francesco Pannarale",
      "photoUrl": "https://lh3.googleusercontent.com/a/default-user=s64",
      "userId": "04296007763837408065"
     },
     "user_tz": -60
    },
    "id": "P2DZ4QQ7qGPL",
    "outputId": "56e48a0d-a9f5-4b94-bcc1-fa3305618bc5"
   },
   "outputs": [
    {
     "data": {
      "text/plain": [
       "4365647662091428947"
      ]
     },
     "execution_count": 149,
     "metadata": {},
     "output_type": "execute_result"
    }
   ],
   "source": [
    "hash('boson')"
   ]
  },
  {
   "cell_type": "code",
   "execution_count": 150,
   "metadata": {
    "colab": {
     "base_uri": "https://localhost:8080/"
    },
    "executionInfo": {
     "elapsed": 369,
     "status": "ok",
     "timestamp": 1637234160098,
     "user": {
      "displayName": "Francesco Pannarale",
      "photoUrl": "https://lh3.googleusercontent.com/a/default-user=s64",
      "userId": "04296007763837408065"
     },
     "user_tz": -60
    },
    "id": "nfKpKBwQqGPL",
    "outputId": "944049ef-ac95-4c42-8193-e275dd257a29"
   },
   "outputs": [
    {
     "data": {
      "text/plain": [
       "7938176375874763610"
      ]
     },
     "execution_count": 150,
     "metadata": {},
     "output_type": "execute_result"
    }
   ],
   "source": [
    "hash((2,3,2.4))"
   ]
  },
  {
   "cell_type": "code",
   "execution_count": 151,
   "metadata": {
    "colab": {
     "base_uri": "https://localhost:8080/"
    },
    "executionInfo": {
     "elapsed": 12,
     "status": "ok",
     "timestamp": 1637234161622,
     "user": {
      "displayName": "Francesco Pannarale",
      "photoUrl": "https://lh3.googleusercontent.com/a/default-user=s64",
      "userId": "04296007763837408065"
     },
     "user_tz": -60
    },
    "id": "luCQ9p-UqGPL",
    "outputId": "315d899a-30ee-49e0-8bc4-42caaf47cee6"
   },
   "outputs": [
    {
     "data": {
      "text/plain": [
       "284615736650468355"
      ]
     },
     "execution_count": 151,
     "metadata": {},
     "output_type": "execute_result"
    }
   ],
   "source": [
    "hash(3.1234324)"
   ]
  },
  {
   "cell_type": "code",
   "execution_count": 152,
   "metadata": {
    "colab": {
     "base_uri": "https://localhost:8080/"
    },
    "executionInfo": {
     "elapsed": 351,
     "status": "ok",
     "timestamp": 1637234189773,
     "user": {
      "displayName": "Francesco Pannarale",
      "photoUrl": "https://lh3.googleusercontent.com/a/default-user=s64",
      "userId": "04296007763837408065"
     },
     "user_tz": -60
    },
    "id": "4xh6iHpkqGPL",
    "outputId": "31a9a55a-6b68-4eb4-c31b-ee57b7b97e22"
   },
   "outputs": [
    {
     "name": "stdout",
     "output_type": "stream",
     "text": [
      "{2.9: 'Value of c', 5.9: 'Value of something'}\n",
      "{2.9: 'Value of c', 5.9: 'Value of something', 5.4: 'New'}\n",
      "{2.9: 'Value of c', 5.9: 'Value of something', 5.4: 'New', -3.4: 'New val'}\n"
     ]
    }
   ],
   "source": [
    "c = 2.9\n",
    "dict3 = {c:'Value of c', 5.9:'Value of something'}\n",
    "print(dict3)\n",
    "\n",
    "c = 5.4\n",
    "dict3[c] = 'New'\n",
    "print(dict3)\n",
    "\n",
    "c = 5.6\n",
    "dict3[-3.4] = 'New val'\n",
    "print(dict3)"
   ]
  },
  {
   "cell_type": "code",
   "execution_count": 153,
   "metadata": {
    "colab": {
     "base_uri": "https://localhost:8080/",
     "height": 187
    },
    "executionInfo": {
     "elapsed": 359,
     "status": "error",
     "timestamp": 1637234207872,
     "user": {
      "displayName": "Francesco Pannarale",
      "photoUrl": "https://lh3.googleusercontent.com/a/default-user=s64",
      "userId": "04296007763837408065"
     },
     "user_tz": -60
    },
    "id": "130sB21dqGPM",
    "outputId": "6237fdbc-e5fd-46f2-ed5c-1708f0f04dc7"
   },
   "outputs": [
    {
     "ename": "TypeError",
     "evalue": "unhashable type: 'list'",
     "output_type": "error",
     "traceback": [
      "\u001b[0;31m---------------------------------------------------------------------------\u001b[0m",
      "\u001b[0;31mTypeError\u001b[0m                                 Traceback (most recent call last)",
      "Cell \u001b[0;32mIn [153], line 1\u001b[0m\n\u001b[0;32m----> 1\u001b[0m dict4 \u001b[38;5;241m=\u001b[39m {[\u001b[38;5;241m1\u001b[39m,\u001b[38;5;241m2\u001b[39m] : \u001b[38;5;124m'\u001b[39m\u001b[38;5;124mvalue\u001b[39m\u001b[38;5;124m'\u001b[39m}\n",
      "\u001b[0;31mTypeError\u001b[0m: unhashable type: 'list'"
     ]
    }
   ],
   "source": [
    "dict4 = {[1,2] : 'value'}"
   ]
  },
  {
   "cell_type": "code",
   "execution_count": 154,
   "metadata": {
    "colab": {
     "base_uri": "https://localhost:8080/",
     "height": 187
    },
    "executionInfo": {
     "elapsed": 360,
     "status": "error",
     "timestamp": 1637234228910,
     "user": {
      "displayName": "Francesco Pannarale",
      "photoUrl": "https://lh3.googleusercontent.com/a/default-user=s64",
      "userId": "04296007763837408065"
     },
     "user_tz": -60
    },
    "id": "vMXYD29sqGPM",
    "outputId": "aa5ca361-89bc-4b75-9303-21d90756a066"
   },
   "outputs": [
    {
     "ename": "TypeError",
     "evalue": "unhashable type: 'list'",
     "output_type": "error",
     "traceback": [
      "\u001b[0;31m---------------------------------------------------------------------------\u001b[0m",
      "\u001b[0;31mTypeError\u001b[0m                                 Traceback (most recent call last)",
      "Cell \u001b[0;32mIn [154], line 1\u001b[0m\n\u001b[0;32m----> 1\u001b[0m \u001b[38;5;28;43mhash\u001b[39;49m\u001b[43m(\u001b[49m\u001b[43m[\u001b[49m\u001b[38;5;241;43m1\u001b[39;49m\u001b[43m,\u001b[49m\u001b[38;5;241;43m2\u001b[39;49m\u001b[43m]\u001b[49m\u001b[43m)\u001b[49m\n",
      "\u001b[0;31mTypeError\u001b[0m: unhashable type: 'list'"
     ]
    }
   ],
   "source": [
    "hash([1,2])"
   ]
  },
  {
   "cell_type": "markdown",
   "metadata": {
    "id": "A9qc_rO1qGPM"
   },
   "source": [
    "### Sorting a dictionary by `key`\n",
    "\n",
    "We can take advantage of the ability to sort a list of tuples to get a sorted version of a dictionary.\n",
    "\n",
    "First we sort the dictionary by the `key` using the `items()` method and `sorted()` function."
   ]
  },
  {
   "cell_type": "code",
   "execution_count": 155,
   "metadata": {
    "id": "1ZXaPEFAqGPM",
    "outputId": "abac3edb-5667-4b93-edb4-4ed4c606f67a"
   },
   "outputs": [
    {
     "data": {
      "text/plain": [
       "dict_items([('a', 1), ('c', 3), ('b', 2)])"
      ]
     },
     "execution_count": 155,
     "metadata": {},
     "output_type": "execute_result"
    }
   ],
   "source": [
    "d = {'a':1, 'c':3, 'b':2}\n",
    "d.items()"
   ]
  },
  {
   "cell_type": "code",
   "execution_count": 156,
   "metadata": {
    "id": "O5iRDiklqGPM",
    "outputId": "e89710ed-ed3c-4382-8803-abd30ba7e968"
   },
   "outputs": [
    {
     "data": {
      "text/plain": [
       "[('a', 1), ('b', 2), ('c', 3)]"
      ]
     },
     "execution_count": 156,
     "metadata": {},
     "output_type": "execute_result"
    }
   ],
   "source": [
    "sorted(d.items())"
   ]
  },
  {
   "cell_type": "code",
   "execution_count": 157,
   "metadata": {
    "id": "tI3IRf0nqGPM",
    "outputId": "6df46f9a-88c9-441e-ce7f-7be9c99243f1"
   },
   "outputs": [
    {
     "name": "stdout",
     "output_type": "stream",
     "text": [
      "{'a': 1, 'c': 3, 'b': 2}\n"
     ]
    }
   ],
   "source": [
    "print(d) # NB: dictionary is unchanged"
   ]
  },
  {
   "cell_type": "markdown",
   "metadata": {
    "id": "ztWL_1klqGPM"
   },
   "source": [
    "### Sorting a dictionary by `value`\n",
    "\n",
    "Requires constructing a list of tuples of the form `(value, key)` to sort by `value`."
   ]
  },
  {
   "cell_type": "code",
   "execution_count": 158,
   "metadata": {
    "id": "cuUfk7S8qGPM",
    "outputId": "b18642d2-b9cd-464d-d4a9-90c145459eba"
   },
   "outputs": [
    {
     "name": "stdout",
     "output_type": "stream",
     "text": [
      "[(1, 'a'), (3, 'c'), (2, 'b')]\n"
     ]
    }
   ],
   "source": [
    "tmp = list()\n",
    "for k, v in d.items():\n",
    "    tmp.append((v, k))\n",
    "print(tmp)"
   ]
  },
  {
   "cell_type": "code",
   "execution_count": 159,
   "metadata": {
    "id": "mtiHUZQNqGPM",
    "outputId": "6804ccb2-6a89-4a7a-83d1-9a02684de213"
   },
   "outputs": [
    {
     "name": "stdout",
     "output_type": "stream",
     "text": [
      "[(3, 'c'), (2, 'b'), (1, 'a')]\n"
     ]
    }
   ],
   "source": [
    "tmp = sorted(tmp, reverse=True)\n",
    "print(tmp)"
   ]
  },
  {
   "cell_type": "markdown",
   "metadata": {
    "id": "4b6kPVLLqGPM"
   },
   "source": [
    "## Sets\n",
    "\n",
    "A **set** is\n",
    "\n",
    "- an unordered collection of __unique__ elements\n",
    "- the natural example is the collection of the keys of a dictionary\n",
    "\n",
    "A set is created with `{}` or with the `set` function\n",
    "```python\n",
    "{v1, v2, v3, ...}\n",
    "```\n",
    "```python\n",
    "my_set = set(v1, v2, v3, ...)\n",
    "```"
   ]
  },
  {
   "cell_type": "markdown",
   "metadata": {},
   "source": [
    "As usual, let's start with `dir`.  Looks like some logic-oriented operations can happen with sets.\n",
    "Remember: SETL --> ABC --> Python."
   ]
  },
  {
   "cell_type": "code",
   "execution_count": 160,
   "metadata": {},
   "outputs": [
    {
     "data": {
      "text/plain": [
       "['__and__',\n",
       " '__class__',\n",
       " '__class_getitem__',\n",
       " '__contains__',\n",
       " '__delattr__',\n",
       " '__dir__',\n",
       " '__doc__',\n",
       " '__eq__',\n",
       " '__format__',\n",
       " '__ge__',\n",
       " '__getattribute__',\n",
       " '__gt__',\n",
       " '__hash__',\n",
       " '__iand__',\n",
       " '__init__',\n",
       " '__init_subclass__',\n",
       " '__ior__',\n",
       " '__isub__',\n",
       " '__iter__',\n",
       " '__ixor__',\n",
       " '__le__',\n",
       " '__len__',\n",
       " '__lt__',\n",
       " '__ne__',\n",
       " '__new__',\n",
       " '__or__',\n",
       " '__rand__',\n",
       " '__reduce__',\n",
       " '__reduce_ex__',\n",
       " '__repr__',\n",
       " '__ror__',\n",
       " '__rsub__',\n",
       " '__rxor__',\n",
       " '__setattr__',\n",
       " '__sizeof__',\n",
       " '__str__',\n",
       " '__sub__',\n",
       " '__subclasshook__',\n",
       " '__xor__',\n",
       " 'add',\n",
       " 'clear',\n",
       " 'copy',\n",
       " 'difference',\n",
       " 'difference_update',\n",
       " 'discard',\n",
       " 'intersection',\n",
       " 'intersection_update',\n",
       " 'isdisjoint',\n",
       " 'issubset',\n",
       " 'issuperset',\n",
       " 'pop',\n",
       " 'remove',\n",
       " 'symmetric_difference',\n",
       " 'symmetric_difference_update',\n",
       " 'union',\n",
       " 'update']"
      ]
     },
     "execution_count": 160,
     "metadata": {},
     "output_type": "execute_result"
    }
   ],
   "source": [
    "dir(set)"
   ]
  },
  {
   "cell_type": "markdown",
   "metadata": {},
   "source": [
    "Consider our `days` dictionary that stores the days for each month."
   ]
  },
  {
   "cell_type": "code",
   "execution_count": 161,
   "metadata": {
    "colab": {
     "base_uri": "https://localhost:8080/"
    },
    "executionInfo": {
     "elapsed": 357,
     "status": "ok",
     "timestamp": 1637234332144,
     "user": {
      "displayName": "Francesco Pannarale",
      "photoUrl": "https://lh3.googleusercontent.com/a/default-user=s64",
      "userId": "04296007763837408065"
     },
     "user_tz": -60
    },
    "id": "dY1ML4I7qGPM",
    "outputId": "87827537-4d79-49ba-d57c-7cd801c873aa"
   },
   "outputs": [
    {
     "data": {
      "text/plain": [
       "[31, 28, 31, 30, 31, 30, 31, 31, 30, 31, 30, 31]"
      ]
     },
     "execution_count": 161,
     "metadata": {},
     "output_type": "execute_result"
    }
   ],
   "source": [
    "#day_len = days_per_month.values()\n",
    "day_len = [31, 28, 31, 30, 31, 30, 31, 31, 30, 31, 30, 31]\n",
    "day_len"
   ]
  },
  {
   "cell_type": "markdown",
   "metadata": {
    "id": "Khqzy9rpqGPM"
   },
   "source": [
    "We can create a set from this list"
   ]
  },
  {
   "cell_type": "code",
   "execution_count": 162,
   "metadata": {
    "colab": {
     "base_uri": "https://localhost:8080/"
    },
    "executionInfo": {
     "elapsed": 391,
     "status": "ok",
     "timestamp": 1637234375821,
     "user": {
      "displayName": "Francesco Pannarale",
      "photoUrl": "https://lh3.googleusercontent.com/a/default-user=s64",
      "userId": "04296007763837408065"
     },
     "user_tz": -60
    },
    "id": "qBDNdQTnqGPM",
    "outputId": "52ee990e-f544-4058-ea8b-8e4baa349f70"
   },
   "outputs": [
    {
     "name": "stdout",
     "output_type": "stream",
     "text": [
      "{28, 30, 31}\n",
      "{1, 2, 3, 4, 34}\n"
     ]
    }
   ],
   "source": [
    "days_set = set(day_len)\n",
    "print(days_set)\n",
    "\n",
    "new_set = {1, 2, 3, 4, 1, 34, 3, 2, 34}\n",
    "print(new_set)"
   ]
  },
  {
   "cell_type": "code",
   "execution_count": 163,
   "metadata": {
    "colab": {
     "base_uri": "https://localhost:8080/"
    },
    "executionInfo": {
     "elapsed": 354,
     "status": "ok",
     "timestamp": 1637234384097,
     "user": {
      "displayName": "Francesco Pannarale",
      "photoUrl": "https://lh3.googleusercontent.com/a/default-user=s64",
      "userId": "04296007763837408065"
     },
     "user_tz": -60
    },
    "id": "XDtcrUqMqGPM",
    "outputId": "77d55940-4476-4b49-fc02-04644e4e4cc8"
   },
   "outputs": [
    {
     "name": "stdout",
     "output_type": "stream",
     "text": [
      "{1, 2, 3}\n"
     ]
    }
   ],
   "source": [
    "my_tuple = (1, 2, 3, 2, 2, 3, 1)\n",
    "print(set(my_tuple))"
   ]
  },
  {
   "cell_type": "markdown",
   "metadata": {
    "id": "9v2zDjqGqGPM"
   },
   "source": [
    "### Note that `{}` on its own creates a dictionary, not a set"
   ]
  },
  {
   "cell_type": "code",
   "execution_count": 164,
   "metadata": {
    "colab": {
     "base_uri": "https://localhost:8080/"
    },
    "executionInfo": {
     "elapsed": 362,
     "status": "ok",
     "timestamp": 1637234406600,
     "user": {
      "displayName": "Francesco Pannarale",
      "photoUrl": "https://lh3.googleusercontent.com/a/default-user=s64",
      "userId": "04296007763837408065"
     },
     "user_tz": -60
    },
    "id": "PXdXxS60qGPM",
    "outputId": "6feabaaa-f5b6-40a1-9baf-8bdf336de4cf"
   },
   "outputs": [
    {
     "data": {
      "text/plain": [
       "dict"
      ]
     },
     "execution_count": 164,
     "metadata": {},
     "output_type": "execute_result"
    }
   ],
   "source": [
    "tmp = {}\n",
    "type(tmp)"
   ]
  },
  {
   "cell_type": "code",
   "execution_count": 165,
   "metadata": {
    "colab": {
     "base_uri": "https://localhost:8080/"
    },
    "executionInfo": {
     "elapsed": 524,
     "status": "ok",
     "timestamp": 1637234426616,
     "user": {
      "displayName": "Francesco Pannarale",
      "photoUrl": "https://lh3.googleusercontent.com/a/default-user=s64",
      "userId": "04296007763837408065"
     },
     "user_tz": -60
    },
    "id": "DkYaXjuRv5ok",
    "outputId": "c705864a-0633-42f4-cd7e-a5813a40e4fd"
   },
   "outputs": [
    {
     "data": {
      "text/plain": [
       "set"
      ]
     },
     "execution_count": 165,
     "metadata": {},
     "output_type": "execute_result"
    }
   ],
   "source": [
    "tmp = set()\n",
    "type(tmp)"
   ]
  },
  {
   "cell_type": "markdown",
   "metadata": {
    "id": "cIvyCqm_qGPN"
   },
   "source": [
    "### Examples of common operations"
   ]
  },
  {
   "cell_type": "code",
   "execution_count": 166,
   "metadata": {
    "colab": {
     "base_uri": "https://localhost:8080/"
    },
    "executionInfo": {
     "elapsed": 523,
     "status": "ok",
     "timestamp": 1637234436556,
     "user": {
      "displayName": "Francesco Pannarale",
      "photoUrl": "https://lh3.googleusercontent.com/a/default-user=s64",
      "userId": "04296007763837408065"
     },
     "user_tz": -60
    },
    "id": "ssjK645FqGPN",
    "outputId": "340ba3ce-98c4-4648-bd36-5c7db54dade8"
   },
   "outputs": [
    {
     "name": "stdout",
     "output_type": "stream",
     "text": [
      "{1, 2, 3, 4, 34}\n",
      "{1, 3, 33}\n"
     ]
    }
   ],
   "source": [
    "new_set2 = {1, 3, 33}\n",
    "\n",
    "print(new_set)\n",
    "print(new_set2)"
   ]
  },
  {
   "cell_type": "code",
   "execution_count": 167,
   "metadata": {
    "colab": {
     "base_uri": "https://localhost:8080/"
    },
    "executionInfo": {
     "elapsed": 379,
     "status": "ok",
     "timestamp": 1637234458836,
     "user": {
      "displayName": "Francesco Pannarale",
      "photoUrl": "https://lh3.googleusercontent.com/a/default-user=s64",
      "userId": "04296007763837408065"
     },
     "user_tz": -60
    },
    "id": "zzS5GvikqGPN",
    "outputId": "b7965b2e-6e57-4698-ccba-5b048adb0638"
   },
   "outputs": [
    {
     "name": "stdout",
     "output_type": "stream",
     "text": [
      "{1, 3}\n",
      "{1, 3}\n"
     ]
    }
   ],
   "source": [
    "print(new_set.intersection(new_set2))\n",
    "print(new_set2.intersection(new_set))"
   ]
  },
  {
   "cell_type": "code",
   "execution_count": 168,
   "metadata": {
    "colab": {
     "base_uri": "https://localhost:8080/"
    },
    "executionInfo": {
     "elapsed": 516,
     "status": "ok",
     "timestamp": 1637234471495,
     "user": {
      "displayName": "Francesco Pannarale",
      "photoUrl": "https://lh3.googleusercontent.com/a/default-user=s64",
      "userId": "04296007763837408065"
     },
     "user_tz": -60
    },
    "id": "EJQxYDA9qGPN",
    "outputId": "e8bd30b0-6461-405e-9b5f-355b2c43af97"
   },
   "outputs": [
    {
     "data": {
      "text/plain": [
       "{1, 2, 3, 4, 33, 34}"
      ]
     },
     "execution_count": 168,
     "metadata": {},
     "output_type": "execute_result"
    }
   ],
   "source": [
    "new_set.union(new_set2)"
   ]
  },
  {
   "cell_type": "code",
   "execution_count": 169,
   "metadata": {
    "colab": {
     "base_uri": "https://localhost:8080/"
    },
    "executionInfo": {
     "elapsed": 4,
     "status": "ok",
     "timestamp": 1637234473841,
     "user": {
      "displayName": "Francesco Pannarale",
      "photoUrl": "https://lh3.googleusercontent.com/a/default-user=s64",
      "userId": "04296007763837408065"
     },
     "user_tz": -60
    },
    "id": "Fb-Wnx1fqGPN",
    "outputId": "71ad1515-43be-4497-d8c3-86c978191669"
   },
   "outputs": [
    {
     "data": {
      "text/plain": [
       "{2, 4, 34}"
      ]
     },
     "execution_count": 169,
     "metadata": {},
     "output_type": "execute_result"
    }
   ],
   "source": [
    "new_set.difference(new_set2)"
   ]
  },
  {
   "cell_type": "code",
   "execution_count": 170,
   "metadata": {
    "colab": {
     "base_uri": "https://localhost:8080/"
    },
    "executionInfo": {
     "elapsed": 12,
     "status": "ok",
     "timestamp": 1637234475395,
     "user": {
      "displayName": "Francesco Pannarale",
      "photoUrl": "https://lh3.googleusercontent.com/a/default-user=s64",
      "userId": "04296007763837408065"
     },
     "user_tz": -60
    },
    "id": "AUsqy0_xqGPN",
    "outputId": "a35daae0-1776-4e76-e266-25117ef05dd8"
   },
   "outputs": [
    {
     "data": {
      "text/plain": [
       "{2, 4, 33, 34}"
      ]
     },
     "execution_count": 170,
     "metadata": {},
     "output_type": "execute_result"
    }
   ],
   "source": [
    "new_set.symmetric_difference(new_set2)"
   ]
  },
  {
   "cell_type": "code",
   "execution_count": 171,
   "metadata": {
    "colab": {
     "base_uri": "https://localhost:8080/"
    },
    "executionInfo": {
     "elapsed": 354,
     "status": "ok",
     "timestamp": 1637234490809,
     "user": {
      "displayName": "Francesco Pannarale",
      "photoUrl": "https://lh3.googleusercontent.com/a/default-user=s64",
      "userId": "04296007763837408065"
     },
     "user_tz": -60
    },
    "id": "BjOritiSqGPN",
    "outputId": "3117e9d4-d5dd-4c33-a867-149ab5038837"
   },
   "outputs": [
    {
     "data": {
      "text/plain": [
       "{1, 3}"
      ]
     },
     "execution_count": 171,
     "metadata": {},
     "output_type": "execute_result"
    }
   ],
   "source": [
    "new_set & new_set2"
   ]
  },
  {
   "cell_type": "code",
   "execution_count": 172,
   "metadata": {
    "colab": {
     "base_uri": "https://localhost:8080/"
    },
    "executionInfo": {
     "elapsed": 457,
     "status": "ok",
     "timestamp": 1637234497720,
     "user": {
      "displayName": "Francesco Pannarale",
      "photoUrl": "https://lh3.googleusercontent.com/a/default-user=s64",
      "userId": "04296007763837408065"
     },
     "user_tz": -60
    },
    "id": "G4RxPQQCqGPN",
    "outputId": "f2fb95f4-20b9-45a4-b275-ca2ef44dd5b7"
   },
   "outputs": [
    {
     "data": {
      "text/plain": [
       "{1, 2, 3, 4, 33, 34}"
      ]
     },
     "execution_count": 172,
     "metadata": {},
     "output_type": "execute_result"
    }
   ],
   "source": [
    "new_set | new_set2"
   ]
  },
  {
   "cell_type": "code",
   "execution_count": 173,
   "metadata": {
    "colab": {
     "base_uri": "https://localhost:8080/"
    },
    "executionInfo": {
     "elapsed": 366,
     "status": "ok",
     "timestamp": 1637234525463,
     "user": {
      "displayName": "Francesco Pannarale",
      "photoUrl": "https://lh3.googleusercontent.com/a/default-user=s64",
      "userId": "04296007763837408065"
     },
     "user_tz": -60
    },
    "id": "De68rKHYqGPN",
    "outputId": "defbc91f-4a58-4a9b-81fd-16b2d4f22f33"
   },
   "outputs": [
    {
     "name": "stdout",
     "output_type": "stream",
     "text": [
      "{1, 2, 3, 4, 34}\n",
      "{1, 2, 3, 4, 34, 5}\n",
      "{1, 2, 3, 4, 34}\n"
     ]
    }
   ],
   "source": [
    "print(new_set)\n",
    "new_set.add(5)\n",
    "print(new_set)\n",
    "new_set.remove(5)\n",
    "print(new_set)"
   ]
  },
  {
   "cell_type": "markdown",
   "metadata": {
    "id": "HljCmaqlqGPN"
   },
   "source": [
    "## Comprehensions for lists, sets, dictionaries\n",
    "- One of Pythons most loved features\n",
    "- Allows concise operation on collections without too many loops\n",
    "- Output of the operation is a new collection (set, list, dict)\n",
    "\n",
    "The basic expression for lists is\n",
    "\n",
    "```python\n",
    "[ expression(element) for element in collection if some_condition ]\n",
    "```\n",
    "\n",
    "Similar ones hold for other collections.  Basically, rather than writing, e.g.,\n",
    "```python\n",
    "a = {0, 1, 2, 3, 4, 5, 6, 7, 8, 9}\n",
    "even = {0, 2, 4, 6, 8}\n",
    "odd = {1, 3, 5, 7, 9}\n",
    "```\n",
    "by hand we can use a comprehension with an algorithm."
   ]
  },
  {
   "cell_type": "markdown",
   "metadata": {
    "id": "R1dme8P_v5ol"
   },
   "source": [
    "### Example 1: odd and even numbers"
   ]
  },
  {
   "cell_type": "code",
   "execution_count": 174,
   "metadata": {
    "colab": {
     "base_uri": "https://localhost:8080/"
    },
    "executionInfo": {
     "elapsed": 373,
     "status": "ok",
     "timestamp": 1637234774216,
     "user": {
      "displayName": "Francesco Pannarale",
      "photoUrl": "https://lh3.googleusercontent.com/a/default-user=s64",
      "userId": "04296007763837408065"
     },
     "user_tz": -60
    },
    "id": "NDCk0W-PqGPN",
    "outputId": "f8b25c9e-d85a-40e4-90d3-ccbbb1984703"
   },
   "outputs": [
    {
     "name": "stdout",
     "output_type": "stream",
     "text": [
      "{0, 1, 2, 3, 4, 5, 6, 7, 8, 9}\n",
      "{0, 1, 2, 3, 4, 5, 6, 7, 8, 9}\n"
     ]
    }
   ],
   "source": [
    "# For loop\n",
    "aa = set()\n",
    "for j in range(10):\n",
    "    aa.add(j)\n",
    "print(aa)\n",
    "\n",
    "# Comprehension\n",
    "a = {i for i in range(10)}\n",
    "print(a)"
   ]
  },
  {
   "cell_type": "code",
   "execution_count": 175,
   "metadata": {
    "id": "I9po82V1qGPN",
    "outputId": "e0220a2f-3c31-4afc-84e2-4d016be0d9f6"
   },
   "outputs": [
    {
     "name": "stdout",
     "output_type": "stream",
     "text": [
      "{0, 2, 4, 6, 8}\n",
      "{1, 3, 5, 7, 9}\n"
     ]
    }
   ],
   "source": [
    "even = {i for i in range(0,10,2)}\n",
    "print(even)\n",
    "\n",
    "odd = {i for i in range(1,10,2)}\n",
    "print(odd)"
   ]
  },
  {
   "cell_type": "markdown",
   "metadata": {
    "id": "-eVHDqctqGPN"
   },
   "source": [
    "### Example 2: grades (using sets and lists for data analysis)"
   ]
  },
  {
   "cell_type": "markdown",
   "metadata": {
    "id": "Ob4dHDtJqGPN"
   },
   "source": [
    "#### Digression: generating random numbers\n",
    "Suppose we want to analyse the results of an exam. \n",
    "\n",
    "First we need to generate N grades between 10 and 30.\n",
    "\n",
    "As we saw previously, the [random](https://docs.python.org/3/library/random.html) module provided many useful functions for generation of random numbers or collections of numbers"
   ]
  },
  {
   "cell_type": "code",
   "execution_count": 176,
   "metadata": {
    "colab": {
     "base_uri": "https://localhost:8080/"
    },
    "executionInfo": {
     "elapsed": 390,
     "status": "ok",
     "timestamp": 1637234879405,
     "user": {
      "displayName": "Francesco Pannarale",
      "photoUrl": "https://lh3.googleusercontent.com/a/default-user=s64",
      "userId": "04296007763837408065"
     },
     "user_tz": -60
    },
    "id": "TDn7xEx_qGPN",
    "outputId": "e915b9fd-80a5-4f23-e2f5-f8b33e02fc06"
   },
   "outputs": [
    {
     "name": "stdout",
     "output_type": "stream",
     "text": [
      "[22, 23, 15, 16, 15, 10, 21, 23, 22, 26, 29, 29, 26, 15, 15, 12, 30, 24, 23, 20, 19, 10, 14, 11, 12, 21, 26, 13, 29, 22, 20, 25, 16, 18, 14, 14, 28, 22, 14, 26, 18, 10, 24, 23, 13, 15, 25, 25, 27, 12]\n"
     ]
    }
   ],
   "source": [
    "import random as r\n",
    "\n",
    "n_students = 50\n",
    "\n",
    "grades = []\n",
    "\n",
    "for i in range(n_students):\n",
    "    grades.append(r.randrange(10,31))\n",
    "print(grades)"
   ]
  },
  {
   "cell_type": "markdown",
   "metadata": {
    "id": "4egk9lMVqGPN"
   },
   "source": [
    "The same (modulo the randomness of the numbers!) but using **comprehension**"
   ]
  },
  {
   "cell_type": "code",
   "execution_count": 177,
   "metadata": {
    "colab": {
     "base_uri": "https://localhost:8080/"
    },
    "executionInfo": {
     "elapsed": 357,
     "status": "ok",
     "timestamp": 1637234911050,
     "user": {
      "displayName": "Francesco Pannarale",
      "photoUrl": "https://lh3.googleusercontent.com/a/default-user=s64",
      "userId": "04296007763837408065"
     },
     "user_tz": -60
    },
    "id": "dybV8CpxqGPO",
    "outputId": "fc8f5275-1273-4250-99f5-70ece899d26d"
   },
   "outputs": [
    {
     "name": "stdout",
     "output_type": "stream",
     "text": [
      "[18, 27, 19, 27, 28, 12, 16, 28, 18, 24, 29, 11, 26, 12, 15, 11, 21, 12, 23, 23, 10, 20, 18, 27, 12, 13, 16, 21, 12, 20, 20, 28, 14, 30, 14, 28, 17, 23, 11, 24, 15, 25, 21, 14, 19, 12, 15, 12, 24, 18]\n"
     ]
    }
   ],
   "source": [
    "grades = [r.randrange(10,31) for i in range(n_students)]\n",
    "print(grades)"
   ]
  },
  {
   "cell_type": "markdown",
   "metadata": {
    "id": "dsZAlHhXqGPO"
   },
   "source": [
    "Using `set` we find the unique values of `grades`"
   ]
  },
  {
   "cell_type": "code",
   "execution_count": 178,
   "metadata": {
    "colab": {
     "base_uri": "https://localhost:8080/"
    },
    "executionInfo": {
     "elapsed": 431,
     "status": "ok",
     "timestamp": 1637234972359,
     "user": {
      "displayName": "Francesco Pannarale",
      "photoUrl": "https://lh3.googleusercontent.com/a/default-user=s64",
      "userId": "04296007763837408065"
     },
     "user_tz": -60
    },
    "id": "RId1GZVwqGPO",
    "outputId": "9ea2046a-2196-4b1a-9c80-77d096b0407d"
   },
   "outputs": [
    {
     "name": "stdout",
     "output_type": "stream",
     "text": [
      "{10, 11, 12, 13, 14, 15, 16, 17, 18, 19, 20, 21, 23, 24, 25, 26, 27, 28, 29, 30}\n",
      "4\n",
      "3\n"
     ]
    }
   ],
   "source": [
    "vals = set(grades)\n",
    "print(vals)\n",
    "print(grades.count(18))\n",
    "print(grades.count(23))"
   ]
  },
  {
   "cell_type": "code",
   "execution_count": 179,
   "metadata": {
    "id": "2UAy_TQFqGPO",
    "outputId": "96c3f6a9-3a36-469a-f409-cb6d48c07b13"
   },
   "outputs": [
    {
     "name": "stdout",
     "output_type": "stream",
     "text": [
      "grade: 10  frequency: 1\n",
      "grade: 11  frequency: 3\n",
      "grade: 12  frequency: 7\n",
      "grade: 13  frequency: 1\n",
      "grade: 14  frequency: 3\n",
      "grade: 15  frequency: 3\n",
      "grade: 16  frequency: 2\n",
      "grade: 17  frequency: 1\n",
      "grade: 18  frequency: 4\n",
      "grade: 19  frequency: 2\n",
      "grade: 20  frequency: 3\n",
      "grade: 21  frequency: 3\n",
      "grade: 23  frequency: 3\n",
      "grade: 24  frequency: 3\n",
      "grade: 25  frequency: 1\n",
      "grade: 26  frequency: 1\n",
      "grade: 27  frequency: 3\n",
      "grade: 28  frequency: 4\n",
      "grade: 29  frequency: 1\n",
      "grade: 30  frequency: 1\n"
     ]
    }
   ],
   "source": [
    "data = {}\n",
    "for v in vals:\n",
    "    data[v] = grades.count(v)\n",
    "    print(\"grade: {0}  frequency: {1}\".format(v,data[v]))"
   ]
  },
  {
   "cell_type": "code",
   "execution_count": 180,
   "metadata": {},
   "outputs": [
    {
     "data": {
      "text/plain": [
       "{10: 1,\n",
       " 11: 3,\n",
       " 12: 7,\n",
       " 13: 1,\n",
       " 14: 3,\n",
       " 15: 3,\n",
       " 16: 2,\n",
       " 17: 1,\n",
       " 18: 4,\n",
       " 19: 2,\n",
       " 20: 3,\n",
       " 21: 3,\n",
       " 23: 3,\n",
       " 24: 3,\n",
       " 25: 1,\n",
       " 26: 1,\n",
       " 27: 3,\n",
       " 28: 4,\n",
       " 29: 1,\n",
       " 30: 1}"
      ]
     },
     "execution_count": 180,
     "metadata": {},
     "output_type": "execute_result"
    }
   ],
   "source": [
    "data"
   ]
  },
  {
   "cell_type": "markdown",
   "metadata": {
    "id": "QLeTrxEAqGPO"
   },
   "source": [
    "The most basic question is how many people failed the exam.\n",
    "\n",
    "You could do simple counting:"
   ]
  },
  {
   "cell_type": "code",
   "execution_count": 181,
   "metadata": {
    "colab": {
     "base_uri": "https://localhost:8080/"
    },
    "executionInfo": {
     "elapsed": 369,
     "status": "ok",
     "timestamp": 1637235037352,
     "user": {
      "displayName": "Francesco Pannarale",
      "photoUrl": "https://lh3.googleusercontent.com/a/default-user=s64",
      "userId": "04296007763837408065"
     },
     "user_tz": -60
    },
    "id": "HWSO2BIqqGPO",
    "outputId": "ae0c3f80-c157-401d-8664-ea2f747e33cd"
   },
   "outputs": [
    {
     "name": "stdout",
     "output_type": "stream",
     "text": [
      "# grades <18:  21\n"
     ]
    }
   ],
   "source": [
    "nfail = 0\n",
    "for v in grades:\n",
    "    if v < 18:\n",
    "        nfail += 1\n",
    "print(\"# grades <18:  %2d\"%(nfail))"
   ]
  },
  {
   "cell_type": "markdown",
   "metadata": {
    "id": "Au1mZnWQqGPO"
   },
   "source": [
    "In general, however, having a list of information rather than just a count is more flexible for future analyses."
   ]
  },
  {
   "cell_type": "code",
   "execution_count": 182,
   "metadata": {
    "colab": {
     "base_uri": "https://localhost:8080/"
    },
    "executionInfo": {
     "elapsed": 375,
     "status": "ok",
     "timestamp": 1637235119532,
     "user": {
      "displayName": "Francesco Pannarale",
      "photoUrl": "https://lh3.googleusercontent.com/a/default-user=s64",
      "userId": "04296007763837408065"
     },
     "user_tz": -60
    },
    "id": "RPmokHk3qGPO",
    "outputId": "6cd4eb73-15a7-4b24-995f-ea61465da141"
   },
   "outputs": [
    {
     "name": "stdout",
     "output_type": "stream",
     "text": [
      "# grades <18:  21\n"
     ]
    }
   ],
   "source": [
    "failed = []\n",
    "for v in grades:\n",
    "    if v < 18:\n",
    "        failed.append(v)\n",
    "print(\"# grades <18:  {0}\".format(len(failed)))"
   ]
  },
  {
   "cell_type": "markdown",
   "metadata": {
    "id": "RuXQp5ZrqGPO"
   },
   "source": [
    "Note that the following sequence of operations was performed\n",
    "  - creation of a new empty list\n",
    "  - iteration over existing objects\n",
    "  - check of some_condition on each object\n",
    "  - if outcome of check is positive object added to new list\n",
    "\n",
    "Once again, this can be written concisely with __comprehension__."
   ]
  },
  {
   "cell_type": "code",
   "execution_count": 183,
   "metadata": {
    "id": "dtjbjTqgqGPO",
    "outputId": "f797e5da-1ef7-4225-9e71-245b113f9974"
   },
   "outputs": [
    {
     "name": "stdout",
     "output_type": "stream",
     "text": [
      "21 29\n"
     ]
    }
   ],
   "source": [
    "new_failed  = [v for v in grades if v<18]\n",
    "good_grades = [v for v in grades if v>=18]\n",
    "print(len(new_failed), len(good_grades))"
   ]
  },
  {
   "cell_type": "markdown",
   "metadata": {
    "id": "STNmRX5ZqGPO"
   },
   "source": [
    "You can also also apply any function to each item."
   ]
  },
  {
   "cell_type": "code",
   "execution_count": 184,
   "metadata": {
    "id": "uyH222j-qGPO",
    "outputId": "2491c772-44d2-48ea-f215-f03f5d86f4bb"
   },
   "outputs": [
    {
     "name": "stdout",
     "output_type": "stream",
     "text": [
      "21\n",
      "29\n",
      "[4.242640687119285, 5.196152422706632, 4.358898943540674, 5.196152422706632, 5.291502622129181, 3.4641016151377544, 4.0, 5.291502622129181, 4.242640687119285, 4.898979485566356]\n"
     ]
    }
   ],
   "source": [
    "def isodd(x):\n",
    "    if x%2 != 0:\n",
    "        return True\n",
    "odds  = [v for v in grades if isodd(v)]\n",
    "evens  = [v for v in grades if not isodd(v)]\n",
    "print(len(odds))\n",
    "print(len(evens))\n",
    "\n",
    "import math\n",
    "sqrts = [math.sqrt(v) for v in grades]\n",
    "print(sqrts[:10])"
   ]
  },
  {
   "cell_type": "markdown",
   "metadata": {
    "id": "rbRqlH-6qGPO"
   },
   "source": [
    "### Example 3: comprehension with dictionaries\n",
    "We now use a comprehension to invert our dict of months and days"
   ]
  },
  {
   "cell_type": "code",
   "execution_count": 185,
   "metadata": {
    "id": "NN3-tXKpqGPO",
    "scrolled": true
   },
   "outputs": [],
   "source": [
    "# Two separate lists...\n",
    "months = ['january', 'february', 'march', 'april', 'may', 'june', 'july', 'august', 'september', 'october', 'november', 'december']\n",
    "day_months = [31, 28, 31, 30, 31 , 30, 31, 31, 30, 31, 30 , 31]\n",
    "# ...a dictionary!\n",
    "days_per_month = {}\n",
    "\n",
    "for i, m in enumerate(months):\n",
    "    days_per_month[m] = day_months[i]"
   ]
  },
  {
   "cell_type": "code",
   "execution_count": 186,
   "metadata": {
    "id": "aBVhzJ3KqGPO",
    "outputId": "8e153240-5c8d-4b41-c095-4030efe2cf27"
   },
   "outputs": [
    {
     "data": {
      "text/plain": [
       "dict_values([31, 28, 31, 30, 31, 30, 31, 31, 30, 31, 30, 31])"
      ]
     },
     "execution_count": 186,
     "metadata": {},
     "output_type": "execute_result"
    }
   ],
   "source": [
    "days_per_month.values()"
   ]
  },
  {
   "cell_type": "code",
   "execution_count": 187,
   "metadata": {
    "id": "NdwWAvk-qGPO",
    "outputId": "55f7ffb0-cc2d-4309-f976-585e79aae0dc"
   },
   "outputs": [
    {
     "data": {
      "text/plain": [
       "{28, 30, 31}"
      ]
     },
     "execution_count": 187,
     "metadata": {},
     "output_type": "execute_result"
    }
   ],
   "source": [
    "set(days_per_month.values())"
   ]
  },
  {
   "cell_type": "code",
   "execution_count": 188,
   "metadata": {
    "id": "bJTnUX47qGPP",
    "outputId": "dd2faca4-fe0f-497b-d8be-696832690987"
   },
   "outputs": [
    {
     "name": "stdout",
     "output_type": "stream",
     "text": [
      "{28: [], 30: [], 31: []}\n"
     ]
    }
   ],
   "source": [
    "inv_map = {i: [] for i in set(days_per_month.values())}\n",
    "print(inv_map)"
   ]
  },
  {
   "cell_type": "code",
   "execution_count": 189,
   "metadata": {
    "id": "w-70WPRZqGPP",
    "outputId": "74570c25-e120-4e59-b30d-ba3735d3459b"
   },
   "outputs": [
    {
     "name": "stdout",
     "output_type": "stream",
     "text": [
      "{28: ['february'], 30: ['april', 'june', 'september', 'november'], 31: ['january', 'march', 'may', 'july', 'august', 'october', 'december']}\n"
     ]
    }
   ],
   "source": [
    "for i in days_per_month:\n",
    "    inv_map[days_per_month[i]].append(i)\n",
    "print(inv_map)"
   ]
  },
  {
   "cell_type": "markdown",
   "metadata": {
    "id": "pjd-7edVqGPP"
   },
   "source": [
    "# 5. FILES\n",
    "\n",
    "As in C, the first step is to open a file object on disk before extracting/writing information from/into it\n",
    "  \n",
    "Main syntax\n",
    "```Python\n",
    "handle = open(filename, mode)\n",
    "```\n",
    "\n",
    "- `filename` is the path to the file and is a string\n",
    "- `mode`: optional; possible modes are:\n",
    "\n",
    "\n",
    "| Character | Meaning |\n",
    "| :-: | :-- |\n",
    "| `r` | open for reading (default) |\n",
    "| `w` | open for writing, truncating the file first |\n",
    "| `x` | create a new file and open it for writing |\n",
    "| `a` | open for writing, appending to the end of the file if it exists |\n",
    "| `b` | binary mode |\n",
    "| `t` | text mode (default) |\n",
    "| `+` | open a disk file for updating (reading and writing) |\n",
    "\n",
    "Opening a file can fail\n",
    "  - location does not exist\n",
    "  - no write privilege for the location\n",
    "\n",
    "It is important to close the file to make sure that (when writing) all data are flushed from memory to disk and the file handle closed properly."
   ]
  },
  {
   "cell_type": "code",
   "execution_count": 230,
   "metadata": {
    "executionInfo": {
     "elapsed": 475,
     "status": "ok",
     "timestamp": 1637237465215,
     "user": {
      "displayName": "Francesco Pannarale",
      "photoUrl": "https://lh3.googleusercontent.com/a/default-user=s64",
      "userId": "04296007763837408065"
     },
     "user_tz": -60
    },
    "id": "alLU6yd2qGPP"
   },
   "outputs": [],
   "source": [
    "# If you are running on google colab, make sure you\n",
    "# upload examples/Python/words.txt to the directory\n",
    "# content/ (the default search space for a jupyter\n",
    "# notebook on colab)\n",
    "\n",
    "fh = open('words.txt', 'r')"
   ]
  },
  {
   "cell_type": "code",
   "execution_count": 231,
   "metadata": {
    "colab": {
     "base_uri": "https://localhost:8080/"
    },
    "executionInfo": {
     "elapsed": 2,
     "status": "ok",
     "timestamp": 1637236143842,
     "user": {
      "displayName": "Francesco Pannarale",
      "photoUrl": "https://lh3.googleusercontent.com/a/default-user=s64",
      "userId": "04296007763837408065"
     },
     "user_tz": -60
    },
    "id": "dShHXCaAqGPP",
    "outputId": "e97c705a-2653-4d4e-8c4d-2ab8e61a575a"
   },
   "outputs": [
    {
     "name": "stdout",
     "output_type": "stream",
     "text": [
      "<_io.TextIOWrapper name='words.txt' mode='r' encoding='UTF-8'>\n",
      "<class '_io.TextIOWrapper'>\n"
     ]
    }
   ],
   "source": [
    "print(fh)\n",
    "print(type(fh))\n",
    "fh.close()"
   ]
  },
  {
   "cell_type": "markdown",
   "metadata": {
    "id": "YfFhlc6kqGPP"
   },
   "source": [
    "Bonus track: see what files are available in the current working directory."
   ]
  },
  {
   "cell_type": "code",
   "execution_count": 1,
   "metadata": {
    "colab": {
     "base_uri": "https://localhost:8080/"
    },
    "executionInfo": {
     "elapsed": 382,
     "status": "ok",
     "timestamp": 1637236193420,
     "user": {
      "displayName": "Francesco Pannarale",
      "photoUrl": "https://lh3.googleusercontent.com/a/default-user=s64",
      "userId": "04296007763837408065"
     },
     "user_tz": -60
    },
    "id": "FUDErJaDqGPP",
    "outputId": "4b7957e0-59f9-4708-8bcf-e5afa460a0bf"
   },
   "outputs": [
    {
     "name": "stdout",
     "output_type": "stream",
     "text": [
      "['1-Basics.ipynb', 'fall_asleep_55.py', 'Bilby.ipynb', 'example02.ipynb', '.DS_Store', 'GWPy.ipynb', '2-FirstApplications.ipynb', '3-MoreFuncs.ipynb', 'fall_asleep_3.py', 'GWs', 'example13.py', 'example12.py', 'PyCBC.ipynb', '__pycache__', 'example16.py', 'fall_asleep_2.py', 'example11.py', 'example01.py', '5-AnimatedPlots.ipynb', 'example15.py', 'fall_asleep_1.py', '4-NumPy.ipynb', 'example14.py', 'mymodule.py', 'fall_asleep_4.py', '.ipynb_checkpoints', 'words.txt', 'gravity1.py', '6-SciPy.ipynb', 'cmd_line_args.py', '7_MCMC.ipynb', 'polymorphism.py']\n"
     ]
    }
   ],
   "source": [
    "import os\n",
    "\n",
    "l0 = os.listdir()\n",
    "\n",
    "print(l0)"
   ]
  },
  {
   "cell_type": "markdown",
   "metadata": {
    "id": "vSyVntpMqGPP"
   },
   "source": [
    "# Reading text files"
   ]
  },
  {
   "cell_type": "markdown",
   "metadata": {
    "id": "NHhdl7BtqGPP"
   },
   "source": [
    "### Line-by-line\n",
    "\n",
    "A file handle opened in read mode can be treated as a **sequence of strings**.\n",
    "\n",
    "Each line in the file is a string in the sequence.\n",
    "\n",
    "NB: if you read numbers and want to process them, you will have to convert them from string to a number type."
   ]
  },
  {
   "cell_type": "code",
   "execution_count": 233,
   "metadata": {
    "colab": {
     "base_uri": "https://localhost:8080/"
    },
    "executionInfo": {
     "elapsed": 372,
     "status": "ok",
     "timestamp": 1637236264996,
     "user": {
      "displayName": "Francesco Pannarale",
      "photoUrl": "https://lh3.googleusercontent.com/a/default-user=s64",
      "userId": "04296007763837408065"
     },
     "user_tz": -60
    },
    "id": "XSRiUk0pqGPP",
    "outputId": "0a4b4044-06b2-4e66-f41e-dab79c5214dc"
   },
   "outputs": [
    {
     "name": "stdout",
     "output_type": "stream",
     "text": [
      "Lorem ipsum dolor sit amet, consectetur adipiscing elit, sed do eiusmod tempor incididunt ut labore et dolore magna aliqua.\n",
      "\n",
      "\n",
      "\n",
      "Ut enim ad minim veniam, quis nostrud exercitation ullamco laboris nisi ut aliquip ex ea commodo consequat.\n",
      "\n",
      "\n",
      "\n",
      "Duis aute irure dolor in reprehenderit in voluptate velit esse cillum dolore eu fugiat nulla pariatur.\n",
      "\n",
      "\n",
      "\n",
      "Excepteur sint occaecat cupidatat non proident, sunt in culpa qui officia deserunt mollit anim id est laborum.\n",
      "\n",
      "['Lorem ipsum dolor sit amet, consectetur adipiscing elit, sed do eiusmod tempor incididunt ut labore et dolore magna aliqua.\\n', '\\n', 'Ut enim ad minim veniam, quis nostrud exercitation ullamco laboris nisi ut aliquip ex ea commodo consequat.\\n', '\\n', 'Duis aute irure dolor in reprehenderit in voluptate velit esse cillum dolore eu fugiat nulla pariatur.\\n', '\\n', 'Excepteur sint occaecat cupidatat non proident, sunt in culpa qui officia deserunt mollit anim id est laborum.\\n']\n"
     ]
    }
   ],
   "source": [
    "fh = open('words.txt', 'r')\n",
    "lines = []\n",
    "\n",
    "for line in fh:\n",
    "    print(line)\n",
    "    lines.append(line)\n",
    "\n",
    "print(lines)\n",
    "\n",
    "fh.close()"
   ]
  },
  {
   "cell_type": "markdown",
   "metadata": {
    "id": "-Pxl5IE6qGPP"
   },
   "source": [
    "#### Note the `\\n` newline character\n",
    "- It causes the blanks\n",
    "- Use `rstrip` to get rid of them"
   ]
  },
  {
   "cell_type": "code",
   "execution_count": 234,
   "metadata": {
    "colab": {
     "base_uri": "https://localhost:8080/"
    },
    "executionInfo": {
     "elapsed": 396,
     "status": "ok",
     "timestamp": 1637236323481,
     "user": {
      "displayName": "Francesco Pannarale",
      "photoUrl": "https://lh3.googleusercontent.com/a/default-user=s64",
      "userId": "04296007763837408065"
     },
     "user_tz": -60
    },
    "id": "LpsDp3fIqGPP",
    "outputId": "f04574e9-c9d1-4b28-e8d7-8e7b0b8bf2ad"
   },
   "outputs": [
    {
     "name": "stdout",
     "output_type": "stream",
     "text": [
      "Lorem ipsum dolor sit amet, consectetur adipiscing elit, sed do eiusmod tempor incididunt ut labore et dolore magna aliqua.\n",
      "\n",
      "Ut enim ad minim veniam, quis nostrud exercitation ullamco laboris nisi ut aliquip ex ea commodo consequat.\n",
      "\n",
      "Duis aute irure dolor in reprehenderit in voluptate velit esse cillum dolore eu fugiat nulla pariatur.\n",
      "\n",
      "Excepteur sint occaecat cupidatat non proident, sunt in culpa qui officia deserunt mollit anim id est laborum.\n",
      "['Lorem ipsum dolor sit amet, consectetur adipiscing elit, sed do eiusmod tempor incididunt ut labore et dolore magna aliqua.', '', 'Ut enim ad minim veniam, quis nostrud exercitation ullamco laboris nisi ut aliquip ex ea commodo consequat.', '', 'Duis aute irure dolor in reprehenderit in voluptate velit esse cillum dolore eu fugiat nulla pariatur.', '', 'Excepteur sint occaecat cupidatat non proident, sunt in culpa qui officia deserunt mollit anim id est laborum.']\n"
     ]
    }
   ],
   "source": [
    "fh = open('words.txt', 'r')\n",
    "lines = []\n",
    "\n",
    "for line in fh:\n",
    "    line = line.rstrip()\n",
    "    print(line)\n",
    "    lines.append(line)\n",
    "\n",
    "print(lines)\n",
    "\n",
    "fh.close()   "
   ]
  },
  {
   "cell_type": "markdown",
   "metadata": {
    "id": "4Dmx3YFBqGPP"
   },
   "source": [
    "### All at once\n",
    "\n",
    "We can read the whole file (newlines and all) into a **single string** with `read()`"
   ]
  },
  {
   "cell_type": "code",
   "execution_count": 236,
   "metadata": {
    "id": "y3qG7P3QqGPP",
    "outputId": "9b3995b7-1fa9-445d-87c2-0e5d7d0b03a7"
   },
   "outputs": [
    {
     "name": "stdout",
     "output_type": "stream",
     "text": [
      "449\n",
      "Lorem ipsum dolor si\n",
      "Lorem ipsum dolor sit amet, consectetur adipiscing elit, sed do eiusmod tempor incididunt ut labore et dolore magna aliqua.\n",
      "\n",
      "Ut enim ad minim veniam, quis nostrud exercitation ullamco laboris nisi ut aliquip ex ea commodo consequat.\n",
      "\n",
      "Duis aute irure dolor in reprehenderit in voluptate velit esse cillum dolore eu fugiat nulla pariatur.\n",
      "\n",
      "Excepteur sint occaecat cupidatat non proident, sunt in culpa qui officia deserunt mollit anim id est laborum.\n",
      "\n"
     ]
    }
   ],
   "source": [
    "fh = open('words.txt', 'r')\n",
    "content = fh.read()\n",
    "print(len(content))\n",
    "print(content[:20])\n",
    "\n",
    "fh.close()\n",
    "\n",
    "print(content)"
   ]
  },
  {
   "cell_type": "markdown",
   "metadata": {
    "id": "rrbGdTAHqGPP"
   },
   "source": [
    "### So how do I get words?  `split()`!"
   ]
  },
  {
   "cell_type": "code",
   "execution_count": 237,
   "metadata": {
    "id": "LVIKzAI8qGPP",
    "outputId": "ac240cf1-f68b-498c-cdb4-4b91664b7f38"
   },
   "outputs": [
    {
     "name": "stdout",
     "output_type": "stream",
     "text": [
      "['Lorem', 'ipsum', 'dolor', 'sit', 'amet,', 'consectetur', 'adipiscing', 'elit,', 'sed', 'do', 'eiusmod', 'tempor', 'incididunt', 'ut', 'labore', 'et', 'dolore', 'magna', 'aliqua.', 'Ut', 'enim', 'ad', 'minim', 'veniam,', 'quis', 'nostrud', 'exercitation', 'ullamco', 'laboris', 'nisi', 'ut', 'aliquip', 'ex', 'ea', 'commodo', 'consequat.', 'Duis', 'aute', 'irure', 'dolor', 'in', 'reprehenderit', 'in', 'voluptate', 'velit', 'esse', 'cillum', 'dolore', 'eu', 'fugiat', 'nulla', 'pariatur.', 'Excepteur', 'sint', 'occaecat', 'cupidatat', 'non', 'proident,', 'sunt', 'in', 'culpa', 'qui', 'officia', 'deserunt', 'mollit', 'anim', 'id', 'est', 'laborum.']\n"
     ]
    }
   ],
   "source": [
    "fh = open('words.txt', 'r')\n",
    "lines = []\n",
    "words = []\n",
    "\n",
    "for line in fh:\n",
    "    line = line.rstrip()\n",
    "    words.extend(line.split())\n",
    "\n",
    "print(words)\n",
    "\n",
    "fh.close()"
   ]
  },
  {
   "cell_type": "markdown",
   "metadata": {
    "id": "Y1UzXLWGqGPP"
   },
   "source": [
    "## Searching through a file\n",
    "* `startswith()`\n",
    "* `in`\n",
    "* `endswith()`"
   ]
  },
  {
   "cell_type": "code",
   "execution_count": 238,
   "metadata": {
    "colab": {
     "base_uri": "https://localhost:8080/"
    },
    "executionInfo": {
     "elapsed": 373,
     "status": "ok",
     "timestamp": 1637236450993,
     "user": {
      "displayName": "Francesco Pannarale",
      "photoUrl": "https://lh3.googleusercontent.com/a/default-user=s64",
      "userId": "04296007763837408065"
     },
     "user_tz": -60
    },
    "id": "VVVcyT_5qGPQ",
    "outputId": "8e0a8be1-ca5d-4944-93cb-375c81cc710a"
   },
   "outputs": [
    {
     "name": "stdout",
     "output_type": "stream",
     "text": [
      "Duis aute irure dolor in reprehenderit in voluptate velit esse cillum dolore eu fugiat nulla pariatur.\n"
     ]
    }
   ],
   "source": [
    "fh = open('words.txt', 'r')\n",
    "for line in fh:\n",
    "    line = line.rstrip()\n",
    "    if line.startswith('Duis'):\n",
    "        print(line)\n",
    "\n",
    "fh.close()"
   ]
  },
  {
   "cell_type": "code",
   "execution_count": 239,
   "metadata": {
    "colab": {
     "base_uri": "https://localhost:8080/"
    },
    "executionInfo": {
     "elapsed": 384,
     "status": "ok",
     "timestamp": 1637236458584,
     "user": {
      "displayName": "Francesco Pannarale",
      "photoUrl": "https://lh3.googleusercontent.com/a/default-user=s64",
      "userId": "04296007763837408065"
     },
     "user_tz": -60
    },
    "id": "yfuBZ9FlqGPQ",
    "outputId": "57824ef1-8ae7-4dd0-8e5d-3f0cc395d87b"
   },
   "outputs": [
    {
     "name": "stdout",
     "output_type": "stream",
     "text": [
      "Lorem ipsum dolor sit amet, consectetur adipiscing elit, sed do eiusmod tempor incididunt ut labore et dolore magna aliqua.\n",
      "\n",
      "Ut enim ad minim veniam, quis nostrud exercitation ullamco laboris nisi ut aliquip ex ea commodo consequat.\n",
      "\n",
      "\n",
      "Excepteur sint occaecat cupidatat non proident, sunt in culpa qui officia deserunt mollit anim id est laborum.\n"
     ]
    }
   ],
   "source": [
    "fh = open('words.txt', 'r')\n",
    "for line in fh:\n",
    "    line = line.rstrip()\n",
    "    if not 'esse' in line:\n",
    "        print(line)\n",
    "\n",
    "fh.close()"
   ]
  },
  {
   "cell_type": "code",
   "execution_count": 240,
   "metadata": {
    "colab": {
     "base_uri": "https://localhost:8080/"
    },
    "executionInfo": {
     "elapsed": 384,
     "status": "ok",
     "timestamp": 1637236478335,
     "user": {
      "displayName": "Francesco Pannarale",
      "photoUrl": "https://lh3.googleusercontent.com/a/default-user=s64",
      "userId": "04296007763837408065"
     },
     "user_tz": -60
    },
    "id": "e_ZNS-cCv5on",
    "outputId": "58456c8a-2eff-429a-dd0d-8a889c0d5861"
   },
   "outputs": [
    {
     "name": "stdout",
     "output_type": "stream",
     "text": [
      "Excepteur sint occaecat cupidatat non proident, sunt in culpa qui officia deserunt mollit anim id est laborum.\n"
     ]
    }
   ],
   "source": [
    "fh = open('words.txt', 'r')\n",
    "for line in fh:\n",
    "    line = line.rstrip()\n",
    "    if line.endswith('laborum.'):\n",
    "        print(line)\n",
    "\n",
    "fh.close()"
   ]
  },
  {
   "cell_type": "markdown",
   "metadata": {
    "id": "vxv0NRC1qGPQ"
   },
   "source": [
    "## Writing to a text file"
   ]
  },
  {
   "cell_type": "markdown",
   "metadata": {
    "id": "SQ3qPsw4qGPQ"
   },
   "source": [
    "By default `write()` does  not have a carriage return so you need to add `\\n` to start a new line."
   ]
  },
  {
   "cell_type": "code",
   "execution_count": 242,
   "metadata": {
    "executionInfo": {
     "elapsed": 377,
     "status": "ok",
     "timestamp": 1637236548366,
     "user": {
      "displayName": "Francesco Pannarale",
      "photoUrl": "https://lh3.googleusercontent.com/a/default-user=s64",
      "userId": "04296007763837408065"
     },
     "user_tz": -60
    },
    "id": "UX-N-y9VqGPQ"
   },
   "outputs": [],
   "source": [
    "fname = 'output.txt'\n",
    "fh = open(fname, 'w')\n",
    "\n",
    "fh.write('first file in Python\\n')\n",
    "fh.write('a second line\\n')\n",
    "    \n",
    "fh.close()"
   ]
  },
  {
   "cell_type": "markdown",
   "metadata": {
    "id": "rFh6aeavqGPQ"
   },
   "source": [
    "Check that the file was created by comparing the new list of files to the old one."
   ]
  },
  {
   "cell_type": "code",
   "execution_count": 243,
   "metadata": {
    "colab": {
     "base_uri": "https://localhost:8080/"
    },
    "executionInfo": {
     "elapsed": 451,
     "status": "ok",
     "timestamp": 1637236564633,
     "user": {
      "displayName": "Francesco Pannarale",
      "photoUrl": "https://lh3.googleusercontent.com/a/default-user=s64",
      "userId": "04296007763837408065"
     },
     "user_tz": -60
    },
    "id": "WYA1rDANqGPQ",
    "outputId": "104db270-bde9-4209-a3e2-f58639fec98d"
   },
   "outputs": [
    {
     "name": "stdout",
     "output_type": "stream",
     "text": [
      "{'output.txt'}\n"
     ]
    }
   ],
   "source": [
    "lnew = set(os.listdir())\n",
    "\n",
    "new_items = lnew.difference(l0)\n",
    "print(new_items)"
   ]
  },
  {
   "cell_type": "markdown",
   "metadata": {
    "id": "Eeh7RNG4qGPQ"
   },
   "source": [
    "Check the file content Python-ically"
   ]
  },
  {
   "cell_type": "code",
   "execution_count": 244,
   "metadata": {
    "colab": {
     "base_uri": "https://localhost:8080/"
    },
    "executionInfo": {
     "elapsed": 372,
     "status": "ok",
     "timestamp": 1637236595402,
     "user": {
      "displayName": "Francesco Pannarale",
      "photoUrl": "https://lh3.googleusercontent.com/a/default-user=s64",
      "userId": "04296007763837408065"
     },
     "user_tz": -60
    },
    "id": "nsKc8UDpqGPQ",
    "outputId": "f99a3db8-bac4-42d0-a1d8-8c451d3d339f"
   },
   "outputs": [
    {
     "name": "stdout",
     "output_type": "stream",
     "text": [
      "first file in Python\n",
      "a second line\n"
     ]
    }
   ],
   "source": [
    "fh = open(fname, 'r')\n",
    "for line in fh:\n",
    "    line = line.rstrip()\n",
    "    print(line)\n",
    "\n",
    "fh.close()"
   ]
  },
  {
   "cell_type": "markdown",
   "metadata": {
    "id": "1ing8iUZqGPQ"
   },
   "source": [
    "Check it again using the magic Jupyter `!` powers"
   ]
  },
  {
   "cell_type": "code",
   "execution_count": 245,
   "metadata": {
    "colab": {
     "base_uri": "https://localhost:8080/"
    },
    "executionInfo": {
     "elapsed": 516,
     "status": "ok",
     "timestamp": 1637236667192,
     "user": {
      "displayName": "Francesco Pannarale",
      "photoUrl": "https://lh3.googleusercontent.com/a/default-user=s64",
      "userId": "04296007763837408065"
     },
     "user_tz": -60
    },
    "id": "gZ_V9PwsqGPQ",
    "outputId": "f7170fe9-12fa-4883-9da5-08e9610f966c"
   },
   "outputs": [
    {
     "name": "stdout",
     "output_type": "stream",
     "text": [
      "first file in Python\r\n",
      "a second line\r\n"
     ]
    }
   ],
   "source": [
    "!cat output.txt"
   ]
  },
  {
   "cell_type": "code",
   "execution_count": 246,
   "metadata": {},
   "outputs": [
    {
     "name": "stdout",
     "output_type": "stream",
     "text": [
      "1-Basics.ipynb            \u001b[34m__pycache__\u001b[m\u001b[m               fall_asleep_2.py\r\n",
      "2-FirstApplications.ipynb cmd_line_args.py          fall_asleep_3.py\r\n",
      "3-MoreFuncs.ipynb         example01.py              fall_asleep_4.py\r\n",
      "4-NumPy.ipynb             example02.ipynb           fall_asleep_55.py\r\n",
      "5-AnimatedPlots.ipynb     example11.py              gravity1.py\r\n",
      "6-SciPy.ipynb             example12.py              mymodule.py\r\n",
      "7_MCMC.ipynb              example13.py              output.txt\r\n",
      "Bilby.ipynb               example14.py              polymorphism.py\r\n",
      "GWPy.ipynb                example15.py              words.txt\r\n",
      "\u001b[34mGWs\u001b[m\u001b[m                       example16.py\r\n",
      "PyCBC.ipynb               fall_asleep_1.py\r\n"
     ]
    }
   ],
   "source": [
    "!ls"
   ]
  },
  {
   "cell_type": "markdown",
   "metadata": {
    "id": "GmuyJz12qGPQ"
   },
   "source": [
    "## Getting rid of `close()`\n",
    "\n",
    "To make it less C-like and feel more like Python we can get rid of `close()` by using the `with` statement.\n",
    "\n",
    "`with` makes sure that ofile is an open file handle in the `with` scope. Once it ends you can no more use the handle, because `close()` has been called automatically."
   ]
  },
  {
   "cell_type": "code",
   "execution_count": 247,
   "metadata": {
    "executionInfo": {
     "elapsed": 616,
     "status": "ok",
     "timestamp": 1637236753446,
     "user": {
      "displayName": "Francesco Pannarale",
      "photoUrl": "https://lh3.googleusercontent.com/a/default-user=s64",
      "userId": "04296007763837408065"
     },
     "user_tz": -60
    },
    "id": "hQZXEs9XqGPQ"
   },
   "outputs": [],
   "source": [
    "fname = 'output2.txt'\n",
    "\n",
    "with open(fname, 'w') as ofile:\n",
    "    ofile.write('A new file in python\\n')\n",
    "    ofile.write('1.2 3.2 4.5\\n')"
   ]
  },
  {
   "cell_type": "code",
   "execution_count": 248,
   "metadata": {
    "colab": {
     "base_uri": "https://localhost:8080/"
    },
    "executionInfo": {
     "elapsed": 32,
     "status": "ok",
     "timestamp": 1637236756812,
     "user": {
      "displayName": "Francesco Pannarale",
      "photoUrl": "https://lh3.googleusercontent.com/a/default-user=s64",
      "userId": "04296007763837408065"
     },
     "user_tz": -60
    },
    "id": "a1MZ_pdnqGPQ",
    "outputId": "c281947a-0476-48f7-8dff-43d7c365b496"
   },
   "outputs": [
    {
     "name": "stdout",
     "output_type": "stream",
     "text": [
      "A new file in python\r\n",
      "1.2 3.2 4.5\r\n"
     ]
    }
   ],
   "source": [
    "!cat output2.txt"
   ]
  },
  {
   "cell_type": "markdown",
   "metadata": {
    "id": "Vkh1h2qsqGPQ"
   },
   "source": [
    "**Deleting the two output files to avoid having a proliferation of small test files.**"
   ]
  },
  {
   "cell_type": "code",
   "execution_count": 249,
   "metadata": {
    "executionInfo": {
     "elapsed": 353,
     "status": "ok",
     "timestamp": 1637236768635,
     "user": {
      "displayName": "Francesco Pannarale",
      "photoUrl": "https://lh3.googleusercontent.com/a/default-user=s64",
      "userId": "04296007763837408065"
     },
     "user_tz": -60
    },
    "id": "jHU0pHb6qGPQ",
    "scrolled": true
   },
   "outputs": [],
   "source": [
    "!rm output.txt\n",
    "!rm output2.txt"
   ]
  },
  {
   "cell_type": "markdown",
   "metadata": {
    "id": "7gpUM-8LqGPQ"
   },
   "source": [
    "## Storing lists and multiple values\n",
    "\n",
    "You can use the C-style output to format and store elements of a list"
   ]
  },
  {
   "cell_type": "code",
   "execution_count": 252,
   "metadata": {
    "executionInfo": {
     "elapsed": 697,
     "status": "ok",
     "timestamp": 1637236856443,
     "user": {
      "displayName": "Francesco Pannarale",
      "photoUrl": "https://lh3.googleusercontent.com/a/default-user=s64",
      "userId": "04296007763837408065"
     },
     "user_tz": -60
    },
    "id": "bCZOElUcqGPR"
   },
   "outputs": [],
   "source": [
    "import random  # Let's generate some random numbers\n",
    "\n",
    "nevents = 3\n",
    "\n",
    "fname = 'output.txt'\n",
    "\n",
    "with open(fname,'w') as f:\n",
    "    for i in range(nevents):\n",
    "        measurements = [random.random() for j in range(5)]\n",
    "        for val in measurements:\n",
    "            f.write(\"%.5f\\t\"%val)\n",
    "        f.write('\\n')"
   ]
  },
  {
   "cell_type": "code",
   "execution_count": 253,
   "metadata": {
    "colab": {
     "base_uri": "https://localhost:8080/"
    },
    "executionInfo": {
     "elapsed": 20,
     "status": "ok",
     "timestamp": 1637236857029,
     "user": {
      "displayName": "Francesco Pannarale",
      "photoUrl": "https://lh3.googleusercontent.com/a/default-user=s64",
      "userId": "04296007763837408065"
     },
     "user_tz": -60
    },
    "id": "XSRajC8LqGPR",
    "outputId": "d75f7420-a3be-4423-9f42-21db34910318"
   },
   "outputs": [
    {
     "name": "stdout",
     "output_type": "stream",
     "text": [
      "0.87885\t0.27548\t0.33935\t0.98734\t0.40571\t\r\n",
      "0.37831\t0.60046\t0.43215\t0.59216\t0.94938\t\r\n",
      "0.45907\t0.16555\t0.21361\t0.43678\t0.01313\t\r\n"
     ]
    }
   ],
   "source": [
    "!cat output.txt\n",
    "!rm output.txt"
   ]
  },
  {
   "cell_type": "markdown",
   "metadata": {
    "id": "0-ogRVk0qGPR"
   },
   "source": [
    "A more Pythonic approach is to use the `writelines()` function and comprehensions"
   ]
  },
  {
   "cell_type": "code",
   "execution_count": 287,
   "metadata": {
    "executionInfo": {
     "elapsed": 359,
     "status": "ok",
     "timestamp": 1637236915108,
     "user": {
      "displayName": "Francesco Pannarale",
      "photoUrl": "https://lh3.googleusercontent.com/a/default-user=s64",
      "userId": "04296007763837408065"
     },
     "user_tz": -60
    },
    "id": "29c0114sqGPR"
   },
   "outputs": [],
   "source": [
    "import random\n",
    "\n",
    "nevents = 10\n",
    "\n",
    "fname = 'output.txt'\n",
    "with open(fname,'w') as f:\n",
    "    for i in range(nevents):\n",
    "        f.writelines(\"%.3f\\t\"%val for val in [random.random() for j in range(5)])\n",
    "        f.write('\\n')"
   ]
  },
  {
   "cell_type": "code",
   "execution_count": 288,
   "metadata": {
    "colab": {
     "base_uri": "https://localhost:8080/"
    },
    "executionInfo": {
     "elapsed": 27,
     "status": "ok",
     "timestamp": 1637236916346,
     "user": {
      "displayName": "Francesco Pannarale",
      "photoUrl": "https://lh3.googleusercontent.com/a/default-user=s64",
      "userId": "04296007763837408065"
     },
     "user_tz": -60
    },
    "id": "364x-cSNqGPR",
    "outputId": "3092af14-2aac-4c96-e678-f3a092f3f951"
   },
   "outputs": [
    {
     "name": "stdout",
     "output_type": "stream",
     "text": [
      "0.971\t0.158\t0.409\t0.506\t0.271\t\r\n",
      "0.875\t0.701\t0.364\t0.100\t0.563\t\r\n",
      "0.176\t0.960\t0.446\t0.050\t0.940\t\r\n",
      "0.294\t0.668\t0.681\t0.832\t0.796\t\r\n",
      "0.083\t0.440\t0.015\t0.653\t0.254\t\r\n",
      "0.798\t0.869\t0.177\t0.413\t0.000\t\r\n",
      "0.785\t0.066\t0.168\t0.451\t0.843\t\r\n",
      "0.792\t0.822\t0.968\t0.243\t0.990\t\r\n",
      "0.804\t0.007\t0.787\t0.184\t0.229\t\r\n",
      "0.825\t0.886\t0.532\t0.949\t0.094\t\r\n"
     ]
    }
   ],
   "source": [
    "!cat output.txt"
   ]
  },
  {
   "cell_type": "markdown",
   "metadata": {
    "id": "_-bbKSNvqGPR"
   },
   "source": [
    "Let's read the file assuming we have to process its data\n",
    "- we need to remove the `\\t`'s\n",
    "- we need to ensure we have floats\n",
    "\n",
    "Python has no problem removing the tabs!  If you inspect `help(str.split)` it says:\n",
    "\"[...] will split on any whitespace character (including \\\\n \\\\r \\\\t \\\\f and spaces) and will discard empty strings from the result.\"\n",
    "\n",
    "Should you need to split things differently, you can provide the sequence of characters for splitting as and argument to `split()`.  For example, see what happens if you try splitting with `split(0.)`."
   ]
  },
  {
   "cell_type": "code",
   "execution_count": 289,
   "metadata": {
    "colab": {
     "base_uri": "https://localhost:8080/"
    },
    "executionInfo": {
     "elapsed": 431,
     "status": "ok",
     "timestamp": 1637236976600,
     "user": {
      "displayName": "Francesco Pannarale",
      "photoUrl": "https://lh3.googleusercontent.com/a/default-user=s64",
      "userId": "04296007763837408065"
     },
     "user_tz": -60
    },
    "id": "8qTkvUZwqGPR",
    "outputId": "c34e3a29-a349-4a51-d731-9cb87d9ee0f3"
   },
   "outputs": [
    {
     "name": "stdout",
     "output_type": "stream",
     "text": [
      "['0.971\\t0.158\\t0.409\\t0.506\\t0.271', '0.875\\t0.701\\t0.364\\t0.100\\t0.563', '0.176\\t0.960\\t0.446\\t0.050\\t0.940', '0.294\\t0.668\\t0.681\\t0.832\\t0.796', '0.083\\t0.440\\t0.015\\t0.653\\t0.254', '0.798\\t0.869\\t0.177\\t0.413\\t0.000', '0.785\\t0.066\\t0.168\\t0.451\\t0.843', '0.792\\t0.822\\t0.968\\t0.243\\t0.990', '0.804\\t0.007\\t0.787\\t0.184\\t0.229', '0.825\\t0.886\\t0.532\\t0.949\\t0.094']\n"
     ]
    }
   ],
   "source": [
    "fname = 'output.txt'\n",
    "lines = [l.strip() for l in open(fname)]\n",
    "print(lines)"
   ]
  },
  {
   "cell_type": "code",
   "execution_count": 290,
   "metadata": {
    "colab": {
     "base_uri": "https://localhost:8080/"
    },
    "executionInfo": {
     "elapsed": 396,
     "status": "ok",
     "timestamp": 1637236996177,
     "user": {
      "displayName": "Francesco Pannarale",
      "photoUrl": "https://lh3.googleusercontent.com/a/default-user=s64",
      "userId": "04296007763837408065"
     },
     "user_tz": -60
    },
    "id": "A77a8lkKqGPR",
    "outputId": "867d13dd-3220-4822-fed7-f08126b9e81b"
   },
   "outputs": [
    {
     "name": "stdout",
     "output_type": "stream",
     "text": [
      "[['0.971', '0.158', '0.409', '0.506', '0.271'], ['0.875', '0.701', '0.364', '0.100', '0.563'], ['0.176', '0.960', '0.446', '0.050', '0.940'], ['0.294', '0.668', '0.681', '0.832', '0.796'], ['0.083', '0.440', '0.015', '0.653', '0.254'], ['0.798', '0.869', '0.177', '0.413', '0.000'], ['0.785', '0.066', '0.168', '0.451', '0.843'], ['0.792', '0.822', '0.968', '0.243', '0.990'], ['0.804', '0.007', '0.787', '0.184', '0.229'], ['0.825', '0.886', '0.532', '0.949', '0.094']]\n"
     ]
    }
   ],
   "source": [
    "fname = 'output.txt'\n",
    "lines = [l.strip() for l in open(fname)]\n",
    "raw_data = [l.split() for l in lines]\n",
    "print(raw_data)"
   ]
  },
  {
   "cell_type": "code",
   "execution_count": 291,
   "metadata": {
    "colab": {
     "base_uri": "https://localhost:8080/"
    },
    "executionInfo": {
     "elapsed": 413,
     "status": "ok",
     "timestamp": 1637237042898,
     "user": {
      "displayName": "Francesco Pannarale",
      "photoUrl": "https://lh3.googleusercontent.com/a/default-user=s64",
      "userId": "04296007763837408065"
     },
     "user_tz": -60
    },
    "id": "soZDXgPUqGPR",
    "outputId": "41e5672e-157d-467e-a2b5-ab54aab94263"
   },
   "outputs": [
    {
     "name": "stdout",
     "output_type": "stream",
     "text": [
      "[[0.971, 0.158, 0.409, 0.506, 0.271], [0.875, 0.701, 0.364, 0.1, 0.563], [0.176, 0.96, 0.446, 0.05, 0.94], [0.294, 0.668, 0.681, 0.832, 0.796], [0.083, 0.44, 0.015, 0.653, 0.254], [0.798, 0.869, 0.177, 0.413, 0.0], [0.785, 0.066, 0.168, 0.451, 0.843], [0.792, 0.822, 0.968, 0.243, 0.99], [0.804, 0.007, 0.787, 0.184, 0.229], [0.825, 0.886, 0.532, 0.949, 0.094]]\n"
     ]
    }
   ],
   "source": [
    "data = [[float(n) for n in l] for l in raw_data]\n",
    "print(data)"
   ]
  },
  {
   "cell_type": "markdown",
   "metadata": {
    "id": "Kvedl8HHqGPR"
   },
   "source": [
    "Even more concisely"
   ]
  },
  {
   "cell_type": "code",
   "execution_count": 292,
   "metadata": {
    "colab": {
     "base_uri": "https://localhost:8080/"
    },
    "executionInfo": {
     "elapsed": 383,
     "status": "ok",
     "timestamp": 1637237108782,
     "user": {
      "displayName": "Francesco Pannarale",
      "photoUrl": "https://lh3.googleusercontent.com/a/default-user=s64",
      "userId": "04296007763837408065"
     },
     "user_tz": -60
    },
    "id": "7QLujvOsqGPR",
    "outputId": "500758aa-3056-4bd0-e44e-d7a3d8d6528a"
   },
   "outputs": [
    {
     "name": "stdout",
     "output_type": "stream",
     "text": [
      "[[0.971, 0.158, 0.409, 0.506, 0.271], [0.875, 0.701, 0.364, 0.1, 0.563], [0.176, 0.96, 0.446, 0.05, 0.94], [0.294, 0.668, 0.681, 0.832, 0.796], [0.083, 0.44, 0.015, 0.653, 0.254], [0.798, 0.869, 0.177, 0.413, 0.0], [0.785, 0.066, 0.168, 0.451, 0.843], [0.792, 0.822, 0.968, 0.243, 0.99], [0.804, 0.007, 0.787, 0.184, 0.229], [0.825, 0.886, 0.532, 0.949, 0.094]]\n"
     ]
    }
   ],
   "source": [
    "fname = 'output.txt'\n",
    "data = [[float(n) for n in l.strip().split('\\t')] for l in open(fname)]\n",
    "print(data)"
   ]
  },
  {
   "cell_type": "code",
   "execution_count": 293,
   "metadata": {
    "executionInfo": {
     "elapsed": 370,
     "status": "ok",
     "timestamp": 1637237112584,
     "user": {
      "displayName": "Francesco Pannarale",
      "photoUrl": "https://lh3.googleusercontent.com/a/default-user=s64",
      "userId": "04296007763837408065"
     },
     "user_tz": -60
    },
    "id": "JeuOTpRgqGPR"
   },
   "outputs": [],
   "source": [
    "!rm output.txt # Cleaning up"
   ]
  },
  {
   "cell_type": "markdown",
   "metadata": {
    "id": "9kk3g04jqGPR"
   },
   "source": [
    "## Storing Lists, Dicts, and Tuples\n",
    "\n",
    "As seen with the examples above, **with textfile there is no automatic writing of objects**. So for a dictionary you need to take care of formatting the output file. "
   ]
  },
  {
   "cell_type": "code",
   "execution_count": 271,
   "metadata": {
    "executionInfo": {
     "elapsed": 352,
     "status": "ok",
     "timestamp": 1637238165731,
     "user": {
      "displayName": "Francesco Pannarale",
      "photoUrl": "https://lh3.googleusercontent.com/a/default-user=s64",
      "userId": "04296007763837408065"
     },
     "user_tz": -60
    },
    "id": "rKXPtgZ0qGPR"
   },
   "outputs": [],
   "source": [
    "import random\n",
    "\n",
    "datum = {'val':-1.1, 'err':0.2}\n",
    "\n",
    "fname = 'output.txt'\n",
    "\n",
    "with open(fname,'w') as f:\n",
    "    f.writelines(\"%s\\t\"%v for v in datum.keys())\n",
    "    f.write('\\n')\n",
    "    for i in range(10):\n",
    "        datum['val'] = random.uniform(-3.,3.)\n",
    "        datum['err'] = random.normalvariate(0., 0.2)\n",
    "        f.writelines(\"%.3f\\t\"%val for val in datum.values() )\n",
    "        f.write('\\n')"
   ]
  },
  {
   "cell_type": "code",
   "execution_count": 272,
   "metadata": {
    "colab": {
     "base_uri": "https://localhost:8080/"
    },
    "executionInfo": {
     "elapsed": 24,
     "status": "ok",
     "timestamp": 1637238167158,
     "user": {
      "displayName": "Francesco Pannarale",
      "photoUrl": "https://lh3.googleusercontent.com/a/default-user=s64",
      "userId": "04296007763837408065"
     },
     "user_tz": -60
    },
    "id": "-ZW7T7TiqGPR",
    "outputId": "5966c4b8-d2c7-4945-ba12-5b3c8ddfc7a3"
   },
   "outputs": [
    {
     "name": "stdout",
     "output_type": "stream",
     "text": [
      "val\terr\t\r\n",
      "0.491\t-0.050\t\r\n",
      "-0.696\t0.297\t\r\n",
      "1.903\t0.327\t\r\n",
      "-0.591\t-0.029\t\r\n",
      "-1.813\t-0.113\t\r\n",
      "-0.784\t-0.067\t\r\n",
      "-1.350\t-0.213\t\r\n",
      "-2.530\t0.167\t\r\n",
      "-1.889\t-0.142\t\r\n",
      "1.632\t-0.064\t\r\n"
     ]
    }
   ],
   "source": [
    "!cat output.txt\n",
    "!rm output.txt # Cleaning up"
   ]
  },
  {
   "cell_type": "markdown",
   "metadata": {
    "id": "3TK6UUmCqGPR"
   },
   "source": [
    "## Data storage with `pickle` \n",
    "\n",
    "Python provides a built-in [pickle]() library for easy storage of Python object hierchies in binary format: this is known as **pickling**.\n",
    "\n",
    "Notice the `b` in the handle: it stands for binary."
   ]
  },
  {
   "cell_type": "code",
   "execution_count": 278,
   "metadata": {
    "colab": {
     "base_uri": "https://localhost:8080/"
    },
    "executionInfo": {
     "elapsed": 442,
     "status": "ok",
     "timestamp": 1637238335305,
     "user": {
      "displayName": "Francesco Pannarale",
      "photoUrl": "https://lh3.googleusercontent.com/a/default-user=s64",
      "userId": "04296007763837408065"
     },
     "user_tz": -60
    },
    "id": "0e9zvNNEqGPR",
    "outputId": "f2f21fd7-a653-4f46-f4e4-8fff2de690f4"
   },
   "outputs": [],
   "source": [
    "import random\n",
    "import pickle\n",
    "import os\n",
    "\n",
    "data = {'val':[], 'err':[]}\n",
    "for i in range(10):\n",
    "    data['val'].append(random.uniform(-3.,3.))\n",
    "    data['err'].append(random.normalvariate(0., 0.2))\n",
    "\n",
    "fname = 'pickle1.data'\n",
    "with open(fname,'wb') as f:\n",
    "    pickle.dump(data,f)"
   ]
  },
  {
   "cell_type": "markdown",
   "metadata": {
    "id": "AdNbzuREqGPS"
   },
   "source": [
    "**Unpickling** is the opposite process, namely reading the binary file and rebuilding the object hierarchy.\n",
    "\n",
    "Notice the `b` in the handle: it stands for binary."
   ]
  },
  {
   "cell_type": "code",
   "execution_count": 279,
   "metadata": {
    "colab": {
     "base_uri": "https://localhost:8080/"
    },
    "executionInfo": {
     "elapsed": 408,
     "status": "ok",
     "timestamp": 1637238420884,
     "user": {
      "displayName": "Francesco Pannarale",
      "photoUrl": "https://lh3.googleusercontent.com/a/default-user=s64",
      "userId": "04296007763837408065"
     },
     "user_tz": -60
    },
    "id": "MZ1lXhk7qGPS",
    "outputId": "cd6deb92-4539-4734-e511-ffb193bf2f02"
   },
   "outputs": [
    {
     "name": "stdout",
     "output_type": "stream",
     "text": [
      "{'val': [-0.7680225795747164, 2.527001241047061, 2.5974287848465236, 2.637106796987837, -2.6304191103262893, 2.8659051671785036, -1.8419907563025608, 0.46763953798136004, 1.540037537220254, -0.9616677230325439], 'err': [0.157080213935106, -0.1748309460145931, 0.04416631796531073, 0.13280157857375383, 0.1549997179622558, 0.3404345802585028, 0.06194936329930785, 0.24800930897480633, -0.09785715889903192, -0.3844094971656137]}\n",
      "True\n"
     ]
    }
   ],
   "source": [
    "fname = 'pickle1.data'\n",
    "with open(fname,'rb') as f:\n",
    "    in_data = pickle.load(f)\n",
    "\n",
    "print(in_data)\n",
    "print(data == in_data)\n",
    "!rm pickle1.data"
   ]
  },
  {
   "cell_type": "markdown",
   "metadata": {
    "id": "PamC4b7gqGPS"
   },
   "source": [
    "## Data storage with JSON \n",
    "\n",
    "A commonly used format for data storage that is cross platform and cross language is [JSON (JavaScript Object Notation)](https://www.json.org).\n",
    "\n",
    "The JSON library in Python allows you to convert Python objects (including your custom classes) into JSON for storage.\n",
    "\n",
    "Converting or enconding an object into JSON is commonly called **serialization**. Converting from JSON to Python objects is referred to as **deserialization**. See [this page](https://realpython.com/python-json/) for further details.\n",
    "\n",
    "There are two functions commonly used:\n",
    "- `dump()`: convert an object into JSON and possibly write to file\n",
    "- `dumps()` note the extra **s**: convert to JSON string but cannot interact with file\n",
    "\n",
    "The two functions are identical except for the file interaction.\n",
    "\n",
    "The following is an example of a dictionary and a list being stored into JSON files."
   ]
  },
  {
   "cell_type": "code",
   "execution_count": 281,
   "metadata": {
    "colab": {
     "base_uri": "https://localhost:8080/"
    },
    "executionInfo": {
     "elapsed": 500,
     "status": "ok",
     "timestamp": 1637238615125,
     "user": {
      "displayName": "Francesco Pannarale",
      "photoUrl": "https://lh3.googleusercontent.com/a/default-user=s64",
      "userId": "04296007763837408065"
     },
     "user_tz": -60
    },
    "id": "FH_-qLqsqGPS",
    "outputId": "4fb346d9-fa03-45f0-9c04-bf3a8752694a"
   },
   "outputs": [
    {
     "name": "stdout",
     "output_type": "stream",
     "text": [
      "{\"val\": -1.1, \"err\": 0.2} {'val': -1.1, 'err': 0.2}\n",
      "<class 'str'> <class 'dict'>\n",
      "[0, 1, 2, 3, 4, 5, 6, 7, 8, 9] [0, 1, 2, 3, 4, 5, 6, 7, 8, 9]\n",
      "<class 'str'> <class 'list'>\n"
     ]
    }
   ],
   "source": [
    "import json\n",
    "import os\n",
    "\n",
    "dict_data = {'val':-1.1, 'err':0.2}\n",
    "\n",
    "x = json.dumps(dict_data)\n",
    "print(x, dict_data)\n",
    "print(type(x), type(dict_data))\n",
    "\n",
    "list_data = [z for z in range(10)]\n",
    "y = json.dumps(list_data)\n",
    "print(y, list_data)\n",
    "print(type(y), type(list_data))\n",
    "\n",
    "with open('data.json','w') as of:\n",
    "    json.dump([dict_data, list_data], of)"
   ]
  },
  {
   "cell_type": "markdown",
   "metadata": {
    "id": "KLDDVA7hqGPS"
   },
   "source": [
    "**Deserialize** the data from file with `load()`"
   ]
  },
  {
   "cell_type": "code",
   "execution_count": 282,
   "metadata": {
    "colab": {
     "base_uri": "https://localhost:8080/"
    },
    "executionInfo": {
     "elapsed": 356,
     "status": "ok",
     "timestamp": 1637238760836,
     "user": {
      "displayName": "Francesco Pannarale",
      "photoUrl": "https://lh3.googleusercontent.com/a/default-user=s64",
      "userId": "04296007763837408065"
     },
     "user_tz": -60
    },
    "id": "laRsagNFqGPS",
    "outputId": "ef52621f-b6d8-4c95-f6bc-bc60973a2eaf",
    "scrolled": true
   },
   "outputs": [
    {
     "name": "stdout",
     "output_type": "stream",
     "text": [
      "[{'val': -1.1, 'err': 0.2}, [0, 1, 2, 3, 4, 5, 6, 7, 8, 9]]\n",
      "True\n",
      "<class 'dict'>\n",
      "True\n",
      "<class 'list'>\n"
     ]
    }
   ],
   "source": [
    "with open('data.json') as infile:\n",
    "    indata = json.load(infile)\n",
    "print(indata)\n",
    "\n",
    "# Showing consistency between what was written to and what was read from file\n",
    "print(dict_data == indata[0])\n",
    "print(type(indata[0]))\n",
    "print(list_data == indata[1])\n",
    "print(type(indata[1]))"
   ]
  },
  {
   "cell_type": "code",
   "execution_count": 283,
   "metadata": {
    "executionInfo": {
     "elapsed": 530,
     "status": "ok",
     "timestamp": 1637238763198,
     "user": {
      "displayName": "Francesco Pannarale",
      "photoUrl": "https://lh3.googleusercontent.com/a/default-user=s64",
      "userId": "04296007763837408065"
     },
     "user_tz": -60
    },
    "id": "Lo5xdPFrqGPS"
   },
   "outputs": [],
   "source": [
    "!rm data.json # Cleaning up"
   ]
  },
  {
   "cell_type": "markdown",
   "metadata": {
    "id": "Lqay2Bp0qGPS"
   },
   "source": [
    "# READY FOR `examples/Python/2-FirstApplications.ipynb`!"
   ]
  }
 ],
 "metadata": {
  "colab": {
   "collapsed_sections": [
    "EwgkvMGHqPrY"
   ],
   "name": "1-Basics.ipynb",
   "provenance": []
  },
  "kernelspec": {
   "display_name": "Python 3 (ipykernel)",
   "language": "python",
   "name": "python3"
  },
  "language_info": {
   "codemirror_mode": {
    "name": "ipython",
    "version": 3
   },
   "file_extension": ".py",
   "mimetype": "text/x-python",
   "name": "python",
   "nbconvert_exporter": "python",
   "pygments_lexer": "ipython3",
   "version": "3.8.8"
  }
 },
 "nbformat": 4,
 "nbformat_minor": 1
}
